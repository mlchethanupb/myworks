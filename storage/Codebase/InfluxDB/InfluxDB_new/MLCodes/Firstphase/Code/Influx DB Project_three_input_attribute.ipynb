{
 "cells": [
  {
   "cell_type": "code",
   "execution_count": 1,
   "metadata": {},
   "outputs": [],
   "source": [
    "import pandas as pd\n",
    "import numpy as np\n",
    "from sklearn.model_selection import train_test_split\n",
    "from sklearn.svm import SVR\n",
    "from sklearn.linear_model import LinearRegression\n",
    "from sklearn.metrics import mean_absolute_error,mean_squared_error, r2_score\n",
    "from sklearn import linear_model\n",
    "import matplotlib.pyplot as plt \n",
    "from sklearn.preprocessing import PolynomialFeatures\n",
    "from sklearn.preprocessing import StandardScaler"
   ]
  },
  {
   "cell_type": "code",
   "execution_count": 2,
   "metadata": {},
   "outputs": [],
   "source": [
    "dataset = pd.read_csv('data1.csv')"
   ]
  },
  {
   "cell_type": "code",
   "execution_count": 3,
   "metadata": {},
   "outputs": [
    {
     "name": "stdout",
     "output_type": "stream",
     "text": [
      "Index(['request_datetime', 'msg_size', 'request_time_ms', 'request_ret',\n",
      "       'cpu_usage_active', 'disk_used_percent', 'mem_available_percent',\n",
      "       'influxdb_memstats_sys', 'influxdb_memstats_heap_inuse',\n",
      "       'influxdb_shard_diskBytes', 'influxdb_shard_writeBytes',\n",
      "       'influxdb_database_numSeries', 'influxdb_httpd_writeReqBytes',\n",
      "       'influxdb_httpd_writeReqDurationNs', 'influxdb_httpd_writeReq',\n",
      "       'influxdb_httpd_writeReqActive'],\n",
      "      dtype='object')\n"
     ]
    }
   ],
   "source": [
    "print(dataset.columns)"
   ]
  },
  {
   "cell_type": "code",
   "execution_count": 4,
   "metadata": {},
   "outputs": [],
   "source": [
    "dataset.drop('request_datetime',inplace=True, axis=1)"
   ]
  },
  {
   "cell_type": "code",
   "execution_count": 5,
   "metadata": {},
   "outputs": [
    {
     "name": "stdout",
     "output_type": "stream",
     "text": [
      "Index(['msg_size', 'request_time_ms', 'request_ret', 'cpu_usage_active',\n",
      "       'disk_used_percent', 'mem_available_percent', 'influxdb_memstats_sys',\n",
      "       'influxdb_memstats_heap_inuse', 'influxdb_shard_diskBytes',\n",
      "       'influxdb_shard_writeBytes', 'influxdb_database_numSeries',\n",
      "       'influxdb_httpd_writeReqBytes', 'influxdb_httpd_writeReqDurationNs',\n",
      "       'influxdb_httpd_writeReq', 'influxdb_httpd_writeReqActive'],\n",
      "      dtype='object')\n"
     ]
    }
   ],
   "source": [
    "print(dataset.columns)"
   ]
  },
  {
   "cell_type": "code",
   "execution_count": 6,
   "metadata": {},
   "outputs": [],
   "source": [
    "standardScaler = StandardScaler()\n",
    "\n",
    "columns_to_scale= ['influxdb_shard_diskBytes','influxdb_httpd_writeReq','influxdb_httpd_writeReqDurationNs', 'cpu_usage_active','disk_used_percent']\n",
    "\n",
    "dataset[columns_to_scale] = standardScaler.fit_transform(dataset[columns_to_scale])\n",
    "\n"
   ]
  },
  {
   "cell_type": "code",
   "execution_count": 7,
   "metadata": {},
   "outputs": [],
   "source": [
    "y1 = dataset['influxdb_shard_diskBytes']\n",
    "y2 = dataset['cpu_usage_active']\n",
    "y3 = dataset['disk_used_percent']\n",
    "\n",
    "X1 = dataset[['influxdb_httpd_writeReq','influxdb_httpd_writeReqDurationNs']]\n",
    "\n",
    "x2 = dataset[['influxdb_httpd_writeReq','influxdb_httpd_writeReqDurationNs']]\n",
    "\n",
    "x3 =dataset[['influxdb_httpd_writeReq','influxdb_httpd_writeReqDurationNs']]"
   ]
  },
  {
   "cell_type": "code",
   "execution_count": 8,
   "metadata": {},
   "outputs": [
    {
     "name": "stdout",
     "output_type": "stream",
     "text": [
      "Index(['influxdb_httpd_writeReq', 'influxdb_httpd_writeReqDurationNs'], dtype='object')\n",
      "\n",
      "\n",
      "Index(['influxdb_httpd_writeReq', 'influxdb_httpd_writeReqDurationNs'], dtype='object')\n",
      "\n",
      "\n",
      "Index(['influxdb_httpd_writeReq', 'influxdb_httpd_writeReqDurationNs'], dtype='object')\n"
     ]
    }
   ],
   "source": [
    "print(X1.columns)\n",
    "print(\"\\n\")\n",
    "print(x2.columns)\n",
    "print(\"\\n\")\n",
    "print(x3.columns)"
   ]
  },
  {
   "cell_type": "code",
   "execution_count": 9,
   "metadata": {},
   "outputs": [
    {
     "name": "stdout",
     "output_type": "stream",
     "text": [
      "0      -2.033295\n",
      "1      -2.032613\n",
      "2      -2.031928\n",
      "3      -2.031241\n",
      "4      -2.030564\n",
      "          ...   \n",
      "7149    1.063537\n",
      "7150    1.064216\n",
      "7151    1.064907\n",
      "7152    1.065602\n",
      "7153    1.066297\n",
      "Name: influxdb_shard_diskBytes, Length: 7154, dtype: float64\n",
      "\n",
      "\n",
      "0       7.352236\n",
      "1      -0.010493\n",
      "2       0.390265\n",
      "3       1.449042\n",
      "4       0.269471\n",
      "          ...   \n",
      "7149   -0.843078\n",
      "7150    0.255198\n",
      "7151    1.071168\n",
      "7152   -0.158416\n",
      "7153    0.522236\n",
      "Name: cpu_usage_active, Length: 7154, dtype: float64\n",
      "\n",
      "\n",
      "0       0.411455\n",
      "1       0.478087\n",
      "2       0.478339\n",
      "3       0.478675\n",
      "4       0.478843\n",
      "          ...   \n",
      "7149    1.160878\n",
      "7150    1.161130\n",
      "7151    1.161382\n",
      "7152    1.162054\n",
      "7153    1.162307\n",
      "Name: disk_used_percent, Length: 7154, dtype: float64\n"
     ]
    }
   ],
   "source": [
    "print(y1)\n",
    "print(\"\\n\")\n",
    "print(y2)\n",
    "print(\"\\n\")\n",
    "print(y3)"
   ]
  },
  {
   "cell_type": "markdown",
   "metadata": {},
   "source": [
    "# Linear Regression"
   ]
  },
  {
   "cell_type": "code",
   "execution_count": 10,
   "metadata": {},
   "outputs": [],
   "source": [
    "X1 = np.array(X1)\n",
    "y1 = np.array(y1)\n",
    "\n",
    "X2 = np.array(x2)\n",
    "y2 = np.array(y2)\n",
    "\n",
    "X3 = np.array(x3)\n",
    "y3 = np.array(y3)\n",
    "\n",
    "x1_train,x1_test,y1_train,y1_test = train_test_split(X1, y1, test_size = 0.2,random_state=1)\n",
    "x2_train,x2_test,y2_train,y2_test = train_test_split(X2, y2, test_size = 0.2,random_state=1)\n",
    "x3_train,x3_test,y3_train,y3_test = train_test_split(X3, y3, test_size = 0.2,random_state=1)\n"
   ]
  },
  {
   "cell_type": "code",
   "execution_count": 11,
   "metadata": {},
   "outputs": [
    {
     "name": "stdout",
     "output_type": "stream",
     "text": [
      "LinearRegression(copy_X=True, fit_intercept=True, n_jobs=None, normalize=False)\n"
     ]
    }
   ],
   "source": [
    "lin_model1 = LinearRegression()\n",
    "lin_model2 = LinearRegression()\n",
    "lin_model3 = LinearRegression()\n",
    "\n",
    "print(lin_model1)\n"
   ]
  },
  {
   "cell_type": "code",
   "execution_count": 12,
   "metadata": {},
   "outputs": [],
   "source": [
    "lin_model1 = lin_model1.fit(x1_train,y1_train)\n",
    "lin_model2 = lin_model2.fit(x2_train,y2_train)\n",
    "lin_model3 = lin_model3.fit(x3_train,y3_train)"
   ]
  },
  {
   "cell_type": "code",
   "execution_count": 13,
   "metadata": {},
   "outputs": [
    {
     "name": "stdout",
     "output_type": "stream",
     "text": [
      "\n",
      "Predicted 'influxdb_shard_diskBytes' \n",
      " [0.97934687 0.82738156 0.48184444 ... 0.04933818 0.6823689  0.37936561]\n",
      "\n",
      "Predicted 'cpu_usage_active' \n",
      " [-0.10430851 -0.03962029  0.08001481 ...  0.13107026  0.00619593\n",
      "  0.0812629 ]\n",
      "\n",
      "Predicted ''disk_used_percent'' \n",
      " [ 0.6788877   0.29197225 -0.42483982 ... -0.73625555  0.01721222\n",
      " -0.43422888]\n"
     ]
    }
   ],
   "source": [
    "y1_pred = lin_model1.predict(x1_test)\n",
    "print(\"\\nPredicted 'influxdb_shard_diskBytes' \\n\",y1_pred)\n",
    "y2_pred = lin_model2.predict(x2_test)\n",
    "print(\"\\nPredicted 'cpu_usage_active' \\n\",y2_pred)\n",
    "y3_pred = lin_model3.predict(x3_test)\n",
    "print(\"\\nPredicted ''disk_used_percent'' \\n\",y3_pred)"
   ]
  },
  {
   "cell_type": "code",
   "execution_count": 14,
   "metadata": {},
   "outputs": [
    {
     "name": "stdout",
     "output_type": "stream",
     "text": [
      "Coefficient of determination (influxdb_shard_diskBytes): 0.80\n",
      "RMSE for linear (influxdb_shard_diskBytes) : 0.4411110239085786\n",
      "\n",
      "\n",
      "Coefficient of determination (cpu_usage_active): 0.01\n",
      "RMSE for linear (cpu_usage_active) : 0.9640269161225913\n",
      "\n",
      "\n",
      "Coefficient of determination (disk_used_percent): 0.20\n",
      "RMSE for linear (disk_used_percent) : 0.8990446431464751\n",
      "\n",
      "\n"
     ]
    }
   ],
   "source": [
    "print('Coefficient of determination (influxdb_shard_diskBytes): %.2f'% r2_score(y1_test,y1_pred ))\n",
    "print(\"RMSE for linear (influxdb_shard_diskBytes) :\",np.sqrt(mean_squared_error(y1_test,y1_pred)))\n",
    "print('\\n')\n",
    "\n",
    "print('Coefficient of determination (cpu_usage_active): %.2f'% r2_score(y2_test,y2_pred ))\n",
    "print(\"RMSE for linear (cpu_usage_active) :\",np.sqrt(mean_squared_error(y2_test,y2_pred)))\n",
    "print('\\n')\n",
    "\n",
    "print('Coefficient of determination (disk_used_percent): %.2f'% r2_score(y3_test,y3_pred ))\n",
    "print(\"RMSE for linear (disk_used_percent) :\",np.sqrt(mean_squared_error(y3_test,y3_pred)))\n",
    "print('\\n')\n"
   ]
  },
  {
   "cell_type": "code",
   "execution_count": 15,
   "metadata": {},
   "outputs": [],
   "source": [
    "import pickle\n",
    "pickle.dump(lin_model1, open('saved model/scale three/lin_trained_model1.pkl', 'wb'))\n",
    "pickle.dump(lin_model2, open('saved model/scale three/lin_trained_model2.pkl', 'wb'))\n",
    "pickle.dump(lin_model3, open('saved model/scale three/lin_trained_model3.pkl', 'wb'))"
   ]
  },
  {
   "cell_type": "code",
   "execution_count": 17,
   "metadata": {},
   "outputs": [
    {
     "name": "stdout",
     "output_type": "stream",
     "text": [
      "plot for influxdb_shard_diskBytes\n",
      "\n",
      "\n"
     ]
    },
    {
     "data": {
      "image/png": "[encoded data removed]",
      "text/plain": [
       "<Figure size 432x288 with 1 Axes>"
      ]
     },
     "metadata": {
      "needs_background": "light"
     },
     "output_type": "display_data"
    }
   ],
   "source": [
    "print( \"plot for influxdb_shard_diskBytes\")\n",
    "print(\"\\n\")\n",
    "\n",
    "plt.scatter(x1_train[:,1], y1_train, color = \"red\")\n",
    "plt.plot(x1_train[:,1], lin_model1.predict(x1_train), color = \"green\")\n",
    "plt.title(\"Influx DB predictions\")\n",
    "plt.xlabel(\"influxdb_httpd_writeReqDurationNs\")\n",
    "plt.ylabel(\"influxdb_shard_diskBytes\")\n",
    "plt.show()"
   ]
  },
  {
   "cell_type": "code",
   "execution_count": 18,
   "metadata": {},
   "outputs": [
    {
     "name": "stdout",
     "output_type": "stream",
     "text": [
      "plot for cpu_usage_active\n",
      "\n",
      "\n"
     ]
    },
    {
     "data": {
      "image/png": "[encoded data removed]",
      "text/plain": [
       "<Figure size 432x288 with 1 Axes>"
      ]
     },
     "metadata": {
      "needs_background": "light"
     },
     "output_type": "display_data"
    }
   ],
   "source": [
    "print( \"plot for cpu_usage_active\")\n",
    "print(\"\\n\")\n",
    "\n",
    "plt.scatter(x2_train[:,1], y2_train, color = \"red\")\n",
    "plt.plot(x2_train[:,1], lin_model2.predict(x2_train), color = \"green\")\n",
    "plt.title(\"Influx DB predictions\")\n",
    "plt.xlabel(\"influxdb_httpd_writeReqDurationNs\")\n",
    "plt.ylabel(\"cpu_usage_active\")\n",
    "plt.show()"
   ]
  },
  {
   "cell_type": "code",
   "execution_count": 19,
   "metadata": {},
   "outputs": [
    {
     "name": "stdout",
     "output_type": "stream",
     "text": [
      "plot for disk_used_percent\n",
      "\n",
      "\n"
     ]
    },
    {
     "data": {
      "image/png": "[encoded data removed]",
      "text/plain": [
       "<Figure size 432x288 with 1 Axes>"
      ]
     },
     "metadata": {
      "needs_background": "light"
     },
     "output_type": "display_data"
    }
   ],
   "source": [
    "print( \"plot for disk_used_percent\")\n",
    "print(\"\\n\")\n",
    "\n",
    "plt.scatter(x3_train[:,1], y3_train, color = \"red\")\n",
    "plt.plot(x3_train[:,1], lin_model3.predict(x3_train), color = \"green\")\n",
    "plt.title(\"Influx DB predictions\")\n",
    "plt.xlabel(\"influxdb_httpd_writeReqDurationNs\")\n",
    "plt.ylabel(\"disk_used_percent\")\n",
    "plt.show()"
   ]
  },
  {
   "cell_type": "markdown",
   "metadata": {},
   "source": [
    "# polynomial regression"
   ]
  },
  {
   "cell_type": "code",
   "execution_count": 20,
   "metadata": {},
   "outputs": [],
   "source": [
    "polynomial_features= PolynomialFeatures(degree = 4)\n",
    "X1_poly =polynomial_features.fit_transform(X1)\n",
    "X2_poly =polynomial_features.fit_transform(x2)\n",
    "X3_poly =polynomial_features.fit_transform(x3)\n"
   ]
  },
  {
   "cell_type": "code",
   "execution_count": 21,
   "metadata": {},
   "outputs": [],
   "source": [
    "X1_poly = np.array(X1_poly)\n",
    "y1 = np.array(y1)\n",
    "\n",
    "X2_poly = np.array(X2_poly)\n",
    "y2 = np.array(y2)\n",
    "\n",
    "X3_poly = np.array(X3_poly)\n",
    "y3 = np.array(y3)\n",
    "\n",
    "x1_train,x1_test,y1_train,y1_test = train_test_split(X1_poly, y1, test_size = 0.2,random_state=1)\n",
    "x2_train,x2_test,y2_train,y2_test = train_test_split(X2_poly, y2, test_size = 0.2,random_state=1)\n",
    "x3_train,x3_test,y3_train,y3_test = train_test_split(X3_poly, y3, test_size = 0.2,random_state=1)\n"
   ]
  },
  {
   "cell_type": "code",
   "execution_count": 22,
   "metadata": {},
   "outputs": [
    {
     "name": "stdout",
     "output_type": "stream",
     "text": [
      "LinearRegression(copy_X=True, fit_intercept=True, n_jobs=None, normalize=False)\n"
     ]
    }
   ],
   "source": [
    "lin_model1 = LinearRegression()\n",
    "lin_model2 = LinearRegression()\n",
    "lin_model3 = LinearRegression()\n",
    "\n",
    "print(lin_model1)\n"
   ]
  },
  {
   "cell_type": "code",
   "execution_count": 23,
   "metadata": {},
   "outputs": [],
   "source": [
    "poly_model1 = lin_model1.fit(x1_train,y1_train)\n",
    "poly_model2 = lin_model2.fit(x2_train,y2_train)\n",
    "poly_model3 = lin_model3.fit(x3_train,y3_train)"
   ]
  },
  {
   "cell_type": "code",
   "execution_count": 24,
   "metadata": {},
   "outputs": [
    {
     "name": "stdout",
     "output_type": "stream",
     "text": [
      "\n",
      "Predicted 'influxdb_shard_diskBytes' \n",
      " [ 0.58810909  0.57823832  0.6645597  ... -0.24509008  1.09642673\n",
      "  0.64872818]\n",
      "\n",
      "Predicted 'cpu_usage_active' \n",
      " [-0.08646965 -0.19435868  0.24461388 ...  0.08547444 -0.06957057\n",
      "  0.06147717]\n",
      "\n",
      "Predicted ''disk_used_percent'' \n",
      " [ 1.00754678  0.58012084 -0.60206512 ... -1.24271349  0.14973503\n",
      " -0.68785122]\n"
     ]
    }
   ],
   "source": [
    "y1_pred = poly_model1.predict(x1_test)\n",
    "print(\"\\nPredicted 'influxdb_shard_diskBytes' \\n\",y1_pred)\n",
    "y2_pred = poly_model2.predict(x2_test)\n",
    "print(\"\\nPredicted 'cpu_usage_active' \\n\",y2_pred)\n",
    "y3_pred = poly_model3.predict(x3_test)\n",
    "print(\"\\nPredicted ''disk_used_percent'' \\n\",y3_pred)"
   ]
  },
  {
   "cell_type": "code",
   "execution_count": 25,
   "metadata": {},
   "outputs": [
    {
     "name": "stdout",
     "output_type": "stream",
     "text": [
      "Coefficient of determination (influxdb_shard_diskBytes): 0.93\n",
      "RMSE for linear (influxdb_shard_diskBytes) : 0.2514451170584034\n",
      "\n",
      "\n",
      "Coefficient of determination (cpu_usage_active): 0.03\n",
      "RMSE for linear (cpu_usage_active) : 0.9548560245894135\n",
      "\n",
      "\n",
      "Coefficient of determination (disk_used_percent): 0.91\n",
      "RMSE for linear (disk_used_percent) : 0.3030257798328514\n",
      "\n",
      "\n"
     ]
    }
   ],
   "source": [
    "print('Coefficient of determination (influxdb_shard_diskBytes): %.2f'% r2_score(y1_test,y1_pred ))\n",
    "print(\"RMSE for linear (influxdb_shard_diskBytes) :\",np.sqrt(mean_squared_error(y1_test,y1_pred)))\n",
    "print('\\n')\n",
    "\n",
    "print('Coefficient of determination (cpu_usage_active): %.2f'% r2_score(y2_test,y2_pred ))\n",
    "print(\"RMSE for linear (cpu_usage_active) :\",np.sqrt(mean_squared_error(y2_test,y2_pred)))\n",
    "print('\\n')\n",
    "\n",
    "print('Coefficient of determination (disk_used_percent): %.2f'% r2_score(y3_test,y3_pred ))\n",
    "print(\"RMSE for linear (disk_used_percent) :\",np.sqrt(mean_squared_error(y3_test,y3_pred)))\n",
    "print('\\n')\n"
   ]
  },
  {
   "cell_type": "code",
   "execution_count": 26,
   "metadata": {},
   "outputs": [
    {
     "name": "stdout",
     "output_type": "stream",
     "text": [
      "plot for influxdb_shard_diskBytes\n",
      "\n",
      "\n"
     ]
    },
    {
     "data": {
      "image/png": "[encoded data removed]",
      "text/plain": [
       "<Figure size 432x288 with 1 Axes>"
      ]
     },
     "metadata": {
      "needs_background": "light"
     },
     "output_type": "display_data"
    }
   ],
   "source": [
    "print( \"plot for influxdb_shard_diskBytes\")\n",
    "print(\"\\n\")\n",
    "\n",
    "plt.scatter(x1_train[:,1], y1_train, color = \"red\")\n",
    "plt.plot(x1_train[:,1], poly_model1.predict(x1_train), color = \"green\")\n",
    "plt.title(\"Influx DB predictions\")\n",
    "plt.xlabel(\"influxdb_httpd_writeReqDurationNs\")\n",
    "plt.ylabel(\"influxdb_shard_diskBytes\")\n",
    "plt.show()"
   ]
  },
  {
   "cell_type": "code",
   "execution_count": 27,
   "metadata": {},
   "outputs": [
    {
     "name": "stdout",
     "output_type": "stream",
     "text": [
      "plot for cpu_usage_active\n",
      "\n",
      "\n"
     ]
    },
    {
     "data": {
      "image/png": "[encoded data removed]",
      "text/plain": [
       "<Figure size 432x288 with 1 Axes>"
      ]
     },
     "metadata": {
      "needs_background": "light"
     },
     "output_type": "display_data"
    }
   ],
   "source": [
    "print( \"plot for cpu_usage_active\")\n",
    "print(\"\\n\")\n",
    "\n",
    "plt.scatter(x2_train[:,1], y2_train, color = \"red\")\n",
    "plt.plot(x2_train[:,1], poly_model2.predict(x2_train), color = \"green\")\n",
    "plt.title(\"Influx DB predictions\")\n",
    "plt.xlabel(\"influxdb_httpd_writeReqDurationNs\")\n",
    "plt.ylabel(\"cpu_usage_active\")\n",
    "plt.show()"
   ]
  },
  {
   "cell_type": "code",
   "execution_count": 28,
   "metadata": {},
   "outputs": [
    {
     "name": "stdout",
     "output_type": "stream",
     "text": [
      "plot for disk_used_percent\n",
      "\n",
      "\n"
     ]
    },
    {
     "data": {
      "image/png": "[encoded data removed]",
      "text/plain": [
       "<Figure size 432x288 with 1 Axes>"
      ]
     },
     "metadata": {
      "needs_background": "light"
     },
     "output_type": "display_data"
    }
   ],
   "source": [
    "print( \"plot for disk_used_percent\")\n",
    "print(\"\\n\")\n",
    "\n",
    "plt.scatter(x3_train[:,1], y3_train, color = \"red\")\n",
    "plt.plot(x3_train[:,1], poly_model3.predict(x3_train), color = \"green\")\n",
    "plt.title(\"Influx DB predictions\")\n",
    "plt.xlabel(\"influxdb_httpd_writeReqDurationNs\")\n",
    "plt.ylabel(\"disk_used_percent\")\n",
    "plt.show()"
   ]
  },
  {
   "cell_type": "code",
   "execution_count": 29,
   "metadata": {},
   "outputs": [],
   "source": [
    "import pickle\n",
    "pickle.dump(poly_model1, open('saved model/scale three/poly_trained_model1.pkl', 'wb'))\n",
    "pickle.dump(poly_model2, open('saved model/scale three/poly_trained_model2.pkl', 'wb'))\n",
    "pickle.dump(poly_model3, open('saved model/scale three/poly_trained_model3.pkl', 'wb'))"
   ]
  },
  {
   "cell_type": "markdown",
   "metadata": {},
   "source": [
    "# Support Vector Regression"
   ]
  },
  {
   "cell_type": "code",
   "execution_count": 30,
   "metadata": {},
   "outputs": [],
   "source": [
    "X1 = np.array(X1)\n",
    "y1 = np.array(y1)\n",
    "\n",
    "X2 = np.array(x2)\n",
    "y2 = np.array(y2)\n",
    "\n",
    "X3 = np.array(x3)\n",
    "y3 = np.array(y3)\n",
    "\n",
    "x1_train,x1_test,y1_train,y1_test = train_test_split(X1, y1, test_size = 0.2,random_state=1)\n",
    "x2_train,x2_test,y2_train,y2_test = train_test_split(X2, y2, test_size = 0.2,random_state=1)\n",
    "x3_train,x3_test,y3_train,y3_test = train_test_split(X3, y3, test_size = 0.2,random_state=1)\n"
   ]
  },
  {
   "cell_type": "code",
   "execution_count": 31,
   "metadata": {},
   "outputs": [],
   "source": [
    "svr_model1 = SVR(kernel = 'rbf', gamma = 0.1)\n",
    "svr_model2 = SVR(kernel = 'rbf', gamma = 0.1)\n",
    "svr_model3 = SVR(kernel = 'rbf', gamma = 0.1)"
   ]
  },
  {
   "cell_type": "code",
   "execution_count": 32,
   "metadata": {},
   "outputs": [],
   "source": [
    "svr_model1 = svr_model1.fit(x1_train,y1_train)\n",
    "svr_model2 = svr_model2.fit(x2_train,y2_train)\n",
    "svr_model3 = svr_model3.fit(x3_train,y3_train)"
   ]
  },
  {
   "cell_type": "code",
   "execution_count": 33,
   "metadata": {},
   "outputs": [
    {
     "name": "stdout",
     "output_type": "stream",
     "text": [
      "\n",
      "Predicted 'influxdb_shard_diskBytes' \n",
      " [ 0.6936479   0.85770977  0.73949696 ... -0.39363624  0.97357654\n",
      "  0.62564356]\n",
      "\n",
      "Predicted 'cpu_usage_active' \n",
      " [0.08429354 0.03706672 0.25304    ... 0.38390975 0.09306565 0.29442234]\n",
      "\n",
      "Predicted ''disk_used_percent'' \n",
      " [ 0.96836609  0.60650236 -0.56962838 ... -1.20985621  0.14812153\n",
      " -0.81482555]\n"
     ]
    }
   ],
   "source": [
    "y1_pred = svr_model1.predict(x1_test)\n",
    "print(\"\\nPredicted 'influxdb_shard_diskBytes' \\n\",y1_pred)\n",
    "y2_pred = svr_model2.predict(x2_test)\n",
    "print(\"\\nPredicted 'cpu_usage_active' \\n\",y2_pred)\n",
    "y3_pred = svr_model3.predict(x3_test)\n",
    "print(\"\\nPredicted ''disk_used_percent'' \\n\",y3_pred)"
   ]
  },
  {
   "cell_type": "code",
   "execution_count": 34,
   "metadata": {},
   "outputs": [
    {
     "name": "stdout",
     "output_type": "stream",
     "text": [
      "Coefficient of determination (influxdb_shard_diskBytes): 0.89\n",
      "RMSE for linear (influxdb_shard_diskBytes) : 0.32134839277463373\n",
      "\n",
      "\n",
      "Coefficient of determination (cpu_usage_active): -0.02\n",
      "RMSE for linear (cpu_usage_active) : 0.9784104554203966\n",
      "\n",
      "\n",
      "Coefficient of determination (disk_used_percent): 0.72\n",
      "RMSE for linear (disk_used_percent) : 0.530141963623325\n",
      "\n",
      "\n"
     ]
    }
   ],
   "source": [
    "print('Coefficient of determination (influxdb_shard_diskBytes): %.2f'% r2_score(y1_test,y1_pred ))\n",
    "print(\"RMSE for linear (influxdb_shard_diskBytes) :\",np.sqrt(mean_squared_error(y1_test,y1_pred)))\n",
    "print('\\n')\n",
    "\n",
    "print('Coefficient of determination (cpu_usage_active): %.2f'% r2_score(y2_test,y2_pred ))\n",
    "print(\"RMSE for linear (cpu_usage_active) :\",np.sqrt(mean_squared_error(y2_test,y2_pred)))\n",
    "print('\\n')\n",
    "\n",
    "print('Coefficient of determination (disk_used_percent): %.2f'% r2_score(y3_test,y3_pred ))\n",
    "print(\"RMSE for linear (disk_used_percent) :\",np.sqrt(mean_squared_error(y3_test,y3_pred)))\n",
    "print('\\n')\n"
   ]
  },
  {
   "cell_type": "code",
   "execution_count": 35,
   "metadata": {},
   "outputs": [],
   "source": [
    "import pickle\n",
    "pickle.dump(svr_model1, open('saved model/scale three/svr_trained_model1.pkl', 'wb'))\n",
    "pickle.dump(svr_model2, open('saved model/scale three/svr_trained_model2.pkl', 'wb'))\n",
    "pickle.dump(svr_model3, open('saved model/scale three/svr_trained_model3.pkl', 'wb'))"
   ]
  },
  {
   "cell_type": "code",
   "execution_count": 36,
   "metadata": {},
   "outputs": [
    {
     "name": "stdout",
     "output_type": "stream",
     "text": [
      "plot for influxdb_shard_diskBytes\n",
      "\n",
      "\n"
     ]
    },
    {
     "data": {
      "image/png": "[encoded data removed]",
      "text/plain": [
       "<Figure size 432x288 with 1 Axes>"
      ]
     },
     "metadata": {
      "needs_background": "light"
     },
     "output_type": "display_data"
    }
   ],
   "source": [
    "print( \"plot for influxdb_shard_diskBytes\")\n",
    "print(\"\\n\")\n",
    "\n",
    "plt.scatter(x1_train[:,1], y1_train, color = \"red\")\n",
    "plt.plot(x1_train[:,1], svr_model1.predict(x1_train), color = \"green\")\n",
    "plt.title(\"Influx DB predictions\")\n",
    "plt.xlabel(\"influxdb_httpd_writeReqDurationNs\")\n",
    "plt.ylabel(\"influxdb_shard_diskBytes\")\n",
    "plt.show()"
   ]
  },
  {
   "cell_type": "code",
   "execution_count": 37,
   "metadata": {},
   "outputs": [
    {
     "name": "stdout",
     "output_type": "stream",
     "text": [
      "plot for cpu_usage_active\n",
      "\n",
      "\n"
     ]
    },
    {
     "data": {
      "image/png": "[encoded data removed]",
      "text/plain": [
       "<Figure size 432x288 with 1 Axes>"
      ]
     },
     "metadata": {
      "needs_background": "light"
     },
     "output_type": "display_data"
    }
   ],
   "source": [
    "print( \"plot for cpu_usage_active\")\n",
    "print(\"\\n\")\n",
    "\n",
    "plt.scatter(x2_train[:,1], y2_train, color = \"red\")\n",
    "plt.plot(x2_train[:,1], svr_model2.predict(x2_train), color = \"green\")\n",
    "plt.title(\"Influx DB predictions\")\n",
    "plt.xlabel(\"influxdb_httpd_writeReqDurationNs\")\n",
    "plt.ylabel(\"cpu_usage_active\")\n",
    "plt.show()"
   ]
  },
  {
   "cell_type": "code",
   "execution_count": 38,
   "metadata": {},
   "outputs": [
    {
     "name": "stdout",
     "output_type": "stream",
     "text": [
      "plot for disk_used_percent\n",
      "\n",
      "\n"
     ]
    },
    {
     "data": {
      "image/png": "[encoded data removed]",
      "text/plain": [
       "<Figure size 432x288 with 1 Axes>"
      ]
     },
     "metadata": {
      "needs_background": "light"
     },
     "output_type": "display_data"
    }
   ],
   "source": [
    "print( \"plot for disk_used_percent\")\n",
    "print(\"\\n\")\n",
    "\n",
    "plt.scatter(x3_train[:,1], y3_train, color = \"red\")\n",
    "plt.plot(x3_train[:,1], svr_model3.predict(x3_train), color = \"green\")\n",
    "plt.title(\"Influx DB predictions\")\n",
    "plt.xlabel(\"influxdb_httpd_writeReqDurationNs\")\n",
    "plt.ylabel(\"disk_used_percent\")\n",
    "plt.show()"
   ]
  }
 ],
 "metadata": {
  "kernelspec": {
   "display_name": "Python 3",
   "language": "python",
   "name": "python3"
  },
  "language_info": {
   "codemirror_mode": {
    "name": "ipython",
    "version": 3
   },
   "file_extension": ".py",
   "mimetype": "text/x-python",
   "name": "python",
   "nbconvert_exporter": "python",
   "pygments_lexer": "ipython3",
   "version": "3.7.4"
  }
 },
 "nbformat": 4,
 "nbformat_minor": 4
}
