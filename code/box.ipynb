{
 "cells": [
  {
   "cell_type": "code",
   "execution_count": null,
   "metadata": {},
   "outputs": [],
   "source": [
    "import eval_centralized_agents\n",
    "from collections import defaultdict\n",
    "import networkx as nx\n",
    "import matplotlib.pyplot as plt\n",
    "import numpy as np\n",
    "import eval_decentralized_env\n",
    "import eval_random_agent\n",
    "from collections import defaultdict"
   ]
  },
  {
   "cell_type": "code",
   "execution_count": null,
   "metadata": {},
   "outputs": [],
   "source": [
    "d = defaultdict(list)\n",
    "data = [(0, 2), (0, 1), (0, 3), (1, 2), (1, 3), (2, 3),(2, 4), (3, 4), (5, 2), (5, 3), (5, 4)]\n",
    "\n",
    "\n",
    "for node, dest in data:\n",
    "    d[node].append(dest)\n",
    "\n",
    "G = nx.Graph()\n",
    "for k, v in d.items():\n",
    "    for vv in v:\n",
    "        G.add_edge(k, vv)\n",
    "# nx.draw_networkx(G)"
   ]
  },
  {
   "cell_type": "markdown",
   "metadata": {},
   "source": [
    "\" The below cell will return the box-plot for total number of time-steps taken to transfer all the packets in the network including packet lost for all the agents \"\n",
    "\n",
    "\" The agents are DSDV priority based MAC, DSDV with round-robin MAC, PPO2 RL agent with only MAC, PPO2 RL agent with routing and MAC, A2C RL agent with routing and MAC, Multi-agent RL agent with routing and MAC, and Multi-agent baseline that is random agent with routing and MAC \""
   ]
  },
  {
   "cell_type": "code",
   "execution_count": null,
   "metadata": {},
   "outputs": [],
   "source": [
    "def draw_graph_timesteps(timesteps_dsdvWQ,timesteps_dsdvRRTDMA,timesteps_RL_MAC,timesteps_PPO2,timesteps_A2C, timesteps_MARL,timesteps_random):\n",
    "\n",
    "    data1 = timesteps_dsdvWQ\n",
    "    data2 = timesteps_dsdvRRTDMA\n",
    "    data3 = timesteps_RL_MAC\n",
    "    data4 = timesteps_PPO2\n",
    "    data5 = timesteps_A2C\n",
    "    data6 = timesteps_MARL\n",
    "    data7 = timesteps_random\n",
    "    \n",
    "    all_data = [data1, data2, data3, data4, data5, data6, data7]\n",
    "    labels = ['DSDV_P_RR','DSDV_RR', 'PPO2_MAC','PPO2_MAC_routing', 'A2C_MAC_routing', 'MARL','Random_Agent']\n",
    "\n",
    "    fig, ax = plt.subplots(1, figsize=(8, 6))\n",
    "\n",
    "    # rectangular box plot\n",
    "    bplot1 = ax.boxplot(all_data,\n",
    "                        showbox = True,\n",
    "                        showfliers=True,\n",
    "                        vert=True,  # vertical box alignment\n",
    "                        patch_artist=True,  # fill with color\n",
    "                        labels=labels)  # will be used to label x-ticks\n",
    "    ax.set_title('Number of total timesteps taken to transmit all the packets over 1000 episodes')\n",
    "\n",
    "\n",
    "\n",
    "    # fill with colors\n",
    "    colors = ['pink', 'lightblue','lightgreen','gray','purple','yellow']\n",
    "    \n",
    "    for patch, color in zip(bplot1['boxes'], colors):\n",
    "        patch.set_facecolor(color)\n",
    "\n",
    "    # adding horizontal grid lines\n",
    "\n",
    "    ax.yaxis.grid(True)\n",
    "    ax.set_ylabel('Total timesteps')\n",
    "    ax.set_xlabel('Agents')\n",
    "\n",
    "    plt.show()"
   ]
  },
  {
   "cell_type": "markdown",
   "metadata": {},
   "source": [
    "\" The below cell will return the box-plot for total number of packet delivered during the 5000 evaluation episodes \"\n",
    "\n",
    "\" The agents are DSDV priority based MAC, DSDV with round-robin MAC, PPO2 RL agent with only MAC, PPO2 RL agent with routing and MAC, A2C RL agent with routing and MAC, Multi-agent RL agent with routing and MAC, and Multi-agent baseline that is random agent with routing and MAC \""
   ]
  },
  {
   "cell_type": "code",
   "execution_count": null,
   "metadata": {},
   "outputs": [],
   "source": [
    "def draw_graph_packet_delivered(packet_delivered_dsdvWQ, packet_delivered_dsdvRRTDMA, packet_delivered_RL_MAC,packet_delivered_PPO2, packet_delivered_A2C, packet_delivered_MARL, packet_delivered_random):\n",
    "\n",
    "    data1 = packet_delivered_dsdvWQ\n",
    "    data2 = packet_delivered_dsdvRRTDMA\n",
    "    data3 = packet_delivered_RL_MAC\n",
    "    data4 = packet_delivered_PPO2\n",
    "    data5 = packet_delivered_A2C\n",
    "    data6 = packet_delivered_MARL\n",
    "    data7 = packet_delivered_random\n",
    "    \n",
    "    all_data = [data1, data2, data3, data4, data5, data6, data7]\n",
    "    labels = ['DSDV_P_RR','DSDV_RR', 'PPO2_MAC','PPO2_MAC_routing', 'A2C_MAC_routing', 'MARL','Random_Agent']\n",
    "    fig, ax = plt.subplots(figsize=(8, 6))\n",
    "\n",
    "    # rectangular box plot\n",
    "    bplot1 = ax.boxplot(all_data,\n",
    "                        showbox = True,\n",
    "                        showfliers=True,\n",
    "                        vert=True,  # vertical box alignment\n",
    "                        patch_artist=True,  # fill with color\n",
    "                        labels=labels)  # will be used to label x-ticks\n",
    "    ax.set_title('Number of packets delivered in percentage over 1000 episodes')\n",
    "\n",
    "\n",
    "\n",
    "    # fill with colors\n",
    "    colors = ['pink', 'lightblue','lightgreen','gray','purple','yellow']\n",
    "    \n",
    "    for patch, color in zip(bplot1['boxes'], colors):\n",
    "        patch.set_facecolor(color)\n",
    "\n",
    "    # adding horizontal grid lines\n",
    "\n",
    "    ax.yaxis.grid(True)\n",
    "    ax.set_ylabel('Packets Delivered Percentage')\n",
    "    ax.set_xlabel('Agents')\n",
    "\n",
    "    plt.show()\n"
   ]
  },
  {
   "cell_type": "markdown",
   "metadata": {},
   "source": [
    "\" The below cell will return the box-plot for total successfull transmission during the 5000 evaluation episodes, the successfull transmission includes packet delivered to destination or to next-hop \"\n",
    "\n",
    "\" The agents are DSDV priority based MAC, DSDV with round-robin MAC, PPO2 RL agent with only MAC, PPO2 RL agent with routing and MAC, A2C RL agent with routing and MAC, Multi-agent RL agent with routing and MAC, and Multi-agent baseline that is random agent with routing and MAC \""
   ]
  },
  {
   "cell_type": "code",
   "execution_count": null,
   "metadata": {},
   "outputs": [],
   "source": [
    "def draw_graph_succ_trans(succ_transmission_dsdvWQ, succ_transmission_dsdvRRTDMA, succ_transmission_RL_MAC,succ_transmission_PPO2,succ_transmission_A2C, succ_transmission_MARL,succ_transmission_random):\n",
    "    data1 = succ_transmission_dsdvWQ\n",
    "    data2 = succ_transmission_dsdvRRTDMA\n",
    "    data3 = succ_transmission_RL_MAC\n",
    "    data4 = succ_transmission_PPO2\n",
    "    data5 = succ_transmission_A2C\n",
    "    data6 = succ_transmission_MARL\n",
    "    data7 = succ_transmission_random\n",
    "\n",
    "    all_data = [data1, data2, data3, data4, data5, data6, data7]\n",
    "    labels = ['DSDV_P_RR','DSDV_RR', 'PPO2_MAC','PPO2_MAC_routing', 'A2C_MAC_routing', 'MARL','Random_Agent']\n",
    "    fig, ax = plt.subplots(figsize=(8, 6))\n",
    "\n",
    "    # rectangular box plot\n",
    "    bplot4 = ax.boxplot(all_data,\n",
    "                        showbox = True,\n",
    "                        showfliers=True,\n",
    "                        vert=True,  # vertical box alignment\n",
    "                        patch_artist=True,  # fill with color\n",
    "                        labels=labels)  # will be used to label x-ticks\n",
    "    ax.set_title('Number of successfull transmission in percentage over 1000 episodes')\n",
    "\n",
    "\n",
    "\n",
    "\n",
    "    # fill with colors\n",
    "    colors = ['pink', 'lightblue', 'lightgreen','gray','purple','yellow']\n",
    "    \n",
    "    for patch, color in zip(bplot4['boxes'], colors):\n",
    "        patch.set_facecolor(color)\n",
    "\n",
    "    # adding horizontal grid lines\n",
    "\n",
    "    ax.yaxis.grid(True)\n",
    "    ax.set_ylabel('Successfull Transmission Percentage')\n",
    "    ax.set_xlabel('Agents')\n",
    "\n",
    "    plt.show()"
   ]
  },
  {
   "cell_type": "markdown",
   "metadata": {},
   "source": [
    "\" The below cell will return the box-plot for total number of packets lost during the 5000 evaluation episodes \"\n",
    "\n",
    "\" The agents are DSDV priority based MAC, DSDV with round-robin MAC, PPO2 RL agent with only MAC, PPO2 RL agent with routing and MAC, A2C RL agent with routing and MAC, Multi-agent RL agent with routing and MAC, and Multi-agent baseline that is random agent with routing and MAC \""
   ]
  },
  {
   "cell_type": "code",
   "execution_count": null,
   "metadata": {},
   "outputs": [],
   "source": [
    "def draw_graph_packet_lost(packet_lost_dsdvWQ,packet_lost_dsdvRRTDMA, packet_lost_RL_MAC, packet_lost_PPO2, packet_lost_A2C, packet_lost_MARL,packet_lost_random):\n",
    "    data1 = packet_lost_dsdvWQ\n",
    "    data2 = packet_lost_dsdvRRTDMA\n",
    "    data3 = packet_lost_RL_MAC\n",
    "    data4 = packet_lost_PPO2 \n",
    "    data5 = packet_lost_A2C\n",
    "    data6 = packet_lost_MARL\n",
    "    data7 = packet_lost_random\n",
    "    \n",
    "\n",
    "\n",
    "    \n",
    "    all_data = [data1, data2, data3, data4, data5, data6, data7]\n",
    "    labels = ['DSDV_P_RR','DSDV_RR', 'PPO2_MAC','PPO2_MAC_routing', 'A2C_MAC_routing', 'MARL','Random_Agent']\n",
    "    fig, ax = plt.subplots(figsize=(8, 6))\n",
    "\n",
    "    # rectangular box plot\n",
    "    bplot3 = ax.boxplot(all_data,\n",
    "                        showbox = True,\n",
    "                        showfliers=True,\n",
    "                        vert=True,  # vertical box alignment\n",
    "                        patch_artist=True,  # fill with color\n",
    "                        labels=labels)  # will be used to label x-ticks\n",
    "    ax.set_title('Number of packets lost in percentage over 1000 episodes')\n",
    "\n",
    "\n",
    "\n",
    "    # fill with colors\n",
    "    colors = ['pink', 'lightblue', 'lightgreen','gray','purple','yellow']\n",
    "    \n",
    "    for patch, color in zip(bplot3['boxes'], colors):\n",
    "        patch.set_facecolor(color)\n",
    "\n",
    "    # adding horizontal grid lines\n",
    "\n",
    "    ax.yaxis.grid(True)\n",
    "    ax.set_ylabel('Packet Lost Percentage')\n",
    "    ax.set_xlabel('Agents')\n",
    "\n",
    "    plt.show()"
   ]
  },
  {
   "cell_type": "markdown",
   "metadata": {},
   "source": [
    "\" The below cell will return the box-plot for time-steps taken to transmit 15 packets over the 5000 evaluation episodes\"\n",
    "\n",
    "\" The agents are DSDV priority based MAC, DSDV with round-robin MAC, PPO2 RL agent with only MAC, PPO2 RL agent with routing and MAC, A2C RL agent with routing and MAC, Multi-agent RL agent with routing and MAC, and Multi-agent baseline that is random agent with routing and MAC \""
   ]
  },
  {
   "cell_type": "code",
   "execution_count": null,
   "metadata": {},
   "outputs": [],
   "source": [
    "def draw_graph_ts_pd(ts_pd_dsdvWQ, ts_pd_RRTDMA,ts_pd_RL_MAC, ts_pd_PPO2, ts_pd_A2C, ts_pd_MARL):\n",
    "    data1 = ts_pd_dsdvWQ\n",
    "    data2 = ts_pd_RRTDMA\n",
    "    data3 = ts_pd_RL_MAC\n",
    "    data4 = ts_pd_PPO2 \n",
    "    data5 = ts_pd_A2C\n",
    "    data6 = ts_pd_MARL\n",
    "    \n",
    "    \n",
    "    all_data = [data1,data2, data3,data4,data5,data6]\n",
    "    labels = ['DSDV_P_RR','DSDV_RR', 'PPO2_MAC','PPO2_MAC_routing', 'A2C_MAC_routing', 'MARL']\n",
    "    fig, ax = plt.subplots(figsize=(8, 6))\n",
    "\n",
    "    # rectangular box plot\n",
    "    bplot3 = ax.boxplot(all_data,\n",
    "                        showbox = True,\n",
    "                        showfliers=True,\n",
    "                        vert=True,  # vertical box alignment\n",
    "                        patch_artist=True,  # fill with color\n",
    "                        labels=labels)  # will be used to label x-ticks\n",
    "    ax.set_title('Timesteps taken to deliver 15 packets')\n",
    "\n",
    "\n",
    "\n",
    "    # fill with colors\n",
    "    colors = ['pink', 'lightblue', 'lightgreen','gray','purple']\n",
    "    \n",
    "    for patch, color in zip(bplot3['boxes'], colors):\n",
    "        patch.set_facecolor(color)\n",
    "\n",
    "    # adding horizontal grid lines\n",
    "\n",
    "    ax.yaxis.grid(True)\n",
    "    ax.set_ylabel('Timesteps Taken')\n",
    "    ax.set_xlabel('Agents')\n",
    "\n",
    "    plt.show()\n",
    "    "
   ]
  },
  {
   "cell_type": "code",
   "execution_count": null,
   "metadata": {},
   "outputs": [],
   "source": [
    "eval_episodes = 1000"
   ]
  },
  {
   "cell_type": "code",
   "execution_count": null,
   "metadata": {},
   "outputs": [],
   "source": [
    "    \n",
    "eval_centralized_agents.testing_agent(G, 'dsdv_wqueue', eval_episodes)\n",
    "timesteps_dsdvWQ = list(eval_centralized_agents.time_steps())\n",
    "packet_delivered_dsdvWQ = list(eval_centralized_agents.packets_delivered())\n",
    "packet_lost_dsdvWQ = list(eval_centralized_agents.packet_lost_total())\n",
    "succ_transmission_dsdvWQ = list(eval_centralized_agents.succ_transmission())\n",
    "ts_pd_dsdvWQ = list(eval_centralized_agents.ts_pd())\n"
   ]
  },
  {
   "cell_type": "code",
   "execution_count": null,
   "metadata": {},
   "outputs": [],
   "source": [
    "eval_centralized_agents.testing_agent(G ,'dsdv_RRTDMA', eval_episodes)\n",
    "timesteps_dsdvRRTDMA = list(eval_centralized_agents.time_steps())\n",
    "packet_delivered_dsdvRRTDMA = list(eval_centralized_agents.packets_delivered())\n",
    "packet_lost_dsdvRRTDMA = list(eval_centralized_agents.packet_lost_total())\n",
    "succ_transmission_dsdvRRTDMA = list(eval_centralized_agents.succ_transmission())\n",
    "ts_pd_RRTDMA = list(eval_centralized_agents.ts_pd())"
   ]
  },
  {
   "cell_type": "code",
   "execution_count": null,
   "metadata": {},
   "outputs": [],
   "source": [
    "\n",
    "eval_centralized_agents.testing_agent(G, 'PPO2_MAC', eval_episodes)\n",
    "timesteps_RL_MAC = list(eval_centralized_agents.time_steps())\n",
    "packet_delivered_RL_MAC = list(eval_centralized_agents.packets_delivered())\n",
    "packet_lost_RL_MAC = list(eval_centralized_agents.packet_lost_total())\n",
    "succ_transmission_RL_MAC = list(eval_centralized_agents.succ_transmission())\n",
    "ts_pd_RL_MAC = list(eval_centralized_agents.ts_pd())"
   ]
  },
  {
   "cell_type": "code",
   "execution_count": null,
   "metadata": {},
   "outputs": [],
   "source": [
    "eval_centralized_agents.testing_agent(G, 'PPO2_MAC_routing', eval_episodes)\n",
    "timesteps_PPO2 = list(eval_centralized_agents.time_steps())\n",
    "packet_delivered_PPO2 = list(eval_centralized_agents.packets_delivered())\n",
    "packet_lost_PPO2 = list(eval_centralized_agents.packet_lost_total())\n",
    "succ_transmission_PPO2 = list(eval_centralized_agents.succ_transmission())\n",
    "ts_pd_PPO2 = list(eval_centralized_agents.ts_pd())\n"
   ]
  },
  {
   "cell_type": "code",
   "execution_count": null,
   "metadata": {},
   "outputs": [],
   "source": [
    "eval_centralized_agents.testing_agent(G, 'A2C_MAC_routing', eval_episodes)\n",
    "timesteps_A2C = list(eval_centralized_agents.time_steps())\n",
    "packet_delivered_A2C = list(eval_centralized_agents.packets_delivered())\n",
    "packet_lost_A2C = list(eval_centralized_agents.packet_lost_total())\n",
    "succ_transmission_A2C = list(eval_centralized_agents.succ_transmission())\n",
    "ts_pd_A2C = list(eval_centralized_agents.ts_pd())\n"
   ]
  },
  {
   "cell_type": "code",
   "execution_count": null,
   "metadata": {},
   "outputs": [],
   "source": [
    "    \n",
    "eval_random_agent.test_random_agent(G, 'Random',eval_episodes)\n",
    "timesteps_random = list(eval_random_agent.time_steps())\n",
    "packet_delivered_random =  list(eval_random_agent.packets_delivered())\n",
    "packet_lost_random = list(eval_random_agent.packet_lost_total())\n",
    "succ_transmission_random = list(eval_random_agent.succ_transmission())\n"
   ]
  },
  {
   "cell_type": "code",
   "execution_count": null,
   "metadata": {},
   "outputs": [],
   "source": [
    "eval_decentralized_env.setup_and_test(G, 'MARL',eval_episodes)\n",
    "print(\"1\")\n",
    "timesteps_MARL = list(eval_decentralized_env.time_steps())\n",
    "packet_delivered_MARL =  list(eval_decentralized_env.packets_delivered())\n",
    "packet_lost_MARL = list(eval_decentralized_env.packet_lost_total())\n",
    "succ_transmission_MARL = list(eval_decentralized_env.succ_transmission())\n",
    "ts_pd_MARL = list(eval_decentralized_env.ts_pd())"
   ]
  },
  {
   "cell_type": "code",
   "execution_count": null,
   "metadata": {},
   "outputs": [],
   "source": [
    "    \n",
    "draw_graph_timesteps(timesteps_dsdvWQ, timesteps_dsdvRRTDMA, timesteps_RL_MAC, timesteps_PPO2, timesteps_A2C, timesteps_MARL, timesteps_random)\n",
    "\n",
    "draw_graph_packet_delivered(packet_delivered_dsdvWQ, packet_delivered_dsdvRRTDMA, packet_delivered_RL_MAC, packet_delivered_PPO2, packet_delivered_A2C, packet_delivered_MARL, packet_delivered_random)\n",
    "\n",
    "draw_graph_packet_lost(packet_lost_dsdvWQ, packet_lost_dsdvRRTDMA, packet_lost_RL_MAC, packet_lost_PPO2, packet_lost_A2C, packet_lost_MARL, packet_lost_random)\n",
    "\n",
    "draw_graph_succ_trans(succ_transmission_dsdvWQ, succ_transmission_dsdvRRTDMA, succ_transmission_RL_MAC, succ_transmission_PPO2, succ_transmission_A2C, succ_transmission_MARL, succ_transmission_random)\n",
    "\n",
    "draw_graph_ts_pd(ts_pd_dsdvWQ, ts_pd_RRTDMA, ts_pd_RL_MAC, ts_pd_PPO2, ts_pd_A2C, ts_pd_MARL)\n"
   ]
  },
  {
   "cell_type": "code",
   "execution_count": null,
   "metadata": {},
   "outputs": [],
   "source": []
  }
 ],
 "metadata": {
  "kernelspec": {
   "display_name": "Python 3",
   "language": "python",
   "name": "python3"
  },
  "language_info": {
   "codemirror_mode": {
    "name": "ipython",
    "version": 3
   },
   "file_extension": ".py",
   "mimetype": "text/x-python",
   "name": "python",
   "nbconvert_exporter": "python",
   "pygments_lexer": "ipython3",
   "version": "3.7.9"
  }
 },
 "nbformat": 4,
 "nbformat_minor": 4
}
