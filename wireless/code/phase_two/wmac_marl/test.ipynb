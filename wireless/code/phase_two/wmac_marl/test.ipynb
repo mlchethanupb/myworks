{
 "cells": [
  {
   "cell_type": "code",
   "execution_count": null,
   "metadata": {},
   "outputs": [],
   "source": [
    "# Import environment definition\n",
    "from environment import WirelessEnv\n",
    "from customcallback import PacketDeliveredCountCallback"
   ]
  },
  {
   "cell_type": "code",
   "execution_count": null,
   "metadata": {},
   "outputs": [],
   "source": [
    "env = WirelessEnv()"
   ]
  },
  {
   "cell_type": "code",
   "execution_count": null,
   "metadata": {},
   "outputs": [],
   "source": [
    "env.observation_space"
   ]
  },
  {
   "cell_type": "code",
   "execution_count": null,
   "metadata": {},
   "outputs": [],
   "source": [
    "env.action_space"
   ]
  },
  {
   "cell_type": "code",
   "execution_count": null,
   "metadata": {},
   "outputs": [],
   "source": [
    "for i in range(env.num_agents):\n",
    "    act_space = env.get_agent_action_space(i)\n",
    "    print(\"agent: \", i, \"act_space\", act_space)\n",
    "    print(act_space.sample())"
   ]
  },
  {
   "cell_type": "code",
   "execution_count": null,
   "metadata": {},
   "outputs": [],
   "source": [
    "#Hidden terminal\n",
    "env.reset()\n",
    "action_dict = {0:0, 1:2, 2:2, 3:3, 4:1, 5:3}\n",
    "\n",
    "env.step(action_dict)"
   ]
  },
  {
   "cell_type": "code",
   "execution_count": null,
   "metadata": {},
   "outputs": [],
   "source": [
    "#  0->1 & 5->4 \n",
    "env.reset()\n",
    "action_dict = {0:1, 1:1, 2:2, 3:3, 4:2, 5:2}\n",
    "\n",
    "env.step(action_dict)"
   ]
  },
  {
   "cell_type": "code",
   "execution_count": null,
   "metadata": {},
   "outputs": [],
   "source": [
    "#  2->0 & 5->4 \n",
    "env.reset()\n",
    "action_dict = {0:0, 1:1, 2:0, 3:3, 4:2, 5:2}\n",
    "\n",
    "env.step(action_dict)"
   ]
  },
  {
   "cell_type": "code",
   "execution_count": null,
   "metadata": {},
   "outputs": [],
   "source": [
    "checkpoint_path = \"/home/aicon/chethan/repo/pg-aicon/wireless/code/phase_two/wmac_marl/logs/wmac_marl/PPO_WirelessEnv_fa061_00000_0_num_sgd_iter=6_2021-02-03_23-34-28/checkpoint_4167/checkpoint-4167\"\n"
   ]
  },
  {
   "cell_type": "code",
   "execution_count": null,
   "metadata": {},
   "outputs": [],
   "source": [
    "    # Create a single environment and register it\n",
    "def env_creator(_):\n",
    "        return WirelessEnv()\n",
    "\n",
    "single_env = WirelessEnv()\n",
    "env_name = \"WirelessEnv\"\n",
    "#register_env(env_name, env_creator)\n",
    "\n",
    "# Get environment obs, action spaces and number of agents\n",
    "obs_space = single_env.observation_space\n",
    "#act_space = single_env.action_space\n",
    "num_agents = single_env.num_agents\n",
    "\n",
    "# Create a policy mapping\n",
    "def gen_policy(agent_id):\n",
    "        act_space = single_env.get_agent_action_space(agent_id)\n",
    "        return (None, obs_space, act_space, {})\n",
    "\n",
    "policy_graphs = {}\n",
    "for i in range(num_agents):\n",
    "        policy_graphs['agent-' + str(i)] = gen_policy(i)\n",
    "print(policy_graphs)\n",
    "def policy_mapping_fn(agent_id):\n",
    "        return 'agent-' + str(agent_id)\n",
    "\n",
    "    # Define configuration with hyperparam and training details\n",
    "config={\n",
    "                \"log_level\": \"ERROR\",\n",
    "                \"num_workers\": 6,\n",
    "                \"num_cpus_for_driver\": 4,\n",
    "                \"num_cpus_per_worker\": 2,\n",
    "                \"num_gpus\": 0,\n",
    "                \"num_envs_per_worker\": 1,\n",
    "                \"no_done_at_end\": True,\n",
    "                \"seed\":10,\n",
    "                \"gamma\": 0.9392979332914239,\n",
    "\n",
    "#---------------------------------------------------------------------------------------\n",
    "\n",
    "                \"use_critic\": True,\n",
    "                \"use_gae\": True,\n",
    "                \"lambda\": 0.9844457867596674,\n",
    "                \"kl_coeff\": 0.2,\n",
    "                \"rollout_fragment_length\": 200,\n",
    "                \"train_batch_size\": 2048,\n",
    "                \"sgd_minibatch_size\": 128,\n",
    "                \"shuffle_sequences\": True,\n",
    "                \"num_sgd_iter\": 6,\n",
    "                \"lr\": 4.304049744289648e-05,\n",
    "                \"lr_schedule\": None,\n",
    "                \"vf_share_layers\": False,\n",
    "                \"vf_loss_coeff\": 1.0,\n",
    "                \"entropy_coeff\": 0.05427902707123386,\n",
    "                \"entropy_coeff_schedule\": None,\n",
    "                \"clip_param\": 0.1,\n",
    "                \"vf_clip_param\": 300,\n",
    "                \"grad_clip\": None,\n",
    "                \"kl_target\": 0.01,\n",
    "                \"batch_mode\": \"truncate_episodes\",\n",
    "                \"observation_filter\": \"NoFilter\",\n",
    "                \"simple_optimizer\": False,\n",
    "                \"_fake_gpus\": False,\n",
    "#---------------------------------------------------------------------------------------\n",
    "                \"multiagent\": {\n",
    "                    \"policies\": policy_graphs,\n",
    "                    \"policy_mapping_fn\": policy_mapping_fn,\n",
    "                    \"count_steps_by\": \"env_steps\",\n",
    "                },\n",
    "                \"env\": \"WirelessEnv\",\n",
    "                \"callbacks\": PacketDeliveredCountCallback\n",
    "}"
   ]
  },
  {
   "cell_type": "code",
   "execution_count": null,
   "metadata": {},
   "outputs": [],
   "source": [
    "from ray.rllib.agents.ppo import PPOTrainer\n",
    "import ray\n",
    "import numpy as np\n",
    "\n",
    "config1={\n",
    "                \"log_level\": \"ERROR\",\n",
    "                \"num_workers\": 6,\n",
    "                \"num_cpus_for_driver\": 4,\n",
    "                \"num_cpus_per_worker\": 2,\n",
    "                \"num_gpus\": 0,\n",
    "                \"multiagent\": {\n",
    "                    \"policies\": policy_graphs,\n",
    "                    \"policy_mapping_fn\": policy_mapping_fn,\n",
    "                    \"count_steps_by\": \"env_steps\",\n",
    "                },\n",
    "                \"env\": \"WirelessEnv\",\n",
    "}\n",
    "ray.shutdown()\n",
    "ray.init()\n",
    "agent = PPOTrainer(config=config1, env=WirelessEnv)\n",
    "agent.restore(checkpoint_path)\n",
    "\n",
    "# instantiate env class\n",
    "env = WirelessEnv()\n",
    "i = 0\n",
    "# run until episode ends\n",
    "packet_delivered = []\n",
    "for itr in range(5000):\n",
    "    episode_reward = 0\n",
    "    done = {}\n",
    "    obs = env.reset()\n",
    "    while (i < 100):\n",
    "        actions = {}\n",
    "        for i in range(num_agents):\n",
    "            actions[i] = agent.compute_action(obs[i], policy_id = 'agent-' + str(i)) \n",
    "        obs, reward, done, info = env.step(actions)\n",
    "        i = i+1\n",
    "        if done['__all__']:\n",
    "            packet_delivered.append(env.get_packet_delivered_count())\n",
    "            if itr % 500 == 0:\n",
    "                print(\"pckt delivered mean :\", np.mean(packet_delivered))\n",
    "            break\n",
    "print(\"final packt delivered mean :\", np.mean(packet_delivered))"
   ]
  },
  {
   "cell_type": "code",
   "execution_count": null,
   "metadata": {},
   "outputs": [],
   "source": []
  },
  {
   "cell_type": "code",
   "execution_count": null,
   "metadata": {},
   "outputs": [],
   "source": [
    "pwd\n"
   ]
  },
  {
   "cell_type": "code",
   "execution_count": null,
   "metadata": {},
   "outputs": [],
   "source": [
    "if [ -f /home/aicon/chethan/repo/pg-aicon/wireless/code/phase_two/wmac_marl/logs/wmac_marl/PPO_WirelessEnv_fa061_00000_0_num_sgd_iter=6_2021-02-03_23-34-28/checkpoint_4167/checkpoint_4167.tune_metadata ] ; then echo \"yes\" ; else echo \"no\" ; fi"
   ]
  },
  {
   "cell_type": "code",
   "execution_count": null,
   "metadata": {},
   "outputs": [],
   "source": []
  }
 ],
 "metadata": {
  "kernelspec": {
   "display_name": "Python 3",
   "language": "python",
   "name": "python3"
  },
  "language_info": {
   "codemirror_mode": {
    "name": "ipython",
    "version": 3
   },
   "file_extension": ".py",
   "mimetype": "text/x-python",
   "name": "python",
   "nbconvert_exporter": "python",
   "pygments_lexer": "ipython3",
   "version": "3.7.9"
  }
 },
 "nbformat": 4,
 "nbformat_minor": 4
}
