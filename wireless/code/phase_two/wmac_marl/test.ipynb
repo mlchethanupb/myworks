{
 "cells": [
  {
   "cell_type": "code",
   "execution_count": 1,
   "metadata": {},
   "outputs": [
    {
     "name": "stdout",
     "output_type": "stream",
     "text": [
      "WARNING:tensorflow:From /home/aicon/anaconda3/envs/chethan/lib/python3.7/site-packages/tensorflow_core/python/compat/v2_compat.py:65: disable_resource_variables (from tensorflow.python.ops.variable_scope) is deprecated and will be removed in a future version.\n",
      "Instructions for updating:\n",
      "non-resource variables are not supported in the long term\n"
     ]
    }
   ],
   "source": [
    "from environment import WirelessEnv"
   ]
  },
  {
   "cell_type": "code",
   "execution_count": 2,
   "metadata": {},
   "outputs": [],
   "source": [
    "env = WirelessEnv()"
   ]
  },
  {
   "cell_type": "code",
   "execution_count": 3,
   "metadata": {},
   "outputs": [
    {
     "data": {
      "text/plain": [
       "MultiDiscrete([ 7  7  7  7  7  7 30 30 30 30 30 30])"
      ]
     },
     "execution_count": 3,
     "metadata": {},
     "output_type": "execute_result"
    }
   ],
   "source": [
    "env.observation_space"
   ]
  },
  {
   "cell_type": "code",
   "execution_count": 4,
   "metadata": {},
   "outputs": [
    {
     "data": {
      "text/plain": [
       "MultiDiscrete([4 6 4 6 4 4])"
      ]
     },
     "execution_count": 4,
     "metadata": {},
     "output_type": "execute_result"
    }
   ],
   "source": [
    "env.action_space"
   ]
  },
  {
   "cell_type": "code",
   "execution_count": 5,
   "metadata": {},
   "outputs": [
    {
     "name": "stdout",
     "output_type": "stream",
     "text": [
      "agent:  0 act_space Discrete(4)\n",
      "2\n",
      "agent:  1 act_space Discrete(4)\n",
      "3\n",
      "agent:  2 act_space Discrete(6)\n",
      "1\n",
      "agent:  3 act_space Discrete(6)\n",
      "0\n",
      "agent:  4 act_space Discrete(4)\n",
      "0\n",
      "agent:  5 act_space Discrete(4)\n",
      "1\n"
     ]
    }
   ],
   "source": [
    "for i in range(env.num_agents):\n",
    "    act_space = env.get_agent_action_space(i)\n",
    "    print(\"agent: \", i, \"act_space\", act_space)\n",
    "    print(act_space.sample())"
   ]
  },
  {
   "cell_type": "code",
   "execution_count": 6,
   "metadata": {},
   "outputs": [
    {
     "data": {
      "text/plain": [
       "{0: array([1, 0, 0, 1, 3, 0, 5, 5, 5, 5, 5, 5]),\n",
       " 1: array([1, 0, 0, 1, 3, 0, 5, 5, 5, 5, 5, 5]),\n",
       " 2: array([1, 0, 0, 1, 3, 0, 5, 5, 5, 5, 5, 5]),\n",
       " 3: array([1, 0, 0, 1, 3, 0, 5, 5, 5, 5, 5, 5]),\n",
       " 4: array([1, 0, 0, 1, 3, 0, 5, 5, 5, 5, 5, 5]),\n",
       " 5: array([1, 0, 0, 1, 3, 0, 5, 5, 5, 5, 5, 5])}"
      ]
     },
     "execution_count": 6,
     "metadata": {},
     "output_type": "execute_result"
    }
   ],
   "source": [
    "env.reset()"
   ]
  },
  {
   "cell_type": "code",
   "execution_count": 9,
   "metadata": {},
   "outputs": [
    {
     "data": {
      "text/plain": [
       "({0: array([1, 0, 3, 1, 3, 0, 7, 7, 2, 5, 2, 5]),\n",
       "  1: array([1, 0, 3, 1, 3, 0, 7, 7, 2, 5, 2, 5]),\n",
       "  2: array([1, 0, 3, 1, 3, 0, 7, 7, 2, 5, 2, 5]),\n",
       "  3: array([1, 0, 3, 1, 3, 0, 7, 7, 2, 5, 2, 5]),\n",
       "  4: array([1, 0, 3, 1, 3, 0, 7, 7, 2, 5, 2, 5]),\n",
       "  5: array([1, 0, 3, 1, 3, 0, 7, 7, 2, 5, 2, 5])},\n",
       " {0: 1.0, 1: 1.0, 2: 1.0, 3: 1.0, 4: 1.0, 5: 1.0},\n",
       " {0: False,\n",
       "  1: False,\n",
       "  2: False,\n",
       "  3: False,\n",
       "  4: False,\n",
       "  5: False,\n",
       "  '__all__': False},\n",
       " {0: {}, 1: {}, 2: {}, 3: {}, 4: {}, 5: {}})"
      ]
     },
     "execution_count": 9,
     "metadata": {},
     "output_type": "execute_result"
    }
   ],
   "source": [
    "#action_dict = {0:[1], 1:[2], 2:[2], 3:[4], 4:[2], 5:[3]}\n",
    "action_dict = {0:0, 1:0, 2:2, 3:3, 4:0, 5:3}\n",
    "\n",
    "env.step(action_dict)"
   ]
  },
  {
   "cell_type": "code",
   "execution_count": null,
   "metadata": {},
   "outputs": [],
   "source": []
  }
 ],
 "metadata": {
  "kernelspec": {
   "display_name": "Python 3",
   "language": "python",
   "name": "python3"
  },
  "language_info": {
   "codemirror_mode": {
    "name": "ipython",
    "version": 3
   },
   "file_extension": ".py",
   "mimetype": "text/x-python",
   "name": "python",
   "nbconvert_exporter": "python",
   "pygments_lexer": "ipython3",
   "version": "3.7.9"
  }
 },
 "nbformat": 4,
 "nbformat_minor": 4
}
