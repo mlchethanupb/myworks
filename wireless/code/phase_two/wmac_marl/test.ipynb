{
 "cells": [
  {
   "cell_type": "code",
   "execution_count": 1,
   "metadata": {},
   "outputs": [
    {
     "name": "stdout",
     "output_type": "stream",
     "text": [
      "WARNING:tensorflow:From /home/oc/anaconda3/lib/python3.7/site-packages/tensorflow_core/python/compat/v2_compat.py:68: disable_resource_variables (from tensorflow.python.ops.variable_scope) is deprecated and will be removed in a future version.\n",
      "Instructions for updating:\n",
      "non-resource variables are not supported in the long term\n"
     ]
    }
   ],
   "source": [
    "from environment import WirelessEnv"
   ]
  },
  {
   "cell_type": "code",
   "execution_count": 2,
   "metadata": {},
   "outputs": [],
   "source": [
    "env = WirelessEnv()"
   ]
  },
  {
   "cell_type": "code",
   "execution_count": 3,
   "metadata": {},
   "outputs": [
    {
     "data": {
      "text/plain": [
       "MultiDiscrete([7 7 7 7 7 7 6])"
      ]
     },
     "execution_count": 3,
     "metadata": {},
     "output_type": "execute_result"
    }
   ],
   "source": [
    "env.observation_space"
   ]
  },
  {
   "cell_type": "code",
   "execution_count": 4,
   "metadata": {},
   "outputs": [
    {
     "data": {
      "text/plain": [
       "MultiDiscrete([4 6 4 6 4 4])"
      ]
     },
     "execution_count": 4,
     "metadata": {},
     "output_type": "execute_result"
    }
   ],
   "source": [
    "env.action_space"
   ]
  },
  {
   "cell_type": "code",
   "execution_count": 5,
   "metadata": {},
   "outputs": [
    {
     "name": "stdout",
     "output_type": "stream",
     "text": [
      "agent:  0 act_space Discrete(4)\n",
      "3\n",
      "agent:  1 act_space Discrete(4)\n",
      "3\n",
      "agent:  2 act_space Discrete(6)\n",
      "4\n",
      "agent:  3 act_space Discrete(6)\n",
      "2\n",
      "agent:  4 act_space Discrete(4)\n",
      "3\n",
      "agent:  5 act_space Discrete(4)\n",
      "0\n"
     ]
    }
   ],
   "source": [
    "for i in range(env.num_agents):\n",
    "    act_space = env.get_agent_action_space(i)\n",
    "    print(\"agent: \", i, \"act_space\", act_space)\n",
    "    print(act_space.sample())"
   ]
  },
  {
   "cell_type": "code",
   "execution_count": 6,
   "metadata": {},
   "outputs": [
    {
     "data": {
      "text/plain": [
       "{0: array([1, 3, 0, 1, 6, 3, 4]),\n",
       " 1: array([1, 3, 0, 1, 6, 3, 4]),\n",
       " 2: array([1, 3, 0, 1, 6, 3, 4]),\n",
       " 3: array([1, 3, 0, 1, 6, 3, 4]),\n",
       " 4: array([1, 3, 0, 1, 6, 3, 4]),\n",
       " 5: array([1, 3, 0, 1, 6, 3, 4])}"
      ]
     },
     "execution_count": 6,
     "metadata": {},
     "output_type": "execute_result"
    }
   ],
   "source": [
    "env.reset()"
   ]
  },
  {
   "cell_type": "code",
   "execution_count": 7,
   "metadata": {},
   "outputs": [
    {
     "name": "stdout",
     "output_type": "stream",
     "text": [
      "node, action_list, index, actions 0 [0, 1, 2, 3] 0 [1, 2, 2, 4, 2, 3]\n",
      "node, action_list, index, actions 2 [0, 1, 2, 3, 4, 5] 1 [1, 2, 2, 4, 2, 3]\n",
      "node, action_list, index, actions 1 [0, 1, 2, 3] 2 [1, 2, 2, 4, 2, 3]\n",
      "node, action_list, index, actions 3 [0, 1, 2, 3, 4, 5] 3 [1, 2, 2, 4, 2, 3]\n",
      "node, action_list, index, actions 4 [2, 3, 4, 5] 4 [1, 2, 2, 4, 2, 3]\n",
      "node, action_list, index, actions 5 [2, 3, 4, 5] 5 [1, 2, 2, 4, 2, 3]\n"
     ]
    },
    {
     "data": {
      "text/plain": [
       "({0: array([5, 3, 0, 2, 6, 3, 4]),\n",
       "  1: array([5, 3, 0, 2, 6, 3, 4]),\n",
       "  2: array([5, 3, 0, 2, 6, 3, 4]),\n",
       "  3: array([5, 3, 0, 2, 6, 3, 4]),\n",
       "  4: array([5, 3, 0, 2, 6, 3, 4]),\n",
       "  5: array([5, 3, 0, 2, 6, 3, 4])},\n",
       " {0: -210, 1: -210, 2: -210, 3: -210, 4: -210, 5: -210},\n",
       " {0: False, 1: False, 2: False, 3: False, 4: True, 5: False, '__all__': False},\n",
       " {0: {}, 1: {}, 2: {}, 3: {}, 4: {}, 5: {}})"
      ]
     },
     "execution_count": 7,
     "metadata": {},
     "output_type": "execute_result"
    }
   ],
   "source": [
    "action_dict = {0:[1],1:[2],2:[2],3:[4],4:[2],5:[3]}\n",
    "env.step(action_dict)"
   ]
  },
  {
   "cell_type": "code",
   "execution_count": null,
   "metadata": {},
   "outputs": [],
   "source": []
  }
 ],
 "metadata": {
  "kernelspec": {
   "display_name": "Python 3",
   "language": "python",
   "name": "python3"
  },
  "language_info": {
   "codemirror_mode": {
    "name": "ipython",
    "version": 3
   },
   "file_extension": ".py",
   "mimetype": "text/x-python",
   "name": "python",
   "nbconvert_exporter": "python",
   "pygments_lexer": "ipython3",
   "version": "3.7.6"
  }
 },
 "nbformat": 4,
 "nbformat_minor": 4
}
