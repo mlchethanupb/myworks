{
 "cells": [
  {
   "cell_type": "code",
   "execution_count": null,
   "metadata": {},
   "outputs": [],
   "source": [
    "from stable_baselines.common.policies import MlpPolicy\n",
    "from stable_baselines.common import make_vec_env\n",
    "from stable_baselines import A2C\n",
    "from stable_baselines.common.env_checker import check_env"
   ]
  },
  {
   "cell_type": "code",
   "execution_count": null,
   "metadata": {},
   "outputs": [],
   "source": [
    "import gym\n",
    "import w_mac\n",
    "from collections import defaultdict\n",
    "import matplotlib as plt\n",
    "import networkx as nx\n",
    "import dill\n",
    "from ray import tune\n",
    "from ray.tune.suggest.ax import AxSearch"
   ]
  },
  {
   "cell_type": "code",
   "execution_count": null,
   "metadata": {},
   "outputs": [],
   "source": [
    "import os\n",
    "import argparse\n",
    "import logging\n",
    "import dill\n",
    "import networkx as nx\n",
    "from copy import deepcopy\n",
    "from ax.service.ax_client import AxClient\n",
    "import ray\n",
    "from ray import tune\n",
    "from ray.tune import report\n",
    "from ray.tune.suggest.ax import AxSearch\n",
    "# from flowsim.environment.network import Network\n",
    "# from flowsim.environment.hopcount_env import HopCountEnv\n",
    "# from flowsim.environment.delay_env import NetworkDelayEnv\n",
    "# from flowsim.tuning.monitor import OptimizationCallback\n",
    "from stable_baselines import A2C\n",
    "from stable_baselines.common.env_checker import check_env\n",
    "# from stable_baselines.common.monitor import Monitor\n",
    "from stable_baselines.common.callbacks import EveryNTimesteps\n",
    "from w_mac.envs.w_mac_env import W_MAC_Env\n",
    "# from w_mac.envs.monitor import OptimizationCallback\n",
    "from stable_baselines.common.evaluation import evaluate_policy\n",
    "from ray.tune.registry import register_env"
   ]
  },
  {
   "cell_type": "code",
   "execution_count": null,
   "metadata": {},
   "outputs": [],
   "source": [
    "env = gym.make('wmac-tune-v0') #env without passing graph\n",
    "# env.reset()"
   ]
  },
  {
   "cell_type": "code",
   "execution_count": null,
   "metadata": {},
   "outputs": [],
   "source": [
    "# check_env(env)"
   ]
  },
  {
   "cell_type": "code",
   "execution_count": null,
   "metadata": {},
   "outputs": [],
   "source": [
    "assert(dill.pickles(env))"
   ]
  },
  {
   "cell_type": "code",
   "execution_count": null,
   "metadata": {},
   "outputs": [],
   "source": [
    "# error - TypeError: __init__() takes 1 positional argument but 2 were given\n",
    "\n",
    "\n",
    "# config = {\n",
    "#     \"env\": deepcopy(W_MAC_Env),\n",
    "#     \"num_workers\": 2,\n",
    "#     # \"vf_share_layers\": tune.grid_search([True, False]),\n",
    "#     \"lr\": tune.grid_search([1e-4, 1e-5, 1e-6]),\n",
    "#     }\n",
    "# register_env(\"testenv\", lambda config: TestEnv(config)\n",
    "\n",
    "# results = tune.run(\n",
    "#     'A2C', \n",
    "#     stop={\n",
    "#         'timesteps_total': 100000\n",
    "#     },\n",
    "#     config=config)\n",
    "\n",
    "\n",
    "ray.shutdown()\n",
    "ray.init()\n",
    "register_env(\"wmac-tune-v0\", lambda config: W_MAC_Env)\n",
    "tune.run(\n",
    "    \"A2C\",\n",
    "    config={\n",
    "        \"env\": 'wmac-tune-v0'\n",
    "        # \"num_workers\": 2\n",
    "    }\n",
    ")"
   ]
  },
  {
   "cell_type": "code",
   "execution_count": null,
   "metadata": {},
   "outputs": [],
   "source": [
    "ray.init(ignore_reinit_error=True)\n",
    "register_env(\"wmac-tune-v0\", lambda config: W_MAC_Env(config))\n",
    "config = {\n",
    "    \"env\": 'wmac-tune-v0',\n",
    "    # \"num_workers\": 2,\n",
    "    # \"vf_share_layers\": tune.grid_search([True, False]),\n",
    "    \"lr\": tune.grid_search([1e-4, 1e-5, 1e-6]),\n",
    "    }\n",
    "\n",
    "stop = {'timesteps_total': 10000\n",
    "}\n",
    "results = tune.run(\n",
    "    'A2C', \n",
    "    \n",
    "    config=config,\n",
    "    stop = stop\n",
    "    )"
   ]
  },
  {
   "cell_type": "code",
   "execution_count": null,
   "metadata": {},
   "outputs": [],
   "source": [
    "dill.pickles(env)"
   ]
  },
  {
   "cell_type": "code",
   "execution_count": null,
   "metadata": {},
   "outputs": [],
   "source": [
    "RAY_TUNE_SAMPLES = 48\n",
    "EVAL_EPISODES = 5\n",
    "TOTAL_TIMESTEPS = 10000"
   ]
  },
  {
   "cell_type": "code",
   "execution_count": null,
   "metadata": {},
   "outputs": [],
   "source": [
    "model = W_MAC_Env()"
   ]
  },
  {
   "cell_type": "code",
   "execution_count": null,
   "metadata": {},
   "outputs": [],
   "source": []
  },
  {
   "cell_type": "code",
   "execution_count": null,
   "metadata": {},
   "outputs": [],
   "source": []
  },
  {
   "cell_type": "code",
   "execution_count": null,
   "metadata": {},
   "outputs": [],
   "source": [
    "# haitham's example, unregister env error\n",
    "ray.shutdown()\n",
    "ray.init()\n",
    "tune.run(\n",
    "    \"A2C\",\n",
    "    stop={\"episode_reward_mean\": 200},\n",
    "    config={\n",
    "        \"env\": 'wmac-tune-v0',\n",
    "        \"num_gpus\": 0,\n",
    "        # \"num_workers\": 1,\n",
    "        \"lr\": tune.grid_search([0.01, 0.001, 0.0001]),\n",
    "    },)\n"
   ]
  },
  {
   "cell_type": "code",
   "execution_count": null,
   "metadata": {},
   "outputs": [],
   "source": [
    "#without search agent, pickling error\n",
    "def evaluate_objective(config):\n",
    "    tune_env = deepcopy(model)\n",
    "    \n",
    "    tune_agent = A2C(\"MlpPolicy\", tune_env, **config)\n",
    "    tune_agent.learn(total_timesteps=1000)\n",
    "    episode_rewards, episode_lengths = evaluate_policy(tune_agent, tune_env,\n",
    "                                                           5,\n",
    "                                                           render=False,\n",
    "                                                           deterministic=deterministic,\n",
    "                                                           return_episode_rewards=True)\n",
    "    episode_reward_mean, std_reward = np.mean(\n",
    "            episode_rewards), np.std(episode_rewards)\n",
    "    mean_ep_length, std_ep_length = np.mean(\n",
    "            episode_lengths), np.std(episode_lengths)\n",
    "    \n",
    "    tune.report(episode_reward_mean=episode_reward_mean,\n",
    "            std_reward=std_reward,\n",
    "            mean_ep_length=mean_ep_length,\n",
    "            std_ep_length=std_ep_length)\n",
    "\n",
    "analysis = tune.run(evaluate_objective, metric='episode_reward_mean', mode='max')\n",
    "best_trial = analysis.best_trial\n",
    "best_config = analysis.best_config\n",
    "print(best_trial, best_config)\n",
    "\n",
    "   \n"
   ]
  },
  {
   "cell_type": "code",
   "execution_count": null,
   "metadata": {},
   "outputs": [],
   "source": [
    "from stable_baselines.common.evaluation import evaluate_policy\n"
   ]
  },
  {
   "cell_type": "code",
   "execution_count": null,
   "metadata": {},
   "outputs": [],
   "source": [
    "#register env and tune run\n",
    "tune.register_trainable(\"wmac-tune-v0\", w_mac.envs.w_mac_env.W_MAC_Env)\n",
    "ray.init()\n",
    "\n",
    "tune.run_experiments({\n",
    "    \"my_experiment\": {\n",
    "        \"run\": 'wmac-tune-v0',\n",
    "        \"stop\": { \"mean_accuracy\": 100 },\n",
    "        \"config\": {\n",
    "            \"alpha\": tune.grid_search([0.2, 0.4, 0.6]),\n",
    "            \"beta\": tune.grid_search([1, 2]),\n",
    "        }\n",
    "    }\n",
    "})"
   ]
  },
  {
   "cell_type": "code",
   "execution_count": null,
   "metadata": {},
   "outputs": [],
   "source": []
  }
 ],
 "metadata": {
  "kernelspec": {
   "display_name": "Python 3",
   "language": "python",
   "name": "python3"
  },
  "language_info": {
   "codemirror_mode": {
    "name": "ipython",
    "version": 3
   },
   "file_extension": ".py",
   "mimetype": "text/x-python",
   "name": "python",
   "nbconvert_exporter": "python",
   "pygments_lexer": "ipython3",
   "version": "3.7.7"
  }
 },
 "nbformat": 4,
 "nbformat_minor": 4
}
