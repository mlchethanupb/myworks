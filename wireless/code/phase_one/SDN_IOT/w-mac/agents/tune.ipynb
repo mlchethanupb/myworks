{
 "cells": [
  {
   "cell_type": "code",
   "execution_count": 1,
   "metadata": {},
   "outputs": [
    {
     "name": "stdout",
     "output_type": "stream",
     "text": [
      "WARNING:tensorflow:\n",
      "The TensorFlow contrib module will not be included in TensorFlow 2.0.\n",
      "For more information, please see:\n",
      "  * https://github.com/tensorflow/community/blob/master/rfcs/20180907-contrib-sunset.md\n",
      "  * https://github.com/tensorflow/addons\n",
      "  * https://github.com/tensorflow/io (for I/O related ops)\n",
      "If you depend on functionality not listed there, please file an issue.\n",
      "\n"
     ]
    }
   ],
   "source": [
    "from stable_baselines.common.policies import MlpPolicy\n",
    "from stable_baselines.common import make_vec_env\n",
    "from stable_baselines import A2C\n",
    "from stable_baselines.common.env_checker import check_env\n",
    "from stable_baselines.common.evaluation import evaluate_policy\n",
    "from stable_baselines.common.evaluation import evaluate_policy\n",
    "import tensorflow as tf\n",
    "from stable_baselines.common.callbacks import BaseCallback\n",
    "from stable_baselines.bench.monitor import Monitor\n",
    "from stable_baselines.common.callbacks import EveryNTimesteps"
   ]
  },
  {
   "cell_type": "code",
   "execution_count": 2,
   "metadata": {},
   "outputs": [],
   "source": [
    "import gym\n",
    "import w_mac\n",
    "from collections import defaultdict\n",
    "import matplotlib as plt\n",
    "import networkx as nx\n",
    "import dill\n",
    "from copy import deepcopy\n",
    "from ray import tune"
   ]
  },
  {
   "cell_type": "code",
   "execution_count": 3,
   "metadata": {},
   "outputs": [
    {
     "name": "stdout",
     "output_type": "stream",
     "text": [
      "defaultdict(<class 'list'>, {0: [2, 1, 3], 1: [2, 3], 2: [3, 4], 3: [4], 5: [2, 3, 4]})\n"
     ]
    },
    {
     "data": {
      "image/png": "[encoded data removed]",
      "text/plain": [
       "<Figure size 432x288 with 1 Axes>"
      ]
     },
     "metadata": {},
     "output_type": "display_data"
    }
   ],
   "source": [
    "\n",
    "# data = [(0,2),(0,1),(1,2),(2,3),(2,4),(3,4)]\n",
    "#data = [(0,2),(0,1),(0,3),(1,2),(1,3),(2,3),(2,4),(3,4),(5,2),(5,3),(5,4),(5,6),(6,7),(6,8),(7,8),(8,9),(9,10),(4,10)]#(4,6),(5,10),(6,10),(9,6),(8,10)]\n",
    "d = defaultdict(list)\n",
    "data = [(0,2),(0,1),(0,3),(1,2),(1,3),(2,3),(2,4),(3,4),(5,2),(5,3),(5,4)]\n",
    "for node, dest in data:\n",
    "    d[node].append(dest)\n",
    "print(d)\n",
    "\n",
    "G = nx.Graph()\n",
    "for k,v in d.items():\n",
    "    for vv in v:\n",
    "        G.add_edge(k,vv)\n",
    "nx.draw_networkx(G)"
   ]
  },
  {
   "cell_type": "code",
   "execution_count": 4,
   "metadata": {},
   "outputs": [
    {
     "data": {
      "text/plain": [
       "array([5, 0, 6, 5, 3, 3, 1])"
      ]
     },
     "execution_count": 4,
     "metadata": {},
     "output_type": "execute_result"
    }
   ],
   "source": [
    "env = gym.make('wmac-graph-v0',graph=G)\n",
    "#env = gym.make('wmac-tune-v0')\n",
    "env.reset()"
   ]
  },
  {
   "cell_type": "code",
   "execution_count": 5,
   "metadata": {},
   "outputs": [],
   "source": [
    "check_env(env)"
   ]
  },
  {
   "cell_type": "code",
   "execution_count": 6,
   "metadata": {},
   "outputs": [],
   "source": [
    "assert(dill.pickles(env))"
   ]
  },
  {
   "cell_type": "code",
   "execution_count": 7,
   "metadata": {},
   "outputs": [
    {
     "data": {
      "text/plain": [
       "'\\ndef evaluate_objective(config):\\n    tune_env = deepcopy(env)\\n    tune_agent = A2C(\"MlpPolicy\", tune_env, learning_rate= config[\"lr\"] )\\n    tune_agent.learn(total_timesteps=10)\\n    \\n    mean_reward, std_reward = evaluate_policy(tune_agent, env, n_eval_episodes=10, render=False,\\n                                                           deterministic=True,\\n                                                           return_episode_rewards=False)\\n    print(\"mr\",mean_reward,\"sd\", std_reward)\\n    tune.report(mean_reward=mean_reward)\\n'"
      ]
     },
     "execution_count": 7,
     "metadata": {},
     "output_type": "execute_result"
    }
   ],
   "source": [
    "\"\"\"\n",
    "def evaluate_objective(config):\n",
    "    tune_env = deepcopy(env)\n",
    "    tune_agent = A2C(\"MlpPolicy\", tune_env, learning_rate= config[\"lr\"] )\n",
    "    tune_agent.learn(total_timesteps=10)\n",
    "    \n",
    "    mean_reward, std_reward = evaluate_policy(tune_agent, env, n_eval_episodes=10, render=False,\n",
    "                                                           deterministic=True,\n",
    "                                                           return_episode_rewards=False)\n",
    "    print(\"mr\",mean_reward,\"sd\", std_reward)\n",
    "    tune.report(mean_reward=mean_reward)\n",
    "\"\"\""
   ]
  },
  {
   "cell_type": "code",
   "execution_count": 8,
   "metadata": {},
   "outputs": [],
   "source": [
    "import numpy as np\n",
    "from typing import Union\n",
    "from ray.tune import report\n",
    "from stable_baselines.common.evaluation import evaluate_policy\n",
    "from stable_baselines.common.vec_env import DummyVecEnv, VecEnv, sync_envs_normalization\n",
    "\n",
    "class OptimizationCallback(BaseCallback):\n",
    "\n",
    "    def __init__(self, eval_env: Union[gym.Env, VecEnv],\n",
    "                 n_eval_episodes: int = 5,\n",
    "                 deterministic: bool = True,\n",
    "                 verbose=0):\n",
    "        super(OptimizationCallback, self).__init__(verbose)\n",
    "        self.eval_env = deepcopy(eval_env)\n",
    "        self.eval_env.reset()\n",
    "        self.n_eval_episodes = n_eval_episodes\n",
    "        self.deterministic = deterministic\n",
    "\n",
    "    def _on_step(self):\n",
    "        #sync_envs_normalization(self.training_env, self.eval_env)\n",
    "\n",
    "        episode_rewards, episode_lengths = evaluate_policy(self.model, self.eval_env,\n",
    "                                                           n_eval_episodes=self.n_eval_episodes,\n",
    "                                                           render=False,\n",
    "                                                           deterministic=self.deterministic,\n",
    "                                                           return_episode_rewards=True)\n",
    "\n",
    "        mean_reward= np.mean(episode_rewards)\n",
    "        mean_ep_length = np.mean(episode_lengths)\n",
    "        packet_lost = self.eval_env.get_packet_lost()\n",
    "\n",
    "        report(\n",
    "            mean_reward=mean_reward,\n",
    "            mean_ep_length=mean_ep_length,\n",
    "            packet_lost = packet_lost\n",
    "        )"
   ]
  },
  {
   "cell_type": "code",
   "execution_count": 9,
   "metadata": {},
   "outputs": [
    {
     "data": {
      "text/plain": [
       "'\\nimport ray\\n\\nobject_store_memory = int(0.3 * ray.utils.get_system_memory() // 10 ** 9 * 10 ** 9)\\nray.init(\\n            ignore_reinit_error=True,\\n            num_cpus = 10,\\n            local_mode = True,\\n            _plasma_directory=\"/tmp\",\\n            object_store_memory=object_store_memory,\\n        )\\n'"
      ]
     },
     "execution_count": 9,
     "metadata": {},
     "output_type": "execute_result"
    }
   ],
   "source": [
    "\"\"\"\n",
    "import ray\n",
    "\n",
    "object_store_memory = int(0.3 * ray.utils.get_system_memory() // 10 ** 9 * 10 ** 9)\n",
    "ray.init(\n",
    "            ignore_reinit_error=True,\n",
    "            num_cpus = 10,\n",
    "            local_mode = True,\n",
    "            _plasma_directory=\"/tmp\",\n",
    "            object_store_memory=object_store_memory,\n",
    "        )\n",
    "\"\"\""
   ]
  },
  {
   "cell_type": "code",
   "execution_count": 10,
   "metadata": {
    "scrolled": true
   },
   "outputs": [
    {
     "name": "stderr",
     "output_type": "stream",
     "text": [
      "[INFO 12-15 23:13:32] ax.service.ax_client: Starting optimization with verbose logging. To disable logging, set the `verbose_logging` argument to `False`. Note that float values in the logs are rounded to 2 decimal points.\n",
      "[INFO 12-15 23:13:32] ax.service.utils.instantiation: Inferred value type of ParameterType.FLOAT for parameter learning_rate. If that is not the expected value type, you can explicity specify 'value_type' ('int', 'float', 'bool' or 'str') in parameter dict.\n",
      "[INFO 12-15 23:13:32] ax.service.utils.instantiation: Inferred value type of ParameterType.FLOAT for parameter gamma. If that is not the expected value type, you can explicity specify 'value_type' ('int', 'float', 'bool' or 'str') in parameter dict.\n",
      "[INFO 12-15 23:13:32] ax.service.utils.instantiation: Inferred value type of ParameterType.FLOAT for parameter max_grad_norm. If that is not the expected value type, you can explicity specify 'value_type' ('int', 'float', 'bool' or 'str') in parameter dict.\n",
      "[INFO 12-15 23:13:32] ax.modelbridge.dispatch_utils: Using Bayesian Optimization generation strategy: GenerationStrategy(name='Sobol+GPEI', steps=[Sobol for 5 trials, GPEI for subsequent trials]). Iterations after 5 will take longer to generate due to  model-fitting.\n",
      "2020-12-15 23:13:32,760\tINFO services.py:1166 -- View the Ray dashboard at \u001b[1m\u001b[32mhttp://127.0.0.1:8265\u001b[39m\u001b[22m\n",
      "2020-12-15 23:13:33,889\tWARNING function_runner.py:486 -- Function checkpointing is disabled. This may result in unexpected behavior when using checkpointing features or certain schedulers. To enable, set the train function arguments to be `func(config, checkpoint_dir=None)`.\n",
      "[INFO 12-15 23:13:33] ax.service.ax_client: Generated new trial 0 with parameters {'learning_rate': 0.0, 'gamma': 0.99, 'max_grad_norm': 3.15}.\n",
      "[INFO 12-15 23:13:33] ax.service.ax_client: Generated new trial 1 with parameters {'learning_rate': 0.0, 'gamma': 0.99, 'max_grad_norm': 4.45}.\n",
      "[INFO 12-15 23:13:33] ax.service.ax_client: Generated new trial 2 with parameters {'learning_rate': 0.0, 'gamma': 1.0, 'max_grad_norm': 0.89}.\n",
      "[INFO 12-15 23:13:34] ax.service.ax_client: Generated new trial 3 with parameters {'learning_rate': 0.0, 'gamma': 1.0, 'max_grad_norm': 1.35}.\n",
      "[INFO 12-15 23:13:34] ax.service.ax_client: Generated new trial 4 with parameters {'learning_rate': 0.0, 'gamma': 0.99, 'max_grad_norm': 2.35}.\n",
      "2020-12-15 23:13:34,087\tWARNING suggestion.py:240 -- save not implemented for Searcher. Skipping save.\n"
     ]
    },
    {
     "data": {
      "text/html": [
       "== Status ==<br>Memory usage on this node: 7.1/31.4 GiB<br>Using AsyncHyperBand: num_stopped=0\n",
       "Bracket: Iter 90.000: None | Iter 30.000: None | Iter 10.000: None<br>Resources requested: 8/16 CPUs, 0/0 GPUs, 0.0/15.14 GiB heap, 0.0/5.22 GiB objects<br>Result logdir: /home/aicon/ray_results/evaluate_objective<br>Number of trials: 5 (4 PENDING, 1 RUNNING)<br><table>\n",
       "<thead>\n",
       "<tr><th>Trial name                 </th><th>status  </th><th>loc  </th><th style=\"text-align: right;\">   gamma</th><th style=\"text-align: right;\">  learning_rate</th><th style=\"text-align: right;\">  max_grad_norm</th></tr>\n",
       "</thead>\n",
       "<tbody>\n",
       "<tr><td>evaluate_objective_c575fb02</td><td>RUNNING </td><td>     </td><td style=\"text-align: right;\">0.990228</td><td style=\"text-align: right;\">    0.00064491 </td><td style=\"text-align: right;\">       3.14781 </td></tr>\n",
       "<tr><td>evaluate_objective_c575fb03</td><td>PENDING </td><td>     </td><td style=\"text-align: right;\">0.992424</td><td style=\"text-align: right;\">    0.000166578</td><td style=\"text-align: right;\">       4.45429 </td></tr>\n",
       "<tr><td>evaluate_objective_c575fb04</td><td>PENDING </td><td>     </td><td style=\"text-align: right;\">0.998132</td><td style=\"text-align: right;\">    0.0026539  </td><td style=\"text-align: right;\">       0.891429</td></tr>\n",
       "<tr><td>evaluate_objective_c575fb05</td><td>PENDING </td><td>     </td><td style=\"text-align: right;\">0.995314</td><td style=\"text-align: right;\">    0.000825845</td><td style=\"text-align: right;\">       1.34788 </td></tr>\n",
       "<tr><td>evaluate_objective_c575fb06</td><td>PENDING </td><td>     </td><td style=\"text-align: right;\">0.99127 </td><td style=\"text-align: right;\">    0.00239913 </td><td style=\"text-align: right;\">       2.35207 </td></tr>\n",
       "</tbody>\n",
       "</table><br><br>"
      ],
      "text/plain": [
       "<IPython.core.display.HTML object>"
      ]
     },
     "metadata": {},
     "output_type": "display_data"
    },
    {
     "name": "stderr",
     "output_type": "stream",
     "text": [
      "\u001b[2m\u001b[36m(pid=26224)\u001b[0m WARNING:tensorflow:\n",
      "\u001b[2m\u001b[36m(pid=26224)\u001b[0m The TensorFlow contrib module will not be included in TensorFlow 2.0.\n",
      "\u001b[2m\u001b[36m(pid=26224)\u001b[0m For more information, please see:\n",
      "\u001b[2m\u001b[36m(pid=26224)\u001b[0m   * https://github.com/tensorflow/community/blob/master/rfcs/20180907-contrib-sunset.md\n",
      "\u001b[2m\u001b[36m(pid=26224)\u001b[0m   * https://github.com/tensorflow/addons\n",
      "\u001b[2m\u001b[36m(pid=26224)\u001b[0m   * https://github.com/tensorflow/io (for I/O related ops)\n",
      "\u001b[2m\u001b[36m(pid=26224)\u001b[0m If you depend on functionality not listed there, please file an issue.\n",
      "\u001b[2m\u001b[36m(pid=26224)\u001b[0m \n",
      "\u001b[2m\u001b[36m(pid=26235)\u001b[0m WARNING:tensorflow:\n",
      "\u001b[2m\u001b[36m(pid=26235)\u001b[0m The TensorFlow contrib module will not be included in TensorFlow 2.0.\n",
      "\u001b[2m\u001b[36m(pid=26235)\u001b[0m For more information, please see:\n",
      "\u001b[2m\u001b[36m(pid=26235)\u001b[0m   * https://github.com/tensorflow/community/blob/master/rfcs/20180907-contrib-sunset.md\n",
      "\u001b[2m\u001b[36m(pid=26235)\u001b[0m   * https://github.com/tensorflow/addons\n",
      "\u001b[2m\u001b[36m(pid=26235)\u001b[0m   * https://github.com/tensorflow/io (for I/O related ops)\n",
      "\u001b[2m\u001b[36m(pid=26235)\u001b[0m If you depend on functionality not listed there, please file an issue.\n",
      "\u001b[2m\u001b[36m(pid=26235)\u001b[0m \n",
      "\u001b[2m\u001b[36m(pid=26235)\u001b[0m WARNING:tensorflow:From /home/aicon/anaconda3/envs/tuning/lib/python3.7/site-packages/stable_baselines/common/tf_util.py:191: The name tf.ConfigProto is deprecated. Please use tf.compat.v1.ConfigProto instead.\n",
      "\u001b[2m\u001b[36m(pid=26235)\u001b[0m \n",
      "\u001b[2m\u001b[36m(pid=26235)\u001b[0m WARNING:tensorflow:From /home/aicon/anaconda3/envs/tuning/lib/python3.7/site-packages/stable_baselines/common/tf_util.py:191: The name tf.ConfigProto is deprecated. Please use tf.compat.v1.ConfigProto instead.\n",
      "\u001b[2m\u001b[36m(pid=26235)\u001b[0m \n",
      "\u001b[2m\u001b[36m(pid=26235)\u001b[0m WARNING:tensorflow:From /home/aicon/anaconda3/envs/tuning/lib/python3.7/site-packages/stable_baselines/common/tf_util.py:200: The name tf.Session is deprecated. Please use tf.compat.v1.Session instead.\n",
      "\u001b[2m\u001b[36m(pid=26235)\u001b[0m \n",
      "\u001b[2m\u001b[36m(pid=26235)\u001b[0m WARNING:tensorflow:From /home/aicon/anaconda3/envs/tuning/lib/python3.7/site-packages/stable_baselines/common/tf_util.py:200: The name tf.Session is deprecated. Please use tf.compat.v1.Session instead.\n",
      "\u001b[2m\u001b[36m(pid=26235)\u001b[0m \n",
      "\u001b[2m\u001b[36m(pid=26235)\u001b[0m WARNING:tensorflow:From /home/aicon/anaconda3/envs/tuning/lib/python3.7/site-packages/stable_baselines/common/policies.py:116: The name tf.variable_scope is deprecated. Please use tf.compat.v1.variable_scope instead.\n",
      "\u001b[2m\u001b[36m(pid=26235)\u001b[0m \n",
      "\u001b[2m\u001b[36m(pid=26235)\u001b[0m WARNING:tensorflow:From /home/aicon/anaconda3/envs/tuning/lib/python3.7/site-packages/stable_baselines/common/policies.py:116: The name tf.variable_scope is deprecated. Please use tf.compat.v1.variable_scope instead.\n",
      "\u001b[2m\u001b[36m(pid=26235)\u001b[0m \n",
      "\u001b[2m\u001b[36m(pid=26235)\u001b[0m WARNING:tensorflow:From /home/aicon/anaconda3/envs/tuning/lib/python3.7/site-packages/stable_baselines/common/input.py:42: The name tf.placeholder is deprecated. Please use tf.compat.v1.placeholder instead.\n",
      "\u001b[2m\u001b[36m(pid=26235)\u001b[0m \n",
      "\u001b[2m\u001b[36m(pid=26235)\u001b[0m WARNING:tensorflow:From /home/aicon/anaconda3/envs/tuning/lib/python3.7/site-packages/stable_baselines/common/input.py:42: The name tf.placeholder is deprecated. Please use tf.compat.v1.placeholder instead.\n",
      "\u001b[2m\u001b[36m(pid=26235)\u001b[0m \n",
      "\u001b[2m\u001b[36m(pid=26235)\u001b[0m WARNING:tensorflow:From /home/aicon/anaconda3/envs/tuning/lib/python3.7/site-packages/stable_baselines/common/policies.py:561: flatten (from tensorflow.python.layers.core) is deprecated and will be removed in a future version.\n",
      "\u001b[2m\u001b[36m(pid=26235)\u001b[0m Instructions for updating:\n",
      "\u001b[2m\u001b[36m(pid=26235)\u001b[0m Use keras.layers.flatten instead.\n",
      "\u001b[2m\u001b[36m(pid=26235)\u001b[0m WARNING:tensorflow:From /home/aicon/anaconda3/envs/tuning/lib/python3.7/site-packages/stable_baselines/common/policies.py:561: flatten (from tensorflow.python.layers.core) is deprecated and will be removed in a future version.\n",
      "\u001b[2m\u001b[36m(pid=26235)\u001b[0m Instructions for updating:\n",
      "\u001b[2m\u001b[36m(pid=26235)\u001b[0m Use keras.layers.flatten instead.\n",
      "\u001b[2m\u001b[36m(pid=26235)\u001b[0m WARNING:tensorflow:From /home/aicon/anaconda3/envs/tuning/lib/python3.7/site-packages/tensorflow_core/python/layers/core.py:332: Layer.apply (from tensorflow.python.keras.engine.base_layer) is deprecated and will be removed in a future version.\n",
      "\u001b[2m\u001b[36m(pid=26235)\u001b[0m Instructions for updating:\n",
      "\u001b[2m\u001b[36m(pid=26235)\u001b[0m Please use `layer.__call__` method instead.\n",
      "\u001b[2m\u001b[36m(pid=26235)\u001b[0m WARNING:tensorflow:From /home/aicon/anaconda3/envs/tuning/lib/python3.7/site-packages/tensorflow_core/python/layers/core.py:332: Layer.apply (from tensorflow.python.keras.engine.base_layer) is deprecated and will be removed in a future version.\n",
      "\u001b[2m\u001b[36m(pid=26235)\u001b[0m Instructions for updating:\n",
      "\u001b[2m\u001b[36m(pid=26235)\u001b[0m Please use `layer.__call__` method instead.\n",
      "\u001b[2m\u001b[36m(pid=26235)\u001b[0m WARNING:tensorflow:From /home/aicon/anaconda3/envs/tuning/lib/python3.7/site-packages/stable_baselines/common/tf_layers.py:123: The name tf.get_variable is deprecated. Please use tf.compat.v1.get_variable instead.\n",
      "\u001b[2m\u001b[36m(pid=26235)\u001b[0m \n",
      "\u001b[2m\u001b[36m(pid=26235)\u001b[0m WARNING:tensorflow:From /home/aicon/anaconda3/envs/tuning/lib/python3.7/site-packages/stable_baselines/common/tf_layers.py:123: The name tf.get_variable is deprecated. Please use tf.compat.v1.get_variable instead.\n",
      "\u001b[2m\u001b[36m(pid=26235)\u001b[0m \n",
      "\u001b[2m\u001b[36m(pid=26224)\u001b[0m WARNING:tensorflow:From /home/aicon/anaconda3/envs/tuning/lib/python3.7/site-packages/stable_baselines/common/tf_util.py:191: The name tf.ConfigProto is deprecated. Please use tf.compat.v1.ConfigProto instead.\n",
      "\u001b[2m\u001b[36m(pid=26224)\u001b[0m \n",
      "\u001b[2m\u001b[36m(pid=26224)\u001b[0m WARNING:tensorflow:From /home/aicon/anaconda3/envs/tuning/lib/python3.7/site-packages/stable_baselines/common/tf_util.py:191: The name tf.ConfigProto is deprecated. Please use tf.compat.v1.ConfigProto instead.\n",
      "\u001b[2m\u001b[36m(pid=26224)\u001b[0m \n",
      "\u001b[2m\u001b[36m(pid=26224)\u001b[0m WARNING:tensorflow:From /home/aicon/anaconda3/envs/tuning/lib/python3.7/site-packages/stable_baselines/common/tf_util.py:200: The name tf.Session is deprecated. Please use tf.compat.v1.Session instead.\n",
      "\u001b[2m\u001b[36m(pid=26224)\u001b[0m \n",
      "\u001b[2m\u001b[36m(pid=26224)\u001b[0m WARNING:tensorflow:From /home/aicon/anaconda3/envs/tuning/lib/python3.7/site-packages/stable_baselines/common/tf_util.py:200: The name tf.Session is deprecated. Please use tf.compat.v1.Session instead.\n",
      "\u001b[2m\u001b[36m(pid=26224)\u001b[0m \n",
      "\u001b[2m\u001b[36m(pid=26224)\u001b[0m WARNING:tensorflow:From /home/aicon/anaconda3/envs/tuning/lib/python3.7/site-packages/stable_baselines/common/policies.py:116: The name tf.variable_scope is deprecated. Please use tf.compat.v1.variable_scope instead.\n",
      "\u001b[2m\u001b[36m(pid=26224)\u001b[0m \n",
      "\u001b[2m\u001b[36m(pid=26224)\u001b[0m WARNING:tensorflow:From /home/aicon/anaconda3/envs/tuning/lib/python3.7/site-packages/stable_baselines/common/policies.py:116: The name tf.variable_scope is deprecated. Please use tf.compat.v1.variable_scope instead.\n",
      "\u001b[2m\u001b[36m(pid=26224)\u001b[0m \n",
      "\u001b[2m\u001b[36m(pid=26224)\u001b[0m WARNING:tensorflow:From /home/aicon/anaconda3/envs/tuning/lib/python3.7/site-packages/stable_baselines/common/input.py:42: The name tf.placeholder is deprecated. Please use tf.compat.v1.placeholder instead.\n",
      "\u001b[2m\u001b[36m(pid=26224)\u001b[0m \n",
      "\u001b[2m\u001b[36m(pid=26224)\u001b[0m WARNING:tensorflow:From /home/aicon/anaconda3/envs/tuning/lib/python3.7/site-packages/stable_baselines/common/input.py:42: The name tf.placeholder is deprecated. Please use tf.compat.v1.placeholder instead.\n",
      "\u001b[2m\u001b[36m(pid=26224)\u001b[0m \n",
      "\u001b[2m\u001b[36m(pid=26224)\u001b[0m WARNING:tensorflow:From /home/aicon/anaconda3/envs/tuning/lib/python3.7/site-packages/stable_baselines/common/policies.py:561: flatten (from tensorflow.python.layers.core) is deprecated and will be removed in a future version.\n",
      "\u001b[2m\u001b[36m(pid=26224)\u001b[0m Instructions for updating:\n",
      "\u001b[2m\u001b[36m(pid=26224)\u001b[0m Use keras.layers.flatten instead.\n",
      "\u001b[2m\u001b[36m(pid=26224)\u001b[0m WARNING:tensorflow:From /home/aicon/anaconda3/envs/tuning/lib/python3.7/site-packages/stable_baselines/common/policies.py:561: flatten (from tensorflow.python.layers.core) is deprecated and will be removed in a future version.\n",
      "\u001b[2m\u001b[36m(pid=26224)\u001b[0m Instructions for updating:\n",
      "\u001b[2m\u001b[36m(pid=26224)\u001b[0m Use keras.layers.flatten instead.\n",
      "\u001b[2m\u001b[36m(pid=26224)\u001b[0m WARNING:tensorflow:From /home/aicon/anaconda3/envs/tuning/lib/python3.7/site-packages/tensorflow_core/python/layers/core.py:332: Layer.apply (from tensorflow.python.keras.engine.base_layer) is deprecated and will be removed in a future version.\n",
      "\u001b[2m\u001b[36m(pid=26224)\u001b[0m Instructions for updating:\n",
      "\u001b[2m\u001b[36m(pid=26224)\u001b[0m Please use `layer.__call__` method instead.\n",
      "\u001b[2m\u001b[36m(pid=26224)\u001b[0m WARNING:tensorflow:From /home/aicon/anaconda3/envs/tuning/lib/python3.7/site-packages/tensorflow_core/python/layers/core.py:332: Layer.apply (from tensorflow.python.keras.engine.base_layer) is deprecated and will be removed in a future version.\n",
      "\u001b[2m\u001b[36m(pid=26224)\u001b[0m Instructions for updating:\n",
      "\u001b[2m\u001b[36m(pid=26224)\u001b[0m Please use `layer.__call__` method instead.\n",
      "\u001b[2m\u001b[36m(pid=26224)\u001b[0m WARNING:tensorflow:From /home/aicon/anaconda3/envs/tuning/lib/python3.7/site-packages/stable_baselines/common/tf_layers.py:123: The name tf.get_variable is deprecated. Please use tf.compat.v1.get_variable instead.\n",
      "\u001b[2m\u001b[36m(pid=26224)\u001b[0m \n",
      "\u001b[2m\u001b[36m(pid=26224)\u001b[0m WARNING:tensorflow:From /home/aicon/anaconda3/envs/tuning/lib/python3.7/site-packages/stable_baselines/common/tf_layers.py:123: The name tf.get_variable is deprecated. Please use tf.compat.v1.get_variable instead.\n",
      "\u001b[2m\u001b[36m(pid=26224)\u001b[0m \n",
      "\u001b[2m\u001b[36m(pid=26235)\u001b[0m WARNING:tensorflow:From /home/aicon/anaconda3/envs/tuning/lib/python3.7/site-packages/stable_baselines/common/distributions.py:326: The name tf.random_uniform is deprecated. Please use tf.random.uniform instead.\n",
      "\u001b[2m\u001b[36m(pid=26235)\u001b[0m \n",
      "\u001b[2m\u001b[36m(pid=26235)\u001b[0m WARNING:tensorflow:From /home/aicon/anaconda3/envs/tuning/lib/python3.7/site-packages/stable_baselines/common/distributions.py:326: The name tf.random_uniform is deprecated. Please use tf.random.uniform instead.\n",
      "\u001b[2m\u001b[36m(pid=26235)\u001b[0m \n",
      "\u001b[2m\u001b[36m(pid=26235)\u001b[0m WARNING:tensorflow:From /home/aicon/anaconda3/envs/tuning/lib/python3.7/site-packages/stable_baselines/common/distributions.py:327: The name tf.log is deprecated. Please use tf.math.log instead.\n",
      "\u001b[2m\u001b[36m(pid=26235)\u001b[0m \n",
      "\u001b[2m\u001b[36m(pid=26235)\u001b[0m WARNING:tensorflow:From /home/aicon/anaconda3/envs/tuning/lib/python3.7/site-packages/stable_baselines/common/distributions.py:327: The name tf.log is deprecated. Please use tf.math.log instead.\n",
      "\u001b[2m\u001b[36m(pid=26235)\u001b[0m \n",
      "\u001b[2m\u001b[36m(pid=26224)\u001b[0m WARNING:tensorflow:From /home/aicon/anaconda3/envs/tuning/lib/python3.7/site-packages/stable_baselines/common/distributions.py:326: The name tf.random_uniform is deprecated. Please use tf.random.uniform instead.\n",
      "\u001b[2m\u001b[36m(pid=26224)\u001b[0m \n",
      "\u001b[2m\u001b[36m(pid=26224)\u001b[0m WARNING:tensorflow:From /home/aicon/anaconda3/envs/tuning/lib/python3.7/site-packages/stable_baselines/common/distributions.py:326: The name tf.random_uniform is deprecated. Please use tf.random.uniform instead.\n",
      "\u001b[2m\u001b[36m(pid=26224)\u001b[0m \n",
      "\u001b[2m\u001b[36m(pid=26224)\u001b[0m WARNING:tensorflow:From /home/aicon/anaconda3/envs/tuning/lib/python3.7/site-packages/stable_baselines/common/distributions.py:327: The name tf.log is deprecated. Please use tf.math.log instead.\n",
      "\u001b[2m\u001b[36m(pid=26224)\u001b[0m \n",
      "\u001b[2m\u001b[36m(pid=26224)\u001b[0m WARNING:tensorflow:From /home/aicon/anaconda3/envs/tuning/lib/python3.7/site-packages/stable_baselines/common/distributions.py:327: The name tf.log is deprecated. Please use tf.math.log instead.\n",
      "\u001b[2m\u001b[36m(pid=26224)\u001b[0m \n"
     ]
    },
    {
     "name": "stderr",
     "output_type": "stream",
     "text": [
      "\u001b[2m\u001b[36m(pid=26235)\u001b[0m WARNING:tensorflow:From /home/aicon/anaconda3/envs/tuning/lib/python3.7/site-packages/stable_baselines/a2c/a2c.py:160: The name tf.summary.scalar is deprecated. Please use tf.compat.v1.summary.scalar instead.\n",
      "\u001b[2m\u001b[36m(pid=26235)\u001b[0m \n",
      "\u001b[2m\u001b[36m(pid=26235)\u001b[0m WARNING:tensorflow:From /home/aicon/anaconda3/envs/tuning/lib/python3.7/site-packages/stable_baselines/a2c/a2c.py:160: The name tf.summary.scalar is deprecated. Please use tf.compat.v1.summary.scalar instead.\n",
      "\u001b[2m\u001b[36m(pid=26235)\u001b[0m \n",
      "\u001b[2m\u001b[36m(pid=26235)\u001b[0m WARNING:tensorflow:From /home/aicon/anaconda3/envs/tuning/lib/python3.7/site-packages/stable_baselines/common/tf_util.py:449: The name tf.get_collection is deprecated. Please use tf.compat.v1.get_collection instead.\n",
      "\u001b[2m\u001b[36m(pid=26235)\u001b[0m \n",
      "\u001b[2m\u001b[36m(pid=26235)\u001b[0m WARNING:tensorflow:From /home/aicon/anaconda3/envs/tuning/lib/python3.7/site-packages/stable_baselines/common/tf_util.py:449: The name tf.get_collection is deprecated. Please use tf.compat.v1.get_collection instead.\n",
      "\u001b[2m\u001b[36m(pid=26235)\u001b[0m \n",
      "\u001b[2m\u001b[36m(pid=26235)\u001b[0m WARNING:tensorflow:From /home/aicon/anaconda3/envs/tuning/lib/python3.7/site-packages/stable_baselines/common/tf_util.py:449: The name tf.GraphKeys is deprecated. Please use tf.compat.v1.GraphKeys instead.\n",
      "\u001b[2m\u001b[36m(pid=26235)\u001b[0m \n",
      "\u001b[2m\u001b[36m(pid=26235)\u001b[0m WARNING:tensorflow:From /home/aicon/anaconda3/envs/tuning/lib/python3.7/site-packages/stable_baselines/common/tf_util.py:449: The name tf.GraphKeys is deprecated. Please use tf.compat.v1.GraphKeys instead.\n",
      "\u001b[2m\u001b[36m(pid=26235)\u001b[0m \n",
      "\u001b[2m\u001b[36m(pid=26224)\u001b[0m WARNING:tensorflow:From /home/aicon/anaconda3/envs/tuning/lib/python3.7/site-packages/stable_baselines/a2c/a2c.py:160: The name tf.summary.scalar is deprecated. Please use tf.compat.v1.summary.scalar instead.\n",
      "\u001b[2m\u001b[36m(pid=26224)\u001b[0m \n",
      "\u001b[2m\u001b[36m(pid=26224)\u001b[0m WARNING:tensorflow:From /home/aicon/anaconda3/envs/tuning/lib/python3.7/site-packages/stable_baselines/a2c/a2c.py:160: The name tf.summary.scalar is deprecated. Please use tf.compat.v1.summary.scalar instead.\n",
      "\u001b[2m\u001b[36m(pid=26224)\u001b[0m \n",
      "\u001b[2m\u001b[36m(pid=26224)\u001b[0m WARNING:tensorflow:From /home/aicon/anaconda3/envs/tuning/lib/python3.7/site-packages/stable_baselines/common/tf_util.py:449: The name tf.get_collection is deprecated. Please use tf.compat.v1.get_collection instead.\n",
      "\u001b[2m\u001b[36m(pid=26224)\u001b[0m \n",
      "\u001b[2m\u001b[36m(pid=26224)\u001b[0m WARNING:tensorflow:From /home/aicon/anaconda3/envs/tuning/lib/python3.7/site-packages/stable_baselines/common/tf_util.py:449: The name tf.get_collection is deprecated. Please use tf.compat.v1.get_collection instead.\n",
      "\u001b[2m\u001b[36m(pid=26224)\u001b[0m \n",
      "\u001b[2m\u001b[36m(pid=26224)\u001b[0m WARNING:tensorflow:From /home/aicon/anaconda3/envs/tuning/lib/python3.7/site-packages/stable_baselines/common/tf_util.py:449: The name tf.GraphKeys is deprecated. Please use tf.compat.v1.GraphKeys instead.\n",
      "\u001b[2m\u001b[36m(pid=26224)\u001b[0m \n",
      "\u001b[2m\u001b[36m(pid=26224)\u001b[0m WARNING:tensorflow:From /home/aicon/anaconda3/envs/tuning/lib/python3.7/site-packages/stable_baselines/common/tf_util.py:449: The name tf.GraphKeys is deprecated. Please use tf.compat.v1.GraphKeys instead.\n",
      "\u001b[2m\u001b[36m(pid=26224)\u001b[0m \n",
      "\u001b[2m\u001b[36m(pid=26235)\u001b[0m WARNING:tensorflow:From /home/aicon/anaconda3/envs/tuning/lib/python3.7/site-packages/tensorflow_core/python/ops/clip_ops.py:301: where (from tensorflow.python.ops.array_ops) is deprecated and will be removed in a future version.\n",
      "\u001b[2m\u001b[36m(pid=26235)\u001b[0m Instructions for updating:\n",
      "\u001b[2m\u001b[36m(pid=26235)\u001b[0m Use tf.where in 2.0, which has the same broadcast rule as np.where\n",
      "\u001b[2m\u001b[36m(pid=26235)\u001b[0m WARNING:tensorflow:From /home/aicon/anaconda3/envs/tuning/lib/python3.7/site-packages/tensorflow_core/python/ops/clip_ops.py:301: where (from tensorflow.python.ops.array_ops) is deprecated and will be removed in a future version.\n",
      "\u001b[2m\u001b[36m(pid=26235)\u001b[0m Instructions for updating:\n",
      "\u001b[2m\u001b[36m(pid=26235)\u001b[0m Use tf.where in 2.0, which has the same broadcast rule as np.where\n",
      "\u001b[2m\u001b[36m(pid=26235)\u001b[0m WARNING:tensorflow:From /home/aicon/anaconda3/envs/tuning/lib/python3.7/site-packages/stable_baselines/a2c/a2c.py:184: The name tf.train.RMSPropOptimizer is deprecated. Please use tf.compat.v1.train.RMSPropOptimizer instead.\n",
      "\u001b[2m\u001b[36m(pid=26235)\u001b[0m \n",
      "\u001b[2m\u001b[36m(pid=26235)\u001b[0m WARNING:tensorflow:From /home/aicon/anaconda3/envs/tuning/lib/python3.7/site-packages/stable_baselines/a2c/a2c.py:184: The name tf.train.RMSPropOptimizer is deprecated. Please use tf.compat.v1.train.RMSPropOptimizer instead.\n",
      "\u001b[2m\u001b[36m(pid=26235)\u001b[0m \n",
      "\u001b[2m\u001b[36m(pid=26235)\u001b[0m WARNING:tensorflow:From /home/aicon/anaconda3/envs/tuning/lib/python3.7/site-packages/tensorflow_core/python/training/rmsprop.py:119: calling Ones.__init__ (from tensorflow.python.ops.init_ops) with dtype is deprecated and will be removed in a future version.\n",
      "\u001b[2m\u001b[36m(pid=26235)\u001b[0m Instructions for updating:\n",
      "\u001b[2m\u001b[36m(pid=26235)\u001b[0m Call initializer instance with the dtype argument instead of passing it to the constructor\n",
      "\u001b[2m\u001b[36m(pid=26235)\u001b[0m WARNING:tensorflow:From /home/aicon/anaconda3/envs/tuning/lib/python3.7/site-packages/tensorflow_core/python/training/rmsprop.py:119: calling Ones.__init__ (from tensorflow.python.ops.init_ops) with dtype is deprecated and will be removed in a future version.\n",
      "\u001b[2m\u001b[36m(pid=26235)\u001b[0m Instructions for updating:\n",
      "\u001b[2m\u001b[36m(pid=26235)\u001b[0m Call initializer instance with the dtype argument instead of passing it to the constructor\n",
      "\u001b[2m\u001b[36m(pid=26224)\u001b[0m WARNING:tensorflow:From /home/aicon/anaconda3/envs/tuning/lib/python3.7/site-packages/tensorflow_core/python/ops/clip_ops.py:301: where (from tensorflow.python.ops.array_ops) is deprecated and will be removed in a future version.\n",
      "\u001b[2m\u001b[36m(pid=26224)\u001b[0m Instructions for updating:\n",
      "\u001b[2m\u001b[36m(pid=26224)\u001b[0m Use tf.where in 2.0, which has the same broadcast rule as np.where\n",
      "\u001b[2m\u001b[36m(pid=26224)\u001b[0m WARNING:tensorflow:From /home/aicon/anaconda3/envs/tuning/lib/python3.7/site-packages/tensorflow_core/python/ops/clip_ops.py:301: where (from tensorflow.python.ops.array_ops) is deprecated and will be removed in a future version.\n",
      "\u001b[2m\u001b[36m(pid=26224)\u001b[0m Instructions for updating:\n",
      "\u001b[2m\u001b[36m(pid=26224)\u001b[0m Use tf.where in 2.0, which has the same broadcast rule as np.where\n",
      "\u001b[2m\u001b[36m(pid=26224)\u001b[0m WARNING:tensorflow:From /home/aicon/anaconda3/envs/tuning/lib/python3.7/site-packages/stable_baselines/a2c/a2c.py:184: The name tf.train.RMSPropOptimizer is deprecated. Please use tf.compat.v1.train.RMSPropOptimizer instead.\n",
      "\u001b[2m\u001b[36m(pid=26224)\u001b[0m \n",
      "\u001b[2m\u001b[36m(pid=26224)\u001b[0m WARNING:tensorflow:From /home/aicon/anaconda3/envs/tuning/lib/python3.7/site-packages/stable_baselines/a2c/a2c.py:184: The name tf.train.RMSPropOptimizer is deprecated. Please use tf.compat.v1.train.RMSPropOptimizer instead.\n",
      "\u001b[2m\u001b[36m(pid=26224)\u001b[0m \n",
      "\u001b[2m\u001b[36m(pid=26224)\u001b[0m WARNING:tensorflow:From /home/aicon/anaconda3/envs/tuning/lib/python3.7/site-packages/tensorflow_core/python/training/rmsprop.py:119: calling Ones.__init__ (from tensorflow.python.ops.init_ops) with dtype is deprecated and will be removed in a future version.\n",
      "\u001b[2m\u001b[36m(pid=26224)\u001b[0m Instructions for updating:\n",
      "\u001b[2m\u001b[36m(pid=26224)\u001b[0m Call initializer instance with the dtype argument instead of passing it to the constructor\n",
      "\u001b[2m\u001b[36m(pid=26224)\u001b[0m WARNING:tensorflow:From /home/aicon/anaconda3/envs/tuning/lib/python3.7/site-packages/tensorflow_core/python/training/rmsprop.py:119: calling Ones.__init__ (from tensorflow.python.ops.init_ops) with dtype is deprecated and will be removed in a future version.\n",
      "\u001b[2m\u001b[36m(pid=26224)\u001b[0m Instructions for updating:\n",
      "\u001b[2m\u001b[36m(pid=26224)\u001b[0m Call initializer instance with the dtype argument instead of passing it to the constructor\n",
      "\u001b[2m\u001b[36m(pid=26235)\u001b[0m WARNING:tensorflow:From /home/aicon/anaconda3/envs/tuning/lib/python3.7/site-packages/stable_baselines/a2c/a2c.py:194: The name tf.global_variables_initializer is deprecated. Please use tf.compat.v1.global_variables_initializer instead.\n",
      "\u001b[2m\u001b[36m(pid=26235)\u001b[0m \n",
      "\u001b[2m\u001b[36m(pid=26235)\u001b[0m WARNING:tensorflow:From /home/aicon/anaconda3/envs/tuning/lib/python3.7/site-packages/stable_baselines/a2c/a2c.py:194: The name tf.global_variables_initializer is deprecated. Please use tf.compat.v1.global_variables_initializer instead.\n",
      "\u001b[2m\u001b[36m(pid=26235)\u001b[0m \n"
     ]
    },
    {
     "name": "stderr",
     "output_type": "stream",
     "text": [
      "\u001b[2m\u001b[36m(pid=26224)\u001b[0m WARNING:tensorflow:From /home/aicon/anaconda3/envs/tuning/lib/python3.7/site-packages/stable_baselines/a2c/a2c.py:194: The name tf.global_variables_initializer is deprecated. Please use tf.compat.v1.global_variables_initializer instead.\n",
      "\u001b[2m\u001b[36m(pid=26224)\u001b[0m \n",
      "\u001b[2m\u001b[36m(pid=26224)\u001b[0m WARNING:tensorflow:From /home/aicon/anaconda3/envs/tuning/lib/python3.7/site-packages/stable_baselines/a2c/a2c.py:194: The name tf.global_variables_initializer is deprecated. Please use tf.compat.v1.global_variables_initializer instead.\n",
      "\u001b[2m\u001b[36m(pid=26224)\u001b[0m \n",
      "\u001b[2m\u001b[36m(pid=26235)\u001b[0m WARNING:tensorflow:From /home/aicon/anaconda3/envs/tuning/lib/python3.7/site-packages/stable_baselines/a2c/a2c.py:196: The name tf.summary.merge_all is deprecated. Please use tf.compat.v1.summary.merge_all instead.\n",
      "\u001b[2m\u001b[36m(pid=26235)\u001b[0m \n",
      "\u001b[2m\u001b[36m(pid=26235)\u001b[0m WARNING:tensorflow:From /home/aicon/anaconda3/envs/tuning/lib/python3.7/site-packages/stable_baselines/a2c/a2c.py:196: The name tf.summary.merge_all is deprecated. Please use tf.compat.v1.summary.merge_all instead.\n",
      "\u001b[2m\u001b[36m(pid=26235)\u001b[0m \n",
      "\u001b[2m\u001b[36m(pid=26224)\u001b[0m WARNING:tensorflow:From /home/aicon/anaconda3/envs/tuning/lib/python3.7/site-packages/stable_baselines/a2c/a2c.py:196: The name tf.summary.merge_all is deprecated. Please use tf.compat.v1.summary.merge_all instead.\n",
      "\u001b[2m\u001b[36m(pid=26224)\u001b[0m \n",
      "\u001b[2m\u001b[36m(pid=26224)\u001b[0m WARNING:tensorflow:From /home/aicon/anaconda3/envs/tuning/lib/python3.7/site-packages/stable_baselines/a2c/a2c.py:196: The name tf.summary.merge_all is deprecated. Please use tf.compat.v1.summary.merge_all instead.\n",
      "\u001b[2m\u001b[36m(pid=26224)\u001b[0m \n",
      "\u001b[2m\u001b[36m(pid=26224)\u001b[0m ERROR:root:Max counter exceeded\n",
      "\u001b[2m\u001b[36m(pid=26235)\u001b[0m ERROR:root:Max counter exceeded\n",
      "\u001b[2m\u001b[36m(pid=26224)\u001b[0m ERROR:root:Max counter exceeded\n",
      "\u001b[2m\u001b[36m(pid=26235)\u001b[0m ERROR:root:Max counter exceeded\n",
      "\u001b[2m\u001b[36m(pid=26224)\u001b[0m ERROR:root:Max counter exceeded\n",
      "\u001b[2m\u001b[36m(pid=26235)\u001b[0m ERROR:root:Max counter exceeded\n"
     ]
    },
    {
     "name": "stdout",
     "output_type": "stream",
     "text": [
      "Result for evaluate_objective_c575fb03:\n",
      "  date: 2020-12-15_23-13-43\n",
      "  done: false\n",
      "  experiment_id: 9c64caf4f0a14459832fe803edf35758\n",
      "  experiment_tag: 2_gamma=0.99242,learning_rate=0.00016658,max_grad_norm=4.4543\n",
      "  hostname: aicon3\n",
      "  iterations_since_restore: 1\n",
      "  mean_ep_length: 482.8\n",
      "  mean_reward: -264797.0\n",
      "  node_ip: 131.234.29.24\n",
      "  packet_lost: 25\n",
      "  pid: 26224\n",
      "  time_since_restore: 6.5308308601379395\n",
      "  time_this_iter_s: 6.5308308601379395\n",
      "  time_total_s: 6.5308308601379395\n",
      "  timestamp: 1608070423\n",
      "  timesteps_since_restore: 0\n",
      "  training_iteration: 1\n",
      "  trial_id: c575fb03\n",
      "  \n"
     ]
    },
    {
     "name": "stderr",
     "output_type": "stream",
     "text": [
      "\u001b[2m\u001b[36m(pid=26224)\u001b[0m ERROR:root:Max counter exceeded\n"
     ]
    },
    {
     "data": {
      "text/html": [
       "== Status ==<br>Memory usage on this node: 7.6/31.4 GiB<br>Using AsyncHyperBand: num_stopped=0\n",
       "Bracket: Iter 90.000: None | Iter 30.000: None | Iter 10.000: None<br>Resources requested: 16/16 CPUs, 0/0 GPUs, 0.0/15.14 GiB heap, 0.0/5.22 GiB objects<br>Result logdir: /home/aicon/ray_results/evaluate_objective<br>Number of trials: 5 (3 PENDING, 2 RUNNING)<br><table>\n",
       "<thead>\n",
       "<tr><th>Trial name                 </th><th>status  </th><th>loc                </th><th style=\"text-align: right;\">   gamma</th><th style=\"text-align: right;\">  learning_rate</th><th style=\"text-align: right;\">  max_grad_norm</th><th style=\"text-align: right;\">  iter</th><th style=\"text-align: right;\">  total time (s)</th><th style=\"text-align: right;\">  mean_reward</th><th style=\"text-align: right;\">  mean_ep_length</th><th style=\"text-align: right;\">  packet_lost</th></tr>\n",
       "</thead>\n",
       "<tbody>\n",
       "<tr><td>evaluate_objective_c575fb02</td><td>RUNNING </td><td>                   </td><td style=\"text-align: right;\">0.990228</td><td style=\"text-align: right;\">    0.00064491 </td><td style=\"text-align: right;\">       3.14781 </td><td style=\"text-align: right;\">      </td><td style=\"text-align: right;\">                </td><td style=\"text-align: right;\">             </td><td style=\"text-align: right;\">                </td><td style=\"text-align: right;\">             </td></tr>\n",
       "<tr><td>evaluate_objective_c575fb03</td><td>RUNNING </td><td>131.234.29.24:26224</td><td style=\"text-align: right;\">0.992424</td><td style=\"text-align: right;\">    0.000166578</td><td style=\"text-align: right;\">       4.45429 </td><td style=\"text-align: right;\">     1</td><td style=\"text-align: right;\">         6.53083</td><td style=\"text-align: right;\">      -264797</td><td style=\"text-align: right;\">           482.8</td><td style=\"text-align: right;\">           25</td></tr>\n",
       "<tr><td>evaluate_objective_c575fb04</td><td>PENDING </td><td>                   </td><td style=\"text-align: right;\">0.998132</td><td style=\"text-align: right;\">    0.0026539  </td><td style=\"text-align: right;\">       0.891429</td><td style=\"text-align: right;\">      </td><td style=\"text-align: right;\">                </td><td style=\"text-align: right;\">             </td><td style=\"text-align: right;\">                </td><td style=\"text-align: right;\">             </td></tr>\n",
       "<tr><td>evaluate_objective_c575fb05</td><td>PENDING </td><td>                   </td><td style=\"text-align: right;\">0.995314</td><td style=\"text-align: right;\">    0.000825845</td><td style=\"text-align: right;\">       1.34788 </td><td style=\"text-align: right;\">      </td><td style=\"text-align: right;\">                </td><td style=\"text-align: right;\">             </td><td style=\"text-align: right;\">                </td><td style=\"text-align: right;\">             </td></tr>\n",
       "<tr><td>evaluate_objective_c575fb06</td><td>PENDING </td><td>                   </td><td style=\"text-align: right;\">0.99127 </td><td style=\"text-align: right;\">    0.00239913 </td><td style=\"text-align: right;\">       2.35207 </td><td style=\"text-align: right;\">      </td><td style=\"text-align: right;\">                </td><td style=\"text-align: right;\">             </td><td style=\"text-align: right;\">                </td><td style=\"text-align: right;\">             </td></tr>\n",
       "</tbody>\n",
       "</table><br><br>"
      ],
      "text/plain": [
       "<IPython.core.display.HTML object>"
      ]
     },
     "metadata": {},
     "output_type": "display_data"
    },
    {
     "name": "stderr",
     "output_type": "stream",
     "text": [
      "\u001b[2m\u001b[36m(pid=26235)\u001b[0m ERROR:root:Max counter exceeded\n"
     ]
    },
    {
     "name": "stdout",
     "output_type": "stream",
     "text": [
      "Result for evaluate_objective_c575fb02:\n",
      "  date: 2020-12-15_23-13-44\n",
      "  done: false\n",
      "  experiment_id: 46b0c57ac75646e5b843e0a5d6b6f025\n",
      "  experiment_tag: 1_gamma=0.99023,learning_rate=0.00064491,max_grad_norm=3.1478\n",
      "  hostname: aicon3\n",
      "  iterations_since_restore: 1\n",
      "  mean_ep_length: 602.0\n",
      "  mean_reward: -12819.0\n",
      "  node_ip: 131.234.29.24\n",
      "  packet_lost: 0\n",
      "  pid: 26235\n",
      "  time_since_restore: 7.123113393783569\n",
      "  time_this_iter_s: 7.123113393783569\n",
      "  time_total_s: 7.123113393783569\n",
      "  timestamp: 1608070424\n",
      "  timesteps_since_restore: 0\n",
      "  training_iteration: 1\n",
      "  trial_id: c575fb02\n",
      "  \n"
     ]
    },
    {
     "name": "stderr",
     "output_type": "stream",
     "text": [
      "\u001b[2m\u001b[36m(pid=26235)\u001b[0m ERROR:root:Max counter exceeded\n",
      "\u001b[2m\u001b[36m(pid=26224)\u001b[0m ERROR:root:Max counter exceeded\n",
      "\u001b[2m\u001b[36m(pid=26235)\u001b[0m ERROR:root:Max counter exceeded\n",
      "\u001b[2m\u001b[36m(pid=26224)\u001b[0m ERROR:root:Max counter exceeded\n",
      "\u001b[2m\u001b[36m(pid=26235)\u001b[0m ERROR:root:Max counter exceeded\n",
      "\u001b[2m\u001b[36m(pid=26224)\u001b[0m ERROR:root:Max counter exceeded\n",
      "\u001b[2m\u001b[36m(pid=26235)\u001b[0m ERROR:root:Max counter exceeded\n",
      "\u001b[2m\u001b[36m(pid=26224)\u001b[0m ERROR:root:Max counter exceeded\n",
      "\u001b[2m\u001b[36m(pid=26235)\u001b[0m ERROR:root:Max counter exceeded\n",
      "\u001b[2m\u001b[36m(pid=26235)\u001b[0m ERROR:root:Max counter exceeded\n",
      "\u001b[2m\u001b[36m(pid=26224)\u001b[0m ERROR:root:Max counter exceeded\n",
      "\u001b[2m\u001b[36m(pid=26235)\u001b[0m ERROR:root:Max counter exceeded\n",
      "\u001b[2m\u001b[36m(pid=26224)\u001b[0m ERROR:root:Max counter exceeded\n"
     ]
    },
    {
     "name": "stdout",
     "output_type": "stream",
     "text": [
      "Result for evaluate_objective_c575fb03:\n",
      "  date: 2020-12-15_23-13-51\n",
      "  done: false\n",
      "  experiment_id: 9c64caf4f0a14459832fe803edf35758\n",
      "  experiment_tag: 2_gamma=0.99242,learning_rate=0.00016658,max_grad_norm=4.4543\n",
      "  hostname: aicon3\n",
      "  iterations_since_restore: 3\n",
      "  mean_ep_length: 366.6\n",
      "  mean_reward: -36010.2\n",
      "  node_ip: 131.234.29.24\n",
      "  packet_lost: 15\n",
      "  pid: 26224\n",
      "  time_since_restore: 14.475023031234741\n",
      "  time_this_iter_s: 3.6082608699798584\n",
      "  time_total_s: 14.475023031234741\n",
      "  timestamp: 1608070431\n",
      "  timesteps_since_restore: 0\n",
      "  training_iteration: 3\n",
      "  trial_id: c575fb03\n",
      "  \n"
     ]
    },
    {
     "name": "stderr",
     "output_type": "stream",
     "text": [
      "\u001b[2m\u001b[36m(pid=26235)\u001b[0m ERROR:root:Max counter exceeded\n"
     ]
    },
    {
     "data": {
      "text/html": [
       "== Status ==<br>Memory usage on this node: 7.6/31.4 GiB<br>Using AsyncHyperBand: num_stopped=0\n",
       "Bracket: Iter 90.000: None | Iter 30.000: None | Iter 10.000: None<br>Resources requested: 16/16 CPUs, 0/0 GPUs, 0.0/15.14 GiB heap, 0.0/5.22 GiB objects<br>Result logdir: /home/aicon/ray_results/evaluate_objective<br>Number of trials: 5 (3 PENDING, 2 RUNNING)<br><table>\n",
       "<thead>\n",
       "<tr><th>Trial name                 </th><th>status  </th><th>loc                </th><th style=\"text-align: right;\">   gamma</th><th style=\"text-align: right;\">  learning_rate</th><th style=\"text-align: right;\">  max_grad_norm</th><th style=\"text-align: right;\">  iter</th><th style=\"text-align: right;\">  total time (s)</th><th style=\"text-align: right;\">  mean_reward</th><th style=\"text-align: right;\">  mean_ep_length</th><th style=\"text-align: right;\">  packet_lost</th></tr>\n",
       "</thead>\n",
       "<tbody>\n",
       "<tr><td>evaluate_objective_c575fb02</td><td>RUNNING </td><td>131.234.29.24:26235</td><td style=\"text-align: right;\">0.990228</td><td style=\"text-align: right;\">    0.00064491 </td><td style=\"text-align: right;\">       3.14781 </td><td style=\"text-align: right;\">     2</td><td style=\"text-align: right;\">         11.5142</td><td style=\"text-align: right;\">      -5370.2</td><td style=\"text-align: right;\">           602  </td><td style=\"text-align: right;\">           13</td></tr>\n",
       "<tr><td>evaluate_objective_c575fb03</td><td>RUNNING </td><td>131.234.29.24:26224</td><td style=\"text-align: right;\">0.992424</td><td style=\"text-align: right;\">    0.000166578</td><td style=\"text-align: right;\">       4.45429 </td><td style=\"text-align: right;\">     3</td><td style=\"text-align: right;\">         14.475 </td><td style=\"text-align: right;\">     -36010.2</td><td style=\"text-align: right;\">           366.6</td><td style=\"text-align: right;\">           15</td></tr>\n",
       "<tr><td>evaluate_objective_c575fb04</td><td>PENDING </td><td>                   </td><td style=\"text-align: right;\">0.998132</td><td style=\"text-align: right;\">    0.0026539  </td><td style=\"text-align: right;\">       0.891429</td><td style=\"text-align: right;\">      </td><td style=\"text-align: right;\">                </td><td style=\"text-align: right;\">             </td><td style=\"text-align: right;\">                </td><td style=\"text-align: right;\">             </td></tr>\n",
       "<tr><td>evaluate_objective_c575fb05</td><td>PENDING </td><td>                   </td><td style=\"text-align: right;\">0.995314</td><td style=\"text-align: right;\">    0.000825845</td><td style=\"text-align: right;\">       1.34788 </td><td style=\"text-align: right;\">      </td><td style=\"text-align: right;\">                </td><td style=\"text-align: right;\">             </td><td style=\"text-align: right;\">                </td><td style=\"text-align: right;\">             </td></tr>\n",
       "<tr><td>evaluate_objective_c575fb06</td><td>PENDING </td><td>                   </td><td style=\"text-align: right;\">0.99127 </td><td style=\"text-align: right;\">    0.00239913 </td><td style=\"text-align: right;\">       2.35207 </td><td style=\"text-align: right;\">      </td><td style=\"text-align: right;\">                </td><td style=\"text-align: right;\">             </td><td style=\"text-align: right;\">                </td><td style=\"text-align: right;\">             </td></tr>\n",
       "</tbody>\n",
       "</table><br><br>"
      ],
      "text/plain": [
       "<IPython.core.display.HTML object>"
      ]
     },
     "metadata": {},
     "output_type": "display_data"
    },
    {
     "name": "stderr",
     "output_type": "stream",
     "text": [
      "\u001b[2m\u001b[36m(pid=26224)\u001b[0m ERROR:root:Max counter exceeded\n",
      "\u001b[2m\u001b[36m(pid=26235)\u001b[0m ERROR:root:Max counter exceeded\n",
      "\u001b[2m\u001b[36m(pid=26235)\u001b[0m ERROR:root:Max counter exceeded\n"
     ]
    },
    {
     "name": "stdout",
     "output_type": "stream",
     "text": [
      "Result for evaluate_objective_c575fb02:\n",
      "  date: 2020-12-15_23-13-53\n",
      "  done: false\n",
      "  experiment_id: 46b0c57ac75646e5b843e0a5d6b6f025\n",
      "  experiment_tag: 1_gamma=0.99023,learning_rate=0.00064491,max_grad_norm=3.1478\n",
      "  hostname: aicon3\n",
      "  iterations_since_restore: 3\n",
      "  mean_ep_length: 602.0\n",
      "  mean_reward: -177761.4\n",
      "  node_ip: 131.234.29.24\n",
      "  packet_lost: 14\n",
      "  pid: 26235\n",
      "  time_since_restore: 16.120899438858032\n",
      "  time_this_iter_s: 4.606675148010254\n",
      "  time_total_s: 16.120899438858032\n",
      "  timestamp: 1608070433\n",
      "  timesteps_since_restore: 0\n",
      "  training_iteration: 3\n",
      "  trial_id: c575fb02\n",
      "  \n"
     ]
    },
    {
     "name": "stderr",
     "output_type": "stream",
     "text": [
      "\u001b[2m\u001b[36m(pid=26235)\u001b[0m ERROR:root:Max counter exceeded\n",
      "\u001b[2m\u001b[36m(pid=26224)\u001b[0m ERROR:root:Max counter exceeded\n",
      "\u001b[2m\u001b[36m(pid=26224)\u001b[0m ERROR:root:Max counter exceeded\n",
      "\u001b[2m\u001b[36m(pid=26224)\u001b[0m ERROR:root:Max counter exceeded\n",
      "\u001b[2m\u001b[36m(pid=26235)\u001b[0m ERROR:root:Max counter exceeded\n",
      "\u001b[2m\u001b[36m(pid=26224)\u001b[0m ERROR:root:Max counter exceeded\n",
      "\u001b[2m\u001b[36m(pid=26235)\u001b[0m ERROR:root:Max counter exceeded\n",
      "\u001b[2m\u001b[36m(pid=26224)\u001b[0m ERROR:root:Max counter exceeded\n",
      "\u001b[2m\u001b[36m(pid=26235)\u001b[0m ERROR:root:Max counter exceeded\n",
      "\u001b[2m\u001b[36m(pid=26235)\u001b[0m ERROR:root:Max counter exceeded\n"
     ]
    },
    {
     "data": {
      "text/html": [
       "== Status ==<br>Memory usage on this node: 7.6/31.4 GiB<br>Using AsyncHyperBand: num_stopped=0\n",
       "Bracket: Iter 90.000: None | Iter 30.000: None | Iter 10.000: None<br>Resources requested: 16/16 CPUs, 0/0 GPUs, 0.0/15.14 GiB heap, 0.0/5.22 GiB objects<br>Result logdir: /home/aicon/ray_results/evaluate_objective<br>Number of trials: 5 (3 PENDING, 2 RUNNING)<br><table>\n",
       "<thead>\n",
       "<tr><th>Trial name                 </th><th>status  </th><th>loc                </th><th style=\"text-align: right;\">   gamma</th><th style=\"text-align: right;\">  learning_rate</th><th style=\"text-align: right;\">  max_grad_norm</th><th style=\"text-align: right;\">  iter</th><th style=\"text-align: right;\">  total time (s)</th><th style=\"text-align: right;\">  mean_reward</th><th style=\"text-align: right;\">  mean_ep_length</th><th style=\"text-align: right;\">  packet_lost</th></tr>\n",
       "</thead>\n",
       "<tbody>\n",
       "<tr><td>evaluate_objective_c575fb02</td><td>RUNNING </td><td>131.234.29.24:26235</td><td style=\"text-align: right;\">0.990228</td><td style=\"text-align: right;\">    0.00064491 </td><td style=\"text-align: right;\">       3.14781 </td><td style=\"text-align: right;\">     4</td><td style=\"text-align: right;\">         20.7026</td><td style=\"text-align: right;\">     -27264.8</td><td style=\"text-align: right;\">             602</td><td style=\"text-align: right;\">           14</td></tr>\n",
       "<tr><td>evaluate_objective_c575fb03</td><td>RUNNING </td><td>131.234.29.24:26224</td><td style=\"text-align: right;\">0.992424</td><td style=\"text-align: right;\">    0.000166578</td><td style=\"text-align: right;\">       4.45429 </td><td style=\"text-align: right;\">     4</td><td style=\"text-align: right;\">         19.1454</td><td style=\"text-align: right;\">    -149706  </td><td style=\"text-align: right;\">             602</td><td style=\"text-align: right;\">           23</td></tr>\n",
       "<tr><td>evaluate_objective_c575fb04</td><td>PENDING </td><td>                   </td><td style=\"text-align: right;\">0.998132</td><td style=\"text-align: right;\">    0.0026539  </td><td style=\"text-align: right;\">       0.891429</td><td style=\"text-align: right;\">      </td><td style=\"text-align: right;\">                </td><td style=\"text-align: right;\">             </td><td style=\"text-align: right;\">                </td><td style=\"text-align: right;\">             </td></tr>\n",
       "<tr><td>evaluate_objective_c575fb05</td><td>PENDING </td><td>                   </td><td style=\"text-align: right;\">0.995314</td><td style=\"text-align: right;\">    0.000825845</td><td style=\"text-align: right;\">       1.34788 </td><td style=\"text-align: right;\">      </td><td style=\"text-align: right;\">                </td><td style=\"text-align: right;\">             </td><td style=\"text-align: right;\">                </td><td style=\"text-align: right;\">             </td></tr>\n",
       "<tr><td>evaluate_objective_c575fb06</td><td>PENDING </td><td>                   </td><td style=\"text-align: right;\">0.99127 </td><td style=\"text-align: right;\">    0.00239913 </td><td style=\"text-align: right;\">       2.35207 </td><td style=\"text-align: right;\">      </td><td style=\"text-align: right;\">                </td><td style=\"text-align: right;\">             </td><td style=\"text-align: right;\">                </td><td style=\"text-align: right;\">             </td></tr>\n",
       "</tbody>\n",
       "</table><br><br>"
      ],
      "text/plain": [
       "<IPython.core.display.HTML object>"
      ]
     },
     "metadata": {},
     "output_type": "display_data"
    },
    {
     "name": "stderr",
     "output_type": "stream",
     "text": [
      "\u001b[2m\u001b[36m(pid=26235)\u001b[0m ERROR:root:Max counter exceeded\n",
      "\u001b[2m\u001b[36m(pid=26224)\u001b[0m ERROR:root:Max counter exceeded\n",
      "\u001b[2m\u001b[36m(pid=26224)\u001b[0m ERROR:root:Max counter exceeded\n",
      "\u001b[2m\u001b[36m(pid=26224)\u001b[0m ERROR:root:Max counter exceeded\n",
      "\u001b[2m\u001b[36m(pid=26235)\u001b[0m ERROR:root:Max counter exceeded\n",
      "\u001b[2m\u001b[36m(pid=26224)\u001b[0m ERROR:root:Max counter exceeded\n",
      "\u001b[2m\u001b[36m(pid=26235)\u001b[0m ERROR:root:Max counter exceeded\n"
     ]
    },
    {
     "name": "stdout",
     "output_type": "stream",
     "text": [
      "Result for evaluate_objective_c575fb03:\n",
      "  date: 2020-12-15_23-14-01\n",
      "  done: false\n",
      "  experiment_id: 9c64caf4f0a14459832fe803edf35758\n",
      "  experiment_tag: 2_gamma=0.99242,learning_rate=0.00016658,max_grad_norm=4.4543\n",
      "  hostname: aicon3\n",
      "  iterations_since_restore: 5\n",
      "  mean_ep_length: 602.0\n",
      "  mean_reward: -318944.0\n",
      "  node_ip: 131.234.29.24\n",
      "  packet_lost: 16\n",
      "  pid: 26224\n",
      "  time_since_restore: 24.02467179298401\n",
      "  time_this_iter_s: 4.879225254058838\n",
      "  time_total_s: 24.02467179298401\n",
      "  timestamp: 1608070441\n",
      "  timesteps_since_restore: 0\n",
      "  training_iteration: 5\n",
      "  trial_id: c575fb03\n",
      "  \n"
     ]
    },
    {
     "name": "stderr",
     "output_type": "stream",
     "text": [
      "\u001b[2m\u001b[36m(pid=26224)\u001b[0m ERROR:root:Max counter exceeded\n",
      "\u001b[2m\u001b[36m(pid=26235)\u001b[0m ERROR:root:Max counter exceeded\n",
      "\u001b[2m\u001b[36m(pid=26235)\u001b[0m ERROR:root:Max counter exceeded\n"
     ]
    },
    {
     "name": "stdout",
     "output_type": "stream",
     "text": [
      "Result for evaluate_objective_c575fb02:\n",
      "  date: 2020-12-15_23-14-02\n",
      "  done: false\n",
      "  experiment_id: 46b0c57ac75646e5b843e0a5d6b6f025\n",
      "  experiment_tag: 1_gamma=0.99023,learning_rate=0.00064491,max_grad_norm=3.1478\n",
      "  hostname: aicon3\n",
      "  iterations_since_restore: 5\n",
      "  mean_ep_length: 602.0\n",
      "  mean_reward: -27114.4\n",
      "  node_ip: 131.234.29.24\n",
      "  packet_lost: 17\n",
      "  pid: 26235\n",
      "  time_since_restore: 25.3732807636261\n",
      "  time_this_iter_s: 4.670637369155884\n",
      "  time_total_s: 25.3732807636261\n",
      "  timestamp: 1608070442\n",
      "  timesteps_since_restore: 0\n",
      "  training_iteration: 5\n",
      "  trial_id: c575fb02\n",
      "  \n"
     ]
    },
    {
     "name": "stderr",
     "output_type": "stream",
     "text": [
      "\u001b[2m\u001b[36m(pid=26235)\u001b[0m ERROR:root:Max counter exceeded\n",
      "\u001b[2m\u001b[36m(pid=26224)\u001b[0m ERROR:root:Max counter exceeded\n",
      "\u001b[2m\u001b[36m(pid=26224)\u001b[0m ERROR:root:Max counter exceeded\n",
      "\u001b[2m\u001b[36m(pid=26224)\u001b[0m ERROR:root:Max counter exceeded\n",
      "\u001b[2m\u001b[36m(pid=26235)\u001b[0m ERROR:root:Max counter exceeded\n",
      "\u001b[2m\u001b[36m(pid=26224)\u001b[0m ERROR:root:Max counter exceeded\n",
      "\u001b[2m\u001b[36m(pid=26235)\u001b[0m ERROR:root:Max counter exceeded\n"
     ]
    },
    {
     "data": {
      "text/html": [
       "== Status ==<br>Memory usage on this node: 7.6/31.4 GiB<br>Using AsyncHyperBand: num_stopped=0\n",
       "Bracket: Iter 90.000: None | Iter 30.000: None | Iter 10.000: None<br>Resources requested: 16/16 CPUs, 0/0 GPUs, 0.0/15.14 GiB heap, 0.0/5.22 GiB objects<br>Result logdir: /home/aicon/ray_results/evaluate_objective<br>Number of trials: 5 (3 PENDING, 2 RUNNING)<br><table>\n",
       "<thead>\n",
       "<tr><th>Trial name                 </th><th>status  </th><th>loc                </th><th style=\"text-align: right;\">   gamma</th><th style=\"text-align: right;\">  learning_rate</th><th style=\"text-align: right;\">  max_grad_norm</th><th style=\"text-align: right;\">  iter</th><th style=\"text-align: right;\">  total time (s)</th><th style=\"text-align: right;\">  mean_reward</th><th style=\"text-align: right;\">  mean_ep_length</th><th style=\"text-align: right;\">  packet_lost</th></tr>\n",
       "</thead>\n",
       "<tbody>\n",
       "<tr><td>evaluate_objective_c575fb02</td><td>RUNNING </td><td>131.234.29.24:26235</td><td style=\"text-align: right;\">0.990228</td><td style=\"text-align: right;\">    0.00064491 </td><td style=\"text-align: right;\">       3.14781 </td><td style=\"text-align: right;\">     5</td><td style=\"text-align: right;\">         25.3733</td><td style=\"text-align: right;\">     -27114.4</td><td style=\"text-align: right;\">             602</td><td style=\"text-align: right;\">           17</td></tr>\n",
       "<tr><td>evaluate_objective_c575fb03</td><td>RUNNING </td><td>131.234.29.24:26224</td><td style=\"text-align: right;\">0.992424</td><td style=\"text-align: right;\">    0.000166578</td><td style=\"text-align: right;\">       4.45429 </td><td style=\"text-align: right;\">     6</td><td style=\"text-align: right;\">         28.5111</td><td style=\"text-align: right;\">    -143792  </td><td style=\"text-align: right;\">             602</td><td style=\"text-align: right;\">           18</td></tr>\n",
       "<tr><td>evaluate_objective_c575fb04</td><td>PENDING </td><td>                   </td><td style=\"text-align: right;\">0.998132</td><td style=\"text-align: right;\">    0.0026539  </td><td style=\"text-align: right;\">       0.891429</td><td style=\"text-align: right;\">      </td><td style=\"text-align: right;\">                </td><td style=\"text-align: right;\">             </td><td style=\"text-align: right;\">                </td><td style=\"text-align: right;\">             </td></tr>\n",
       "<tr><td>evaluate_objective_c575fb05</td><td>PENDING </td><td>                   </td><td style=\"text-align: right;\">0.995314</td><td style=\"text-align: right;\">    0.000825845</td><td style=\"text-align: right;\">       1.34788 </td><td style=\"text-align: right;\">      </td><td style=\"text-align: right;\">                </td><td style=\"text-align: right;\">             </td><td style=\"text-align: right;\">                </td><td style=\"text-align: right;\">             </td></tr>\n",
       "<tr><td>evaluate_objective_c575fb06</td><td>PENDING </td><td>                   </td><td style=\"text-align: right;\">0.99127 </td><td style=\"text-align: right;\">    0.00239913 </td><td style=\"text-align: right;\">       2.35207 </td><td style=\"text-align: right;\">      </td><td style=\"text-align: right;\">                </td><td style=\"text-align: right;\">             </td><td style=\"text-align: right;\">                </td><td style=\"text-align: right;\">             </td></tr>\n",
       "</tbody>\n",
       "</table><br><br>"
      ],
      "text/plain": [
       "<IPython.core.display.HTML object>"
      ]
     },
     "metadata": {},
     "output_type": "display_data"
    },
    {
     "name": "stderr",
     "output_type": "stream",
     "text": [
      "\u001b[2m\u001b[36m(pid=26224)\u001b[0m ERROR:root:Max counter exceeded\n",
      "\u001b[2m\u001b[36m(pid=26235)\u001b[0m ERROR:root:Max counter exceeded\n",
      "\u001b[2m\u001b[36m(pid=26235)\u001b[0m ERROR:root:Max counter exceeded\n",
      "\u001b[2m\u001b[36m(pid=26235)\u001b[0m ERROR:root:Max counter exceeded\n",
      "\u001b[2m\u001b[36m(pid=26224)\u001b[0m ERROR:root:Max counter exceeded\n",
      "\u001b[2m\u001b[36m(pid=26224)\u001b[0m ERROR:root:Max counter exceeded\n",
      "\u001b[2m\u001b[36m(pid=26224)\u001b[0m ERROR:root:Max counter exceeded\n",
      "\u001b[2m\u001b[36m(pid=26235)\u001b[0m ERROR:root:Max counter exceeded\n",
      "\u001b[2m\u001b[36m(pid=26224)\u001b[0m ERROR:root:Max counter exceeded\n",
      "\u001b[2m\u001b[36m(pid=26235)\u001b[0m ERROR:root:Max counter exceeded\n"
     ]
    },
    {
     "name": "stdout",
     "output_type": "stream",
     "text": [
      "Result for evaluate_objective_c575fb03:\n",
      "  date: 2020-12-15_23-14-10\n",
      "  done: false\n",
      "  experiment_id: 9c64caf4f0a14459832fe803edf35758\n",
      "  experiment_tag: 2_gamma=0.99242,learning_rate=0.00016658,max_grad_norm=4.4543\n",
      "  hostname: aicon3\n",
      "  iterations_since_restore: 7\n",
      "  mean_ep_length: 602.0\n",
      "  mean_reward: -316601.2\n",
      "  node_ip: 131.234.29.24\n",
      "  packet_lost: 7\n",
      "  pid: 26224\n",
      "  time_since_restore: 33.04163122177124\n",
      "  time_this_iter_s: 4.5305328369140625\n",
      "  time_total_s: 33.04163122177124\n",
      "  timestamp: 1608070450\n",
      "  timesteps_since_restore: 0\n",
      "  training_iteration: 7\n",
      "  trial_id: c575fb03\n",
      "  \n"
     ]
    },
    {
     "name": "stderr",
     "output_type": "stream",
     "text": [
      "\u001b[2m\u001b[36m(pid=26224)\u001b[0m ERROR:root:Max counter exceeded\n",
      "\u001b[2m\u001b[36m(pid=26235)\u001b[0m ERROR:root:Max counter exceeded\n",
      "\u001b[2m\u001b[36m(pid=26235)\u001b[0m ERROR:root:Max counter exceeded\n"
     ]
    },
    {
     "name": "stdout",
     "output_type": "stream",
     "text": [
      "Result for evaluate_objective_c575fb02:\n",
      "  date: 2020-12-15_23-14-11\n",
      "  done: false\n",
      "  experiment_id: 46b0c57ac75646e5b843e0a5d6b6f025\n",
      "  experiment_tag: 1_gamma=0.99023,learning_rate=0.00064491,max_grad_norm=3.1478\n",
      "  hostname: aicon3\n",
      "  iterations_since_restore: 7\n",
      "  mean_ep_length: 602.0\n",
      "  mean_reward: -13541.4\n",
      "  node_ip: 131.234.29.24\n",
      "  packet_lost: 9\n",
      "  pid: 26235\n",
      "  time_since_restore: 34.42863965034485\n",
      "  time_this_iter_s: 4.6291913986206055\n",
      "  time_total_s: 34.42863965034485\n",
      "  timestamp: 1608070451\n",
      "  timesteps_since_restore: 0\n",
      "  training_iteration: 7\n",
      "  trial_id: c575fb02\n",
      "  \n"
     ]
    },
    {
     "data": {
      "text/html": [
       "== Status ==<br>Memory usage on this node: 7.6/31.4 GiB<br>Using AsyncHyperBand: num_stopped=0\n",
       "Bracket: Iter 90.000: None | Iter 30.000: None | Iter 10.000: None<br>Resources requested: 16/16 CPUs, 0/0 GPUs, 0.0/15.14 GiB heap, 0.0/5.22 GiB objects<br>Result logdir: /home/aicon/ray_results/evaluate_objective<br>Number of trials: 5 (3 PENDING, 2 RUNNING)<br><table>\n",
       "<thead>\n",
       "<tr><th>Trial name                 </th><th>status  </th><th>loc                </th><th style=\"text-align: right;\">   gamma</th><th style=\"text-align: right;\">  learning_rate</th><th style=\"text-align: right;\">  max_grad_norm</th><th style=\"text-align: right;\">  iter</th><th style=\"text-align: right;\">  total time (s)</th><th style=\"text-align: right;\">  mean_reward</th><th style=\"text-align: right;\">  mean_ep_length</th><th style=\"text-align: right;\">  packet_lost</th></tr>\n",
       "</thead>\n",
       "<tbody>\n",
       "<tr><td>evaluate_objective_c575fb02</td><td>RUNNING </td><td>131.234.29.24:26235</td><td style=\"text-align: right;\">0.990228</td><td style=\"text-align: right;\">    0.00064491 </td><td style=\"text-align: right;\">       3.14781 </td><td style=\"text-align: right;\">     7</td><td style=\"text-align: right;\">         34.4286</td><td style=\"text-align: right;\">     -13541.4</td><td style=\"text-align: right;\">             602</td><td style=\"text-align: right;\">            9</td></tr>\n",
       "<tr><td>evaluate_objective_c575fb03</td><td>RUNNING </td><td>131.234.29.24:26224</td><td style=\"text-align: right;\">0.992424</td><td style=\"text-align: right;\">    0.000166578</td><td style=\"text-align: right;\">       4.45429 </td><td style=\"text-align: right;\">     7</td><td style=\"text-align: right;\">         33.0416</td><td style=\"text-align: right;\">    -316601  </td><td style=\"text-align: right;\">             602</td><td style=\"text-align: right;\">            7</td></tr>\n",
       "<tr><td>evaluate_objective_c575fb04</td><td>PENDING </td><td>                   </td><td style=\"text-align: right;\">0.998132</td><td style=\"text-align: right;\">    0.0026539  </td><td style=\"text-align: right;\">       0.891429</td><td style=\"text-align: right;\">      </td><td style=\"text-align: right;\">                </td><td style=\"text-align: right;\">             </td><td style=\"text-align: right;\">                </td><td style=\"text-align: right;\">             </td></tr>\n",
       "<tr><td>evaluate_objective_c575fb05</td><td>PENDING </td><td>                   </td><td style=\"text-align: right;\">0.995314</td><td style=\"text-align: right;\">    0.000825845</td><td style=\"text-align: right;\">       1.34788 </td><td style=\"text-align: right;\">      </td><td style=\"text-align: right;\">                </td><td style=\"text-align: right;\">             </td><td style=\"text-align: right;\">                </td><td style=\"text-align: right;\">             </td></tr>\n",
       "<tr><td>evaluate_objective_c575fb06</td><td>PENDING </td><td>                   </td><td style=\"text-align: right;\">0.99127 </td><td style=\"text-align: right;\">    0.00239913 </td><td style=\"text-align: right;\">       2.35207 </td><td style=\"text-align: right;\">      </td><td style=\"text-align: right;\">                </td><td style=\"text-align: right;\">             </td><td style=\"text-align: right;\">                </td><td style=\"text-align: right;\">             </td></tr>\n",
       "</tbody>\n",
       "</table><br><br>"
      ],
      "text/plain": [
       "<IPython.core.display.HTML object>"
      ]
     },
     "metadata": {},
     "output_type": "display_data"
    },
    {
     "name": "stderr",
     "output_type": "stream",
     "text": [
      "\u001b[2m\u001b[36m(pid=26235)\u001b[0m ERROR:root:Max counter exceeded\n",
      "\u001b[2m\u001b[36m(pid=26224)\u001b[0m ERROR:root:Max counter exceeded\n",
      "\u001b[2m\u001b[36m(pid=26224)\u001b[0m ERROR:root:Max counter exceeded\n",
      "\u001b[2m\u001b[36m(pid=26224)\u001b[0m ERROR:root:Max counter exceeded\n",
      "\u001b[2m\u001b[36m(pid=26235)\u001b[0m ERROR:root:Max counter exceeded\n",
      "\u001b[2m\u001b[36m(pid=26224)\u001b[0m ERROR:root:Max counter exceeded\n",
      "\u001b[2m\u001b[36m(pid=26235)\u001b[0m ERROR:root:Max counter exceeded\n",
      "\u001b[2m\u001b[36m(pid=26224)\u001b[0m ERROR:root:Max counter exceeded\n",
      "\u001b[2m\u001b[36m(pid=26235)\u001b[0m ERROR:root:Max counter exceeded\n",
      "\u001b[2m\u001b[36m(pid=26235)\u001b[0m ERROR:root:Max counter exceeded\n",
      "\u001b[2m\u001b[36m(pid=26235)\u001b[0m ERROR:root:Max counter exceeded\n",
      "\u001b[2m\u001b[36m(pid=26224)\u001b[0m ERROR:root:Max counter exceeded\n",
      "\u001b[2m\u001b[36m(pid=26224)\u001b[0m ERROR:root:Max counter exceeded\n",
      "\u001b[2m\u001b[36m(pid=26224)\u001b[0m ERROR:root:Max counter exceeded\n",
      "\u001b[2m\u001b[36m(pid=26235)\u001b[0m ERROR:root:Max counter exceeded\n",
      "\u001b[2m\u001b[36m(pid=26224)\u001b[0m ERROR:root:Max counter exceeded\n"
     ]
    },
    {
     "name": "stdout",
     "output_type": "stream",
     "text": [
      "Result for evaluate_objective_c575fb03:\n",
      "  date: 2020-12-15_23-14-18\n",
      "  done: false\n",
      "  experiment_id: 9c64caf4f0a14459832fe803edf35758\n",
      "  experiment_tag: 2_gamma=0.99242,learning_rate=0.00016658,max_grad_norm=4.4543\n",
      "  hostname: aicon3\n",
      "  iterations_since_restore: 9\n",
      "  mean_ep_length: 602.0\n",
      "  mean_reward: -13743.2\n",
      "  node_ip: 131.234.29.24\n",
      "  packet_lost: 2\n",
      "  pid: 26224\n",
      "  time_since_restore: 41.87111830711365\n",
      "  time_this_iter_s: 4.268448114395142\n",
      "  time_total_s: 41.87111830711365\n",
      "  timestamp: 1608070458\n",
      "  timesteps_since_restore: 0\n",
      "  training_iteration: 9\n",
      "  trial_id: c575fb03\n",
      "  \n"
     ]
    },
    {
     "name": "stderr",
     "output_type": "stream",
     "text": [
      "\u001b[2m\u001b[36m(pid=26235)\u001b[0m ERROR:root:Max counter exceeded\n"
     ]
    },
    {
     "data": {
      "text/html": [
       "== Status ==<br>Memory usage on this node: 7.6/31.4 GiB<br>Using AsyncHyperBand: num_stopped=0\n",
       "Bracket: Iter 90.000: None | Iter 30.000: None | Iter 10.000: None<br>Resources requested: 16/16 CPUs, 0/0 GPUs, 0.0/15.14 GiB heap, 0.0/5.22 GiB objects<br>Result logdir: /home/aicon/ray_results/evaluate_objective<br>Number of trials: 5 (3 PENDING, 2 RUNNING)<br><table>\n",
       "<thead>\n",
       "<tr><th>Trial name                 </th><th>status  </th><th>loc                </th><th style=\"text-align: right;\">   gamma</th><th style=\"text-align: right;\">  learning_rate</th><th style=\"text-align: right;\">  max_grad_norm</th><th style=\"text-align: right;\">  iter</th><th style=\"text-align: right;\">  total time (s)</th><th style=\"text-align: right;\">  mean_reward</th><th style=\"text-align: right;\">  mean_ep_length</th><th style=\"text-align: right;\">  packet_lost</th></tr>\n",
       "</thead>\n",
       "<tbody>\n",
       "<tr><td>evaluate_objective_c575fb02</td><td>RUNNING </td><td>131.234.29.24:26235</td><td style=\"text-align: right;\">0.990228</td><td style=\"text-align: right;\">    0.00064491 </td><td style=\"text-align: right;\">       3.14781 </td><td style=\"text-align: right;\">     8</td><td style=\"text-align: right;\">         38.8812</td><td style=\"text-align: right;\">      -4680.8</td><td style=\"text-align: right;\">             602</td><td style=\"text-align: right;\">           11</td></tr>\n",
       "<tr><td>evaluate_objective_c575fb03</td><td>RUNNING </td><td>131.234.29.24:26224</td><td style=\"text-align: right;\">0.992424</td><td style=\"text-align: right;\">    0.000166578</td><td style=\"text-align: right;\">       4.45429 </td><td style=\"text-align: right;\">     9</td><td style=\"text-align: right;\">         41.8711</td><td style=\"text-align: right;\">     -13743.2</td><td style=\"text-align: right;\">             602</td><td style=\"text-align: right;\">            2</td></tr>\n",
       "<tr><td>evaluate_objective_c575fb04</td><td>PENDING </td><td>                   </td><td style=\"text-align: right;\">0.998132</td><td style=\"text-align: right;\">    0.0026539  </td><td style=\"text-align: right;\">       0.891429</td><td style=\"text-align: right;\">      </td><td style=\"text-align: right;\">                </td><td style=\"text-align: right;\">             </td><td style=\"text-align: right;\">                </td><td style=\"text-align: right;\">             </td></tr>\n",
       "<tr><td>evaluate_objective_c575fb05</td><td>PENDING </td><td>                   </td><td style=\"text-align: right;\">0.995314</td><td style=\"text-align: right;\">    0.000825845</td><td style=\"text-align: right;\">       1.34788 </td><td style=\"text-align: right;\">      </td><td style=\"text-align: right;\">                </td><td style=\"text-align: right;\">             </td><td style=\"text-align: right;\">                </td><td style=\"text-align: right;\">             </td></tr>\n",
       "<tr><td>evaluate_objective_c575fb06</td><td>PENDING </td><td>                   </td><td style=\"text-align: right;\">0.99127 </td><td style=\"text-align: right;\">    0.00239913 </td><td style=\"text-align: right;\">       2.35207 </td><td style=\"text-align: right;\">      </td><td style=\"text-align: right;\">                </td><td style=\"text-align: right;\">             </td><td style=\"text-align: right;\">                </td><td style=\"text-align: right;\">             </td></tr>\n",
       "</tbody>\n",
       "</table><br><br>"
      ],
      "text/plain": [
       "<IPython.core.display.HTML object>"
      ]
     },
     "metadata": {},
     "output_type": "display_data"
    },
    {
     "name": "stderr",
     "output_type": "stream",
     "text": [
      "\u001b[2m\u001b[36m(pid=26224)\u001b[0m ERROR:root:Max counter exceeded\n",
      "\u001b[2m\u001b[36m(pid=26235)\u001b[0m ERROR:root:Max counter exceeded\n",
      "\u001b[2m\u001b[36m(pid=26235)\u001b[0m ERROR:root:Max counter exceeded\n"
     ]
    },
    {
     "name": "stdout",
     "output_type": "stream",
     "text": [
      "Result for evaluate_objective_c575fb02:\n",
      "  date: 2020-12-15_23-14-20\n",
      "  done: false\n",
      "  experiment_id: 46b0c57ac75646e5b843e0a5d6b6f025\n",
      "  experiment_tag: 1_gamma=0.99023,learning_rate=0.00064491,max_grad_norm=3.1478\n",
      "  hostname: aicon3\n",
      "  iterations_since_restore: 9\n",
      "  mean_ep_length: 602.0\n",
      "  mean_reward: -2641.2\n",
      "  node_ip: 131.234.29.24\n",
      "  packet_lost: 9\n",
      "  pid: 26235\n",
      "  time_since_restore: 43.32884931564331\n",
      "  time_this_iter_s: 4.447674036026001\n",
      "  time_total_s: 43.32884931564331\n",
      "  timestamp: 1608070460\n",
      "  timesteps_since_restore: 0\n",
      "  training_iteration: 9\n",
      "  trial_id: c575fb02\n",
      "  \n"
     ]
    },
    {
     "name": "stderr",
     "output_type": "stream",
     "text": [
      "\u001b[2m\u001b[36m(pid=26235)\u001b[0m ERROR:root:Max counter exceeded\n",
      "\u001b[2m\u001b[36m(pid=26224)\u001b[0m ERROR:root:Max counter exceeded\n",
      "\u001b[2m\u001b[36m(pid=26224)\u001b[0m ERROR:root:Max counter exceeded\n",
      "\u001b[2m\u001b[36m(pid=26224)\u001b[0m ERROR:root:Max counter exceeded\n",
      "\u001b[2m\u001b[36m(pid=26235)\u001b[0m ERROR:root:Max counter exceeded\n",
      "\u001b[2m\u001b[36m(pid=26224)\u001b[0m ERROR:root:Max counter exceeded\n",
      "\u001b[2m\u001b[36m(pid=26235)\u001b[0m ERROR:root:Max counter exceeded\n",
      "\u001b[2m\u001b[36m(pid=26224)\u001b[0m ERROR:root:Max counter exceeded\n",
      "\u001b[2m\u001b[36m(pid=26235)\u001b[0m ERROR:root:Max counter exceeded\n",
      "\u001b[2m\u001b[36m(pid=26235)\u001b[0m ERROR:root:Max counter exceeded\n"
     ]
    },
    {
     "data": {
      "text/html": [
       "== Status ==<br>Memory usage on this node: 7.6/31.4 GiB<br>Using AsyncHyperBand: num_stopped=0\n",
       "Bracket: Iter 90.000: None | Iter 30.000: None | Iter 10.000: -10310.866666666665<br>Resources requested: 16/16 CPUs, 0/0 GPUs, 0.0/15.14 GiB heap, 0.0/5.22 GiB objects<br>Result logdir: /home/aicon/ray_results/evaluate_objective<br>Number of trials: 5 (3 PENDING, 2 RUNNING)<br><table>\n",
       "<thead>\n",
       "<tr><th>Trial name                 </th><th>status  </th><th>loc                </th><th style=\"text-align: right;\">   gamma</th><th style=\"text-align: right;\">  learning_rate</th><th style=\"text-align: right;\">  max_grad_norm</th><th style=\"text-align: right;\">  iter</th><th style=\"text-align: right;\">  total time (s)</th><th style=\"text-align: right;\">  mean_reward</th><th style=\"text-align: right;\">  mean_ep_length</th><th style=\"text-align: right;\">  packet_lost</th></tr>\n",
       "</thead>\n",
       "<tbody>\n",
       "<tr><td>evaluate_objective_c575fb02</td><td>RUNNING </td><td>131.234.29.24:26235</td><td style=\"text-align: right;\">0.990228</td><td style=\"text-align: right;\">    0.00064491 </td><td style=\"text-align: right;\">       3.14781 </td><td style=\"text-align: right;\">    10</td><td style=\"text-align: right;\">         47.8516</td><td style=\"text-align: right;\">      -2064.6</td><td style=\"text-align: right;\">             602</td><td style=\"text-align: right;\">            5</td></tr>\n",
       "<tr><td>evaluate_objective_c575fb03</td><td>RUNNING </td><td>131.234.29.24:26224</td><td style=\"text-align: right;\">0.992424</td><td style=\"text-align: right;\">    0.000166578</td><td style=\"text-align: right;\">       4.45429 </td><td style=\"text-align: right;\">    10</td><td style=\"text-align: right;\">         46.3541</td><td style=\"text-align: right;\">     -26803.4</td><td style=\"text-align: right;\">             602</td><td style=\"text-align: right;\">           14</td></tr>\n",
       "<tr><td>evaluate_objective_c575fb04</td><td>PENDING </td><td>                   </td><td style=\"text-align: right;\">0.998132</td><td style=\"text-align: right;\">    0.0026539  </td><td style=\"text-align: right;\">       0.891429</td><td style=\"text-align: right;\">      </td><td style=\"text-align: right;\">                </td><td style=\"text-align: right;\">             </td><td style=\"text-align: right;\">                </td><td style=\"text-align: right;\">             </td></tr>\n",
       "<tr><td>evaluate_objective_c575fb05</td><td>PENDING </td><td>                   </td><td style=\"text-align: right;\">0.995314</td><td style=\"text-align: right;\">    0.000825845</td><td style=\"text-align: right;\">       1.34788 </td><td style=\"text-align: right;\">      </td><td style=\"text-align: right;\">                </td><td style=\"text-align: right;\">             </td><td style=\"text-align: right;\">                </td><td style=\"text-align: right;\">             </td></tr>\n",
       "<tr><td>evaluate_objective_c575fb06</td><td>PENDING </td><td>                   </td><td style=\"text-align: right;\">0.99127 </td><td style=\"text-align: right;\">    0.00239913 </td><td style=\"text-align: right;\">       2.35207 </td><td style=\"text-align: right;\">      </td><td style=\"text-align: right;\">                </td><td style=\"text-align: right;\">             </td><td style=\"text-align: right;\">                </td><td style=\"text-align: right;\">             </td></tr>\n",
       "</tbody>\n",
       "</table><br><br>"
      ],
      "text/plain": [
       "<IPython.core.display.HTML object>"
      ]
     },
     "metadata": {},
     "output_type": "display_data"
    },
    {
     "name": "stderr",
     "output_type": "stream",
     "text": [
      "\u001b[2m\u001b[36m(pid=26235)\u001b[0m ERROR:root:Max counter exceeded\n",
      "\u001b[2m\u001b[36m(pid=26224)\u001b[0m ERROR:root:Max counter exceeded\n",
      "\u001b[2m\u001b[36m(pid=26224)\u001b[0m ERROR:root:Max counter exceeded\n",
      "\u001b[2m\u001b[36m(pid=26224)\u001b[0m ERROR:root:Max counter exceeded\n",
      "\u001b[2m\u001b[36m(pid=26235)\u001b[0m ERROR:root:Max counter exceeded\n",
      "\u001b[2m\u001b[36m(pid=26224)\u001b[0m ERROR:root:Max counter exceeded\n",
      "\u001b[2m\u001b[36m(pid=26235)\u001b[0m ERROR:root:Max counter exceeded\n"
     ]
    },
    {
     "name": "stdout",
     "output_type": "stream",
     "text": [
      "Result for evaluate_objective_c575fb03:\n",
      "  date: 2020-12-15_23-14-27\n",
      "  done: false\n",
      "  experiment_id: 9c64caf4f0a14459832fe803edf35758\n",
      "  experiment_tag: 2_gamma=0.99242,learning_rate=0.00016658,max_grad_norm=4.4543\n",
      "  hostname: aicon3\n",
      "  iterations_since_restore: 11\n",
      "  mean_ep_length: 602.0\n",
      "  mean_reward: -157144.2\n",
      "  node_ip: 131.234.29.24\n",
      "  packet_lost: 10\n",
      "  pid: 26224\n",
      "  time_since_restore: 50.78362250328064\n",
      "  time_this_iter_s: 4.429565668106079\n",
      "  time_total_s: 50.78362250328064\n",
      "  timestamp: 1608070467\n",
      "  timesteps_since_restore: 0\n",
      "  training_iteration: 11\n",
      "  trial_id: c575fb03\n",
      "  \n"
     ]
    },
    {
     "name": "stderr",
     "output_type": "stream",
     "text": [
      "\u001b[2m\u001b[36m(pid=26224)\u001b[0m ERROR:root:Max counter exceeded\n",
      "\u001b[2m\u001b[36m(pid=26235)\u001b[0m ERROR:root:Max counter exceeded\n",
      "\u001b[2m\u001b[36m(pid=26235)\u001b[0m ERROR:root:Max counter exceeded\n"
     ]
    },
    {
     "name": "stdout",
     "output_type": "stream",
     "text": [
      "Result for evaluate_objective_c575fb02:\n",
      "  date: 2020-12-15_23-14-29\n",
      "  done: false\n",
      "  experiment_id: 46b0c57ac75646e5b843e0a5d6b6f025\n",
      "  experiment_tag: 1_gamma=0.99023,learning_rate=0.00064491,max_grad_norm=3.1478\n",
      "  hostname: aicon3\n",
      "  iterations_since_restore: 11\n",
      "  mean_ep_length: 602.0\n",
      "  mean_reward: -2212.2\n",
      "  node_ip: 131.234.29.24\n",
      "  packet_lost: 13\n",
      "  pid: 26235\n",
      "  time_since_restore: 52.22571396827698\n",
      "  time_this_iter_s: 4.374143362045288\n",
      "  time_total_s: 52.22571396827698\n",
      "  timestamp: 1608070469\n",
      "  timesteps_since_restore: 0\n",
      "  training_iteration: 11\n",
      "  trial_id: c575fb02\n",
      "  \n"
     ]
    },
    {
     "name": "stderr",
     "output_type": "stream",
     "text": [
      "\u001b[2m\u001b[36m(pid=26235)\u001b[0m ERROR:root:Max counter exceeded\n",
      "\u001b[2m\u001b[36m(pid=26224)\u001b[0m ERROR:root:Max counter exceeded\n",
      "\u001b[2m\u001b[36m(pid=26224)\u001b[0m ERROR:root:Max counter exceeded\n",
      "\u001b[2m\u001b[36m(pid=26224)\u001b[0m ERROR:root:Max counter exceeded\n",
      "\u001b[2m\u001b[36m(pid=26235)\u001b[0m ERROR:root:Max counter exceeded\n",
      "\u001b[2m\u001b[36m(pid=26224)\u001b[0m ERROR:root:Max counter exceeded\n",
      "\u001b[2m\u001b[36m(pid=26235)\u001b[0m ERROR:root:Max counter exceeded\n"
     ]
    },
    {
     "data": {
      "text/html": [
       "== Status ==<br>Memory usage on this node: 7.6/31.4 GiB<br>Using AsyncHyperBand: num_stopped=0\n",
       "Bracket: Iter 90.000: None | Iter 30.000: None | Iter 10.000: -10310.866666666665<br>Resources requested: 16/16 CPUs, 0/0 GPUs, 0.0/15.14 GiB heap, 0.0/5.22 GiB objects<br>Result logdir: /home/aicon/ray_results/evaluate_objective<br>Number of trials: 5 (3 PENDING, 2 RUNNING)<br><table>\n",
       "<thead>\n",
       "<tr><th>Trial name                 </th><th>status  </th><th>loc                </th><th style=\"text-align: right;\">   gamma</th><th style=\"text-align: right;\">  learning_rate</th><th style=\"text-align: right;\">  max_grad_norm</th><th style=\"text-align: right;\">  iter</th><th style=\"text-align: right;\">  total time (s)</th><th style=\"text-align: right;\">  mean_reward</th><th style=\"text-align: right;\">  mean_ep_length</th><th style=\"text-align: right;\">  packet_lost</th></tr>\n",
       "</thead>\n",
       "<tbody>\n",
       "<tr><td>evaluate_objective_c575fb02</td><td>RUNNING </td><td>131.234.29.24:26235</td><td style=\"text-align: right;\">0.990228</td><td style=\"text-align: right;\">    0.00064491 </td><td style=\"text-align: right;\">       3.14781 </td><td style=\"text-align: right;\">    11</td><td style=\"text-align: right;\">         52.2257</td><td style=\"text-align: right;\">      -2212.2</td><td style=\"text-align: right;\">             602</td><td style=\"text-align: right;\">           13</td></tr>\n",
       "<tr><td>evaluate_objective_c575fb03</td><td>RUNNING </td><td>131.234.29.24:26224</td><td style=\"text-align: right;\">0.992424</td><td style=\"text-align: right;\">    0.000166578</td><td style=\"text-align: right;\">       4.45429 </td><td style=\"text-align: right;\">    12</td><td style=\"text-align: right;\">         55.289 </td><td style=\"text-align: right;\">     -81104.4</td><td style=\"text-align: right;\">             602</td><td style=\"text-align: right;\">            5</td></tr>\n",
       "<tr><td>evaluate_objective_c575fb04</td><td>PENDING </td><td>                   </td><td style=\"text-align: right;\">0.998132</td><td style=\"text-align: right;\">    0.0026539  </td><td style=\"text-align: right;\">       0.891429</td><td style=\"text-align: right;\">      </td><td style=\"text-align: right;\">                </td><td style=\"text-align: right;\">             </td><td style=\"text-align: right;\">                </td><td style=\"text-align: right;\">             </td></tr>\n",
       "<tr><td>evaluate_objective_c575fb05</td><td>PENDING </td><td>                   </td><td style=\"text-align: right;\">0.995314</td><td style=\"text-align: right;\">    0.000825845</td><td style=\"text-align: right;\">       1.34788 </td><td style=\"text-align: right;\">      </td><td style=\"text-align: right;\">                </td><td style=\"text-align: right;\">             </td><td style=\"text-align: right;\">                </td><td style=\"text-align: right;\">             </td></tr>\n",
       "<tr><td>evaluate_objective_c575fb06</td><td>PENDING </td><td>                   </td><td style=\"text-align: right;\">0.99127 </td><td style=\"text-align: right;\">    0.00239913 </td><td style=\"text-align: right;\">       2.35207 </td><td style=\"text-align: right;\">      </td><td style=\"text-align: right;\">                </td><td style=\"text-align: right;\">             </td><td style=\"text-align: right;\">                </td><td style=\"text-align: right;\">             </td></tr>\n",
       "</tbody>\n",
       "</table><br><br>"
      ],
      "text/plain": [
       "<IPython.core.display.HTML object>"
      ]
     },
     "metadata": {},
     "output_type": "display_data"
    },
    {
     "name": "stderr",
     "output_type": "stream",
     "text": [
      "\u001b[2m\u001b[36m(pid=26224)\u001b[0m ERROR:root:Max counter exceeded\n",
      "\u001b[2m\u001b[36m(pid=26235)\u001b[0m ERROR:root:Max counter exceeded\n",
      "\u001b[2m\u001b[36m(pid=26235)\u001b[0m ERROR:root:Max counter exceeded\n",
      "\u001b[2m\u001b[36m(pid=26235)\u001b[0m ERROR:root:Max counter exceeded\n",
      "\u001b[2m\u001b[36m(pid=26224)\u001b[0m ERROR:root:Max counter exceeded\n",
      "\u001b[2m\u001b[36m(pid=26224)\u001b[0m ERROR:root:Max counter exceeded\n",
      "\u001b[2m\u001b[36m(pid=26224)\u001b[0m ERROR:root:Max counter exceeded\n",
      "\u001b[2m\u001b[36m(pid=26235)\u001b[0m ERROR:root:Max counter exceeded\n",
      "\u001b[2m\u001b[36m(pid=26224)\u001b[0m ERROR:root:Max counter exceeded\n",
      "\u001b[2m\u001b[36m(pid=26235)\u001b[0m ERROR:root:Max counter exceeded\n"
     ]
    },
    {
     "name": "stdout",
     "output_type": "stream",
     "text": [
      "Result for evaluate_objective_c575fb03:\n",
      "  date: 2020-12-15_23-14-36\n",
      "  done: false\n",
      "  experiment_id: 9c64caf4f0a14459832fe803edf35758\n",
      "  experiment_tag: 2_gamma=0.99242,learning_rate=0.00016658,max_grad_norm=4.4543\n",
      "  hostname: aicon3\n",
      "  iterations_since_restore: 13\n",
      "  mean_ep_length: 602.0\n",
      "  mean_reward: -2419.2\n",
      "  node_ip: 131.234.29.24\n",
      "  packet_lost: 2\n",
      "  pid: 26224\n",
      "  time_since_restore: 59.81099033355713\n",
      "  time_this_iter_s: 4.522005796432495\n",
      "  time_total_s: 59.81099033355713\n",
      "  timestamp: 1608070476\n",
      "  timesteps_since_restore: 0\n",
      "  training_iteration: 13\n",
      "  trial_id: c575fb03\n",
      "  \n"
     ]
    },
    {
     "name": "stderr",
     "output_type": "stream",
     "text": [
      "\u001b[2m\u001b[36m(pid=26224)\u001b[0m ERROR:root:Max counter exceeded\n",
      "\u001b[2m\u001b[36m(pid=26235)\u001b[0m ERROR:root:Max counter exceeded\n",
      "\u001b[2m\u001b[36m(pid=26235)\u001b[0m ERROR:root:Max counter exceeded\n"
     ]
    },
    {
     "name": "stdout",
     "output_type": "stream",
     "text": [
      "Result for evaluate_objective_c575fb02:\n",
      "  date: 2020-12-15_23-14-38\n",
      "  done: false\n",
      "  experiment_id: 46b0c57ac75646e5b843e0a5d6b6f025\n",
      "  experiment_tag: 1_gamma=0.99023,learning_rate=0.00064491,max_grad_norm=3.1478\n",
      "  hostname: aicon3\n",
      "  iterations_since_restore: 13\n",
      "  mean_ep_length: 602.0\n",
      "  mean_reward: -3327.0\n",
      "  node_ip: 131.234.29.24\n",
      "  packet_lost: 0\n",
      "  pid: 26235\n",
      "  time_since_restore: 61.1561119556427\n",
      "  time_this_iter_s: 4.529921770095825\n",
      "  time_total_s: 61.1561119556427\n",
      "  timestamp: 1608070478\n",
      "  timesteps_since_restore: 0\n",
      "  training_iteration: 13\n",
      "  trial_id: c575fb02\n",
      "  \n"
     ]
    },
    {
     "data": {
      "text/html": [
       "== Status ==<br>Memory usage on this node: 7.6/31.4 GiB<br>Using AsyncHyperBand: num_stopped=0\n",
       "Bracket: Iter 90.000: None | Iter 30.000: None | Iter 10.000: -10310.866666666665<br>Resources requested: 16/16 CPUs, 0/0 GPUs, 0.0/15.14 GiB heap, 0.0/5.22 GiB objects<br>Result logdir: /home/aicon/ray_results/evaluate_objective<br>Number of trials: 5 (3 PENDING, 2 RUNNING)<br><table>\n",
       "<thead>\n",
       "<tr><th>Trial name                 </th><th>status  </th><th>loc                </th><th style=\"text-align: right;\">   gamma</th><th style=\"text-align: right;\">  learning_rate</th><th style=\"text-align: right;\">  max_grad_norm</th><th style=\"text-align: right;\">  iter</th><th style=\"text-align: right;\">  total time (s)</th><th style=\"text-align: right;\">  mean_reward</th><th style=\"text-align: right;\">  mean_ep_length</th><th style=\"text-align: right;\">  packet_lost</th></tr>\n",
       "</thead>\n",
       "<tbody>\n",
       "<tr><td>evaluate_objective_c575fb02</td><td>RUNNING </td><td>131.234.29.24:26235</td><td style=\"text-align: right;\">0.990228</td><td style=\"text-align: right;\">    0.00064491 </td><td style=\"text-align: right;\">       3.14781 </td><td style=\"text-align: right;\">    13</td><td style=\"text-align: right;\">         61.1561</td><td style=\"text-align: right;\">      -3327  </td><td style=\"text-align: right;\">             602</td><td style=\"text-align: right;\">            0</td></tr>\n",
       "<tr><td>evaluate_objective_c575fb03</td><td>RUNNING </td><td>131.234.29.24:26224</td><td style=\"text-align: right;\">0.992424</td><td style=\"text-align: right;\">    0.000166578</td><td style=\"text-align: right;\">       4.45429 </td><td style=\"text-align: right;\">    13</td><td style=\"text-align: right;\">         59.811 </td><td style=\"text-align: right;\">      -2419.2</td><td style=\"text-align: right;\">             602</td><td style=\"text-align: right;\">            2</td></tr>\n",
       "<tr><td>evaluate_objective_c575fb04</td><td>PENDING </td><td>                   </td><td style=\"text-align: right;\">0.998132</td><td style=\"text-align: right;\">    0.0026539  </td><td style=\"text-align: right;\">       0.891429</td><td style=\"text-align: right;\">      </td><td style=\"text-align: right;\">                </td><td style=\"text-align: right;\">             </td><td style=\"text-align: right;\">                </td><td style=\"text-align: right;\">             </td></tr>\n",
       "<tr><td>evaluate_objective_c575fb05</td><td>PENDING </td><td>                   </td><td style=\"text-align: right;\">0.995314</td><td style=\"text-align: right;\">    0.000825845</td><td style=\"text-align: right;\">       1.34788 </td><td style=\"text-align: right;\">      </td><td style=\"text-align: right;\">                </td><td style=\"text-align: right;\">             </td><td style=\"text-align: right;\">                </td><td style=\"text-align: right;\">             </td></tr>\n",
       "<tr><td>evaluate_objective_c575fb06</td><td>PENDING </td><td>                   </td><td style=\"text-align: right;\">0.99127 </td><td style=\"text-align: right;\">    0.00239913 </td><td style=\"text-align: right;\">       2.35207 </td><td style=\"text-align: right;\">      </td><td style=\"text-align: right;\">                </td><td style=\"text-align: right;\">             </td><td style=\"text-align: right;\">                </td><td style=\"text-align: right;\">             </td></tr>\n",
       "</tbody>\n",
       "</table><br><br>"
      ],
      "text/plain": [
       "<IPython.core.display.HTML object>"
      ]
     },
     "metadata": {},
     "output_type": "display_data"
    },
    {
     "name": "stderr",
     "output_type": "stream",
     "text": [
      "\u001b[2m\u001b[36m(pid=26235)\u001b[0m ERROR:root:Max counter exceeded\n",
      "\u001b[2m\u001b[36m(pid=26224)\u001b[0m ERROR:root:Max counter exceeded\n",
      "\u001b[2m\u001b[36m(pid=26224)\u001b[0m ERROR:root:Max counter exceeded\n",
      "\u001b[2m\u001b[36m(pid=26224)\u001b[0m ERROR:root:Max counter exceeded\n",
      "\u001b[2m\u001b[36m(pid=26235)\u001b[0m ERROR:root:Max counter exceeded\n",
      "\u001b[2m\u001b[36m(pid=26224)\u001b[0m ERROR:root:Max counter exceeded\n",
      "\u001b[2m\u001b[36m(pid=26235)\u001b[0m ERROR:root:Max counter exceeded\n",
      "\u001b[2m\u001b[36m(pid=26224)\u001b[0m ERROR:root:Max counter exceeded\n",
      "\u001b[2m\u001b[36m(pid=26235)\u001b[0m ERROR:root:Max counter exceeded\n",
      "\u001b[2m\u001b[36m(pid=26235)\u001b[0m ERROR:root:Max counter exceeded\n",
      "\u001b[2m\u001b[36m(pid=26235)\u001b[0m ERROR:root:Max counter exceeded\n",
      "\u001b[2m\u001b[36m(pid=26224)\u001b[0m ERROR:root:Max counter exceeded\n",
      "\u001b[2m\u001b[36m(pid=26224)\u001b[0m ERROR:root:Max counter exceeded\n",
      "\u001b[2m\u001b[36m(pid=26235)\u001b[0m ERROR:root:Max counter exceeded\n",
      "\u001b[2m\u001b[36m(pid=26224)\u001b[0m ERROR:root:Max counter exceeded\n",
      "\u001b[2m\u001b[36m(pid=26235)\u001b[0m ERROR:root:Max counter exceeded\n",
      "\u001b[2m\u001b[36m(pid=26224)\u001b[0m ERROR:root:Max counter exceeded\n"
     ]
    },
    {
     "name": "stdout",
     "output_type": "stream",
     "text": [
      "Result for evaluate_objective_c575fb03:\n",
      "  date: 2020-12-15_23-14-45\n",
      "  done: false\n",
      "  experiment_id: 9c64caf4f0a14459832fe803edf35758\n",
      "  experiment_tag: 2_gamma=0.99242,learning_rate=0.00016658,max_grad_norm=4.4543\n",
      "  hostname: aicon3\n",
      "  iterations_since_restore: 15\n",
      "  mean_ep_length: 602.0\n",
      "  mean_reward: -12736.8\n",
      "  node_ip: 131.234.29.24\n",
      "  packet_lost: 0\n",
      "  pid: 26224\n",
      "  time_since_restore: 68.84430193901062\n",
      "  time_this_iter_s: 4.529452085494995\n",
      "  time_total_s: 68.84430193901062\n",
      "  timestamp: 1608070485\n",
      "  timesteps_since_restore: 0\n",
      "  training_iteration: 15\n",
      "  trial_id: c575fb03\n",
      "  \n"
     ]
    },
    {
     "name": "stderr",
     "output_type": "stream",
     "text": [
      "\u001b[2m\u001b[36m(pid=26235)\u001b[0m ERROR:root:Max counter exceeded\n"
     ]
    },
    {
     "data": {
      "text/html": [
       "== Status ==<br>Memory usage on this node: 7.6/31.4 GiB<br>Using AsyncHyperBand: num_stopped=0\n",
       "Bracket: Iter 90.000: None | Iter 30.000: None | Iter 10.000: -10310.866666666665<br>Resources requested: 16/16 CPUs, 0/0 GPUs, 0.0/15.14 GiB heap, 0.0/5.22 GiB objects<br>Result logdir: /home/aicon/ray_results/evaluate_objective<br>Number of trials: 5 (3 PENDING, 2 RUNNING)<br><table>\n",
       "<thead>\n",
       "<tr><th>Trial name                 </th><th>status  </th><th>loc                </th><th style=\"text-align: right;\">   gamma</th><th style=\"text-align: right;\">  learning_rate</th><th style=\"text-align: right;\">  max_grad_norm</th><th style=\"text-align: right;\">  iter</th><th style=\"text-align: right;\">  total time (s)</th><th style=\"text-align: right;\">  mean_reward</th><th style=\"text-align: right;\">  mean_ep_length</th><th style=\"text-align: right;\">  packet_lost</th></tr>\n",
       "</thead>\n",
       "<tbody>\n",
       "<tr><td>evaluate_objective_c575fb02</td><td>RUNNING </td><td>131.234.29.24:26235</td><td style=\"text-align: right;\">0.990228</td><td style=\"text-align: right;\">    0.00064491 </td><td style=\"text-align: right;\">       3.14781 </td><td style=\"text-align: right;\">    14</td><td style=\"text-align: right;\">         65.4965</td><td style=\"text-align: right;\">      -1967.4</td><td style=\"text-align: right;\">             602</td><td style=\"text-align: right;\">            0</td></tr>\n",
       "<tr><td>evaluate_objective_c575fb03</td><td>RUNNING </td><td>131.234.29.24:26224</td><td style=\"text-align: right;\">0.992424</td><td style=\"text-align: right;\">    0.000166578</td><td style=\"text-align: right;\">       4.45429 </td><td style=\"text-align: right;\">    15</td><td style=\"text-align: right;\">         68.8443</td><td style=\"text-align: right;\">     -12736.8</td><td style=\"text-align: right;\">             602</td><td style=\"text-align: right;\">            0</td></tr>\n",
       "<tr><td>evaluate_objective_c575fb04</td><td>PENDING </td><td>                   </td><td style=\"text-align: right;\">0.998132</td><td style=\"text-align: right;\">    0.0026539  </td><td style=\"text-align: right;\">       0.891429</td><td style=\"text-align: right;\">      </td><td style=\"text-align: right;\">                </td><td style=\"text-align: right;\">             </td><td style=\"text-align: right;\">                </td><td style=\"text-align: right;\">             </td></tr>\n",
       "<tr><td>evaluate_objective_c575fb05</td><td>PENDING </td><td>                   </td><td style=\"text-align: right;\">0.995314</td><td style=\"text-align: right;\">    0.000825845</td><td style=\"text-align: right;\">       1.34788 </td><td style=\"text-align: right;\">      </td><td style=\"text-align: right;\">                </td><td style=\"text-align: right;\">             </td><td style=\"text-align: right;\">                </td><td style=\"text-align: right;\">             </td></tr>\n",
       "<tr><td>evaluate_objective_c575fb06</td><td>PENDING </td><td>                   </td><td style=\"text-align: right;\">0.99127 </td><td style=\"text-align: right;\">    0.00239913 </td><td style=\"text-align: right;\">       2.35207 </td><td style=\"text-align: right;\">      </td><td style=\"text-align: right;\">                </td><td style=\"text-align: right;\">             </td><td style=\"text-align: right;\">                </td><td style=\"text-align: right;\">             </td></tr>\n",
       "</tbody>\n",
       "</table><br><br>"
      ],
      "text/plain": [
       "<IPython.core.display.HTML object>"
      ]
     },
     "metadata": {},
     "output_type": "display_data"
    },
    {
     "name": "stderr",
     "output_type": "stream",
     "text": [
      "\u001b[2m\u001b[36m(pid=26224)\u001b[0m ERROR:root:Max counter exceeded\n",
      "\u001b[2m\u001b[36m(pid=26235)\u001b[0m ERROR:root:Max counter exceeded\n"
     ]
    },
    {
     "name": "stdout",
     "output_type": "stream",
     "text": [
      "Result for evaluate_objective_c575fb02:\n",
      "  date: 2020-12-15_23-14-46\n",
      "  done: false\n",
      "  experiment_id: 46b0c57ac75646e5b843e0a5d6b6f025\n",
      "  experiment_tag: 1_gamma=0.99023,learning_rate=0.00064491,max_grad_norm=3.1478\n",
      "  hostname: aicon3\n",
      "  iterations_since_restore: 15\n",
      "  mean_ep_length: 602.0\n",
      "  mean_reward: -1942.2\n",
      "  node_ip: 131.234.29.24\n",
      "  packet_lost: 4\n",
      "  pid: 26235\n",
      "  time_since_restore: 69.77798295021057\n",
      "  time_this_iter_s: 4.281516075134277\n",
      "  time_total_s: 69.77798295021057\n",
      "  timestamp: 1608070486\n",
      "  timesteps_since_restore: 0\n",
      "  training_iteration: 15\n",
      "  trial_id: c575fb02\n",
      "  \n"
     ]
    },
    {
     "name": "stderr",
     "output_type": "stream",
     "text": [
      "\u001b[2m\u001b[36m(pid=26235)\u001b[0m ERROR:root:Max counter exceeded\n",
      "\u001b[2m\u001b[36m(pid=26224)\u001b[0m ERROR:root:Max counter exceeded\n",
      "\u001b[2m\u001b[36m(pid=26224)\u001b[0m ERROR:root:Max counter exceeded\n",
      "\u001b[2m\u001b[36m(pid=26235)\u001b[0m ERROR:root:Max counter exceeded\n",
      "\u001b[2m\u001b[36m(pid=26224)\u001b[0m ERROR:root:Max counter exceeded\n",
      "\u001b[2m\u001b[36m(pid=26235)\u001b[0m ERROR:root:Max counter exceeded\n",
      "\u001b[2m\u001b[36m(pid=26224)\u001b[0m ERROR:root:Max counter exceeded\n",
      "\u001b[2m\u001b[36m(pid=26235)\u001b[0m ERROR:root:Max counter exceeded\n",
      "\u001b[2m\u001b[36m(pid=26235)\u001b[0m ERROR:root:Max counter exceeded\n",
      "\u001b[2m\u001b[36m(pid=26224)\u001b[0m ERROR:root:Max counter exceeded\n"
     ]
    },
    {
     "data": {
      "text/html": [
       "== Status ==<br>Memory usage on this node: 7.6/31.4 GiB<br>Using AsyncHyperBand: num_stopped=0\n",
       "Bracket: Iter 90.000: None | Iter 30.000: None | Iter 10.000: -10310.866666666665<br>Resources requested: 16/16 CPUs, 0/0 GPUs, 0.0/15.14 GiB heap, 0.0/5.22 GiB objects<br>Result logdir: /home/aicon/ray_results/evaluate_objective<br>Number of trials: 5 (3 PENDING, 2 RUNNING)<br><table>\n",
       "<thead>\n",
       "<tr><th>Trial name                 </th><th>status  </th><th>loc                </th><th style=\"text-align: right;\">   gamma</th><th style=\"text-align: right;\">  learning_rate</th><th style=\"text-align: right;\">  max_grad_norm</th><th style=\"text-align: right;\">  iter</th><th style=\"text-align: right;\">  total time (s)</th><th style=\"text-align: right;\">  mean_reward</th><th style=\"text-align: right;\">  mean_ep_length</th><th style=\"text-align: right;\">  packet_lost</th></tr>\n",
       "</thead>\n",
       "<tbody>\n",
       "<tr><td>evaluate_objective_c575fb02</td><td>RUNNING </td><td>131.234.29.24:26235</td><td style=\"text-align: right;\">0.990228</td><td style=\"text-align: right;\">    0.00064491 </td><td style=\"text-align: right;\">       3.14781 </td><td style=\"text-align: right;\">    16</td><td style=\"text-align: right;\">         74.0008</td><td style=\"text-align: right;\">      -1914  </td><td style=\"text-align: right;\">             602</td><td style=\"text-align: right;\">            5</td></tr>\n",
       "<tr><td>evaluate_objective_c575fb03</td><td>RUNNING </td><td>131.234.29.24:26224</td><td style=\"text-align: right;\">0.992424</td><td style=\"text-align: right;\">    0.000166578</td><td style=\"text-align: right;\">       4.45429 </td><td style=\"text-align: right;\">    16</td><td style=\"text-align: right;\">         73.4481</td><td style=\"text-align: right;\">     -23272.8</td><td style=\"text-align: right;\">             602</td><td style=\"text-align: right;\">            8</td></tr>\n",
       "<tr><td>evaluate_objective_c575fb04</td><td>PENDING </td><td>                   </td><td style=\"text-align: right;\">0.998132</td><td style=\"text-align: right;\">    0.0026539  </td><td style=\"text-align: right;\">       0.891429</td><td style=\"text-align: right;\">      </td><td style=\"text-align: right;\">                </td><td style=\"text-align: right;\">             </td><td style=\"text-align: right;\">                </td><td style=\"text-align: right;\">             </td></tr>\n",
       "<tr><td>evaluate_objective_c575fb05</td><td>PENDING </td><td>                   </td><td style=\"text-align: right;\">0.995314</td><td style=\"text-align: right;\">    0.000825845</td><td style=\"text-align: right;\">       1.34788 </td><td style=\"text-align: right;\">      </td><td style=\"text-align: right;\">                </td><td style=\"text-align: right;\">             </td><td style=\"text-align: right;\">                </td><td style=\"text-align: right;\">             </td></tr>\n",
       "<tr><td>evaluate_objective_c575fb06</td><td>PENDING </td><td>                   </td><td style=\"text-align: right;\">0.99127 </td><td style=\"text-align: right;\">    0.00239913 </td><td style=\"text-align: right;\">       2.35207 </td><td style=\"text-align: right;\">      </td><td style=\"text-align: right;\">                </td><td style=\"text-align: right;\">             </td><td style=\"text-align: right;\">                </td><td style=\"text-align: right;\">             </td></tr>\n",
       "</tbody>\n",
       "</table><br><br>"
      ],
      "text/plain": [
       "<IPython.core.display.HTML object>"
      ]
     },
     "metadata": {},
     "output_type": "display_data"
    },
    {
     "name": "stderr",
     "output_type": "stream",
     "text": [
      "\u001b[2m\u001b[36m(pid=26235)\u001b[0m ERROR:root:Max counter exceeded\n",
      "\u001b[2m\u001b[36m(pid=26224)\u001b[0m ERROR:root:Max counter exceeded\n",
      "\u001b[2m\u001b[36m(pid=26235)\u001b[0m ERROR:root:Max counter exceeded\n",
      "\u001b[2m\u001b[36m(pid=26224)\u001b[0m ERROR:root:Max counter exceeded\n",
      "\u001b[2m\u001b[36m(pid=26235)\u001b[0m ERROR:root:Max counter exceeded\n",
      "\u001b[2m\u001b[36m(pid=26224)\u001b[0m ERROR:root:Max counter exceeded\n",
      "\u001b[2m\u001b[36m(pid=26235)\u001b[0m ERROR:root:Max counter exceeded\n",
      "\u001b[2m\u001b[36m(pid=26224)\u001b[0m ERROR:root:Max counter exceeded\n"
     ]
    },
    {
     "name": "stdout",
     "output_type": "stream",
     "text": [
      "Result for evaluate_objective_c575fb03:\n",
      "  date: 2020-12-15_23-14-54\n",
      "  done: false\n",
      "  experiment_id: 9c64caf4f0a14459832fe803edf35758\n",
      "  experiment_tag: 2_gamma=0.99242,learning_rate=0.00016658,max_grad_norm=4.4543\n",
      "  hostname: aicon3\n",
      "  iterations_since_restore: 17\n",
      "  mean_ep_length: 602.0\n",
      "  mean_reward: -12762.6\n",
      "  node_ip: 131.234.29.24\n",
      "  packet_lost: 3\n",
      "  pid: 26224\n",
      "  time_since_restore: 77.83147644996643\n",
      "  time_this_iter_s: 4.383368730545044\n",
      "  time_total_s: 77.83147644996643\n",
      "  timestamp: 1608070494\n",
      "  timesteps_since_restore: 0\n",
      "  training_iteration: 17\n",
      "  trial_id: c575fb03\n",
      "  \n"
     ]
    },
    {
     "name": "stderr",
     "output_type": "stream",
     "text": [
      "\u001b[2m\u001b[36m(pid=26235)\u001b[0m ERROR:root:Max counter exceeded\n",
      "\u001b[2m\u001b[36m(pid=26224)\u001b[0m ERROR:root:Max counter exceeded\n"
     ]
    },
    {
     "name": "stdout",
     "output_type": "stream",
     "text": [
      "Result for evaluate_objective_c575fb02:\n",
      "  date: 2020-12-15_23-14-55\n",
      "  done: false\n",
      "  experiment_id: 46b0c57ac75646e5b843e0a5d6b6f025\n",
      "  experiment_tag: 1_gamma=0.99023,learning_rate=0.00064491,max_grad_norm=3.1478\n",
      "  hostname: aicon3\n",
      "  iterations_since_restore: 17\n",
      "  mean_ep_length: 602.0\n",
      "  mean_reward: -1839.0\n",
      "  node_ip: 131.234.29.24\n",
      "  packet_lost: 0\n",
      "  pid: 26235\n",
      "  time_since_restore: 78.39140582084656\n",
      "  time_this_iter_s: 4.390631437301636\n",
      "  time_total_s: 78.39140582084656\n",
      "  timestamp: 1608070495\n",
      "  timesteps_since_restore: 0\n",
      "  training_iteration: 17\n",
      "  trial_id: c575fb02\n",
      "  \n"
     ]
    },
    {
     "name": "stderr",
     "output_type": "stream",
     "text": [
      "\u001b[2m\u001b[36m(pid=26235)\u001b[0m ERROR:root:Max counter exceeded\n",
      "\u001b[2m\u001b[36m(pid=26224)\u001b[0m ERROR:root:Max counter exceeded\n",
      "\u001b[2m\u001b[36m(pid=26235)\u001b[0m ERROR:root:Max counter exceeded\n",
      "\u001b[2m\u001b[36m(pid=26224)\u001b[0m ERROR:root:Max counter exceeded\n",
      "\u001b[2m\u001b[36m(pid=26235)\u001b[0m ERROR:root:Max counter exceeded\n",
      "\u001b[2m\u001b[36m(pid=26224)\u001b[0m ERROR:root:Max counter exceeded\n",
      "\u001b[2m\u001b[36m(pid=26235)\u001b[0m ERROR:root:Max counter exceeded\n",
      "\u001b[2m\u001b[36m(pid=26224)\u001b[0m ERROR:root:Max counter exceeded\n"
     ]
    },
    {
     "data": {
      "text/html": [
       "== Status ==<br>Memory usage on this node: 7.6/31.4 GiB<br>Using AsyncHyperBand: num_stopped=0\n",
       "Bracket: Iter 90.000: None | Iter 30.000: None | Iter 10.000: -10310.866666666665<br>Resources requested: 16/16 CPUs, 0/0 GPUs, 0.0/15.14 GiB heap, 0.0/5.22 GiB objects<br>Result logdir: /home/aicon/ray_results/evaluate_objective<br>Number of trials: 5 (3 PENDING, 2 RUNNING)<br><table>\n",
       "<thead>\n",
       "<tr><th>Trial name                 </th><th>status  </th><th>loc                </th><th style=\"text-align: right;\">   gamma</th><th style=\"text-align: right;\">  learning_rate</th><th style=\"text-align: right;\">  max_grad_norm</th><th style=\"text-align: right;\">  iter</th><th style=\"text-align: right;\">  total time (s)</th><th style=\"text-align: right;\">  mean_reward</th><th style=\"text-align: right;\">  mean_ep_length</th><th style=\"text-align: right;\">  packet_lost</th></tr>\n",
       "</thead>\n",
       "<tbody>\n",
       "<tr><td>evaluate_objective_c575fb02</td><td>RUNNING </td><td>131.234.29.24:26235</td><td style=\"text-align: right;\">0.990228</td><td style=\"text-align: right;\">    0.00064491 </td><td style=\"text-align: right;\">       3.14781 </td><td style=\"text-align: right;\">    17</td><td style=\"text-align: right;\">         78.3914</td><td style=\"text-align: right;\">      -1839  </td><td style=\"text-align: right;\">             602</td><td style=\"text-align: right;\">            0</td></tr>\n",
       "<tr><td>evaluate_objective_c575fb03</td><td>RUNNING </td><td>131.234.29.24:26224</td><td style=\"text-align: right;\">0.992424</td><td style=\"text-align: right;\">    0.000166578</td><td style=\"text-align: right;\">       4.45429 </td><td style=\"text-align: right;\">    18</td><td style=\"text-align: right;\">         82.1955</td><td style=\"text-align: right;\">      -1945.8</td><td style=\"text-align: right;\">             602</td><td style=\"text-align: right;\">            5</td></tr>\n",
       "<tr><td>evaluate_objective_c575fb04</td><td>PENDING </td><td>                   </td><td style=\"text-align: right;\">0.998132</td><td style=\"text-align: right;\">    0.0026539  </td><td style=\"text-align: right;\">       0.891429</td><td style=\"text-align: right;\">      </td><td style=\"text-align: right;\">                </td><td style=\"text-align: right;\">             </td><td style=\"text-align: right;\">                </td><td style=\"text-align: right;\">             </td></tr>\n",
       "<tr><td>evaluate_objective_c575fb05</td><td>PENDING </td><td>                   </td><td style=\"text-align: right;\">0.995314</td><td style=\"text-align: right;\">    0.000825845</td><td style=\"text-align: right;\">       1.34788 </td><td style=\"text-align: right;\">      </td><td style=\"text-align: right;\">                </td><td style=\"text-align: right;\">             </td><td style=\"text-align: right;\">                </td><td style=\"text-align: right;\">             </td></tr>\n",
       "<tr><td>evaluate_objective_c575fb06</td><td>PENDING </td><td>                   </td><td style=\"text-align: right;\">0.99127 </td><td style=\"text-align: right;\">    0.00239913 </td><td style=\"text-align: right;\">       2.35207 </td><td style=\"text-align: right;\">      </td><td style=\"text-align: right;\">                </td><td style=\"text-align: right;\">             </td><td style=\"text-align: right;\">                </td><td style=\"text-align: right;\">             </td></tr>\n",
       "</tbody>\n",
       "</table><br><br>"
      ],
      "text/plain": [
       "<IPython.core.display.HTML object>"
      ]
     },
     "metadata": {},
     "output_type": "display_data"
    },
    {
     "name": "stderr",
     "output_type": "stream",
     "text": [
      "\u001b[2m\u001b[36m(pid=26235)\u001b[0m ERROR:root:Max counter exceeded\n",
      "\u001b[2m\u001b[36m(pid=26224)\u001b[0m ERROR:root:Max counter exceeded\n",
      "\u001b[2m\u001b[36m(pid=26235)\u001b[0m ERROR:root:Max counter exceeded\n",
      "\u001b[2m\u001b[36m(pid=26224)\u001b[0m ERROR:root:Max counter exceeded\n",
      "\u001b[2m\u001b[36m(pid=26235)\u001b[0m ERROR:root:Max counter exceeded\n",
      "\u001b[2m\u001b[36m(pid=26224)\u001b[0m ERROR:root:Max counter exceeded\n",
      "\u001b[2m\u001b[36m(pid=26235)\u001b[0m ERROR:root:Max counter exceeded\n",
      "\u001b[2m\u001b[36m(pid=26224)\u001b[0m ERROR:root:Max counter exceeded\n",
      "\u001b[2m\u001b[36m(pid=26235)\u001b[0m ERROR:root:Max counter exceeded\n",
      "\u001b[2m\u001b[36m(pid=26224)\u001b[0m ERROR:root:Max counter exceeded\n",
      "\u001b[2m\u001b[36m(pid=26235)\u001b[0m ERROR:root:Max counter exceeded\n"
     ]
    },
    {
     "name": "stdout",
     "output_type": "stream",
     "text": [
      "Result for evaluate_objective_c575fb03:\n",
      "  date: 2020-12-15_23-15-04\n",
      "  done: false\n",
      "  experiment_id: 9c64caf4f0a14459832fe803edf35758\n",
      "  experiment_tag: 2_gamma=0.99242,learning_rate=0.00016658,max_grad_norm=4.4543\n",
      "  hostname: aicon3\n",
      "  iterations_since_restore: 19\n",
      "  mean_ep_length: 602.0\n",
      "  mean_reward: -3009.0\n",
      "  node_ip: 131.234.29.24\n",
      "  packet_lost: 1\n",
      "  pid: 26224\n",
      "  time_since_restore: 86.96818232536316\n",
      "  time_this_iter_s: 4.77265477180481\n",
      "  time_total_s: 86.96818232536316\n",
      "  timestamp: 1608070504\n",
      "  timesteps_since_restore: 0\n",
      "  training_iteration: 19\n",
      "  trial_id: c575fb03\n",
      "  \n",
      "Result for evaluate_objective_c575fb02:\n",
      "  date: 2020-12-15_23-15-04\n",
      "  done: false\n",
      "  experiment_id: 46b0c57ac75646e5b843e0a5d6b6f025\n",
      "  experiment_tag: 1_gamma=0.99023,learning_rate=0.00064491,max_grad_norm=3.1478\n",
      "  hostname: aicon3\n",
      "  iterations_since_restore: 19\n",
      "  mean_ep_length: 602.0\n",
      "  mean_reward: -1839.0\n",
      "  node_ip: 131.234.29.24\n",
      "  packet_lost: 0\n",
      "  pid: 26235\n",
      "  time_since_restore: 87.0649528503418\n",
      "  time_this_iter_s: 4.352144956588745\n",
      "  time_total_s: 87.0649528503418\n",
      "  timestamp: 1608070504\n",
      "  timesteps_since_restore: 0\n",
      "  training_iteration: 19\n",
      "  trial_id: c575fb02\n",
      "  \n"
     ]
    },
    {
     "name": "stderr",
     "output_type": "stream",
     "text": [
      "\u001b[2m\u001b[36m(pid=26224)\u001b[0m ERROR:root:Max counter exceeded\n",
      "\u001b[2m\u001b[36m(pid=26235)\u001b[0m ERROR:root:Max counter exceeded\n",
      "\u001b[2m\u001b[36m(pid=26224)\u001b[0m ERROR:root:Max counter exceeded\n",
      "\u001b[2m\u001b[36m(pid=26235)\u001b[0m ERROR:root:Max counter exceeded\n",
      "\u001b[2m\u001b[36m(pid=26224)\u001b[0m ERROR:root:Max counter exceeded\n",
      "\u001b[2m\u001b[36m(pid=26235)\u001b[0m ERROR:root:Max counter exceeded\n",
      "\u001b[2m\u001b[36m(pid=26235)\u001b[0m ERROR:root:Max counter exceeded\n",
      "\u001b[2m\u001b[36m(pid=26224)\u001b[0m ERROR:root:Max counter exceeded\n",
      "\u001b[2m\u001b[36m(pid=26235)\u001b[0m ERROR:root:Max counter exceeded\n",
      "\u001b[2m\u001b[36m(pid=26224)\u001b[0m ERROR:root:Max counter exceeded\n"
     ]
    },
    {
     "data": {
      "text/html": [
       "== Status ==<br>Memory usage on this node: 7.6/31.4 GiB<br>Using AsyncHyperBand: num_stopped=0\n",
       "Bracket: Iter 90.000: None | Iter 30.000: None | Iter 10.000: -10310.866666666665<br>Resources requested: 16/16 CPUs, 0/0 GPUs, 0.0/15.14 GiB heap, 0.0/5.22 GiB objects<br>Result logdir: /home/aicon/ray_results/evaluate_objective<br>Number of trials: 5 (3 PENDING, 2 RUNNING)<br><table>\n",
       "<thead>\n",
       "<tr><th>Trial name                 </th><th>status  </th><th>loc                </th><th style=\"text-align: right;\">   gamma</th><th style=\"text-align: right;\">  learning_rate</th><th style=\"text-align: right;\">  max_grad_norm</th><th style=\"text-align: right;\">  iter</th><th style=\"text-align: right;\">  total time (s)</th><th style=\"text-align: right;\">  mean_reward</th><th style=\"text-align: right;\">  mean_ep_length</th><th style=\"text-align: right;\">  packet_lost</th></tr>\n",
       "</thead>\n",
       "<tbody>\n",
       "<tr><td>evaluate_objective_c575fb02</td><td>RUNNING </td><td>131.234.29.24:26235</td><td style=\"text-align: right;\">0.990228</td><td style=\"text-align: right;\">    0.00064491 </td><td style=\"text-align: right;\">       3.14781 </td><td style=\"text-align: right;\">    19</td><td style=\"text-align: right;\">         87.065 </td><td style=\"text-align: right;\">      -1839  </td><td style=\"text-align: right;\">             602</td><td style=\"text-align: right;\">            0</td></tr>\n",
       "<tr><td>evaluate_objective_c575fb03</td><td>RUNNING </td><td>131.234.29.24:26224</td><td style=\"text-align: right;\">0.992424</td><td style=\"text-align: right;\">    0.000166578</td><td style=\"text-align: right;\">       4.45429 </td><td style=\"text-align: right;\">    20</td><td style=\"text-align: right;\">         91.3808</td><td style=\"text-align: right;\">     -22876.2</td><td style=\"text-align: right;\">             602</td><td style=\"text-align: right;\">            5</td></tr>\n",
       "<tr><td>evaluate_objective_c575fb04</td><td>PENDING </td><td>                   </td><td style=\"text-align: right;\">0.998132</td><td style=\"text-align: right;\">    0.0026539  </td><td style=\"text-align: right;\">       0.891429</td><td style=\"text-align: right;\">      </td><td style=\"text-align: right;\">                </td><td style=\"text-align: right;\">             </td><td style=\"text-align: right;\">                </td><td style=\"text-align: right;\">             </td></tr>\n",
       "<tr><td>evaluate_objective_c575fb05</td><td>PENDING </td><td>                   </td><td style=\"text-align: right;\">0.995314</td><td style=\"text-align: right;\">    0.000825845</td><td style=\"text-align: right;\">       1.34788 </td><td style=\"text-align: right;\">      </td><td style=\"text-align: right;\">                </td><td style=\"text-align: right;\">             </td><td style=\"text-align: right;\">                </td><td style=\"text-align: right;\">             </td></tr>\n",
       "<tr><td>evaluate_objective_c575fb06</td><td>PENDING </td><td>                   </td><td style=\"text-align: right;\">0.99127 </td><td style=\"text-align: right;\">    0.00239913 </td><td style=\"text-align: right;\">       2.35207 </td><td style=\"text-align: right;\">      </td><td style=\"text-align: right;\">                </td><td style=\"text-align: right;\">             </td><td style=\"text-align: right;\">                </td><td style=\"text-align: right;\">             </td></tr>\n",
       "</tbody>\n",
       "</table><br><br>"
      ],
      "text/plain": [
       "<IPython.core.display.HTML object>"
      ]
     },
     "metadata": {},
     "output_type": "display_data"
    },
    {
     "name": "stderr",
     "output_type": "stream",
     "text": [
      "\u001b[2m\u001b[36m(pid=26224)\u001b[0m ERROR:root:Max counter exceeded\n",
      "\u001b[2m\u001b[36m(pid=26235)\u001b[0m ERROR:root:Max counter exceeded\n",
      "\u001b[2m\u001b[36m(pid=26224)\u001b[0m ERROR:root:Max counter exceeded\n",
      "\u001b[2m\u001b[36m(pid=26235)\u001b[0m ERROR:root:Max counter exceeded\n",
      "\u001b[2m\u001b[36m(pid=26224)\u001b[0m ERROR:root:Max counter exceeded\n",
      "\u001b[2m\u001b[36m(pid=26235)\u001b[0m ERROR:root:Max counter exceeded\n",
      "\u001b[2m\u001b[36m(pid=26224)\u001b[0m ERROR:root:Max counter exceeded\n",
      "\u001b[2m\u001b[36m(pid=26235)\u001b[0m ERROR:root:Max counter exceeded\n",
      "\u001b[2m\u001b[36m(pid=26224)\u001b[0m ERROR:root:Max counter exceeded\n",
      "\u001b[2m\u001b[36m(pid=26235)\u001b[0m ERROR:root:Max counter exceeded\n"
     ]
    },
    {
     "name": "stdout",
     "output_type": "stream",
     "text": [
      "Result for evaluate_objective_c575fb03:\n",
      "  date: 2020-12-15_23-15-12\n",
      "  done: false\n",
      "  experiment_id: 9c64caf4f0a14459832fe803edf35758\n",
      "  experiment_tag: 2_gamma=0.99242,learning_rate=0.00016658,max_grad_norm=4.4543\n",
      "  hostname: aicon3\n",
      "  iterations_since_restore: 21\n",
      "  mean_ep_length: 602.0\n",
      "  mean_reward: -2802.0\n",
      "  node_ip: 131.234.29.24\n",
      "  packet_lost: 12\n",
      "  pid: 26224\n",
      "  time_since_restore: 95.91151404380798\n",
      "  time_this_iter_s: 4.5306689739227295\n",
      "  time_total_s: 95.91151404380798\n",
      "  timestamp: 1608070512\n",
      "  timesteps_since_restore: 0\n",
      "  training_iteration: 21\n",
      "  trial_id: c575fb03\n",
      "  \n",
      "Result for evaluate_objective_c575fb02:\n",
      "  date: 2020-12-15_23-15-13\n",
      "  done: false\n",
      "  experiment_id: 46b0c57ac75646e5b843e0a5d6b6f025\n",
      "  experiment_tag: 1_gamma=0.99023,learning_rate=0.00064491,max_grad_norm=3.1478\n",
      "  hostname: aicon3\n",
      "  iterations_since_restore: 21\n",
      "  mean_ep_length: 602.0\n",
      "  mean_reward: -1839.0\n",
      "  node_ip: 131.234.29.24\n",
      "  packet_lost: 0\n",
      "  pid: 26235\n",
      "  time_since_restore: 96.03535628318787\n",
      "  time_this_iter_s: 4.55090594291687\n",
      "  time_total_s: 96.03535628318787\n",
      "  timestamp: 1608070513\n",
      "  timesteps_since_restore: 0\n",
      "  training_iteration: 21\n",
      "  trial_id: c575fb02\n",
      "  \n"
     ]
    },
    {
     "name": "stderr",
     "output_type": "stream",
     "text": [
      "\u001b[2m\u001b[36m(pid=26224)\u001b[0m ERROR:root:Max counter exceeded\n",
      "\u001b[2m\u001b[36m(pid=26235)\u001b[0m ERROR:root:Max counter exceeded\n",
      "\u001b[2m\u001b[36m(pid=26224)\u001b[0m ERROR:root:Max counter exceeded\n",
      "\u001b[2m\u001b[36m(pid=26235)\u001b[0m ERROR:root:Max counter exceeded\n",
      "\u001b[2m\u001b[36m(pid=26224)\u001b[0m ERROR:root:Max counter exceeded\n",
      "\u001b[2m\u001b[36m(pid=26235)\u001b[0m ERROR:root:Max counter exceeded\n",
      "\u001b[2m\u001b[36m(pid=26224)\u001b[0m ERROR:root:Max counter exceeded\n",
      "\u001b[2m\u001b[36m(pid=26235)\u001b[0m ERROR:root:Max counter exceeded\n",
      "\u001b[2m\u001b[36m(pid=26224)\u001b[0m ERROR:root:Max counter exceeded\n",
      "\u001b[2m\u001b[36m(pid=26235)\u001b[0m ERROR:root:Max counter exceeded\n"
     ]
    },
    {
     "data": {
      "text/html": [
       "== Status ==<br>Memory usage on this node: 7.6/31.4 GiB<br>Using AsyncHyperBand: num_stopped=0\n",
       "Bracket: Iter 90.000: None | Iter 30.000: None | Iter 10.000: -10310.866666666665<br>Resources requested: 16/16 CPUs, 0/0 GPUs, 0.0/15.14 GiB heap, 0.0/5.22 GiB objects<br>Result logdir: /home/aicon/ray_results/evaluate_objective<br>Number of trials: 5 (3 PENDING, 2 RUNNING)<br><table>\n",
       "<thead>\n",
       "<tr><th>Trial name                 </th><th>status  </th><th>loc                </th><th style=\"text-align: right;\">   gamma</th><th style=\"text-align: right;\">  learning_rate</th><th style=\"text-align: right;\">  max_grad_norm</th><th style=\"text-align: right;\">  iter</th><th style=\"text-align: right;\">  total time (s)</th><th style=\"text-align: right;\">  mean_reward</th><th style=\"text-align: right;\">  mean_ep_length</th><th style=\"text-align: right;\">  packet_lost</th></tr>\n",
       "</thead>\n",
       "<tbody>\n",
       "<tr><td>evaluate_objective_c575fb02</td><td>RUNNING </td><td>131.234.29.24:26235</td><td style=\"text-align: right;\">0.990228</td><td style=\"text-align: right;\">    0.00064491 </td><td style=\"text-align: right;\">       3.14781 </td><td style=\"text-align: right;\">    21</td><td style=\"text-align: right;\">         96.0354</td><td style=\"text-align: right;\">      -1839  </td><td style=\"text-align: right;\">             602</td><td style=\"text-align: right;\">            0</td></tr>\n",
       "<tr><td>evaluate_objective_c575fb03</td><td>RUNNING </td><td>131.234.29.24:26224</td><td style=\"text-align: right;\">0.992424</td><td style=\"text-align: right;\">    0.000166578</td><td style=\"text-align: right;\">       4.45429 </td><td style=\"text-align: right;\">    22</td><td style=\"text-align: right;\">        100.379 </td><td style=\"text-align: right;\">      -1955.4</td><td style=\"text-align: right;\">             602</td><td style=\"text-align: right;\">            0</td></tr>\n",
       "<tr><td>evaluate_objective_c575fb04</td><td>PENDING </td><td>                   </td><td style=\"text-align: right;\">0.998132</td><td style=\"text-align: right;\">    0.0026539  </td><td style=\"text-align: right;\">       0.891429</td><td style=\"text-align: right;\">      </td><td style=\"text-align: right;\">                </td><td style=\"text-align: right;\">             </td><td style=\"text-align: right;\">                </td><td style=\"text-align: right;\">             </td></tr>\n",
       "<tr><td>evaluate_objective_c575fb05</td><td>PENDING </td><td>                   </td><td style=\"text-align: right;\">0.995314</td><td style=\"text-align: right;\">    0.000825845</td><td style=\"text-align: right;\">       1.34788 </td><td style=\"text-align: right;\">      </td><td style=\"text-align: right;\">                </td><td style=\"text-align: right;\">             </td><td style=\"text-align: right;\">                </td><td style=\"text-align: right;\">             </td></tr>\n",
       "<tr><td>evaluate_objective_c575fb06</td><td>PENDING </td><td>                   </td><td style=\"text-align: right;\">0.99127 </td><td style=\"text-align: right;\">    0.00239913 </td><td style=\"text-align: right;\">       2.35207 </td><td style=\"text-align: right;\">      </td><td style=\"text-align: right;\">                </td><td style=\"text-align: right;\">             </td><td style=\"text-align: right;\">                </td><td style=\"text-align: right;\">             </td></tr>\n",
       "</tbody>\n",
       "</table><br><br>"
      ],
      "text/plain": [
       "<IPython.core.display.HTML object>"
      ]
     },
     "metadata": {},
     "output_type": "display_data"
    },
    {
     "name": "stderr",
     "output_type": "stream",
     "text": [
      "\u001b[2m\u001b[36m(pid=26224)\u001b[0m ERROR:root:Max counter exceeded\n",
      "\u001b[2m\u001b[36m(pid=26235)\u001b[0m ERROR:root:Max counter exceeded\n",
      "\u001b[2m\u001b[36m(pid=26224)\u001b[0m ERROR:root:Max counter exceeded\n",
      "\u001b[2m\u001b[36m(pid=26235)\u001b[0m ERROR:root:Max counter exceeded\n",
      "\u001b[2m\u001b[36m(pid=26224)\u001b[0m ERROR:root:Max counter exceeded\n",
      "\u001b[2m\u001b[36m(pid=26235)\u001b[0m ERROR:root:Max counter exceeded\n",
      "\u001b[2m\u001b[36m(pid=26224)\u001b[0m ERROR:root:Max counter exceeded\n",
      "\u001b[2m\u001b[36m(pid=26235)\u001b[0m ERROR:root:Max counter exceeded\n",
      "\u001b[2m\u001b[36m(pid=26224)\u001b[0m ERROR:root:Max counter exceeded\n",
      "\u001b[2m\u001b[36m(pid=26235)\u001b[0m ERROR:root:Max counter exceeded\n"
     ]
    },
    {
     "name": "stdout",
     "output_type": "stream",
     "text": [
      "Result for evaluate_objective_c575fb03:\n",
      "  date: 2020-12-15_23-15-21\n",
      "  done: false\n",
      "  experiment_id: 9c64caf4f0a14459832fe803edf35758\n",
      "  experiment_tag: 2_gamma=0.99242,learning_rate=0.00016658,max_grad_norm=4.4543\n",
      "  hostname: aicon3\n",
      "  iterations_since_restore: 23\n",
      "  mean_ep_length: 602.0\n",
      "  mean_reward: -2854.2\n",
      "  node_ip: 131.234.29.24\n",
      "  packet_lost: 4\n",
      "  pid: 26224\n",
      "  time_since_restore: 104.88011336326599\n",
      "  time_this_iter_s: 4.501288652420044\n",
      "  time_total_s: 104.88011336326599\n",
      "  timestamp: 1608070521\n",
      "  timesteps_since_restore: 0\n",
      "  training_iteration: 23\n",
      "  trial_id: c575fb03\n",
      "  \n",
      "Result for evaluate_objective_c575fb02:\n",
      "  date: 2020-12-15_23-15-22\n",
      "  done: false\n",
      "  experiment_id: 46b0c57ac75646e5b843e0a5d6b6f025\n",
      "  experiment_tag: 1_gamma=0.99023,learning_rate=0.00064491,max_grad_norm=3.1478\n",
      "  hostname: aicon3\n",
      "  iterations_since_restore: 23\n",
      "  mean_ep_length: 602.0\n",
      "  mean_reward: -1839.0\n",
      "  node_ip: 131.234.29.24\n",
      "  packet_lost: 0\n",
      "  pid: 26235\n",
      "  time_since_restore: 104.97676539421082\n",
      "  time_this_iter_s: 4.324431419372559\n",
      "  time_total_s: 104.97676539421082\n",
      "  timestamp: 1608070522\n",
      "  timesteps_since_restore: 0\n",
      "  training_iteration: 23\n",
      "  trial_id: c575fb02\n",
      "  \n"
     ]
    },
    {
     "name": "stderr",
     "output_type": "stream",
     "text": [
      "\u001b[2m\u001b[36m(pid=26224)\u001b[0m ERROR:root:Max counter exceeded\n",
      "\u001b[2m\u001b[36m(pid=26235)\u001b[0m ERROR:root:Max counter exceeded\n",
      "\u001b[2m\u001b[36m(pid=26224)\u001b[0m ERROR:root:Max counter exceeded\n",
      "\u001b[2m\u001b[36m(pid=26235)\u001b[0m ERROR:root:Max counter exceeded\n",
      "\u001b[2m\u001b[36m(pid=26224)\u001b[0m ERROR:root:Max counter exceeded\n",
      "\u001b[2m\u001b[36m(pid=26235)\u001b[0m ERROR:root:Max counter exceeded\n",
      "\u001b[2m\u001b[36m(pid=26224)\u001b[0m ERROR:root:Max counter exceeded\n",
      "\u001b[2m\u001b[36m(pid=26235)\u001b[0m ERROR:root:Max counter exceeded\n",
      "\u001b[2m\u001b[36m(pid=26224)\u001b[0m ERROR:root:Max counter exceeded\n",
      "\u001b[2m\u001b[36m(pid=26235)\u001b[0m ERROR:root:Max counter exceeded\n"
     ]
    },
    {
     "data": {
      "text/html": [
       "== Status ==<br>Memory usage on this node: 7.6/31.4 GiB<br>Using AsyncHyperBand: num_stopped=0\n",
       "Bracket: Iter 90.000: None | Iter 30.000: None | Iter 10.000: -10310.866666666665<br>Resources requested: 16/16 CPUs, 0/0 GPUs, 0.0/15.14 GiB heap, 0.0/5.22 GiB objects<br>Result logdir: /home/aicon/ray_results/evaluate_objective<br>Number of trials: 5 (3 PENDING, 2 RUNNING)<br><table>\n",
       "<thead>\n",
       "<tr><th>Trial name                 </th><th>status  </th><th>loc                </th><th style=\"text-align: right;\">   gamma</th><th style=\"text-align: right;\">  learning_rate</th><th style=\"text-align: right;\">  max_grad_norm</th><th style=\"text-align: right;\">  iter</th><th style=\"text-align: right;\">  total time (s)</th><th style=\"text-align: right;\">  mean_reward</th><th style=\"text-align: right;\">  mean_ep_length</th><th style=\"text-align: right;\">  packet_lost</th></tr>\n",
       "</thead>\n",
       "<tbody>\n",
       "<tr><td>evaluate_objective_c575fb02</td><td>RUNNING </td><td>131.234.29.24:26235</td><td style=\"text-align: right;\">0.990228</td><td style=\"text-align: right;\">    0.00064491 </td><td style=\"text-align: right;\">       3.14781 </td><td style=\"text-align: right;\">    23</td><td style=\"text-align: right;\">         104.977</td><td style=\"text-align: right;\">      -1839  </td><td style=\"text-align: right;\">             602</td><td style=\"text-align: right;\">            0</td></tr>\n",
       "<tr><td>evaluate_objective_c575fb03</td><td>RUNNING </td><td>131.234.29.24:26224</td><td style=\"text-align: right;\">0.992424</td><td style=\"text-align: right;\">    0.000166578</td><td style=\"text-align: right;\">       4.45429 </td><td style=\"text-align: right;\">    24</td><td style=\"text-align: right;\">         109.376</td><td style=\"text-align: right;\">     -12351.6</td><td style=\"text-align: right;\">             602</td><td style=\"text-align: right;\">            4</td></tr>\n",
       "<tr><td>evaluate_objective_c575fb04</td><td>PENDING </td><td>                   </td><td style=\"text-align: right;\">0.998132</td><td style=\"text-align: right;\">    0.0026539  </td><td style=\"text-align: right;\">       0.891429</td><td style=\"text-align: right;\">      </td><td style=\"text-align: right;\">                </td><td style=\"text-align: right;\">             </td><td style=\"text-align: right;\">                </td><td style=\"text-align: right;\">             </td></tr>\n",
       "<tr><td>evaluate_objective_c575fb05</td><td>PENDING </td><td>                   </td><td style=\"text-align: right;\">0.995314</td><td style=\"text-align: right;\">    0.000825845</td><td style=\"text-align: right;\">       1.34788 </td><td style=\"text-align: right;\">      </td><td style=\"text-align: right;\">                </td><td style=\"text-align: right;\">             </td><td style=\"text-align: right;\">                </td><td style=\"text-align: right;\">             </td></tr>\n",
       "<tr><td>evaluate_objective_c575fb06</td><td>PENDING </td><td>                   </td><td style=\"text-align: right;\">0.99127 </td><td style=\"text-align: right;\">    0.00239913 </td><td style=\"text-align: right;\">       2.35207 </td><td style=\"text-align: right;\">      </td><td style=\"text-align: right;\">                </td><td style=\"text-align: right;\">             </td><td style=\"text-align: right;\">                </td><td style=\"text-align: right;\">             </td></tr>\n",
       "</tbody>\n",
       "</table><br><br>"
      ],
      "text/plain": [
       "<IPython.core.display.HTML object>"
      ]
     },
     "metadata": {},
     "output_type": "display_data"
    },
    {
     "name": "stderr",
     "output_type": "stream",
     "text": [
      "\u001b[2m\u001b[36m(pid=26224)\u001b[0m ERROR:root:Max counter exceeded\n",
      "\u001b[2m\u001b[36m(pid=26235)\u001b[0m ERROR:root:Max counter exceeded\n",
      "\u001b[2m\u001b[36m(pid=26235)\u001b[0m ERROR:root:Max counter exceeded\n",
      "\u001b[2m\u001b[36m(pid=26224)\u001b[0m ERROR:root:Max counter exceeded\n",
      "\u001b[2m\u001b[36m(pid=26235)\u001b[0m ERROR:root:Max counter exceeded\n",
      "\u001b[2m\u001b[36m(pid=26224)\u001b[0m ERROR:root:Max counter exceeded\n",
      "\u001b[2m\u001b[36m(pid=26235)\u001b[0m ERROR:root:Max counter exceeded\n",
      "\u001b[2m\u001b[36m(pid=26224)\u001b[0m ERROR:root:Max counter exceeded\n",
      "\u001b[2m\u001b[36m(pid=26235)\u001b[0m ERROR:root:Max counter exceeded\n",
      "\u001b[2m\u001b[36m(pid=26224)\u001b[0m ERROR:root:Max counter exceeded\n"
     ]
    },
    {
     "name": "stdout",
     "output_type": "stream",
     "text": [
      "Result for evaluate_objective_c575fb02:\n",
      "  date: 2020-12-15_23-15-30\n",
      "  done: false\n",
      "  experiment_id: 46b0c57ac75646e5b843e0a5d6b6f025\n",
      "  experiment_tag: 1_gamma=0.99023,learning_rate=0.00064491,max_grad_norm=3.1478\n",
      "  hostname: aicon3\n",
      "  iterations_since_restore: 25\n",
      "  mean_ep_length: 602.0\n",
      "  mean_reward: -1839.0\n",
      "  node_ip: 131.234.29.24\n",
      "  packet_lost: 0\n",
      "  pid: 26235\n",
      "  time_since_restore: 113.89241337776184\n",
      "  time_this_iter_s: 4.4300596714019775\n",
      "  time_total_s: 113.89241337776184\n",
      "  timestamp: 1608070530\n",
      "  timesteps_since_restore: 0\n",
      "  training_iteration: 25\n",
      "  trial_id: c575fb02\n",
      "  \n",
      "Result for evaluate_objective_c575fb03:\n",
      "  date: 2020-12-15_23-15-30\n",
      "  done: false\n",
      "  experiment_id: 9c64caf4f0a14459832fe803edf35758\n",
      "  experiment_tag: 2_gamma=0.99242,learning_rate=0.00016658,max_grad_norm=4.4543\n",
      "  hostname: aicon3\n",
      "  iterations_since_restore: 25\n",
      "  mean_ep_length: 602.0\n",
      "  mean_reward: -1871.4\n",
      "  node_ip: 131.234.29.24\n",
      "  packet_lost: 4\n",
      "  pid: 26224\n",
      "  time_since_restore: 113.90576124191284\n",
      "  time_this_iter_s: 4.530096054077148\n",
      "  time_total_s: 113.90576124191284\n",
      "  timestamp: 1608070530\n",
      "  timesteps_since_restore: 0\n",
      "  training_iteration: 25\n",
      "  trial_id: c575fb03\n",
      "  \n"
     ]
    },
    {
     "name": "stderr",
     "output_type": "stream",
     "text": [
      "\u001b[2m\u001b[36m(pid=26235)\u001b[0m ERROR:root:Max counter exceeded\n",
      "\u001b[2m\u001b[36m(pid=26224)\u001b[0m ERROR:root:Max counter exceeded\n",
      "\u001b[2m\u001b[36m(pid=26235)\u001b[0m ERROR:root:Max counter exceeded\n",
      "\u001b[2m\u001b[36m(pid=26224)\u001b[0m ERROR:root:Max counter exceeded\n",
      "\u001b[2m\u001b[36m(pid=26235)\u001b[0m ERROR:root:Max counter exceeded\n",
      "\u001b[2m\u001b[36m(pid=26224)\u001b[0m ERROR:root:Max counter exceeded\n",
      "\u001b[2m\u001b[36m(pid=26235)\u001b[0m ERROR:root:Max counter exceeded\n",
      "\u001b[2m\u001b[36m(pid=26224)\u001b[0m ERROR:root:Max counter exceeded\n",
      "\u001b[2m\u001b[36m(pid=26235)\u001b[0m ERROR:root:Max counter exceeded\n",
      "\u001b[2m\u001b[36m(pid=26224)\u001b[0m ERROR:root:Max counter exceeded\n",
      "\u001b[2m\u001b[36m(pid=26224)\u001b[0m ERROR:root:Max counter exceeded\n"
     ]
    },
    {
     "data": {
      "text/html": [
       "== Status ==<br>Memory usage on this node: 7.6/31.4 GiB<br>Using AsyncHyperBand: num_stopped=0\n",
       "Bracket: Iter 90.000: None | Iter 30.000: None | Iter 10.000: -10310.866666666665<br>Resources requested: 16/16 CPUs, 0/0 GPUs, 0.0/15.14 GiB heap, 0.0/5.22 GiB objects<br>Result logdir: /home/aicon/ray_results/evaluate_objective<br>Number of trials: 5 (3 PENDING, 2 RUNNING)<br><table>\n",
       "<thead>\n",
       "<tr><th>Trial name                 </th><th>status  </th><th>loc                </th><th style=\"text-align: right;\">   gamma</th><th style=\"text-align: right;\">  learning_rate</th><th style=\"text-align: right;\">  max_grad_norm</th><th style=\"text-align: right;\">  iter</th><th style=\"text-align: right;\">  total time (s)</th><th style=\"text-align: right;\">  mean_reward</th><th style=\"text-align: right;\">  mean_ep_length</th><th style=\"text-align: right;\">  packet_lost</th></tr>\n",
       "</thead>\n",
       "<tbody>\n",
       "<tr><td>evaluate_objective_c575fb02</td><td>RUNNING </td><td>131.234.29.24:26235</td><td style=\"text-align: right;\">0.990228</td><td style=\"text-align: right;\">    0.00064491 </td><td style=\"text-align: right;\">       3.14781 </td><td style=\"text-align: right;\">    25</td><td style=\"text-align: right;\">         113.892</td><td style=\"text-align: right;\">        -1839</td><td style=\"text-align: right;\">             602</td><td style=\"text-align: right;\">            0</td></tr>\n",
       "<tr><td>evaluate_objective_c575fb03</td><td>RUNNING </td><td>131.234.29.24:26224</td><td style=\"text-align: right;\">0.992424</td><td style=\"text-align: right;\">    0.000166578</td><td style=\"text-align: right;\">       4.45429 </td><td style=\"text-align: right;\">    26</td><td style=\"text-align: right;\">         118.169</td><td style=\"text-align: right;\">        -1833</td><td style=\"text-align: right;\">             602</td><td style=\"text-align: right;\">            0</td></tr>\n",
       "<tr><td>evaluate_objective_c575fb04</td><td>PENDING </td><td>                   </td><td style=\"text-align: right;\">0.998132</td><td style=\"text-align: right;\">    0.0026539  </td><td style=\"text-align: right;\">       0.891429</td><td style=\"text-align: right;\">      </td><td style=\"text-align: right;\">                </td><td style=\"text-align: right;\">             </td><td style=\"text-align: right;\">                </td><td style=\"text-align: right;\">             </td></tr>\n",
       "<tr><td>evaluate_objective_c575fb05</td><td>PENDING </td><td>                   </td><td style=\"text-align: right;\">0.995314</td><td style=\"text-align: right;\">    0.000825845</td><td style=\"text-align: right;\">       1.34788 </td><td style=\"text-align: right;\">      </td><td style=\"text-align: right;\">                </td><td style=\"text-align: right;\">             </td><td style=\"text-align: right;\">                </td><td style=\"text-align: right;\">             </td></tr>\n",
       "<tr><td>evaluate_objective_c575fb06</td><td>PENDING </td><td>                   </td><td style=\"text-align: right;\">0.99127 </td><td style=\"text-align: right;\">    0.00239913 </td><td style=\"text-align: right;\">       2.35207 </td><td style=\"text-align: right;\">      </td><td style=\"text-align: right;\">                </td><td style=\"text-align: right;\">             </td><td style=\"text-align: right;\">                </td><td style=\"text-align: right;\">             </td></tr>\n",
       "</tbody>\n",
       "</table><br><br>"
      ],
      "text/plain": [
       "<IPython.core.display.HTML object>"
      ]
     },
     "metadata": {},
     "output_type": "display_data"
    },
    {
     "name": "stderr",
     "output_type": "stream",
     "text": [
      "\u001b[2m\u001b[36m(pid=26235)\u001b[0m ERROR:root:Max counter exceeded\n",
      "\u001b[2m\u001b[36m(pid=26224)\u001b[0m ERROR:root:Max counter exceeded\n",
      "\u001b[2m\u001b[36m(pid=26235)\u001b[0m ERROR:root:Max counter exceeded\n",
      "\u001b[2m\u001b[36m(pid=26224)\u001b[0m ERROR:root:Max counter exceeded\n",
      "\u001b[2m\u001b[36m(pid=26235)\u001b[0m ERROR:root:Max counter exceeded\n",
      "\u001b[2m\u001b[36m(pid=26235)\u001b[0m ERROR:root:Max counter exceeded\n",
      "\u001b[2m\u001b[36m(pid=26224)\u001b[0m ERROR:root:Max counter exceeded\n",
      "\u001b[2m\u001b[36m(pid=26224)\u001b[0m ERROR:root:Max counter exceeded\n",
      "\u001b[2m\u001b[36m(pid=26235)\u001b[0m ERROR:root:Max counter exceeded\n"
     ]
    },
    {
     "name": "stdout",
     "output_type": "stream",
     "text": [
      "Result for evaluate_objective_c575fb03:\n",
      "  date: 2020-12-15_23-15-39\n",
      "  done: false\n",
      "  experiment_id: 9c64caf4f0a14459832fe803edf35758\n",
      "  experiment_tag: 2_gamma=0.99242,learning_rate=0.00016658,max_grad_norm=4.4543\n",
      "  hostname: aicon3\n",
      "  iterations_since_restore: 27\n",
      "  mean_ep_length: 602.0\n",
      "  mean_reward: -1857.0\n",
      "  node_ip: 131.234.29.24\n",
      "  packet_lost: 0\n",
      "  pid: 26224\n",
      "  time_since_restore: 122.5251727104187\n",
      "  time_this_iter_s: 4.356276273727417\n",
      "  time_total_s: 122.5251727104187\n",
      "  timestamp: 1608070539\n",
      "  timesteps_since_restore: 0\n",
      "  training_iteration: 27\n",
      "  trial_id: c575fb03\n",
      "  \n",
      "Result for evaluate_objective_c575fb02:\n",
      "  date: 2020-12-15_23-15-39\n",
      "  done: false\n",
      "  experiment_id: 46b0c57ac75646e5b843e0a5d6b6f025\n",
      "  experiment_tag: 1_gamma=0.99023,learning_rate=0.00064491,max_grad_norm=3.1478\n",
      "  hostname: aicon3\n",
      "  iterations_since_restore: 27\n",
      "  mean_ep_length: 602.0\n",
      "  mean_reward: -1839.0\n",
      "  node_ip: 131.234.29.24\n",
      "  packet_lost: 0\n",
      "  pid: 26235\n",
      "  time_since_restore: 122.58498406410217\n",
      "  time_this_iter_s: 4.38550877571106\n",
      "  time_total_s: 122.58498406410217\n",
      "  timestamp: 1608070539\n",
      "  timesteps_since_restore: 0\n",
      "  training_iteration: 27\n",
      "  trial_id: c575fb02\n",
      "  \n"
     ]
    },
    {
     "name": "stderr",
     "output_type": "stream",
     "text": [
      "\u001b[2m\u001b[36m(pid=26224)\u001b[0m ERROR:root:Max counter exceeded\n",
      "\u001b[2m\u001b[36m(pid=26235)\u001b[0m ERROR:root:Max counter exceeded\n",
      "\u001b[2m\u001b[36m(pid=26235)\u001b[0m ERROR:root:Max counter exceeded\n",
      "\u001b[2m\u001b[36m(pid=26224)\u001b[0m ERROR:root:Max counter exceeded\n",
      "\u001b[2m\u001b[36m(pid=26235)\u001b[0m ERROR:root:Max counter exceeded\n",
      "\u001b[2m\u001b[36m(pid=26224)\u001b[0m ERROR:root:Max counter exceeded\n",
      "\u001b[2m\u001b[36m(pid=26235)\u001b[0m ERROR:root:Max counter exceeded\n",
      "\u001b[2m\u001b[36m(pid=26224)\u001b[0m ERROR:root:Max counter exceeded\n",
      "\u001b[2m\u001b[36m(pid=26224)\u001b[0m ERROR:root:Max counter exceeded\n",
      "\u001b[2m\u001b[36m(pid=26235)\u001b[0m ERROR:root:Max counter exceeded\n"
     ]
    },
    {
     "data": {
      "text/html": [
       "== Status ==<br>Memory usage on this node: 7.6/31.4 GiB<br>Using AsyncHyperBand: num_stopped=0\n",
       "Bracket: Iter 90.000: None | Iter 30.000: None | Iter 10.000: -10310.866666666665<br>Resources requested: 16/16 CPUs, 0/0 GPUs, 0.0/15.14 GiB heap, 0.0/5.22 GiB objects<br>Result logdir: /home/aicon/ray_results/evaluate_objective<br>Number of trials: 5 (3 PENDING, 2 RUNNING)<br><table>\n",
       "<thead>\n",
       "<tr><th>Trial name                 </th><th>status  </th><th>loc                </th><th style=\"text-align: right;\">   gamma</th><th style=\"text-align: right;\">  learning_rate</th><th style=\"text-align: right;\">  max_grad_norm</th><th style=\"text-align: right;\">  iter</th><th style=\"text-align: right;\">  total time (s)</th><th style=\"text-align: right;\">  mean_reward</th><th style=\"text-align: right;\">  mean_ep_length</th><th style=\"text-align: right;\">  packet_lost</th></tr>\n",
       "</thead>\n",
       "<tbody>\n",
       "<tr><td>evaluate_objective_c575fb02</td><td>RUNNING </td><td>131.234.29.24:26235</td><td style=\"text-align: right;\">0.990228</td><td style=\"text-align: right;\">    0.00064491 </td><td style=\"text-align: right;\">       3.14781 </td><td style=\"text-align: right;\">    28</td><td style=\"text-align: right;\">         127.106</td><td style=\"text-align: right;\">        -1839</td><td style=\"text-align: right;\">             602</td><td style=\"text-align: right;\">            0</td></tr>\n",
       "<tr><td>evaluate_objective_c575fb03</td><td>RUNNING </td><td>131.234.29.24:26224</td><td style=\"text-align: right;\">0.992424</td><td style=\"text-align: right;\">    0.000166578</td><td style=\"text-align: right;\">       4.45429 </td><td style=\"text-align: right;\">    27</td><td style=\"text-align: right;\">         122.525</td><td style=\"text-align: right;\">        -1857</td><td style=\"text-align: right;\">             602</td><td style=\"text-align: right;\">            0</td></tr>\n",
       "<tr><td>evaluate_objective_c575fb04</td><td>PENDING </td><td>                   </td><td style=\"text-align: right;\">0.998132</td><td style=\"text-align: right;\">    0.0026539  </td><td style=\"text-align: right;\">       0.891429</td><td style=\"text-align: right;\">      </td><td style=\"text-align: right;\">                </td><td style=\"text-align: right;\">             </td><td style=\"text-align: right;\">                </td><td style=\"text-align: right;\">             </td></tr>\n",
       "<tr><td>evaluate_objective_c575fb05</td><td>PENDING </td><td>                   </td><td style=\"text-align: right;\">0.995314</td><td style=\"text-align: right;\">    0.000825845</td><td style=\"text-align: right;\">       1.34788 </td><td style=\"text-align: right;\">      </td><td style=\"text-align: right;\">                </td><td style=\"text-align: right;\">             </td><td style=\"text-align: right;\">                </td><td style=\"text-align: right;\">             </td></tr>\n",
       "<tr><td>evaluate_objective_c575fb06</td><td>PENDING </td><td>                   </td><td style=\"text-align: right;\">0.99127 </td><td style=\"text-align: right;\">    0.00239913 </td><td style=\"text-align: right;\">       2.35207 </td><td style=\"text-align: right;\">      </td><td style=\"text-align: right;\">                </td><td style=\"text-align: right;\">             </td><td style=\"text-align: right;\">                </td><td style=\"text-align: right;\">             </td></tr>\n",
       "</tbody>\n",
       "</table><br><br>"
      ],
      "text/plain": [
       "<IPython.core.display.HTML object>"
      ]
     },
     "metadata": {},
     "output_type": "display_data"
    },
    {
     "name": "stderr",
     "output_type": "stream",
     "text": [
      "\u001b[2m\u001b[36m(pid=26235)\u001b[0m ERROR:root:Max counter exceeded\n",
      "\u001b[2m\u001b[36m(pid=26224)\u001b[0m ERROR:root:Max counter exceeded\n",
      "\u001b[2m\u001b[36m(pid=26235)\u001b[0m ERROR:root:Max counter exceeded\n",
      "\u001b[2m\u001b[36m(pid=26224)\u001b[0m ERROR:root:Max counter exceeded\n",
      "\u001b[2m\u001b[36m(pid=26235)\u001b[0m ERROR:root:Max counter exceeded\n",
      "\u001b[2m\u001b[36m(pid=26224)\u001b[0m ERROR:root:Max counter exceeded\n",
      "\u001b[2m\u001b[36m(pid=26235)\u001b[0m ERROR:root:Max counter exceeded\n",
      "\u001b[2m\u001b[36m(pid=26224)\u001b[0m ERROR:root:Max counter exceeded\n",
      "\u001b[2m\u001b[36m(pid=26235)\u001b[0m ERROR:root:Max counter exceeded\n",
      "\u001b[2m\u001b[36m(pid=26224)\u001b[0m ERROR:root:Max counter exceeded\n"
     ]
    },
    {
     "name": "stdout",
     "output_type": "stream",
     "text": [
      "Result for evaluate_objective_c575fb02:\n",
      "  date: 2020-12-15_23-15-48\n",
      "  done: false\n",
      "  experiment_id: 46b0c57ac75646e5b843e0a5d6b6f025\n",
      "  experiment_tag: 1_gamma=0.99023,learning_rate=0.00064491,max_grad_norm=3.1478\n",
      "  hostname: aicon3\n",
      "  iterations_since_restore: 29\n",
      "  mean_ep_length: 602.0\n",
      "  mean_reward: -1839.0\n",
      "  node_ip: 131.234.29.24\n",
      "  packet_lost: 0\n",
      "  pid: 26235\n",
      "  time_since_restore: 131.44628047943115\n",
      "  time_this_iter_s: 4.3404974937438965\n",
      "  time_total_s: 131.44628047943115\n",
      "  timestamp: 1608070548\n",
      "  timesteps_since_restore: 0\n",
      "  training_iteration: 29\n",
      "  trial_id: c575fb02\n",
      "  \n"
     ]
    },
    {
     "name": "stderr",
     "output_type": "stream",
     "text": [
      "\u001b[2m\u001b[36m(pid=26235)\u001b[0m ERROR:root:Max counter exceeded\n"
     ]
    },
    {
     "name": "stdout",
     "output_type": "stream",
     "text": [
      "Result for evaluate_objective_c575fb03:\n",
      "  date: 2020-12-15_23-15-48\n",
      "  done: false\n",
      "  experiment_id: 9c64caf4f0a14459832fe803edf35758\n",
      "  experiment_tag: 2_gamma=0.99242,learning_rate=0.00016658,max_grad_norm=4.4543\n",
      "  hostname: aicon3\n",
      "  iterations_since_restore: 29\n",
      "  mean_ep_length: 602.0\n",
      "  mean_reward: -1827.0\n",
      "  node_ip: 131.234.29.24\n",
      "  packet_lost: 0\n",
      "  pid: 26224\n",
      "  time_since_restore: 131.72425866127014\n",
      "  time_this_iter_s: 4.5763325691223145\n",
      "  time_total_s: 131.72425866127014\n",
      "  timestamp: 1608070548\n",
      "  timesteps_since_restore: 0\n",
      "  training_iteration: 29\n",
      "  trial_id: c575fb03\n",
      "  \n"
     ]
    },
    {
     "name": "stderr",
     "output_type": "stream",
     "text": [
      "\u001b[2m\u001b[36m(pid=26224)\u001b[0m ERROR:root:Max counter exceeded\n",
      "\u001b[2m\u001b[36m(pid=26235)\u001b[0m ERROR:root:Max counter exceeded\n",
      "\u001b[2m\u001b[36m(pid=26224)\u001b[0m ERROR:root:Max counter exceeded\n",
      "\u001b[2m\u001b[36m(pid=26235)\u001b[0m ERROR:root:Max counter exceeded\n",
      "\u001b[2m\u001b[36m(pid=26224)\u001b[0m ERROR:root:Max counter exceeded\n",
      "\u001b[2m\u001b[36m(pid=26235)\u001b[0m ERROR:root:Max counter exceeded\n",
      "\u001b[2m\u001b[36m(pid=26224)\u001b[0m ERROR:root:Max counter exceeded\n",
      "\u001b[2m\u001b[36m(pid=26235)\u001b[0m ERROR:root:Max counter exceeded\n",
      "\u001b[2m\u001b[36m(pid=26224)\u001b[0m ERROR:root:Max counter exceeded\n",
      "\u001b[2m\u001b[36m(pid=26235)\u001b[0m ERROR:root:Max counter exceeded\n"
     ]
    },
    {
     "data": {
      "text/html": [
       "== Status ==<br>Memory usage on this node: 7.6/31.4 GiB<br>Using AsyncHyperBand: num_stopped=0\n",
       "Bracket: Iter 90.000: None | Iter 30.000: -1839.0 | Iter 10.000: -10310.866666666665<br>Resources requested: 16/16 CPUs, 0/0 GPUs, 0.0/15.14 GiB heap, 0.0/5.22 GiB objects<br>Result logdir: /home/aicon/ray_results/evaluate_objective<br>Number of trials: 5 (3 PENDING, 2 RUNNING)<br><table>\n",
       "<thead>\n",
       "<tr><th>Trial name                 </th><th>status  </th><th>loc                </th><th style=\"text-align: right;\">   gamma</th><th style=\"text-align: right;\">  learning_rate</th><th style=\"text-align: right;\">  max_grad_norm</th><th style=\"text-align: right;\">  iter</th><th style=\"text-align: right;\">  total time (s)</th><th style=\"text-align: right;\">  mean_reward</th><th style=\"text-align: right;\">  mean_ep_length</th><th style=\"text-align: right;\">  packet_lost</th></tr>\n",
       "</thead>\n",
       "<tbody>\n",
       "<tr><td>evaluate_objective_c575fb02</td><td>RUNNING </td><td>131.234.29.24:26235</td><td style=\"text-align: right;\">0.990228</td><td style=\"text-align: right;\">    0.00064491 </td><td style=\"text-align: right;\">       3.14781 </td><td style=\"text-align: right;\">    30</td><td style=\"text-align: right;\">         135.815</td><td style=\"text-align: right;\">        -1839</td><td style=\"text-align: right;\">             602</td><td style=\"text-align: right;\">            0</td></tr>\n",
       "<tr><td>evaluate_objective_c575fb03</td><td>RUNNING </td><td>131.234.29.24:26224</td><td style=\"text-align: right;\">0.992424</td><td style=\"text-align: right;\">    0.000166578</td><td style=\"text-align: right;\">       4.45429 </td><td style=\"text-align: right;\">    29</td><td style=\"text-align: right;\">         131.724</td><td style=\"text-align: right;\">        -1827</td><td style=\"text-align: right;\">             602</td><td style=\"text-align: right;\">            0</td></tr>\n",
       "<tr><td>evaluate_objective_c575fb04</td><td>PENDING </td><td>                   </td><td style=\"text-align: right;\">0.998132</td><td style=\"text-align: right;\">    0.0026539  </td><td style=\"text-align: right;\">       0.891429</td><td style=\"text-align: right;\">      </td><td style=\"text-align: right;\">                </td><td style=\"text-align: right;\">             </td><td style=\"text-align: right;\">                </td><td style=\"text-align: right;\">             </td></tr>\n",
       "<tr><td>evaluate_objective_c575fb05</td><td>PENDING </td><td>                   </td><td style=\"text-align: right;\">0.995314</td><td style=\"text-align: right;\">    0.000825845</td><td style=\"text-align: right;\">       1.34788 </td><td style=\"text-align: right;\">      </td><td style=\"text-align: right;\">                </td><td style=\"text-align: right;\">             </td><td style=\"text-align: right;\">                </td><td style=\"text-align: right;\">             </td></tr>\n",
       "<tr><td>evaluate_objective_c575fb06</td><td>PENDING </td><td>                   </td><td style=\"text-align: right;\">0.99127 </td><td style=\"text-align: right;\">    0.00239913 </td><td style=\"text-align: right;\">       2.35207 </td><td style=\"text-align: right;\">      </td><td style=\"text-align: right;\">                </td><td style=\"text-align: right;\">             </td><td style=\"text-align: right;\">                </td><td style=\"text-align: right;\">             </td></tr>\n",
       "</tbody>\n",
       "</table><br><br>"
      ],
      "text/plain": [
       "<IPython.core.display.HTML object>"
      ]
     },
     "metadata": {},
     "output_type": "display_data"
    },
    {
     "name": "stderr",
     "output_type": "stream",
     "text": [
      "\u001b[2m\u001b[36m(pid=26224)\u001b[0m ERROR:root:Max counter exceeded\n",
      "\u001b[2m\u001b[36m(pid=26235)\u001b[0m ERROR:root:Max counter exceeded\n",
      "\u001b[2m\u001b[36m(pid=26224)\u001b[0m ERROR:root:Max counter exceeded\n",
      "\u001b[2m\u001b[36m(pid=26235)\u001b[0m ERROR:root:Max counter exceeded\n",
      "\u001b[2m\u001b[36m(pid=26224)\u001b[0m ERROR:root:Max counter exceeded\n",
      "\u001b[2m\u001b[36m(pid=26235)\u001b[0m ERROR:root:Max counter exceeded\n",
      "\u001b[2m\u001b[36m(pid=26224)\u001b[0m ERROR:root:Max counter exceeded\n",
      "\u001b[2m\u001b[36m(pid=26235)\u001b[0m ERROR:root:Max counter exceeded\n",
      "\u001b[2m\u001b[36m(pid=26224)\u001b[0m ERROR:root:Max counter exceeded\n",
      "\u001b[2m\u001b[36m(pid=26235)\u001b[0m ERROR:root:Max counter exceeded\n"
     ]
    },
    {
     "name": "stdout",
     "output_type": "stream",
     "text": [
      "Result for evaluate_objective_c575fb02:\n",
      "  date: 2020-12-15_23-15-57\n",
      "  done: false\n",
      "  experiment_id: 46b0c57ac75646e5b843e0a5d6b6f025\n",
      "  experiment_tag: 1_gamma=0.99023,learning_rate=0.00064491,max_grad_norm=3.1478\n",
      "  hostname: aicon3\n",
      "  iterations_since_restore: 31\n",
      "  mean_ep_length: 602.0\n",
      "  mean_reward: -1839.0\n",
      "  node_ip: 131.234.29.24\n",
      "  packet_lost: 0\n",
      "  pid: 26235\n",
      "  time_since_restore: 140.21993494033813\n",
      "  time_this_iter_s: 4.404754161834717\n",
      "  time_total_s: 140.21993494033813\n",
      "  timestamp: 1608070557\n",
      "  timesteps_since_restore: 0\n",
      "  training_iteration: 31\n",
      "  trial_id: c575fb02\n",
      "  \n",
      "Result for evaluate_objective_c575fb03:\n",
      "  date: 2020-12-15_23-15-57\n",
      "  done: false\n",
      "  experiment_id: 9c64caf4f0a14459832fe803edf35758\n",
      "  experiment_tag: 2_gamma=0.99242,learning_rate=0.00016658,max_grad_norm=4.4543\n",
      "  hostname: aicon3\n",
      "  iterations_since_restore: 31\n",
      "  mean_ep_length: 602.0\n",
      "  mean_reward: -1836.0\n",
      "  node_ip: 131.234.29.24\n",
      "  packet_lost: 0\n",
      "  pid: 26224\n",
      "  time_since_restore: 140.60267233848572\n",
      "  time_this_iter_s: 4.395056247711182\n",
      "  time_total_s: 140.60267233848572\n",
      "  timestamp: 1608070557\n",
      "  timesteps_since_restore: 0\n",
      "  training_iteration: 31\n",
      "  trial_id: c575fb03\n",
      "  \n"
     ]
    },
    {
     "name": "stderr",
     "output_type": "stream",
     "text": [
      "\u001b[2m\u001b[36m(pid=26224)\u001b[0m ERROR:root:Max counter exceeded\n",
      "\u001b[2m\u001b[36m(pid=26235)\u001b[0m ERROR:root:Max counter exceeded\n",
      "\u001b[2m\u001b[36m(pid=26224)\u001b[0m ERROR:root:Max counter exceeded\n",
      "\u001b[2m\u001b[36m(pid=26235)\u001b[0m ERROR:root:Max counter exceeded\n",
      "\u001b[2m\u001b[36m(pid=26224)\u001b[0m ERROR:root:Max counter exceeded\n",
      "\u001b[2m\u001b[36m(pid=26235)\u001b[0m ERROR:root:Max counter exceeded\n",
      "\u001b[2m\u001b[36m(pid=26224)\u001b[0m ERROR:root:Max counter exceeded\n",
      "\u001b[2m\u001b[36m(pid=26235)\u001b[0m ERROR:root:Max counter exceeded\n",
      "\u001b[2m\u001b[36m(pid=26224)\u001b[0m ERROR:root:Max counter exceeded\n"
     ]
    },
    {
     "data": {
      "text/html": [
       "== Status ==<br>Memory usage on this node: 7.6/31.4 GiB<br>Using AsyncHyperBand: num_stopped=0\n",
       "Bracket: Iter 90.000: None | Iter 30.000: -1839.0 | Iter 10.000: -10310.866666666665<br>Resources requested: 16/16 CPUs, 0/0 GPUs, 0.0/15.14 GiB heap, 0.0/5.22 GiB objects<br>Result logdir: /home/aicon/ray_results/evaluate_objective<br>Number of trials: 5 (3 PENDING, 2 RUNNING)<br><table>\n",
       "<thead>\n",
       "<tr><th>Trial name                 </th><th>status  </th><th>loc                </th><th style=\"text-align: right;\">   gamma</th><th style=\"text-align: right;\">  learning_rate</th><th style=\"text-align: right;\">  max_grad_norm</th><th style=\"text-align: right;\">  iter</th><th style=\"text-align: right;\">  total time (s)</th><th style=\"text-align: right;\">  mean_reward</th><th style=\"text-align: right;\">  mean_ep_length</th><th style=\"text-align: right;\">  packet_lost</th></tr>\n",
       "</thead>\n",
       "<tbody>\n",
       "<tr><td>evaluate_objective_c575fb02</td><td>RUNNING </td><td>131.234.29.24:26235</td><td style=\"text-align: right;\">0.990228</td><td style=\"text-align: right;\">    0.00064491 </td><td style=\"text-align: right;\">       3.14781 </td><td style=\"text-align: right;\">    32</td><td style=\"text-align: right;\">         144.689</td><td style=\"text-align: right;\">        -1839</td><td style=\"text-align: right;\">             602</td><td style=\"text-align: right;\">            0</td></tr>\n",
       "<tr><td>evaluate_objective_c575fb03</td><td>RUNNING </td><td>131.234.29.24:26224</td><td style=\"text-align: right;\">0.992424</td><td style=\"text-align: right;\">    0.000166578</td><td style=\"text-align: right;\">       4.45429 </td><td style=\"text-align: right;\">    31</td><td style=\"text-align: right;\">         140.603</td><td style=\"text-align: right;\">        -1836</td><td style=\"text-align: right;\">             602</td><td style=\"text-align: right;\">            0</td></tr>\n",
       "<tr><td>evaluate_objective_c575fb04</td><td>PENDING </td><td>                   </td><td style=\"text-align: right;\">0.998132</td><td style=\"text-align: right;\">    0.0026539  </td><td style=\"text-align: right;\">       0.891429</td><td style=\"text-align: right;\">      </td><td style=\"text-align: right;\">                </td><td style=\"text-align: right;\">             </td><td style=\"text-align: right;\">                </td><td style=\"text-align: right;\">             </td></tr>\n",
       "<tr><td>evaluate_objective_c575fb05</td><td>PENDING </td><td>                   </td><td style=\"text-align: right;\">0.995314</td><td style=\"text-align: right;\">    0.000825845</td><td style=\"text-align: right;\">       1.34788 </td><td style=\"text-align: right;\">      </td><td style=\"text-align: right;\">                </td><td style=\"text-align: right;\">             </td><td style=\"text-align: right;\">                </td><td style=\"text-align: right;\">             </td></tr>\n",
       "<tr><td>evaluate_objective_c575fb06</td><td>PENDING </td><td>                   </td><td style=\"text-align: right;\">0.99127 </td><td style=\"text-align: right;\">    0.00239913 </td><td style=\"text-align: right;\">       2.35207 </td><td style=\"text-align: right;\">      </td><td style=\"text-align: right;\">                </td><td style=\"text-align: right;\">             </td><td style=\"text-align: right;\">                </td><td style=\"text-align: right;\">             </td></tr>\n",
       "</tbody>\n",
       "</table><br><br>"
      ],
      "text/plain": [
       "<IPython.core.display.HTML object>"
      ]
     },
     "metadata": {},
     "output_type": "display_data"
    },
    {
     "name": "stderr",
     "output_type": "stream",
     "text": [
      "\u001b[2m\u001b[36m(pid=26235)\u001b[0m ERROR:root:Max counter exceeded\n",
      "\u001b[2m\u001b[36m(pid=26224)\u001b[0m ERROR:root:Max counter exceeded\n",
      "\u001b[2m\u001b[36m(pid=26235)\u001b[0m ERROR:root:Max counter exceeded\n",
      "\u001b[2m\u001b[36m(pid=26224)\u001b[0m ERROR:root:Max counter exceeded\n",
      "\u001b[2m\u001b[36m(pid=26235)\u001b[0m ERROR:root:Max counter exceeded\n",
      "\u001b[2m\u001b[36m(pid=26224)\u001b[0m ERROR:root:Max counter exceeded\n",
      "\u001b[2m\u001b[36m(pid=26235)\u001b[0m ERROR:root:Max counter exceeded\n",
      "\u001b[2m\u001b[36m(pid=26224)\u001b[0m ERROR:root:Max counter exceeded\n",
      "\u001b[2m\u001b[36m(pid=26235)\u001b[0m ERROR:root:Max counter exceeded\n",
      "\u001b[2m\u001b[36m(pid=26224)\u001b[0m ERROR:root:Max counter exceeded\n"
     ]
    },
    {
     "name": "stdout",
     "output_type": "stream",
     "text": [
      "Result for evaluate_objective_c575fb02:\n",
      "  date: 2020-12-15_23-16-06\n",
      "  done: false\n",
      "  experiment_id: 46b0c57ac75646e5b843e0a5d6b6f025\n",
      "  experiment_tag: 1_gamma=0.99023,learning_rate=0.00064491,max_grad_norm=3.1478\n",
      "  hostname: aicon3\n",
      "  iterations_since_restore: 33\n",
      "  mean_ep_length: 602.0\n",
      "  mean_reward: -1839.0\n",
      "  node_ip: 131.234.29.24\n",
      "  packet_lost: 0\n",
      "  pid: 26235\n",
      "  time_since_restore: 149.11305022239685\n",
      "  time_this_iter_s: 4.423608064651489\n",
      "  time_total_s: 149.11305022239685\n",
      "  timestamp: 1608070566\n",
      "  timesteps_since_restore: 0\n",
      "  training_iteration: 33\n",
      "  trial_id: c575fb02\n",
      "  \n",
      "Result for evaluate_objective_c575fb03:\n",
      "  date: 2020-12-15_23-16-06\n",
      "  done: false\n",
      "  experiment_id: 9c64caf4f0a14459832fe803edf35758\n",
      "  experiment_tag: 2_gamma=0.99242,learning_rate=0.00016658,max_grad_norm=4.4543\n",
      "  hostname: aicon3\n",
      "  iterations_since_restore: 33\n",
      "  mean_ep_length: 602.0\n",
      "  mean_reward: -1839.0\n",
      "  node_ip: 131.234.29.24\n",
      "  packet_lost: 0\n",
      "  pid: 26224\n",
      "  time_since_restore: 149.24599528312683\n",
      "  time_this_iter_s: 4.262096405029297\n",
      "  time_total_s: 149.24599528312683\n",
      "  timestamp: 1608070566\n",
      "  timesteps_since_restore: 0\n",
      "  training_iteration: 33\n",
      "  trial_id: c575fb03\n",
      "  \n"
     ]
    },
    {
     "name": "stderr",
     "output_type": "stream",
     "text": [
      "\u001b[2m\u001b[36m(pid=26235)\u001b[0m ERROR:root:Max counter exceeded\n",
      "\u001b[2m\u001b[36m(pid=26224)\u001b[0m ERROR:root:Max counter exceeded\n",
      "\u001b[2m\u001b[36m(pid=26235)\u001b[0m ERROR:root:Max counter exceeded\n",
      "\u001b[2m\u001b[36m(pid=26224)\u001b[0m ERROR:root:Max counter exceeded\n",
      "\u001b[2m\u001b[36m(pid=26235)\u001b[0m ERROR:root:Max counter exceeded\n",
      "\u001b[2m\u001b[36m(pid=26224)\u001b[0m ERROR:root:Max counter exceeded\n",
      "\u001b[2m\u001b[36m(pid=26235)\u001b[0m ERROR:root:Max counter exceeded\n",
      "\u001b[2m\u001b[36m(pid=26224)\u001b[0m ERROR:root:Max counter exceeded\n",
      "\u001b[2m\u001b[36m(pid=26235)\u001b[0m ERROR:root:Max counter exceeded\n",
      "\u001b[2m\u001b[36m(pid=26224)\u001b[0m ERROR:root:Max counter exceeded\n"
     ]
    },
    {
     "data": {
      "text/html": [
       "== Status ==<br>Memory usage on this node: 7.6/31.4 GiB<br>Using AsyncHyperBand: num_stopped=0\n",
       "Bracket: Iter 90.000: None | Iter 30.000: -1839.0 | Iter 10.000: -10310.866666666665<br>Resources requested: 16/16 CPUs, 0/0 GPUs, 0.0/15.14 GiB heap, 0.0/5.22 GiB objects<br>Result logdir: /home/aicon/ray_results/evaluate_objective<br>Number of trials: 5 (3 PENDING, 2 RUNNING)<br><table>\n",
       "<thead>\n",
       "<tr><th>Trial name                 </th><th>status  </th><th>loc                </th><th style=\"text-align: right;\">   gamma</th><th style=\"text-align: right;\">  learning_rate</th><th style=\"text-align: right;\">  max_grad_norm</th><th style=\"text-align: right;\">  iter</th><th style=\"text-align: right;\">  total time (s)</th><th style=\"text-align: right;\">  mean_reward</th><th style=\"text-align: right;\">  mean_ep_length</th><th style=\"text-align: right;\">  packet_lost</th></tr>\n",
       "</thead>\n",
       "<tbody>\n",
       "<tr><td>evaluate_objective_c575fb02</td><td>RUNNING </td><td>131.234.29.24:26235</td><td style=\"text-align: right;\">0.990228</td><td style=\"text-align: right;\">    0.00064491 </td><td style=\"text-align: right;\">       3.14781 </td><td style=\"text-align: right;\">    33</td><td style=\"text-align: right;\">         149.113</td><td style=\"text-align: right;\">        -1839</td><td style=\"text-align: right;\">             602</td><td style=\"text-align: right;\">            0</td></tr>\n",
       "<tr><td>evaluate_objective_c575fb03</td><td>RUNNING </td><td>131.234.29.24:26224</td><td style=\"text-align: right;\">0.992424</td><td style=\"text-align: right;\">    0.000166578</td><td style=\"text-align: right;\">       4.45429 </td><td style=\"text-align: right;\">    34</td><td style=\"text-align: right;\">         153.434</td><td style=\"text-align: right;\">        -1839</td><td style=\"text-align: right;\">             602</td><td style=\"text-align: right;\">            0</td></tr>\n",
       "<tr><td>evaluate_objective_c575fb04</td><td>PENDING </td><td>                   </td><td style=\"text-align: right;\">0.998132</td><td style=\"text-align: right;\">    0.0026539  </td><td style=\"text-align: right;\">       0.891429</td><td style=\"text-align: right;\">      </td><td style=\"text-align: right;\">                </td><td style=\"text-align: right;\">             </td><td style=\"text-align: right;\">                </td><td style=\"text-align: right;\">             </td></tr>\n",
       "<tr><td>evaluate_objective_c575fb05</td><td>PENDING </td><td>                   </td><td style=\"text-align: right;\">0.995314</td><td style=\"text-align: right;\">    0.000825845</td><td style=\"text-align: right;\">       1.34788 </td><td style=\"text-align: right;\">      </td><td style=\"text-align: right;\">                </td><td style=\"text-align: right;\">             </td><td style=\"text-align: right;\">                </td><td style=\"text-align: right;\">             </td></tr>\n",
       "<tr><td>evaluate_objective_c575fb06</td><td>PENDING </td><td>                   </td><td style=\"text-align: right;\">0.99127 </td><td style=\"text-align: right;\">    0.00239913 </td><td style=\"text-align: right;\">       2.35207 </td><td style=\"text-align: right;\">      </td><td style=\"text-align: right;\">                </td><td style=\"text-align: right;\">             </td><td style=\"text-align: right;\">                </td><td style=\"text-align: right;\">             </td></tr>\n",
       "</tbody>\n",
       "</table><br><br>"
      ],
      "text/plain": [
       "<IPython.core.display.HTML object>"
      ]
     },
     "metadata": {},
     "output_type": "display_data"
    },
    {
     "name": "stderr",
     "output_type": "stream",
     "text": [
      "\u001b[2m\u001b[36m(pid=26224)\u001b[0m ERROR:root:Max counter exceeded\n",
      "\u001b[2m\u001b[36m(pid=26235)\u001b[0m ERROR:root:Max counter exceeded\n",
      "\u001b[2m\u001b[36m(pid=26235)\u001b[0m ERROR:root:Max counter exceeded\n",
      "\u001b[2m\u001b[36m(pid=26224)\u001b[0m ERROR:root:Max counter exceeded\n",
      "\u001b[2m\u001b[36m(pid=26235)\u001b[0m ERROR:root:Max counter exceeded\n",
      "\u001b[2m\u001b[36m(pid=26224)\u001b[0m ERROR:root:Max counter exceeded\n",
      "\u001b[2m\u001b[36m(pid=26224)\u001b[0m ERROR:root:Max counter exceeded\n",
      "\u001b[2m\u001b[36m(pid=26235)\u001b[0m ERROR:root:Max counter exceeded\n",
      "\u001b[2m\u001b[36m(pid=26224)\u001b[0m ERROR:root:Max counter exceeded\n",
      "\u001b[2m\u001b[36m(pid=26235)\u001b[0m ERROR:root:Max counter exceeded\n"
     ]
    },
    {
     "name": "stdout",
     "output_type": "stream",
     "text": [
      "Result for evaluate_objective_c575fb03:\n",
      "  date: 2020-12-15_23-16-14\n",
      "  done: false\n",
      "  experiment_id: 9c64caf4f0a14459832fe803edf35758\n",
      "  experiment_tag: 2_gamma=0.99242,learning_rate=0.00016658,max_grad_norm=4.4543\n",
      "  hostname: aicon3\n",
      "  iterations_since_restore: 35\n",
      "  mean_ep_length: 602.0\n",
      "  mean_reward: -1839.0\n",
      "  node_ip: 131.234.29.24\n",
      "  packet_lost: 0\n",
      "  pid: 26224\n",
      "  time_since_restore: 157.89743828773499\n",
      "  time_this_iter_s: 4.463358402252197\n",
      "  time_total_s: 157.89743828773499\n",
      "  timestamp: 1608070574\n",
      "  timesteps_since_restore: 0\n",
      "  training_iteration: 35\n",
      "  trial_id: c575fb03\n",
      "  \n",
      "Result for evaluate_objective_c575fb02:\n",
      "  date: 2020-12-15_23-16-15\n",
      "  done: false\n",
      "  experiment_id: 46b0c57ac75646e5b843e0a5d6b6f025\n",
      "  experiment_tag: 1_gamma=0.99023,learning_rate=0.00064491,max_grad_norm=3.1478\n",
      "  hostname: aicon3\n",
      "  iterations_since_restore: 35\n",
      "  mean_ep_length: 602.0\n",
      "  mean_reward: -1839.0\n",
      "  node_ip: 131.234.29.24\n",
      "  packet_lost: 0\n",
      "  pid: 26235\n",
      "  time_since_restore: 157.98382711410522\n",
      "  time_this_iter_s: 4.524596691131592\n",
      "  time_total_s: 157.98382711410522\n",
      "  timestamp: 1608070575\n",
      "  timesteps_since_restore: 0\n",
      "  training_iteration: 35\n",
      "  trial_id: c575fb02\n",
      "  \n"
     ]
    },
    {
     "name": "stderr",
     "output_type": "stream",
     "text": [
      "\u001b[2m\u001b[36m(pid=26224)\u001b[0m ERROR:root:Max counter exceeded\n",
      "\u001b[2m\u001b[36m(pid=26235)\u001b[0m ERROR:root:Max counter exceeded\n",
      "\u001b[2m\u001b[36m(pid=26235)\u001b[0m ERROR:root:Max counter exceeded\n",
      "\u001b[2m\u001b[36m(pid=26224)\u001b[0m ERROR:root:Max counter exceeded\n",
      "\u001b[2m\u001b[36m(pid=26235)\u001b[0m ERROR:root:Max counter exceeded\n",
      "\u001b[2m\u001b[36m(pid=26224)\u001b[0m ERROR:root:Max counter exceeded\n",
      "\u001b[2m\u001b[36m(pid=26235)\u001b[0m ERROR:root:Max counter exceeded\n",
      "\u001b[2m\u001b[36m(pid=26224)\u001b[0m ERROR:root:Max counter exceeded\n",
      "\u001b[2m\u001b[36m(pid=26235)\u001b[0m ERROR:root:Max counter exceeded\n",
      "\u001b[2m\u001b[36m(pid=26224)\u001b[0m ERROR:root:Max counter exceeded\n"
     ]
    },
    {
     "data": {
      "text/html": [
       "== Status ==<br>Memory usage on this node: 7.6/31.4 GiB<br>Using AsyncHyperBand: num_stopped=0\n",
       "Bracket: Iter 90.000: None | Iter 30.000: -1839.0 | Iter 10.000: -10310.866666666665<br>Resources requested: 16/16 CPUs, 0/0 GPUs, 0.0/15.14 GiB heap, 0.0/5.22 GiB objects<br>Result logdir: /home/aicon/ray_results/evaluate_objective<br>Number of trials: 5 (3 PENDING, 2 RUNNING)<br><table>\n",
       "<thead>\n",
       "<tr><th>Trial name                 </th><th>status  </th><th>loc                </th><th style=\"text-align: right;\">   gamma</th><th style=\"text-align: right;\">  learning_rate</th><th style=\"text-align: right;\">  max_grad_norm</th><th style=\"text-align: right;\">  iter</th><th style=\"text-align: right;\">  total time (s)</th><th style=\"text-align: right;\">  mean_reward</th><th style=\"text-align: right;\">  mean_ep_length</th><th style=\"text-align: right;\">  packet_lost</th></tr>\n",
       "</thead>\n",
       "<tbody>\n",
       "<tr><td>evaluate_objective_c575fb02</td><td>RUNNING </td><td>131.234.29.24:26235</td><td style=\"text-align: right;\">0.990228</td><td style=\"text-align: right;\">    0.00064491 </td><td style=\"text-align: right;\">       3.14781 </td><td style=\"text-align: right;\">    36</td><td style=\"text-align: right;\">         162.54 </td><td style=\"text-align: right;\">        -1839</td><td style=\"text-align: right;\">             602</td><td style=\"text-align: right;\">            0</td></tr>\n",
       "<tr><td>evaluate_objective_c575fb03</td><td>RUNNING </td><td>131.234.29.24:26224</td><td style=\"text-align: right;\">0.992424</td><td style=\"text-align: right;\">    0.000166578</td><td style=\"text-align: right;\">       4.45429 </td><td style=\"text-align: right;\">    35</td><td style=\"text-align: right;\">         157.897</td><td style=\"text-align: right;\">        -1839</td><td style=\"text-align: right;\">             602</td><td style=\"text-align: right;\">            0</td></tr>\n",
       "<tr><td>evaluate_objective_c575fb04</td><td>PENDING </td><td>                   </td><td style=\"text-align: right;\">0.998132</td><td style=\"text-align: right;\">    0.0026539  </td><td style=\"text-align: right;\">       0.891429</td><td style=\"text-align: right;\">      </td><td style=\"text-align: right;\">                </td><td style=\"text-align: right;\">             </td><td style=\"text-align: right;\">                </td><td style=\"text-align: right;\">             </td></tr>\n",
       "<tr><td>evaluate_objective_c575fb05</td><td>PENDING </td><td>                   </td><td style=\"text-align: right;\">0.995314</td><td style=\"text-align: right;\">    0.000825845</td><td style=\"text-align: right;\">       1.34788 </td><td style=\"text-align: right;\">      </td><td style=\"text-align: right;\">                </td><td style=\"text-align: right;\">             </td><td style=\"text-align: right;\">                </td><td style=\"text-align: right;\">             </td></tr>\n",
       "<tr><td>evaluate_objective_c575fb06</td><td>PENDING </td><td>                   </td><td style=\"text-align: right;\">0.99127 </td><td style=\"text-align: right;\">    0.00239913 </td><td style=\"text-align: right;\">       2.35207 </td><td style=\"text-align: right;\">      </td><td style=\"text-align: right;\">                </td><td style=\"text-align: right;\">             </td><td style=\"text-align: right;\">                </td><td style=\"text-align: right;\">             </td></tr>\n",
       "</tbody>\n",
       "</table><br><br>"
      ],
      "text/plain": [
       "<IPython.core.display.HTML object>"
      ]
     },
     "metadata": {},
     "output_type": "display_data"
    },
    {
     "name": "stderr",
     "output_type": "stream",
     "text": [
      "\u001b[2m\u001b[36m(pid=26235)\u001b[0m ERROR:root:Max counter exceeded\n",
      "\u001b[2m\u001b[36m(pid=26224)\u001b[0m ERROR:root:Max counter exceeded\n",
      "\u001b[2m\u001b[36m(pid=26235)\u001b[0m ERROR:root:Max counter exceeded\n",
      "\u001b[2m\u001b[36m(pid=26224)\u001b[0m ERROR:root:Max counter exceeded\n",
      "\u001b[2m\u001b[36m(pid=26224)\u001b[0m ERROR:root:Max counter exceeded\n",
      "\u001b[2m\u001b[36m(pid=26235)\u001b[0m ERROR:root:Max counter exceeded\n",
      "\u001b[2m\u001b[36m(pid=26224)\u001b[0m ERROR:root:Max counter exceeded\n",
      "\u001b[2m\u001b[36m(pid=26235)\u001b[0m ERROR:root:Max counter exceeded\n",
      "\u001b[2m\u001b[36m(pid=26224)\u001b[0m ERROR:root:Max counter exceeded\n",
      "\u001b[2m\u001b[36m(pid=26235)\u001b[0m ERROR:root:Max counter exceeded\n"
     ]
    },
    {
     "name": "stdout",
     "output_type": "stream",
     "text": [
      "Result for evaluate_objective_c575fb03:\n",
      "  date: 2020-12-15_23-16-24\n",
      "  done: false\n",
      "  experiment_id: 9c64caf4f0a14459832fe803edf35758\n",
      "  experiment_tag: 2_gamma=0.99242,learning_rate=0.00016658,max_grad_norm=4.4543\n",
      "  hostname: aicon3\n",
      "  iterations_since_restore: 37\n",
      "  mean_ep_length: 602.0\n",
      "  mean_reward: -1839.0\n",
      "  node_ip: 131.234.29.24\n",
      "  packet_lost: 0\n",
      "  pid: 26224\n",
      "  time_since_restore: 167.13818645477295\n",
      "  time_this_iter_s: 4.556173324584961\n",
      "  time_total_s: 167.13818645477295\n",
      "  timestamp: 1608070584\n",
      "  timesteps_since_restore: 0\n",
      "  training_iteration: 37\n",
      "  trial_id: c575fb03\n",
      "  \n"
     ]
    },
    {
     "name": "stderr",
     "output_type": "stream",
     "text": [
      "\u001b[2m\u001b[36m(pid=26224)\u001b[0m ERROR:root:Max counter exceeded\n"
     ]
    },
    {
     "name": "stdout",
     "output_type": "stream",
     "text": [
      "Result for evaluate_objective_c575fb02:\n",
      "  date: 2020-12-15_23-16-24\n",
      "  done: false\n",
      "  experiment_id: 46b0c57ac75646e5b843e0a5d6b6f025\n",
      "  experiment_tag: 1_gamma=0.99023,learning_rate=0.00064491,max_grad_norm=3.1478\n",
      "  hostname: aicon3\n",
      "  iterations_since_restore: 37\n",
      "  mean_ep_length: 602.0\n",
      "  mean_reward: -1839.0\n",
      "  node_ip: 131.234.29.24\n",
      "  packet_lost: 0\n",
      "  pid: 26235\n",
      "  time_since_restore: 167.40278601646423\n",
      "  time_this_iter_s: 4.862726449966431\n",
      "  time_total_s: 167.40278601646423\n",
      "  timestamp: 1608070584\n",
      "  timesteps_since_restore: 0\n",
      "  training_iteration: 37\n",
      "  trial_id: c575fb02\n",
      "  \n"
     ]
    },
    {
     "name": "stderr",
     "output_type": "stream",
     "text": [
      "\u001b[2m\u001b[36m(pid=26235)\u001b[0m ERROR:root:Max counter exceeded\n",
      "\u001b[2m\u001b[36m(pid=26224)\u001b[0m ERROR:root:Max counter exceeded\n",
      "\u001b[2m\u001b[36m(pid=26235)\u001b[0m ERROR:root:Max counter exceeded\n",
      "\u001b[2m\u001b[36m(pid=26224)\u001b[0m ERROR:root:Max counter exceeded\n",
      "\u001b[2m\u001b[36m(pid=26235)\u001b[0m ERROR:root:Max counter exceeded\n",
      "\u001b[2m\u001b[36m(pid=26224)\u001b[0m ERROR:root:Max counter exceeded\n",
      "\u001b[2m\u001b[36m(pid=26235)\u001b[0m ERROR:root:Max counter exceeded\n",
      "\u001b[2m\u001b[36m(pid=26224)\u001b[0m ERROR:root:Max counter exceeded\n",
      "\u001b[2m\u001b[36m(pid=26224)\u001b[0m ERROR:root:Max counter exceeded\n"
     ]
    },
    {
     "data": {
      "text/html": [
       "== Status ==<br>Memory usage on this node: 7.8/31.4 GiB<br>Using AsyncHyperBand: num_stopped=0\n",
       "Bracket: Iter 90.000: None | Iter 30.000: -1839.0 | Iter 10.000: -10310.866666666665<br>Resources requested: 16/16 CPUs, 0/0 GPUs, 0.0/15.14 GiB heap, 0.0/5.22 GiB objects<br>Result logdir: /home/aicon/ray_results/evaluate_objective<br>Number of trials: 5 (3 PENDING, 2 RUNNING)<br><table>\n",
       "<thead>\n",
       "<tr><th>Trial name                 </th><th>status  </th><th>loc                </th><th style=\"text-align: right;\">   gamma</th><th style=\"text-align: right;\">  learning_rate</th><th style=\"text-align: right;\">  max_grad_norm</th><th style=\"text-align: right;\">  iter</th><th style=\"text-align: right;\">  total time (s)</th><th style=\"text-align: right;\">  mean_reward</th><th style=\"text-align: right;\">  mean_ep_length</th><th style=\"text-align: right;\">  packet_lost</th></tr>\n",
       "</thead>\n",
       "<tbody>\n",
       "<tr><td>evaluate_objective_c575fb02</td><td>RUNNING </td><td>131.234.29.24:26235</td><td style=\"text-align: right;\">0.990228</td><td style=\"text-align: right;\">    0.00064491 </td><td style=\"text-align: right;\">       3.14781 </td><td style=\"text-align: right;\">    37</td><td style=\"text-align: right;\">         167.403</td><td style=\"text-align: right;\">        -1839</td><td style=\"text-align: right;\">             602</td><td style=\"text-align: right;\">            0</td></tr>\n",
       "<tr><td>evaluate_objective_c575fb03</td><td>RUNNING </td><td>131.234.29.24:26224</td><td style=\"text-align: right;\">0.992424</td><td style=\"text-align: right;\">    0.000166578</td><td style=\"text-align: right;\">       4.45429 </td><td style=\"text-align: right;\">    38</td><td style=\"text-align: right;\">         171.647</td><td style=\"text-align: right;\">        -1839</td><td style=\"text-align: right;\">             602</td><td style=\"text-align: right;\">            0</td></tr>\n",
       "<tr><td>evaluate_objective_c575fb04</td><td>PENDING </td><td>                   </td><td style=\"text-align: right;\">0.998132</td><td style=\"text-align: right;\">    0.0026539  </td><td style=\"text-align: right;\">       0.891429</td><td style=\"text-align: right;\">      </td><td style=\"text-align: right;\">                </td><td style=\"text-align: right;\">             </td><td style=\"text-align: right;\">                </td><td style=\"text-align: right;\">             </td></tr>\n",
       "<tr><td>evaluate_objective_c575fb05</td><td>PENDING </td><td>                   </td><td style=\"text-align: right;\">0.995314</td><td style=\"text-align: right;\">    0.000825845</td><td style=\"text-align: right;\">       1.34788 </td><td style=\"text-align: right;\">      </td><td style=\"text-align: right;\">                </td><td style=\"text-align: right;\">             </td><td style=\"text-align: right;\">                </td><td style=\"text-align: right;\">             </td></tr>\n",
       "<tr><td>evaluate_objective_c575fb06</td><td>PENDING </td><td>                   </td><td style=\"text-align: right;\">0.99127 </td><td style=\"text-align: right;\">    0.00239913 </td><td style=\"text-align: right;\">       2.35207 </td><td style=\"text-align: right;\">      </td><td style=\"text-align: right;\">                </td><td style=\"text-align: right;\">             </td><td style=\"text-align: right;\">                </td><td style=\"text-align: right;\">             </td></tr>\n",
       "</tbody>\n",
       "</table><br><br>"
      ],
      "text/plain": [
       "<IPython.core.display.HTML object>"
      ]
     },
     "metadata": {},
     "output_type": "display_data"
    },
    {
     "name": "stderr",
     "output_type": "stream",
     "text": [
      "\u001b[2m\u001b[36m(pid=26235)\u001b[0m ERROR:root:Max counter exceeded\n",
      "\u001b[2m\u001b[36m(pid=26235)\u001b[0m ERROR:root:Max counter exceeded\n",
      "\u001b[2m\u001b[36m(pid=26224)\u001b[0m ERROR:root:Max counter exceeded\n",
      "\u001b[2m\u001b[36m(pid=26235)\u001b[0m ERROR:root:Max counter exceeded\n",
      "\u001b[2m\u001b[36m(pid=26224)\u001b[0m ERROR:root:Max counter exceeded\n",
      "\u001b[2m\u001b[36m(pid=26235)\u001b[0m ERROR:root:Max counter exceeded\n",
      "\u001b[2m\u001b[36m(pid=26224)\u001b[0m ERROR:root:Max counter exceeded\n",
      "\u001b[2m\u001b[36m(pid=26235)\u001b[0m ERROR:root:Max counter exceeded\n",
      "\u001b[2m\u001b[36m(pid=26224)\u001b[0m ERROR:root:Max counter exceeded\n",
      "\u001b[2m\u001b[36m(pid=26235)\u001b[0m ERROR:root:Max counter exceeded\n",
      "\u001b[2m\u001b[36m(pid=26224)\u001b[0m ERROR:root:Max counter exceeded\n"
     ]
    },
    {
     "name": "stdout",
     "output_type": "stream",
     "text": [
      "Result for evaluate_objective_c575fb03:\n",
      "  date: 2020-12-15_23-16-33\n",
      "  done: false\n",
      "  experiment_id: 9c64caf4f0a14459832fe803edf35758\n",
      "  experiment_tag: 2_gamma=0.99242,learning_rate=0.00016658,max_grad_norm=4.4543\n",
      "  hostname: aicon3\n",
      "  iterations_since_restore: 39\n",
      "  mean_ep_length: 602.0\n",
      "  mean_reward: -1839.0\n",
      "  node_ip: 131.234.29.24\n",
      "  packet_lost: 0\n",
      "  pid: 26224\n",
      "  time_since_restore: 176.20706605911255\n",
      "  time_this_iter_s: 4.559732913970947\n",
      "  time_total_s: 176.20706605911255\n",
      "  timestamp: 1608070593\n",
      "  timesteps_since_restore: 0\n",
      "  training_iteration: 39\n",
      "  trial_id: c575fb03\n",
      "  \n",
      "Result for evaluate_objective_c575fb02:\n",
      "  date: 2020-12-15_23-16-33\n",
      "  done: false\n",
      "  experiment_id: 46b0c57ac75646e5b843e0a5d6b6f025\n",
      "  experiment_tag: 1_gamma=0.99023,learning_rate=0.00064491,max_grad_norm=3.1478\n",
      "  hostname: aicon3\n",
      "  iterations_since_restore: 39\n",
      "  mean_ep_length: 602.0\n",
      "  mean_reward: -1839.0\n",
      "  node_ip: 131.234.29.24\n",
      "  packet_lost: 0\n",
      "  pid: 26235\n",
      "  time_since_restore: 176.67280054092407\n",
      "  time_this_iter_s: 4.415306091308594\n",
      "  time_total_s: 176.67280054092407\n",
      "  timestamp: 1608070593\n",
      "  timesteps_since_restore: 0\n",
      "  training_iteration: 39\n",
      "  trial_id: c575fb02\n",
      "  \n"
     ]
    },
    {
     "data": {
      "text/html": [
       "== Status ==<br>Memory usage on this node: 7.8/31.4 GiB<br>Using AsyncHyperBand: num_stopped=0\n",
       "Bracket: Iter 90.000: None | Iter 30.000: -1839.0 | Iter 10.000: -10310.866666666665<br>Resources requested: 16/16 CPUs, 0/0 GPUs, 0.0/15.14 GiB heap, 0.0/5.22 GiB objects<br>Result logdir: /home/aicon/ray_results/evaluate_objective<br>Number of trials: 5 (3 PENDING, 2 RUNNING)<br><table>\n",
       "<thead>\n",
       "<tr><th>Trial name                 </th><th>status  </th><th>loc                </th><th style=\"text-align: right;\">   gamma</th><th style=\"text-align: right;\">  learning_rate</th><th style=\"text-align: right;\">  max_grad_norm</th><th style=\"text-align: right;\">  iter</th><th style=\"text-align: right;\">  total time (s)</th><th style=\"text-align: right;\">  mean_reward</th><th style=\"text-align: right;\">  mean_ep_length</th><th style=\"text-align: right;\">  packet_lost</th></tr>\n",
       "</thead>\n",
       "<tbody>\n",
       "<tr><td>evaluate_objective_c575fb02</td><td>RUNNING </td><td>131.234.29.24:26235</td><td style=\"text-align: right;\">0.990228</td><td style=\"text-align: right;\">    0.00064491 </td><td style=\"text-align: right;\">       3.14781 </td><td style=\"text-align: right;\">    39</td><td style=\"text-align: right;\">         176.673</td><td style=\"text-align: right;\">        -1839</td><td style=\"text-align: right;\">             602</td><td style=\"text-align: right;\">            0</td></tr>\n",
       "<tr><td>evaluate_objective_c575fb03</td><td>RUNNING </td><td>131.234.29.24:26224</td><td style=\"text-align: right;\">0.992424</td><td style=\"text-align: right;\">    0.000166578</td><td style=\"text-align: right;\">       4.45429 </td><td style=\"text-align: right;\">    39</td><td style=\"text-align: right;\">         176.207</td><td style=\"text-align: right;\">        -1839</td><td style=\"text-align: right;\">             602</td><td style=\"text-align: right;\">            0</td></tr>\n",
       "<tr><td>evaluate_objective_c575fb04</td><td>PENDING </td><td>                   </td><td style=\"text-align: right;\">0.998132</td><td style=\"text-align: right;\">    0.0026539  </td><td style=\"text-align: right;\">       0.891429</td><td style=\"text-align: right;\">      </td><td style=\"text-align: right;\">                </td><td style=\"text-align: right;\">             </td><td style=\"text-align: right;\">                </td><td style=\"text-align: right;\">             </td></tr>\n",
       "<tr><td>evaluate_objective_c575fb05</td><td>PENDING </td><td>                   </td><td style=\"text-align: right;\">0.995314</td><td style=\"text-align: right;\">    0.000825845</td><td style=\"text-align: right;\">       1.34788 </td><td style=\"text-align: right;\">      </td><td style=\"text-align: right;\">                </td><td style=\"text-align: right;\">             </td><td style=\"text-align: right;\">                </td><td style=\"text-align: right;\">             </td></tr>\n",
       "<tr><td>evaluate_objective_c575fb06</td><td>PENDING </td><td>                   </td><td style=\"text-align: right;\">0.99127 </td><td style=\"text-align: right;\">    0.00239913 </td><td style=\"text-align: right;\">       2.35207 </td><td style=\"text-align: right;\">      </td><td style=\"text-align: right;\">                </td><td style=\"text-align: right;\">             </td><td style=\"text-align: right;\">                </td><td style=\"text-align: right;\">             </td></tr>\n",
       "</tbody>\n",
       "</table><br><br>"
      ],
      "text/plain": [
       "<IPython.core.display.HTML object>"
      ]
     },
     "metadata": {},
     "output_type": "display_data"
    },
    {
     "name": "stderr",
     "output_type": "stream",
     "text": [
      "\u001b[2m\u001b[36m(pid=26235)\u001b[0m ERROR:root:Max counter exceeded\n",
      "\u001b[2m\u001b[36m(pid=26224)\u001b[0m ERROR:root:Max counter exceeded\n",
      "\u001b[2m\u001b[36m(pid=26235)\u001b[0m ERROR:root:Max counter exceeded\n",
      "\u001b[2m\u001b[36m(pid=26224)\u001b[0m ERROR:root:Max counter exceeded\n",
      "\u001b[2m\u001b[36m(pid=26235)\u001b[0m ERROR:root:Max counter exceeded\n",
      "\u001b[2m\u001b[36m(pid=26224)\u001b[0m ERROR:root:Max counter exceeded\n",
      "\u001b[2m\u001b[36m(pid=26235)\u001b[0m ERROR:root:Max counter exceeded\n",
      "\u001b[2m\u001b[36m(pid=26224)\u001b[0m ERROR:root:Max counter exceeded\n",
      "\u001b[2m\u001b[36m(pid=26235)\u001b[0m ERROR:root:Max counter exceeded\n",
      "\u001b[2m\u001b[36m(pid=26224)\u001b[0m ERROR:root:Max counter exceeded\n",
      "\u001b[2m\u001b[36m(pid=26235)\u001b[0m ERROR:root:Max counter exceeded\n",
      "\u001b[2m\u001b[36m(pid=26224)\u001b[0m ERROR:root:Max counter exceeded\n",
      "\u001b[2m\u001b[36m(pid=26235)\u001b[0m ERROR:root:Max counter exceeded\n",
      "\u001b[2m\u001b[36m(pid=26224)\u001b[0m ERROR:root:Max counter exceeded\n",
      "\u001b[2m\u001b[36m(pid=26235)\u001b[0m ERROR:root:Max counter exceeded\n",
      "\u001b[2m\u001b[36m(pid=26224)\u001b[0m ERROR:root:Max counter exceeded\n",
      "\u001b[2m\u001b[36m(pid=26235)\u001b[0m ERROR:root:Max counter exceeded\n",
      "\u001b[2m\u001b[36m(pid=26224)\u001b[0m ERROR:root:Max counter exceeded\n"
     ]
    },
    {
     "name": "stdout",
     "output_type": "stream",
     "text": [
      "Result for evaluate_objective_c575fb03:\n",
      "  date: 2020-12-15_23-16-42\n",
      "  done: false\n",
      "  experiment_id: 9c64caf4f0a14459832fe803edf35758\n",
      "  experiment_tag: 2_gamma=0.99242,learning_rate=0.00016658,max_grad_norm=4.4543\n",
      "  hostname: aicon3\n",
      "  iterations_since_restore: 41\n",
      "  mean_ep_length: 602.0\n",
      "  mean_reward: -1839.0\n",
      "  node_ip: 131.234.29.24\n",
      "  packet_lost: 0\n",
      "  pid: 26224\n",
      "  time_since_restore: 185.22063493728638\n",
      "  time_this_iter_s: 4.505255937576294\n",
      "  time_total_s: 185.22063493728638\n",
      "  timestamp: 1608070602\n",
      "  timesteps_since_restore: 0\n",
      "  training_iteration: 41\n",
      "  trial_id: c575fb03\n",
      "  \n"
     ]
    },
    {
     "name": "stderr",
     "output_type": "stream",
     "text": [
      "\u001b[2m\u001b[36m(pid=26235)\u001b[0m ERROR:root:Max counter exceeded\n"
     ]
    },
    {
     "data": {
      "text/html": [
       "== Status ==<br>Memory usage on this node: 7.8/31.4 GiB<br>Using AsyncHyperBand: num_stopped=0\n",
       "Bracket: Iter 90.000: None | Iter 30.000: -1839.0 | Iter 10.000: -10310.866666666665<br>Resources requested: 16/16 CPUs, 0/0 GPUs, 0.0/15.14 GiB heap, 0.0/5.22 GiB objects<br>Result logdir: /home/aicon/ray_results/evaluate_objective<br>Number of trials: 5 (3 PENDING, 2 RUNNING)<br><table>\n",
       "<thead>\n",
       "<tr><th>Trial name                 </th><th>status  </th><th>loc                </th><th style=\"text-align: right;\">   gamma</th><th style=\"text-align: right;\">  learning_rate</th><th style=\"text-align: right;\">  max_grad_norm</th><th style=\"text-align: right;\">  iter</th><th style=\"text-align: right;\">  total time (s)</th><th style=\"text-align: right;\">  mean_reward</th><th style=\"text-align: right;\">  mean_ep_length</th><th style=\"text-align: right;\">  packet_lost</th></tr>\n",
       "</thead>\n",
       "<tbody>\n",
       "<tr><td>evaluate_objective_c575fb02</td><td>RUNNING </td><td>131.234.29.24:26235</td><td style=\"text-align: right;\">0.990228</td><td style=\"text-align: right;\">    0.00064491 </td><td style=\"text-align: right;\">       3.14781 </td><td style=\"text-align: right;\">    40</td><td style=\"text-align: right;\">         181.187</td><td style=\"text-align: right;\">        -1839</td><td style=\"text-align: right;\">             602</td><td style=\"text-align: right;\">            0</td></tr>\n",
       "<tr><td>evaluate_objective_c575fb03</td><td>RUNNING </td><td>131.234.29.24:26224</td><td style=\"text-align: right;\">0.992424</td><td style=\"text-align: right;\">    0.000166578</td><td style=\"text-align: right;\">       4.45429 </td><td style=\"text-align: right;\">    41</td><td style=\"text-align: right;\">         185.221</td><td style=\"text-align: right;\">        -1839</td><td style=\"text-align: right;\">             602</td><td style=\"text-align: right;\">            0</td></tr>\n",
       "<tr><td>evaluate_objective_c575fb04</td><td>PENDING </td><td>                   </td><td style=\"text-align: right;\">0.998132</td><td style=\"text-align: right;\">    0.0026539  </td><td style=\"text-align: right;\">       0.891429</td><td style=\"text-align: right;\">      </td><td style=\"text-align: right;\">                </td><td style=\"text-align: right;\">             </td><td style=\"text-align: right;\">                </td><td style=\"text-align: right;\">             </td></tr>\n",
       "<tr><td>evaluate_objective_c575fb05</td><td>PENDING </td><td>                   </td><td style=\"text-align: right;\">0.995314</td><td style=\"text-align: right;\">    0.000825845</td><td style=\"text-align: right;\">       1.34788 </td><td style=\"text-align: right;\">      </td><td style=\"text-align: right;\">                </td><td style=\"text-align: right;\">             </td><td style=\"text-align: right;\">                </td><td style=\"text-align: right;\">             </td></tr>\n",
       "<tr><td>evaluate_objective_c575fb06</td><td>PENDING </td><td>                   </td><td style=\"text-align: right;\">0.99127 </td><td style=\"text-align: right;\">    0.00239913 </td><td style=\"text-align: right;\">       2.35207 </td><td style=\"text-align: right;\">      </td><td style=\"text-align: right;\">                </td><td style=\"text-align: right;\">             </td><td style=\"text-align: right;\">                </td><td style=\"text-align: right;\">             </td></tr>\n",
       "</tbody>\n",
       "</table><br><br>"
      ],
      "text/plain": [
       "<IPython.core.display.HTML object>"
      ]
     },
     "metadata": {},
     "output_type": "display_data"
    },
    {
     "name": "stderr",
     "output_type": "stream",
     "text": [
      "\u001b[2m\u001b[36m(pid=26224)\u001b[0m ERROR:root:Max counter exceeded\n"
     ]
    },
    {
     "name": "stdout",
     "output_type": "stream",
     "text": [
      "Result for evaluate_objective_c575fb02:\n",
      "  date: 2020-12-15_23-16-42\n",
      "  done: false\n",
      "  experiment_id: 46b0c57ac75646e5b843e0a5d6b6f025\n",
      "  experiment_tag: 1_gamma=0.99023,learning_rate=0.00064491,max_grad_norm=3.1478\n",
      "  hostname: aicon3\n",
      "  iterations_since_restore: 41\n",
      "  mean_ep_length: 602.0\n",
      "  mean_reward: -1839.0\n",
      "  node_ip: 131.234.29.24\n",
      "  packet_lost: 0\n",
      "  pid: 26235\n",
      "  time_since_restore: 185.80019164085388\n",
      "  time_this_iter_s: 4.61339259147644\n",
      "  time_total_s: 185.80019164085388\n",
      "  timestamp: 1608070602\n",
      "  timesteps_since_restore: 0\n",
      "  training_iteration: 41\n",
      "  trial_id: c575fb02\n",
      "  \n"
     ]
    },
    {
     "name": "stderr",
     "output_type": "stream",
     "text": [
      "\u001b[2m\u001b[36m(pid=26235)\u001b[0m ERROR:root:Max counter exceeded\n",
      "\u001b[2m\u001b[36m(pid=26224)\u001b[0m ERROR:root:Max counter exceeded\n",
      "\u001b[2m\u001b[36m(pid=26235)\u001b[0m ERROR:root:Max counter exceeded\n",
      "\u001b[2m\u001b[36m(pid=26224)\u001b[0m ERROR:root:Max counter exceeded\n",
      "\u001b[2m\u001b[36m(pid=26235)\u001b[0m ERROR:root:Max counter exceeded\n",
      "\u001b[2m\u001b[36m(pid=26224)\u001b[0m ERROR:root:Max counter exceeded\n",
      "\u001b[2m\u001b[36m(pid=26235)\u001b[0m ERROR:root:Max counter exceeded\n",
      "\u001b[2m\u001b[36m(pid=26224)\u001b[0m ERROR:root:Max counter exceeded\n",
      "\u001b[2m\u001b[36m(pid=26235)\u001b[0m ERROR:root:Max counter exceeded\n",
      "\u001b[2m\u001b[36m(pid=26224)\u001b[0m ERROR:root:Max counter exceeded\n",
      "\u001b[2m\u001b[36m(pid=26235)\u001b[0m ERROR:root:Max counter exceeded\n",
      "\u001b[2m\u001b[36m(pid=26235)\u001b[0m ERROR:root:Max counter exceeded\n",
      "\u001b[2m\u001b[36m(pid=26224)\u001b[0m ERROR:root:Max counter exceeded\n",
      "\u001b[2m\u001b[36m(pid=26235)\u001b[0m ERROR:root:Max counter exceeded\n",
      "\u001b[2m\u001b[36m(pid=26224)\u001b[0m ERROR:root:Max counter exceeded\n",
      "\u001b[2m\u001b[36m(pid=26235)\u001b[0m ERROR:root:Max counter exceeded\n",
      "\u001b[2m\u001b[36m(pid=26224)\u001b[0m ERROR:root:Max counter exceeded\n",
      "\u001b[2m\u001b[36m(pid=26235)\u001b[0m ERROR:root:Max counter exceeded\n",
      "\u001b[2m\u001b[36m(pid=26224)\u001b[0m ERROR:root:Max counter exceeded\n"
     ]
    },
    {
     "name": "stdout",
     "output_type": "stream",
     "text": [
      "Result for evaluate_objective_c575fb02:\n",
      "  date: 2020-12-15_23-16-51\n",
      "  done: false\n",
      "  experiment_id: 46b0c57ac75646e5b843e0a5d6b6f025\n",
      "  experiment_tag: 1_gamma=0.99023,learning_rate=0.00064491,max_grad_norm=3.1478\n",
      "  hostname: aicon3\n",
      "  iterations_since_restore: 43\n",
      "  mean_ep_length: 602.0\n",
      "  mean_reward: -1839.0\n",
      "  node_ip: 131.234.29.24\n",
      "  packet_lost: 0\n",
      "  pid: 26235\n",
      "  time_since_restore: 194.25761604309082\n",
      "  time_this_iter_s: 4.270889520645142\n",
      "  time_total_s: 194.25761604309082\n",
      "  timestamp: 1608070611\n",
      "  timesteps_since_restore: 0\n",
      "  training_iteration: 43\n",
      "  trial_id: c575fb02\n",
      "  \n"
     ]
    },
    {
     "data": {
      "text/html": [
       "== Status ==<br>Memory usage on this node: 7.8/31.4 GiB<br>Using AsyncHyperBand: num_stopped=0\n",
       "Bracket: Iter 90.000: None | Iter 30.000: -1839.0 | Iter 10.000: -10310.866666666665<br>Resources requested: 16/16 CPUs, 0/0 GPUs, 0.0/15.14 GiB heap, 0.0/5.22 GiB objects<br>Result logdir: /home/aicon/ray_results/evaluate_objective<br>Number of trials: 5 (3 PENDING, 2 RUNNING)<br><table>\n",
       "<thead>\n",
       "<tr><th>Trial name                 </th><th>status  </th><th>loc                </th><th style=\"text-align: right;\">   gamma</th><th style=\"text-align: right;\">  learning_rate</th><th style=\"text-align: right;\">  max_grad_norm</th><th style=\"text-align: right;\">  iter</th><th style=\"text-align: right;\">  total time (s)</th><th style=\"text-align: right;\">  mean_reward</th><th style=\"text-align: right;\">  mean_ep_length</th><th style=\"text-align: right;\">  packet_lost</th></tr>\n",
       "</thead>\n",
       "<tbody>\n",
       "<tr><td>evaluate_objective_c575fb02</td><td>RUNNING </td><td>131.234.29.24:26235</td><td style=\"text-align: right;\">0.990228</td><td style=\"text-align: right;\">    0.00064491 </td><td style=\"text-align: right;\">       3.14781 </td><td style=\"text-align: right;\">    43</td><td style=\"text-align: right;\">         194.258</td><td style=\"text-align: right;\">        -1839</td><td style=\"text-align: right;\">             602</td><td style=\"text-align: right;\">            0</td></tr>\n",
       "<tr><td>evaluate_objective_c575fb03</td><td>RUNNING </td><td>131.234.29.24:26224</td><td style=\"text-align: right;\">0.992424</td><td style=\"text-align: right;\">    0.000166578</td><td style=\"text-align: right;\">       4.45429 </td><td style=\"text-align: right;\">    42</td><td style=\"text-align: right;\">         189.852</td><td style=\"text-align: right;\">        -1839</td><td style=\"text-align: right;\">             602</td><td style=\"text-align: right;\">            0</td></tr>\n",
       "<tr><td>evaluate_objective_c575fb04</td><td>PENDING </td><td>                   </td><td style=\"text-align: right;\">0.998132</td><td style=\"text-align: right;\">    0.0026539  </td><td style=\"text-align: right;\">       0.891429</td><td style=\"text-align: right;\">      </td><td style=\"text-align: right;\">                </td><td style=\"text-align: right;\">             </td><td style=\"text-align: right;\">                </td><td style=\"text-align: right;\">             </td></tr>\n",
       "<tr><td>evaluate_objective_c575fb05</td><td>PENDING </td><td>                   </td><td style=\"text-align: right;\">0.995314</td><td style=\"text-align: right;\">    0.000825845</td><td style=\"text-align: right;\">       1.34788 </td><td style=\"text-align: right;\">      </td><td style=\"text-align: right;\">                </td><td style=\"text-align: right;\">             </td><td style=\"text-align: right;\">                </td><td style=\"text-align: right;\">             </td></tr>\n",
       "<tr><td>evaluate_objective_c575fb06</td><td>PENDING </td><td>                   </td><td style=\"text-align: right;\">0.99127 </td><td style=\"text-align: right;\">    0.00239913 </td><td style=\"text-align: right;\">       2.35207 </td><td style=\"text-align: right;\">      </td><td style=\"text-align: right;\">                </td><td style=\"text-align: right;\">             </td><td style=\"text-align: right;\">                </td><td style=\"text-align: right;\">             </td></tr>\n",
       "</tbody>\n",
       "</table><br><br>"
      ],
      "text/plain": [
       "<IPython.core.display.HTML object>"
      ]
     },
     "metadata": {},
     "output_type": "display_data"
    },
    {
     "name": "stdout",
     "output_type": "stream",
     "text": [
      "Result for evaluate_objective_c575fb03:\n",
      "  date: 2020-12-15_23-16-51\n",
      "  done: false\n",
      "  experiment_id: 9c64caf4f0a14459832fe803edf35758\n",
      "  experiment_tag: 2_gamma=0.99242,learning_rate=0.00016658,max_grad_norm=4.4543\n",
      "  hostname: aicon3\n",
      "  iterations_since_restore: 43\n",
      "  mean_ep_length: 602.0\n",
      "  mean_reward: -1839.0\n",
      "  node_ip: 131.234.29.24\n",
      "  packet_lost: 0\n",
      "  pid: 26224\n",
      "  time_since_restore: 194.39806413650513\n",
      "  time_this_iter_s: 4.54594349861145\n",
      "  time_total_s: 194.39806413650513\n",
      "  timestamp: 1608070611\n",
      "  timesteps_since_restore: 0\n",
      "  training_iteration: 43\n",
      "  trial_id: c575fb03\n",
      "  \n"
     ]
    },
    {
     "name": "stderr",
     "output_type": "stream",
     "text": [
      "\u001b[2m\u001b[36m(pid=26235)\u001b[0m ERROR:root:Max counter exceeded\n",
      "\u001b[2m\u001b[36m(pid=26224)\u001b[0m ERROR:root:Max counter exceeded\n",
      "\u001b[2m\u001b[36m(pid=26235)\u001b[0m ERROR:root:Max counter exceeded\n",
      "\u001b[2m\u001b[36m(pid=26224)\u001b[0m ERROR:root:Max counter exceeded\n",
      "\u001b[2m\u001b[36m(pid=26235)\u001b[0m ERROR:root:Max counter exceeded\n",
      "\u001b[2m\u001b[36m(pid=26224)\u001b[0m ERROR:root:Max counter exceeded\n",
      "\u001b[2m\u001b[36m(pid=26235)\u001b[0m ERROR:root:Max counter exceeded\n",
      "\u001b[2m\u001b[36m(pid=26224)\u001b[0m ERROR:root:Max counter exceeded\n",
      "\u001b[2m\u001b[36m(pid=26235)\u001b[0m ERROR:root:Max counter exceeded\n",
      "\u001b[2m\u001b[36m(pid=26224)\u001b[0m ERROR:root:Max counter exceeded\n",
      "\u001b[2m\u001b[36m(pid=26235)\u001b[0m ERROR:root:Max counter exceeded\n",
      "\u001b[2m\u001b[36m(pid=26224)\u001b[0m ERROR:root:Max counter exceeded\n",
      "\u001b[2m\u001b[36m(pid=26235)\u001b[0m ERROR:root:Max counter exceeded\n",
      "\u001b[2m\u001b[36m(pid=26224)\u001b[0m ERROR:root:Max counter exceeded\n",
      "\u001b[2m\u001b[36m(pid=26235)\u001b[0m ERROR:root:Max counter exceeded\n",
      "\u001b[2m\u001b[36m(pid=26224)\u001b[0m ERROR:root:Max counter exceeded\n",
      "\u001b[2m\u001b[36m(pid=26235)\u001b[0m ERROR:root:Max counter exceeded\n",
      "\u001b[2m\u001b[36m(pid=26224)\u001b[0m ERROR:root:Max counter exceeded\n",
      "\u001b[2m\u001b[36m(pid=26235)\u001b[0m ERROR:root:Max counter exceeded\n",
      "\u001b[2m\u001b[36m(pid=26224)\u001b[0m ERROR:root:Max counter exceeded\n"
     ]
    },
    {
     "name": "stdout",
     "output_type": "stream",
     "text": [
      "Result for evaluate_objective_c575fb03:\n",
      "  date: 2020-12-15_23-17-00\n",
      "  done: false\n",
      "  experiment_id: 9c64caf4f0a14459832fe803edf35758\n",
      "  experiment_tag: 2_gamma=0.99242,learning_rate=0.00016658,max_grad_norm=4.4543\n",
      "  hostname: aicon3\n",
      "  iterations_since_restore: 45\n",
      "  mean_ep_length: 602.0\n",
      "  mean_reward: -1839.0\n",
      "  node_ip: 131.234.29.24\n",
      "  packet_lost: 0\n",
      "  pid: 26224\n",
      "  time_since_restore: 203.40376210212708\n",
      "  time_this_iter_s: 4.428539276123047\n",
      "  time_total_s: 203.40376210212708\n",
      "  timestamp: 1608070620\n",
      "  timesteps_since_restore: 0\n",
      "  training_iteration: 45\n",
      "  trial_id: c575fb03\n",
      "  \n"
     ]
    },
    {
     "data": {
      "text/html": [
       "== Status ==<br>Memory usage on this node: 7.9/31.4 GiB<br>Using AsyncHyperBand: num_stopped=0\n",
       "Bracket: Iter 90.000: None | Iter 30.000: -1839.0 | Iter 10.000: -10310.866666666665<br>Resources requested: 16/16 CPUs, 0/0 GPUs, 0.0/15.14 GiB heap, 0.0/5.22 GiB objects<br>Result logdir: /home/aicon/ray_results/evaluate_objective<br>Number of trials: 5 (3 PENDING, 2 RUNNING)<br><table>\n",
       "<thead>\n",
       "<tr><th>Trial name                 </th><th>status  </th><th>loc                </th><th style=\"text-align: right;\">   gamma</th><th style=\"text-align: right;\">  learning_rate</th><th style=\"text-align: right;\">  max_grad_norm</th><th style=\"text-align: right;\">  iter</th><th style=\"text-align: right;\">  total time (s)</th><th style=\"text-align: right;\">  mean_reward</th><th style=\"text-align: right;\">  mean_ep_length</th><th style=\"text-align: right;\">  packet_lost</th></tr>\n",
       "</thead>\n",
       "<tbody>\n",
       "<tr><td>evaluate_objective_c575fb02</td><td>RUNNING </td><td>131.234.29.24:26235</td><td style=\"text-align: right;\">0.990228</td><td style=\"text-align: right;\">    0.00064491 </td><td style=\"text-align: right;\">       3.14781 </td><td style=\"text-align: right;\">    44</td><td style=\"text-align: right;\">         198.851</td><td style=\"text-align: right;\">        -1839</td><td style=\"text-align: right;\">             602</td><td style=\"text-align: right;\">            0</td></tr>\n",
       "<tr><td>evaluate_objective_c575fb03</td><td>RUNNING </td><td>131.234.29.24:26224</td><td style=\"text-align: right;\">0.992424</td><td style=\"text-align: right;\">    0.000166578</td><td style=\"text-align: right;\">       4.45429 </td><td style=\"text-align: right;\">    45</td><td style=\"text-align: right;\">         203.404</td><td style=\"text-align: right;\">        -1839</td><td style=\"text-align: right;\">             602</td><td style=\"text-align: right;\">            0</td></tr>\n",
       "<tr><td>evaluate_objective_c575fb04</td><td>PENDING </td><td>                   </td><td style=\"text-align: right;\">0.998132</td><td style=\"text-align: right;\">    0.0026539  </td><td style=\"text-align: right;\">       0.891429</td><td style=\"text-align: right;\">      </td><td style=\"text-align: right;\">                </td><td style=\"text-align: right;\">             </td><td style=\"text-align: right;\">                </td><td style=\"text-align: right;\">             </td></tr>\n",
       "<tr><td>evaluate_objective_c575fb05</td><td>PENDING </td><td>                   </td><td style=\"text-align: right;\">0.995314</td><td style=\"text-align: right;\">    0.000825845</td><td style=\"text-align: right;\">       1.34788 </td><td style=\"text-align: right;\">      </td><td style=\"text-align: right;\">                </td><td style=\"text-align: right;\">             </td><td style=\"text-align: right;\">                </td><td style=\"text-align: right;\">             </td></tr>\n",
       "<tr><td>evaluate_objective_c575fb06</td><td>PENDING </td><td>                   </td><td style=\"text-align: right;\">0.99127 </td><td style=\"text-align: right;\">    0.00239913 </td><td style=\"text-align: right;\">       2.35207 </td><td style=\"text-align: right;\">      </td><td style=\"text-align: right;\">                </td><td style=\"text-align: right;\">             </td><td style=\"text-align: right;\">                </td><td style=\"text-align: right;\">             </td></tr>\n",
       "</tbody>\n",
       "</table><br><br>"
      ],
      "text/plain": [
       "<IPython.core.display.HTML object>"
      ]
     },
     "metadata": {},
     "output_type": "display_data"
    },
    {
     "name": "stdout",
     "output_type": "stream",
     "text": [
      "Result for evaluate_objective_c575fb02:\n",
      "  date: 2020-12-15_23-17-00\n",
      "  done: false\n",
      "  experiment_id: 46b0c57ac75646e5b843e0a5d6b6f025\n",
      "  experiment_tag: 1_gamma=0.99023,learning_rate=0.00064491,max_grad_norm=3.1478\n",
      "  hostname: aicon3\n",
      "  iterations_since_restore: 45\n",
      "  mean_ep_length: 602.0\n",
      "  mean_reward: -1839.0\n",
      "  node_ip: 131.234.29.24\n",
      "  packet_lost: 0\n",
      "  pid: 26235\n",
      "  time_since_restore: 203.42578125\n",
      "  time_this_iter_s: 4.574492454528809\n",
      "  time_total_s: 203.42578125\n",
      "  timestamp: 1608070620\n",
      "  timesteps_since_restore: 0\n",
      "  training_iteration: 45\n",
      "  trial_id: c575fb02\n",
      "  \n"
     ]
    },
    {
     "name": "stderr",
     "output_type": "stream",
     "text": [
      "\u001b[2m\u001b[36m(pid=26235)\u001b[0m ERROR:root:Max counter exceeded\n",
      "\u001b[2m\u001b[36m(pid=26224)\u001b[0m ERROR:root:Max counter exceeded\n",
      "\u001b[2m\u001b[36m(pid=26224)\u001b[0m ERROR:root:Max counter exceeded\n",
      "\u001b[2m\u001b[36m(pid=26235)\u001b[0m ERROR:root:Max counter exceeded\n",
      "\u001b[2m\u001b[36m(pid=26224)\u001b[0m ERROR:root:Max counter exceeded\n",
      "\u001b[2m\u001b[36m(pid=26235)\u001b[0m ERROR:root:Max counter exceeded\n",
      "\u001b[2m\u001b[36m(pid=26224)\u001b[0m ERROR:root:Max counter exceeded\n",
      "\u001b[2m\u001b[36m(pid=26235)\u001b[0m ERROR:root:Max counter exceeded\n",
      "\u001b[2m\u001b[36m(pid=26224)\u001b[0m ERROR:root:Max counter exceeded\n",
      "\u001b[2m\u001b[36m(pid=26235)\u001b[0m ERROR:root:Max counter exceeded\n",
      "\u001b[2m\u001b[36m(pid=26224)\u001b[0m ERROR:root:Max counter exceeded\n",
      "\u001b[2m\u001b[36m(pid=26235)\u001b[0m ERROR:root:Max counter exceeded\n",
      "\u001b[2m\u001b[36m(pid=26224)\u001b[0m ERROR:root:Max counter exceeded\n",
      "\u001b[2m\u001b[36m(pid=26235)\u001b[0m ERROR:root:Max counter exceeded\n",
      "\u001b[2m\u001b[36m(pid=26224)\u001b[0m ERROR:root:Max counter exceeded\n",
      "\u001b[2m\u001b[36m(pid=26235)\u001b[0m ERROR:root:Max counter exceeded\n",
      "\u001b[2m\u001b[36m(pid=26235)\u001b[0m ERROR:root:Max counter exceeded\n",
      "\u001b[2m\u001b[36m(pid=26224)\u001b[0m ERROR:root:Max counter exceeded\n",
      "\u001b[2m\u001b[36m(pid=26235)\u001b[0m ERROR:root:Max counter exceeded\n",
      "\u001b[2m\u001b[36m(pid=26224)\u001b[0m ERROR:root:Max counter exceeded\n"
     ]
    },
    {
     "name": "stdout",
     "output_type": "stream",
     "text": [
      "Result for evaluate_objective_c575fb02:\n",
      "  date: 2020-12-15_23-17-09\n",
      "  done: false\n",
      "  experiment_id: 46b0c57ac75646e5b843e0a5d6b6f025\n",
      "  experiment_tag: 1_gamma=0.99023,learning_rate=0.00064491,max_grad_norm=3.1478\n",
      "  hostname: aicon3\n",
      "  iterations_since_restore: 47\n",
      "  mean_ep_length: 602.0\n",
      "  mean_reward: -1839.0\n",
      "  node_ip: 131.234.29.24\n",
      "  packet_lost: 0\n",
      "  pid: 26235\n",
      "  time_since_restore: 212.31288123130798\n",
      "  time_this_iter_s: 4.32453727722168\n",
      "  time_total_s: 212.31288123130798\n",
      "  timestamp: 1608070629\n",
      "  timesteps_since_restore: 0\n",
      "  training_iteration: 47\n",
      "  trial_id: c575fb02\n",
      "  \n"
     ]
    },
    {
     "name": "stderr",
     "output_type": "stream",
     "text": [
      "\u001b[2m\u001b[36m(pid=26235)\u001b[0m ERROR:root:Max counter exceeded\n"
     ]
    },
    {
     "data": {
      "text/html": [
       "== Status ==<br>Memory usage on this node: 7.9/31.4 GiB<br>Using AsyncHyperBand: num_stopped=0\n",
       "Bracket: Iter 90.000: None | Iter 30.000: -1839.0 | Iter 10.000: -10310.866666666665<br>Resources requested: 16/16 CPUs, 0/0 GPUs, 0.0/15.14 GiB heap, 0.0/5.22 GiB objects<br>Result logdir: /home/aicon/ray_results/evaluate_objective<br>Number of trials: 5 (3 PENDING, 2 RUNNING)<br><table>\n",
       "<thead>\n",
       "<tr><th>Trial name                 </th><th>status  </th><th>loc                </th><th style=\"text-align: right;\">   gamma</th><th style=\"text-align: right;\">  learning_rate</th><th style=\"text-align: right;\">  max_grad_norm</th><th style=\"text-align: right;\">  iter</th><th style=\"text-align: right;\">  total time (s)</th><th style=\"text-align: right;\">  mean_reward</th><th style=\"text-align: right;\">  mean_ep_length</th><th style=\"text-align: right;\">  packet_lost</th></tr>\n",
       "</thead>\n",
       "<tbody>\n",
       "<tr><td>evaluate_objective_c575fb02</td><td>RUNNING </td><td>131.234.29.24:26235</td><td style=\"text-align: right;\">0.990228</td><td style=\"text-align: right;\">    0.00064491 </td><td style=\"text-align: right;\">       3.14781 </td><td style=\"text-align: right;\">    47</td><td style=\"text-align: right;\">         212.313</td><td style=\"text-align: right;\">        -1839</td><td style=\"text-align: right;\">             602</td><td style=\"text-align: right;\">            0</td></tr>\n",
       "<tr><td>evaluate_objective_c575fb03</td><td>RUNNING </td><td>131.234.29.24:26224</td><td style=\"text-align: right;\">0.992424</td><td style=\"text-align: right;\">    0.000166578</td><td style=\"text-align: right;\">       4.45429 </td><td style=\"text-align: right;\">    46</td><td style=\"text-align: right;\">         207.872</td><td style=\"text-align: right;\">        -1839</td><td style=\"text-align: right;\">             602</td><td style=\"text-align: right;\">            0</td></tr>\n",
       "<tr><td>evaluate_objective_c575fb04</td><td>PENDING </td><td>                   </td><td style=\"text-align: right;\">0.998132</td><td style=\"text-align: right;\">    0.0026539  </td><td style=\"text-align: right;\">       0.891429</td><td style=\"text-align: right;\">      </td><td style=\"text-align: right;\">                </td><td style=\"text-align: right;\">             </td><td style=\"text-align: right;\">                </td><td style=\"text-align: right;\">             </td></tr>\n",
       "<tr><td>evaluate_objective_c575fb05</td><td>PENDING </td><td>                   </td><td style=\"text-align: right;\">0.995314</td><td style=\"text-align: right;\">    0.000825845</td><td style=\"text-align: right;\">       1.34788 </td><td style=\"text-align: right;\">      </td><td style=\"text-align: right;\">                </td><td style=\"text-align: right;\">             </td><td style=\"text-align: right;\">                </td><td style=\"text-align: right;\">             </td></tr>\n",
       "<tr><td>evaluate_objective_c575fb06</td><td>PENDING </td><td>                   </td><td style=\"text-align: right;\">0.99127 </td><td style=\"text-align: right;\">    0.00239913 </td><td style=\"text-align: right;\">       2.35207 </td><td style=\"text-align: right;\">      </td><td style=\"text-align: right;\">                </td><td style=\"text-align: right;\">             </td><td style=\"text-align: right;\">                </td><td style=\"text-align: right;\">             </td></tr>\n",
       "</tbody>\n",
       "</table><br><br>"
      ],
      "text/plain": [
       "<IPython.core.display.HTML object>"
      ]
     },
     "metadata": {},
     "output_type": "display_data"
    },
    {
     "name": "stdout",
     "output_type": "stream",
     "text": [
      "Result for evaluate_objective_c575fb03:\n",
      "  date: 2020-12-15_23-17-09\n",
      "  done: false\n",
      "  experiment_id: 9c64caf4f0a14459832fe803edf35758\n",
      "  experiment_tag: 2_gamma=0.99242,learning_rate=0.00016658,max_grad_norm=4.4543\n",
      "  hostname: aicon3\n",
      "  iterations_since_restore: 47\n",
      "  mean_ep_length: 602.0\n",
      "  mean_reward: -1839.0\n",
      "  node_ip: 131.234.29.24\n",
      "  packet_lost: 0\n",
      "  pid: 26224\n",
      "  time_since_restore: 212.37111616134644\n",
      "  time_this_iter_s: 4.4991724491119385\n",
      "  time_total_s: 212.37111616134644\n",
      "  timestamp: 1608070629\n",
      "  timesteps_since_restore: 0\n",
      "  training_iteration: 47\n",
      "  trial_id: c575fb03\n",
      "  \n"
     ]
    },
    {
     "name": "stderr",
     "output_type": "stream",
     "text": [
      "\u001b[2m\u001b[36m(pid=26224)\u001b[0m ERROR:root:Max counter exceeded\n",
      "\u001b[2m\u001b[36m(pid=26235)\u001b[0m ERROR:root:Max counter exceeded\n",
      "\u001b[2m\u001b[36m(pid=26224)\u001b[0m ERROR:root:Max counter exceeded\n",
      "\u001b[2m\u001b[36m(pid=26235)\u001b[0m ERROR:root:Max counter exceeded\n",
      "\u001b[2m\u001b[36m(pid=26224)\u001b[0m ERROR:root:Max counter exceeded\n",
      "\u001b[2m\u001b[36m(pid=26235)\u001b[0m ERROR:root:Max counter exceeded\n",
      "\u001b[2m\u001b[36m(pid=26224)\u001b[0m ERROR:root:Max counter exceeded\n",
      "\u001b[2m\u001b[36m(pid=26235)\u001b[0m ERROR:root:Max counter exceeded\n",
      "\u001b[2m\u001b[36m(pid=26224)\u001b[0m ERROR:root:Max counter exceeded\n",
      "\u001b[2m\u001b[36m(pid=26235)\u001b[0m ERROR:root:Max counter exceeded\n",
      "\u001b[2m\u001b[36m(pid=26224)\u001b[0m ERROR:root:Max counter exceeded\n",
      "\u001b[2m\u001b[36m(pid=26235)\u001b[0m ERROR:root:Max counter exceeded\n",
      "\u001b[2m\u001b[36m(pid=26235)\u001b[0m ERROR:root:Max counter exceeded\n",
      "\u001b[2m\u001b[36m(pid=26224)\u001b[0m ERROR:root:Max counter exceeded\n",
      "\u001b[2m\u001b[36m(pid=26235)\u001b[0m ERROR:root:Max counter exceeded\n",
      "\u001b[2m\u001b[36m(pid=26224)\u001b[0m ERROR:root:Max counter exceeded\n",
      "\u001b[2m\u001b[36m(pid=26235)\u001b[0m ERROR:root:Max counter exceeded\n",
      "\u001b[2m\u001b[36m(pid=26224)\u001b[0m ERROR:root:Max counter exceeded\n",
      "\u001b[2m\u001b[36m(pid=26235)\u001b[0m ERROR:root:Max counter exceeded\n",
      "\u001b[2m\u001b[36m(pid=26224)\u001b[0m ERROR:root:Max counter exceeded\n"
     ]
    },
    {
     "name": "stdout",
     "output_type": "stream",
     "text": [
      "Result for evaluate_objective_c575fb02:\n",
      "  date: 2020-12-15_23-17-18\n",
      "  done: false\n",
      "  experiment_id: 46b0c57ac75646e5b843e0a5d6b6f025\n",
      "  experiment_tag: 1_gamma=0.99023,learning_rate=0.00064491,max_grad_norm=3.1478\n",
      "  hostname: aicon3\n",
      "  iterations_since_restore: 49\n",
      "  mean_ep_length: 602.0\n",
      "  mean_reward: -1839.0\n",
      "  node_ip: 131.234.29.24\n",
      "  packet_lost: 0\n",
      "  pid: 26235\n",
      "  time_since_restore: 221.1272087097168\n",
      "  time_this_iter_s: 4.463316440582275\n",
      "  time_total_s: 221.1272087097168\n",
      "  timestamp: 1608070638\n",
      "  timesteps_since_restore: 0\n",
      "  training_iteration: 49\n",
      "  trial_id: c575fb02\n",
      "  \n"
     ]
    },
    {
     "data": {
      "text/html": [
       "== Status ==<br>Memory usage on this node: 7.7/31.4 GiB<br>Using AsyncHyperBand: num_stopped=0\n",
       "Bracket: Iter 90.000: None | Iter 30.000: -1839.0 | Iter 10.000: -10310.866666666665<br>Resources requested: 16/16 CPUs, 0/0 GPUs, 0.0/15.14 GiB heap, 0.0/5.22 GiB objects<br>Result logdir: /home/aicon/ray_results/evaluate_objective<br>Number of trials: 5 (3 PENDING, 2 RUNNING)<br><table>\n",
       "<thead>\n",
       "<tr><th>Trial name                 </th><th>status  </th><th>loc                </th><th style=\"text-align: right;\">   gamma</th><th style=\"text-align: right;\">  learning_rate</th><th style=\"text-align: right;\">  max_grad_norm</th><th style=\"text-align: right;\">  iter</th><th style=\"text-align: right;\">  total time (s)</th><th style=\"text-align: right;\">  mean_reward</th><th style=\"text-align: right;\">  mean_ep_length</th><th style=\"text-align: right;\">  packet_lost</th></tr>\n",
       "</thead>\n",
       "<tbody>\n",
       "<tr><td>evaluate_objective_c575fb02</td><td>RUNNING </td><td>131.234.29.24:26235</td><td style=\"text-align: right;\">0.990228</td><td style=\"text-align: right;\">    0.00064491 </td><td style=\"text-align: right;\">       3.14781 </td><td style=\"text-align: right;\">    49</td><td style=\"text-align: right;\">         221.127</td><td style=\"text-align: right;\">        -1839</td><td style=\"text-align: right;\">             602</td><td style=\"text-align: right;\">            0</td></tr>\n",
       "<tr><td>evaluate_objective_c575fb03</td><td>RUNNING </td><td>131.234.29.24:26224</td><td style=\"text-align: right;\">0.992424</td><td style=\"text-align: right;\">    0.000166578</td><td style=\"text-align: right;\">       4.45429 </td><td style=\"text-align: right;\">    48</td><td style=\"text-align: right;\">         216.837</td><td style=\"text-align: right;\">        -1839</td><td style=\"text-align: right;\">             602</td><td style=\"text-align: right;\">            0</td></tr>\n",
       "<tr><td>evaluate_objective_c575fb04</td><td>PENDING </td><td>                   </td><td style=\"text-align: right;\">0.998132</td><td style=\"text-align: right;\">    0.0026539  </td><td style=\"text-align: right;\">       0.891429</td><td style=\"text-align: right;\">      </td><td style=\"text-align: right;\">                </td><td style=\"text-align: right;\">             </td><td style=\"text-align: right;\">                </td><td style=\"text-align: right;\">             </td></tr>\n",
       "<tr><td>evaluate_objective_c575fb05</td><td>PENDING </td><td>                   </td><td style=\"text-align: right;\">0.995314</td><td style=\"text-align: right;\">    0.000825845</td><td style=\"text-align: right;\">       1.34788 </td><td style=\"text-align: right;\">      </td><td style=\"text-align: right;\">                </td><td style=\"text-align: right;\">             </td><td style=\"text-align: right;\">                </td><td style=\"text-align: right;\">             </td></tr>\n",
       "<tr><td>evaluate_objective_c575fb06</td><td>PENDING </td><td>                   </td><td style=\"text-align: right;\">0.99127 </td><td style=\"text-align: right;\">    0.00239913 </td><td style=\"text-align: right;\">       2.35207 </td><td style=\"text-align: right;\">      </td><td style=\"text-align: right;\">                </td><td style=\"text-align: right;\">             </td><td style=\"text-align: right;\">                </td><td style=\"text-align: right;\">             </td></tr>\n",
       "</tbody>\n",
       "</table><br><br>"
      ],
      "text/plain": [
       "<IPython.core.display.HTML object>"
      ]
     },
     "metadata": {},
     "output_type": "display_data"
    },
    {
     "name": "stdout",
     "output_type": "stream",
     "text": [
      "Result for evaluate_objective_c575fb03:\n",
      "  date: 2020-12-15_23-17-18\n",
      "  done: false\n",
      "  experiment_id: 9c64caf4f0a14459832fe803edf35758\n",
      "  experiment_tag: 2_gamma=0.99242,learning_rate=0.00016658,max_grad_norm=4.4543\n",
      "  hostname: aicon3\n",
      "  iterations_since_restore: 49\n",
      "  mean_ep_length: 602.0\n",
      "  mean_reward: -1839.0\n",
      "  node_ip: 131.234.29.24\n",
      "  packet_lost: 0\n",
      "  pid: 26224\n",
      "  time_since_restore: 221.2133629322052\n",
      "  time_this_iter_s: 4.3764424324035645\n",
      "  time_total_s: 221.2133629322052\n",
      "  timestamp: 1608070638\n",
      "  timesteps_since_restore: 0\n",
      "  training_iteration: 49\n",
      "  trial_id: c575fb03\n",
      "  \n"
     ]
    },
    {
     "name": "stderr",
     "output_type": "stream",
     "text": [
      "\u001b[2m\u001b[36m(pid=26235)\u001b[0m ERROR:root:Max counter exceeded\n",
      "\u001b[2m\u001b[36m(pid=26224)\u001b[0m ERROR:root:Max counter exceeded\n",
      "\u001b[2m\u001b[36m(pid=26235)\u001b[0m ERROR:root:Max counter exceeded\n",
      "\u001b[2m\u001b[36m(pid=26235)\u001b[0m ERROR:root:Max counter exceeded\n",
      "\u001b[2m\u001b[36m(pid=26224)\u001b[0m ERROR:root:Max counter exceeded\n",
      "\u001b[2m\u001b[36m(pid=26235)\u001b[0m ERROR:root:Max counter exceeded\n",
      "\u001b[2m\u001b[36m(pid=26224)\u001b[0m ERROR:root:Max counter exceeded\n",
      "\u001b[2m\u001b[36m(pid=26235)\u001b[0m ERROR:root:Max counter exceeded\n",
      "\u001b[2m\u001b[36m(pid=26224)\u001b[0m ERROR:root:Max counter exceeded\n",
      "\u001b[2m\u001b[36m(pid=26235)\u001b[0m ERROR:root:Max counter exceeded\n",
      "\u001b[2m\u001b[36m(pid=26224)\u001b[0m ERROR:root:Max counter exceeded\n",
      "\u001b[2m\u001b[36m(pid=26235)\u001b[0m ERROR:root:Max counter exceeded\n",
      "\u001b[2m\u001b[36m(pid=26224)\u001b[0m ERROR:root:Max counter exceeded\n",
      "\u001b[2m\u001b[36m(pid=26235)\u001b[0m ERROR:root:Max counter exceeded\n",
      "\u001b[2m\u001b[36m(pid=26224)\u001b[0m ERROR:root:Max counter exceeded\n",
      "\u001b[2m\u001b[36m(pid=26235)\u001b[0m ERROR:root:Max counter exceeded\n",
      "\u001b[2m\u001b[36m(pid=26224)\u001b[0m ERROR:root:Max counter exceeded\n",
      "\u001b[2m\u001b[36m(pid=26235)\u001b[0m ERROR:root:Max counter exceeded\n",
      "\u001b[2m\u001b[36m(pid=26224)\u001b[0m ERROR:root:Max counter exceeded\n",
      "\u001b[2m\u001b[36m(pid=26235)\u001b[0m ERROR:root:Max counter exceeded\n",
      "\u001b[2m\u001b[36m(pid=26224)\u001b[0m ERROR:root:Max counter exceeded\n",
      "\u001b[2m\u001b[36m(pid=26235)\u001b[0m ERROR:root:Max counter exceeded\n"
     ]
    },
    {
     "name": "stdout",
     "output_type": "stream",
     "text": [
      "Result for evaluate_objective_c575fb03:\n",
      "  date: 2020-12-15_23-17-26\n",
      "  done: false\n",
      "  experiment_id: 9c64caf4f0a14459832fe803edf35758\n",
      "  experiment_tag: 2_gamma=0.99242,learning_rate=0.00016658,max_grad_norm=4.4543\n",
      "  hostname: aicon3\n",
      "  iterations_since_restore: 51\n",
      "  mean_ep_length: 602.0\n",
      "  mean_reward: -1839.0\n",
      "  node_ip: 131.234.29.24\n",
      "  packet_lost: 0\n",
      "  pid: 26224\n",
      "  time_since_restore: 229.93159341812134\n",
      "  time_this_iter_s: 4.453614950180054\n",
      "  time_total_s: 229.93159341812134\n",
      "  timestamp: 1608070646\n",
      "  timesteps_since_restore: 0\n",
      "  training_iteration: 51\n",
      "  trial_id: c575fb03\n",
      "  \n"
     ]
    },
    {
     "data": {
      "text/html": [
       "== Status ==<br>Memory usage on this node: 7.7/31.4 GiB<br>Using AsyncHyperBand: num_stopped=0\n",
       "Bracket: Iter 90.000: None | Iter 30.000: -1839.0 | Iter 10.000: -10310.866666666665<br>Resources requested: 16/16 CPUs, 0/0 GPUs, 0.0/15.14 GiB heap, 0.0/5.22 GiB objects<br>Result logdir: /home/aicon/ray_results/evaluate_objective<br>Number of trials: 5 (3 PENDING, 2 RUNNING)<br><table>\n",
       "<thead>\n",
       "<tr><th>Trial name                 </th><th>status  </th><th>loc                </th><th style=\"text-align: right;\">   gamma</th><th style=\"text-align: right;\">  learning_rate</th><th style=\"text-align: right;\">  max_grad_norm</th><th style=\"text-align: right;\">  iter</th><th style=\"text-align: right;\">  total time (s)</th><th style=\"text-align: right;\">  mean_reward</th><th style=\"text-align: right;\">  mean_ep_length</th><th style=\"text-align: right;\">  packet_lost</th></tr>\n",
       "</thead>\n",
       "<tbody>\n",
       "<tr><td>evaluate_objective_c575fb02</td><td>RUNNING </td><td>131.234.29.24:26235</td><td style=\"text-align: right;\">0.990228</td><td style=\"text-align: right;\">    0.00064491 </td><td style=\"text-align: right;\">       3.14781 </td><td style=\"text-align: right;\">    50</td><td style=\"text-align: right;\">         225.744</td><td style=\"text-align: right;\">        -1839</td><td style=\"text-align: right;\">             602</td><td style=\"text-align: right;\">            0</td></tr>\n",
       "<tr><td>evaluate_objective_c575fb03</td><td>RUNNING </td><td>131.234.29.24:26224</td><td style=\"text-align: right;\">0.992424</td><td style=\"text-align: right;\">    0.000166578</td><td style=\"text-align: right;\">       4.45429 </td><td style=\"text-align: right;\">    51</td><td style=\"text-align: right;\">         229.932</td><td style=\"text-align: right;\">        -1839</td><td style=\"text-align: right;\">             602</td><td style=\"text-align: right;\">            0</td></tr>\n",
       "<tr><td>evaluate_objective_c575fb04</td><td>PENDING </td><td>                   </td><td style=\"text-align: right;\">0.998132</td><td style=\"text-align: right;\">    0.0026539  </td><td style=\"text-align: right;\">       0.891429</td><td style=\"text-align: right;\">      </td><td style=\"text-align: right;\">                </td><td style=\"text-align: right;\">             </td><td style=\"text-align: right;\">                </td><td style=\"text-align: right;\">             </td></tr>\n",
       "<tr><td>evaluate_objective_c575fb05</td><td>PENDING </td><td>                   </td><td style=\"text-align: right;\">0.995314</td><td style=\"text-align: right;\">    0.000825845</td><td style=\"text-align: right;\">       1.34788 </td><td style=\"text-align: right;\">      </td><td style=\"text-align: right;\">                </td><td style=\"text-align: right;\">             </td><td style=\"text-align: right;\">                </td><td style=\"text-align: right;\">             </td></tr>\n",
       "<tr><td>evaluate_objective_c575fb06</td><td>PENDING </td><td>                   </td><td style=\"text-align: right;\">0.99127 </td><td style=\"text-align: right;\">    0.00239913 </td><td style=\"text-align: right;\">       2.35207 </td><td style=\"text-align: right;\">      </td><td style=\"text-align: right;\">                </td><td style=\"text-align: right;\">             </td><td style=\"text-align: right;\">                </td><td style=\"text-align: right;\">             </td></tr>\n",
       "</tbody>\n",
       "</table><br><br>"
      ],
      "text/plain": [
       "<IPython.core.display.HTML object>"
      ]
     },
     "metadata": {},
     "output_type": "display_data"
    },
    {
     "name": "stderr",
     "output_type": "stream",
     "text": [
      "\u001b[2m\u001b[36m(pid=26224)\u001b[0m ERROR:root:Max counter exceeded\n"
     ]
    },
    {
     "name": "stdout",
     "output_type": "stream",
     "text": [
      "Result for evaluate_objective_c575fb02:\n",
      "  date: 2020-12-15_23-17-27\n",
      "  done: false\n",
      "  experiment_id: 46b0c57ac75646e5b843e0a5d6b6f025\n",
      "  experiment_tag: 1_gamma=0.99023,learning_rate=0.00064491,max_grad_norm=3.1478\n",
      "  hostname: aicon3\n",
      "  iterations_since_restore: 51\n",
      "  mean_ep_length: 602.0\n",
      "  mean_reward: -1839.0\n",
      "  node_ip: 131.234.29.24\n",
      "  packet_lost: 0\n",
      "  pid: 26235\n",
      "  time_since_restore: 230.15204215049744\n",
      "  time_this_iter_s: 4.407711744308472\n",
      "  time_total_s: 230.15204215049744\n",
      "  timestamp: 1608070647\n",
      "  timesteps_since_restore: 0\n",
      "  training_iteration: 51\n",
      "  trial_id: c575fb02\n",
      "  \n"
     ]
    },
    {
     "name": "stderr",
     "output_type": "stream",
     "text": [
      "\u001b[2m\u001b[36m(pid=26235)\u001b[0m ERROR:root:Max counter exceeded\n",
      "\u001b[2m\u001b[36m(pid=26235)\u001b[0m ERROR:root:Max counter exceeded\n",
      "\u001b[2m\u001b[36m(pid=26235)\u001b[0m ERROR:root:Max counter exceeded\n",
      "\u001b[2m\u001b[36m(pid=26224)\u001b[0m ERROR:root:Max counter exceeded\n",
      "\u001b[2m\u001b[36m(pid=26235)\u001b[0m ERROR:root:Max counter exceeded\n",
      "\u001b[2m\u001b[36m(pid=26224)\u001b[0m ERROR:root:Max counter exceeded\n",
      "\u001b[2m\u001b[36m(pid=26235)\u001b[0m ERROR:root:Max counter exceeded\n",
      "\u001b[2m\u001b[36m(pid=26224)\u001b[0m ERROR:root:Max counter exceeded\n",
      "\u001b[2m\u001b[36m(pid=26235)\u001b[0m ERROR:root:Max counter exceeded\n",
      "\u001b[2m\u001b[36m(pid=26224)\u001b[0m ERROR:root:Max counter exceeded\n",
      "\u001b[2m\u001b[36m(pid=26235)\u001b[0m ERROR:root:Max counter exceeded\n",
      "\u001b[2m\u001b[36m(pid=26224)\u001b[0m ERROR:root:Max counter exceeded\n",
      "\u001b[2m\u001b[36m(pid=26235)\u001b[0m ERROR:root:Max counter exceeded\n",
      "\u001b[2m\u001b[36m(pid=26224)\u001b[0m ERROR:root:Max counter exceeded\n",
      "\u001b[2m\u001b[36m(pid=26235)\u001b[0m ERROR:root:Max counter exceeded\n",
      "\u001b[2m\u001b[36m(pid=26224)\u001b[0m ERROR:root:Max counter exceeded\n",
      "\u001b[2m\u001b[36m(pid=26235)\u001b[0m ERROR:root:Max counter exceeded\n",
      "\u001b[2m\u001b[36m(pid=26224)\u001b[0m ERROR:root:Max counter exceeded\n",
      "\u001b[2m\u001b[36m(pid=26235)\u001b[0m ERROR:root:Max counter exceeded\n",
      "\u001b[2m\u001b[36m(pid=26224)\u001b[0m ERROR:root:Max counter exceeded\n",
      "\u001b[2m\u001b[36m(pid=26235)\u001b[0m ERROR:root:Max counter exceeded\n"
     ]
    },
    {
     "name": "stdout",
     "output_type": "stream",
     "text": [
      "Result for evaluate_objective_c575fb03:\n",
      "  date: 2020-12-15_23-17-35\n",
      "  done: false\n",
      "  experiment_id: 9c64caf4f0a14459832fe803edf35758\n",
      "  experiment_tag: 2_gamma=0.99242,learning_rate=0.00016658,max_grad_norm=4.4543\n",
      "  hostname: aicon3\n",
      "  iterations_since_restore: 53\n",
      "  mean_ep_length: 602.0\n",
      "  mean_reward: -1839.0\n",
      "  node_ip: 131.234.29.24\n",
      "  packet_lost: 0\n",
      "  pid: 26224\n",
      "  time_since_restore: 238.81747889518738\n",
      "  time_this_iter_s: 4.4879419803619385\n",
      "  time_total_s: 238.81747889518738\n",
      "  timestamp: 1608070655\n",
      "  timesteps_since_restore: 0\n",
      "  training_iteration: 53\n",
      "  trial_id: c575fb03\n",
      "  \n"
     ]
    },
    {
     "data": {
      "text/html": [
       "== Status ==<br>Memory usage on this node: 7.7/31.4 GiB<br>Using AsyncHyperBand: num_stopped=0\n",
       "Bracket: Iter 90.000: None | Iter 30.000: -1839.0 | Iter 10.000: -10310.866666666665<br>Resources requested: 16/16 CPUs, 0/0 GPUs, 0.0/15.14 GiB heap, 0.0/5.22 GiB objects<br>Result logdir: /home/aicon/ray_results/evaluate_objective<br>Number of trials: 5 (3 PENDING, 2 RUNNING)<br><table>\n",
       "<thead>\n",
       "<tr><th>Trial name                 </th><th>status  </th><th>loc                </th><th style=\"text-align: right;\">   gamma</th><th style=\"text-align: right;\">  learning_rate</th><th style=\"text-align: right;\">  max_grad_norm</th><th style=\"text-align: right;\">  iter</th><th style=\"text-align: right;\">  total time (s)</th><th style=\"text-align: right;\">  mean_reward</th><th style=\"text-align: right;\">  mean_ep_length</th><th style=\"text-align: right;\">  packet_lost</th></tr>\n",
       "</thead>\n",
       "<tbody>\n",
       "<tr><td>evaluate_objective_c575fb02</td><td>RUNNING </td><td>131.234.29.24:26235</td><td style=\"text-align: right;\">0.990228</td><td style=\"text-align: right;\">    0.00064491 </td><td style=\"text-align: right;\">       3.14781 </td><td style=\"text-align: right;\">    52</td><td style=\"text-align: right;\">         234.476</td><td style=\"text-align: right;\">        -1839</td><td style=\"text-align: right;\">             602</td><td style=\"text-align: right;\">            0</td></tr>\n",
       "<tr><td>evaluate_objective_c575fb03</td><td>RUNNING </td><td>131.234.29.24:26224</td><td style=\"text-align: right;\">0.992424</td><td style=\"text-align: right;\">    0.000166578</td><td style=\"text-align: right;\">       4.45429 </td><td style=\"text-align: right;\">    53</td><td style=\"text-align: right;\">         238.817</td><td style=\"text-align: right;\">        -1839</td><td style=\"text-align: right;\">             602</td><td style=\"text-align: right;\">            0</td></tr>\n",
       "<tr><td>evaluate_objective_c575fb04</td><td>PENDING </td><td>                   </td><td style=\"text-align: right;\">0.998132</td><td style=\"text-align: right;\">    0.0026539  </td><td style=\"text-align: right;\">       0.891429</td><td style=\"text-align: right;\">      </td><td style=\"text-align: right;\">                </td><td style=\"text-align: right;\">             </td><td style=\"text-align: right;\">                </td><td style=\"text-align: right;\">             </td></tr>\n",
       "<tr><td>evaluate_objective_c575fb05</td><td>PENDING </td><td>                   </td><td style=\"text-align: right;\">0.995314</td><td style=\"text-align: right;\">    0.000825845</td><td style=\"text-align: right;\">       1.34788 </td><td style=\"text-align: right;\">      </td><td style=\"text-align: right;\">                </td><td style=\"text-align: right;\">             </td><td style=\"text-align: right;\">                </td><td style=\"text-align: right;\">             </td></tr>\n",
       "<tr><td>evaluate_objective_c575fb06</td><td>PENDING </td><td>                   </td><td style=\"text-align: right;\">0.99127 </td><td style=\"text-align: right;\">    0.00239913 </td><td style=\"text-align: right;\">       2.35207 </td><td style=\"text-align: right;\">      </td><td style=\"text-align: right;\">                </td><td style=\"text-align: right;\">             </td><td style=\"text-align: right;\">                </td><td style=\"text-align: right;\">             </td></tr>\n",
       "</tbody>\n",
       "</table><br><br>"
      ],
      "text/plain": [
       "<IPython.core.display.HTML object>"
      ]
     },
     "metadata": {},
     "output_type": "display_data"
    },
    {
     "name": "stdout",
     "output_type": "stream",
     "text": [
      "Result for evaluate_objective_c575fb02:\n",
      "  date: 2020-12-15_23-17-35\n",
      "  done: false\n",
      "  experiment_id: 46b0c57ac75646e5b843e0a5d6b6f025\n",
      "  experiment_tag: 1_gamma=0.99023,learning_rate=0.00064491,max_grad_norm=3.1478\n",
      "  hostname: aicon3\n",
      "  iterations_since_restore: 53\n",
      "  mean_ep_length: 602.0\n",
      "  mean_reward: -1839.0\n",
      "  node_ip: 131.234.29.24\n",
      "  packet_lost: 0\n",
      "  pid: 26235\n",
      "  time_since_restore: 238.89405131340027\n",
      "  time_this_iter_s: 4.418180465698242\n",
      "  time_total_s: 238.89405131340027\n",
      "  timestamp: 1608070655\n",
      "  timesteps_since_restore: 0\n",
      "  training_iteration: 53\n",
      "  trial_id: c575fb02\n",
      "  \n"
     ]
    },
    {
     "name": "stderr",
     "output_type": "stream",
     "text": [
      "\u001b[2m\u001b[36m(pid=26224)\u001b[0m ERROR:root:Max counter exceeded\n",
      "\u001b[2m\u001b[36m(pid=26235)\u001b[0m ERROR:root:Max counter exceeded\n",
      "\u001b[2m\u001b[36m(pid=26235)\u001b[0m ERROR:root:Max counter exceeded\n",
      "\u001b[2m\u001b[36m(pid=26224)\u001b[0m ERROR:root:Max counter exceeded\n",
      "\u001b[2m\u001b[36m(pid=26235)\u001b[0m ERROR:root:Max counter exceeded\n",
      "\u001b[2m\u001b[36m(pid=26224)\u001b[0m ERROR:root:Max counter exceeded\n",
      "\u001b[2m\u001b[36m(pid=26235)\u001b[0m ERROR:root:Max counter exceeded\n",
      "\u001b[2m\u001b[36m(pid=26224)\u001b[0m ERROR:root:Max counter exceeded\n",
      "\u001b[2m\u001b[36m(pid=26224)\u001b[0m ERROR:root:Max counter exceeded\n",
      "\u001b[2m\u001b[36m(pid=26235)\u001b[0m ERROR:root:Max counter exceeded\n",
      "\u001b[2m\u001b[36m(pid=26224)\u001b[0m ERROR:root:Max counter exceeded\n",
      "\u001b[2m\u001b[36m(pid=26235)\u001b[0m ERROR:root:Max counter exceeded\n",
      "\u001b[2m\u001b[36m(pid=26235)\u001b[0m ERROR:root:Max counter exceeded\n",
      "\u001b[2m\u001b[36m(pid=26224)\u001b[0m ERROR:root:Max counter exceeded\n",
      "\u001b[2m\u001b[36m(pid=26235)\u001b[0m ERROR:root:Max counter exceeded\n",
      "\u001b[2m\u001b[36m(pid=26224)\u001b[0m ERROR:root:Max counter exceeded\n",
      "\u001b[2m\u001b[36m(pid=26235)\u001b[0m ERROR:root:Max counter exceeded\n",
      "\u001b[2m\u001b[36m(pid=26224)\u001b[0m ERROR:root:Max counter exceeded\n",
      "\u001b[2m\u001b[36m(pid=26235)\u001b[0m ERROR:root:Max counter exceeded\n",
      "\u001b[2m\u001b[36m(pid=26224)\u001b[0m ERROR:root:Max counter exceeded\n"
     ]
    },
    {
     "name": "stdout",
     "output_type": "stream",
     "text": [
      "Result for evaluate_objective_c575fb02:\n",
      "  date: 2020-12-15_23-17-44\n",
      "  done: false\n",
      "  experiment_id: 46b0c57ac75646e5b843e0a5d6b6f025\n",
      "  experiment_tag: 1_gamma=0.99023,learning_rate=0.00064491,max_grad_norm=3.1478\n",
      "  hostname: aicon3\n",
      "  iterations_since_restore: 55\n",
      "  mean_ep_length: 602.0\n",
      "  mean_reward: -1839.0\n",
      "  node_ip: 131.234.29.24\n",
      "  packet_lost: 0\n",
      "  pid: 26235\n",
      "  time_since_restore: 247.57134366035461\n",
      "  time_this_iter_s: 4.3281943798065186\n",
      "  time_total_s: 247.57134366035461\n",
      "  timestamp: 1608070664\n",
      "  timesteps_since_restore: 0\n",
      "  training_iteration: 55\n",
      "  trial_id: c575fb02\n",
      "  \n"
     ]
    },
    {
     "data": {
      "text/html": [
       "== Status ==<br>Memory usage on this node: 7.7/31.4 GiB<br>Using AsyncHyperBand: num_stopped=0\n",
       "Bracket: Iter 90.000: None | Iter 30.000: -1839.0 | Iter 10.000: -10310.866666666665<br>Resources requested: 16/16 CPUs, 0/0 GPUs, 0.0/15.14 GiB heap, 0.0/5.22 GiB objects<br>Result logdir: /home/aicon/ray_results/evaluate_objective<br>Number of trials: 5 (3 PENDING, 2 RUNNING)<br><table>\n",
       "<thead>\n",
       "<tr><th>Trial name                 </th><th>status  </th><th>loc                </th><th style=\"text-align: right;\">   gamma</th><th style=\"text-align: right;\">  learning_rate</th><th style=\"text-align: right;\">  max_grad_norm</th><th style=\"text-align: right;\">  iter</th><th style=\"text-align: right;\">  total time (s)</th><th style=\"text-align: right;\">  mean_reward</th><th style=\"text-align: right;\">  mean_ep_length</th><th style=\"text-align: right;\">  packet_lost</th></tr>\n",
       "</thead>\n",
       "<tbody>\n",
       "<tr><td>evaluate_objective_c575fb02</td><td>RUNNING </td><td>131.234.29.24:26235</td><td style=\"text-align: right;\">0.990228</td><td style=\"text-align: right;\">    0.00064491 </td><td style=\"text-align: right;\">       3.14781 </td><td style=\"text-align: right;\">    55</td><td style=\"text-align: right;\">         247.571</td><td style=\"text-align: right;\">        -1839</td><td style=\"text-align: right;\">             602</td><td style=\"text-align: right;\">            0</td></tr>\n",
       "<tr><td>evaluate_objective_c575fb03</td><td>RUNNING </td><td>131.234.29.24:26224</td><td style=\"text-align: right;\">0.992424</td><td style=\"text-align: right;\">    0.000166578</td><td style=\"text-align: right;\">       4.45429 </td><td style=\"text-align: right;\">    54</td><td style=\"text-align: right;\">         243.145</td><td style=\"text-align: right;\">        -1839</td><td style=\"text-align: right;\">             602</td><td style=\"text-align: right;\">            0</td></tr>\n",
       "<tr><td>evaluate_objective_c575fb04</td><td>PENDING </td><td>                   </td><td style=\"text-align: right;\">0.998132</td><td style=\"text-align: right;\">    0.0026539  </td><td style=\"text-align: right;\">       0.891429</td><td style=\"text-align: right;\">      </td><td style=\"text-align: right;\">                </td><td style=\"text-align: right;\">             </td><td style=\"text-align: right;\">                </td><td style=\"text-align: right;\">             </td></tr>\n",
       "<tr><td>evaluate_objective_c575fb05</td><td>PENDING </td><td>                   </td><td style=\"text-align: right;\">0.995314</td><td style=\"text-align: right;\">    0.000825845</td><td style=\"text-align: right;\">       1.34788 </td><td style=\"text-align: right;\">      </td><td style=\"text-align: right;\">                </td><td style=\"text-align: right;\">             </td><td style=\"text-align: right;\">                </td><td style=\"text-align: right;\">             </td></tr>\n",
       "<tr><td>evaluate_objective_c575fb06</td><td>PENDING </td><td>                   </td><td style=\"text-align: right;\">0.99127 </td><td style=\"text-align: right;\">    0.00239913 </td><td style=\"text-align: right;\">       2.35207 </td><td style=\"text-align: right;\">      </td><td style=\"text-align: right;\">                </td><td style=\"text-align: right;\">             </td><td style=\"text-align: right;\">                </td><td style=\"text-align: right;\">             </td></tr>\n",
       "</tbody>\n",
       "</table><br><br>"
      ],
      "text/plain": [
       "<IPython.core.display.HTML object>"
      ]
     },
     "metadata": {},
     "output_type": "display_data"
    },
    {
     "name": "stdout",
     "output_type": "stream",
     "text": [
      "Result for evaluate_objective_c575fb03:\n",
      "  date: 2020-12-15_23-17-44\n",
      "  done: false\n",
      "  experiment_id: 9c64caf4f0a14459832fe803edf35758\n",
      "  experiment_tag: 2_gamma=0.99242,learning_rate=0.00016658,max_grad_norm=4.4543\n",
      "  hostname: aicon3\n",
      "  iterations_since_restore: 55\n",
      "  mean_ep_length: 602.0\n",
      "  mean_reward: -1839.0\n",
      "  node_ip: 131.234.29.24\n",
      "  packet_lost: 0\n",
      "  pid: 26224\n",
      "  time_since_restore: 247.64891529083252\n",
      "  time_this_iter_s: 4.504237174987793\n",
      "  time_total_s: 247.64891529083252\n",
      "  timestamp: 1608070664\n",
      "  timesteps_since_restore: 0\n",
      "  training_iteration: 55\n",
      "  trial_id: c575fb03\n",
      "  \n"
     ]
    },
    {
     "name": "stderr",
     "output_type": "stream",
     "text": [
      "\u001b[2m\u001b[36m(pid=26235)\u001b[0m ERROR:root:Max counter exceeded\n",
      "\u001b[2m\u001b[36m(pid=26224)\u001b[0m ERROR:root:Max counter exceeded\n",
      "\u001b[2m\u001b[36m(pid=26235)\u001b[0m ERROR:root:Max counter exceeded\n",
      "\u001b[2m\u001b[36m(pid=26224)\u001b[0m ERROR:root:Max counter exceeded\n",
      "\u001b[2m\u001b[36m(pid=26235)\u001b[0m ERROR:root:Max counter exceeded\n",
      "\u001b[2m\u001b[36m(pid=26224)\u001b[0m ERROR:root:Max counter exceeded\n",
      "\u001b[2m\u001b[36m(pid=26235)\u001b[0m ERROR:root:Max counter exceeded\n",
      "\u001b[2m\u001b[36m(pid=26224)\u001b[0m ERROR:root:Max counter exceeded\n",
      "\u001b[2m\u001b[36m(pid=26235)\u001b[0m ERROR:root:Max counter exceeded\n",
      "\u001b[2m\u001b[36m(pid=26224)\u001b[0m ERROR:root:Max counter exceeded\n",
      "\u001b[2m\u001b[36m(pid=26235)\u001b[0m ERROR:root:Max counter exceeded\n",
      "\u001b[2m\u001b[36m(pid=26224)\u001b[0m ERROR:root:Max counter exceeded\n",
      "\u001b[2m\u001b[36m(pid=26235)\u001b[0m ERROR:root:Max counter exceeded\n",
      "\u001b[2m\u001b[36m(pid=26235)\u001b[0m ERROR:root:Max counter exceeded\n",
      "\u001b[2m\u001b[36m(pid=26235)\u001b[0m ERROR:root:Max counter exceeded\n",
      "\u001b[2m\u001b[36m(pid=26224)\u001b[0m ERROR:root:Max counter exceeded\n",
      "\u001b[2m\u001b[36m(pid=26235)\u001b[0m ERROR:root:Max counter exceeded\n",
      "\u001b[2m\u001b[36m(pid=26224)\u001b[0m ERROR:root:Max counter exceeded\n",
      "\u001b[2m\u001b[36m(pid=26224)\u001b[0m ERROR:root:Max counter exceeded\n",
      "\u001b[2m\u001b[36m(pid=26235)\u001b[0m ERROR:root:Max counter exceeded\n",
      "\u001b[2m\u001b[36m(pid=26224)\u001b[0m ERROR:root:Max counter exceeded\n",
      "\u001b[2m\u001b[36m(pid=26235)\u001b[0m ERROR:root:Max counter exceeded\n"
     ]
    },
    {
     "name": "stdout",
     "output_type": "stream",
     "text": [
      "Result for evaluate_objective_c575fb03:\n",
      "  date: 2020-12-15_23-17-53\n",
      "  done: false\n",
      "  experiment_id: 9c64caf4f0a14459832fe803edf35758\n",
      "  experiment_tag: 2_gamma=0.99242,learning_rate=0.00016658,max_grad_norm=4.4543\n",
      "  hostname: aicon3\n",
      "  iterations_since_restore: 57\n",
      "  mean_ep_length: 602.0\n",
      "  mean_reward: -1839.0\n",
      "  node_ip: 131.234.29.24\n",
      "  packet_lost: 0\n",
      "  pid: 26224\n",
      "  time_since_restore: 256.23436164855957\n",
      "  time_this_iter_s: 4.414580821990967\n",
      "  time_total_s: 256.23436164855957\n",
      "  timestamp: 1608070673\n",
      "  timesteps_since_restore: 0\n",
      "  training_iteration: 57\n",
      "  trial_id: c575fb03\n",
      "  \n"
     ]
    },
    {
     "data": {
      "text/html": [
       "== Status ==<br>Memory usage on this node: 7.7/31.4 GiB<br>Using AsyncHyperBand: num_stopped=0\n",
       "Bracket: Iter 90.000: None | Iter 30.000: -1839.0 | Iter 10.000: -10310.866666666665<br>Resources requested: 16/16 CPUs, 0/0 GPUs, 0.0/15.14 GiB heap, 0.0/5.22 GiB objects<br>Result logdir: /home/aicon/ray_results/evaluate_objective<br>Number of trials: 5 (3 PENDING, 2 RUNNING)<br><table>\n",
       "<thead>\n",
       "<tr><th>Trial name                 </th><th>status  </th><th>loc                </th><th style=\"text-align: right;\">   gamma</th><th style=\"text-align: right;\">  learning_rate</th><th style=\"text-align: right;\">  max_grad_norm</th><th style=\"text-align: right;\">  iter</th><th style=\"text-align: right;\">  total time (s)</th><th style=\"text-align: right;\">  mean_reward</th><th style=\"text-align: right;\">  mean_ep_length</th><th style=\"text-align: right;\">  packet_lost</th></tr>\n",
       "</thead>\n",
       "<tbody>\n",
       "<tr><td>evaluate_objective_c575fb02</td><td>RUNNING </td><td>131.234.29.24:26235</td><td style=\"text-align: right;\">0.990228</td><td style=\"text-align: right;\">    0.00064491 </td><td style=\"text-align: right;\">       3.14781 </td><td style=\"text-align: right;\">    56</td><td style=\"text-align: right;\">         251.925</td><td style=\"text-align: right;\">        -1839</td><td style=\"text-align: right;\">             602</td><td style=\"text-align: right;\">            0</td></tr>\n",
       "<tr><td>evaluate_objective_c575fb03</td><td>RUNNING </td><td>131.234.29.24:26224</td><td style=\"text-align: right;\">0.992424</td><td style=\"text-align: right;\">    0.000166578</td><td style=\"text-align: right;\">       4.45429 </td><td style=\"text-align: right;\">    57</td><td style=\"text-align: right;\">         256.234</td><td style=\"text-align: right;\">        -1839</td><td style=\"text-align: right;\">             602</td><td style=\"text-align: right;\">            0</td></tr>\n",
       "<tr><td>evaluate_objective_c575fb04</td><td>PENDING </td><td>                   </td><td style=\"text-align: right;\">0.998132</td><td style=\"text-align: right;\">    0.0026539  </td><td style=\"text-align: right;\">       0.891429</td><td style=\"text-align: right;\">      </td><td style=\"text-align: right;\">                </td><td style=\"text-align: right;\">             </td><td style=\"text-align: right;\">                </td><td style=\"text-align: right;\">             </td></tr>\n",
       "<tr><td>evaluate_objective_c575fb05</td><td>PENDING </td><td>                   </td><td style=\"text-align: right;\">0.995314</td><td style=\"text-align: right;\">    0.000825845</td><td style=\"text-align: right;\">       1.34788 </td><td style=\"text-align: right;\">      </td><td style=\"text-align: right;\">                </td><td style=\"text-align: right;\">             </td><td style=\"text-align: right;\">                </td><td style=\"text-align: right;\">             </td></tr>\n",
       "<tr><td>evaluate_objective_c575fb06</td><td>PENDING </td><td>                   </td><td style=\"text-align: right;\">0.99127 </td><td style=\"text-align: right;\">    0.00239913 </td><td style=\"text-align: right;\">       2.35207 </td><td style=\"text-align: right;\">      </td><td style=\"text-align: right;\">                </td><td style=\"text-align: right;\">             </td><td style=\"text-align: right;\">                </td><td style=\"text-align: right;\">             </td></tr>\n",
       "</tbody>\n",
       "</table><br><br>"
      ],
      "text/plain": [
       "<IPython.core.display.HTML object>"
      ]
     },
     "metadata": {},
     "output_type": "display_data"
    },
    {
     "name": "stdout",
     "output_type": "stream",
     "text": [
      "Result for evaluate_objective_c575fb02:\n",
      "  date: 2020-12-15_23-17-53\n",
      "  done: false\n",
      "  experiment_id: 46b0c57ac75646e5b843e0a5d6b6f025\n",
      "  experiment_tag: 1_gamma=0.99023,learning_rate=0.00064491,max_grad_norm=3.1478\n",
      "  hostname: aicon3\n",
      "  iterations_since_restore: 57\n",
      "  mean_ep_length: 602.0\n",
      "  mean_reward: -1839.0\n",
      "  node_ip: 131.234.29.24\n",
      "  packet_lost: 0\n",
      "  pid: 26235\n",
      "  time_since_restore: 256.27151250839233\n",
      "  time_this_iter_s: 4.346451759338379\n",
      "  time_total_s: 256.27151250839233\n",
      "  timestamp: 1608070673\n",
      "  timesteps_since_restore: 0\n",
      "  training_iteration: 57\n",
      "  trial_id: c575fb02\n",
      "  \n"
     ]
    },
    {
     "name": "stderr",
     "output_type": "stream",
     "text": [
      "\u001b[2m\u001b[36m(pid=26224)\u001b[0m ERROR:root:Max counter exceeded\n",
      "\u001b[2m\u001b[36m(pid=26235)\u001b[0m ERROR:root:Max counter exceeded\n",
      "\u001b[2m\u001b[36m(pid=26235)\u001b[0m ERROR:root:Max counter exceeded\n",
      "\u001b[2m\u001b[36m(pid=26235)\u001b[0m ERROR:root:Max counter exceeded\n",
      "\u001b[2m\u001b[36m(pid=26224)\u001b[0m ERROR:root:Max counter exceeded\n",
      "\u001b[2m\u001b[36m(pid=26235)\u001b[0m ERROR:root:Max counter exceeded\n",
      "\u001b[2m\u001b[36m(pid=26224)\u001b[0m ERROR:root:Max counter exceeded\n",
      "\u001b[2m\u001b[36m(pid=26235)\u001b[0m ERROR:root:Max counter exceeded\n",
      "\u001b[2m\u001b[36m(pid=26224)\u001b[0m ERROR:root:Max counter exceeded\n",
      "\u001b[2m\u001b[36m(pid=26235)\u001b[0m ERROR:root:Max counter exceeded\n",
      "\u001b[2m\u001b[36m(pid=26224)\u001b[0m ERROR:root:Max counter exceeded\n",
      "\u001b[2m\u001b[36m(pid=26235)\u001b[0m ERROR:root:Max counter exceeded\n",
      "\u001b[2m\u001b[36m(pid=26224)\u001b[0m ERROR:root:Max counter exceeded\n",
      "\u001b[2m\u001b[36m(pid=26235)\u001b[0m ERROR:root:Max counter exceeded\n",
      "\u001b[2m\u001b[36m(pid=26224)\u001b[0m ERROR:root:Max counter exceeded\n",
      "\u001b[2m\u001b[36m(pid=26235)\u001b[0m ERROR:root:Max counter exceeded\n",
      "\u001b[2m\u001b[36m(pid=26224)\u001b[0m ERROR:root:Max counter exceeded\n",
      "\u001b[2m\u001b[36m(pid=26235)\u001b[0m ERROR:root:Max counter exceeded\n",
      "\u001b[2m\u001b[36m(pid=26224)\u001b[0m ERROR:root:Max counter exceeded\n",
      "\u001b[2m\u001b[36m(pid=26235)\u001b[0m ERROR:root:Max counter exceeded\n",
      "\u001b[2m\u001b[36m(pid=26224)\u001b[0m ERROR:root:Max counter exceeded\n",
      "\u001b[2m\u001b[36m(pid=26235)\u001b[0m ERROR:root:Max counter exceeded\n"
     ]
    },
    {
     "name": "stdout",
     "output_type": "stream",
     "text": [
      "Result for evaluate_objective_c575fb03:\n",
      "  date: 2020-12-15_23-18-01\n",
      "  done: false\n",
      "  experiment_id: 9c64caf4f0a14459832fe803edf35758\n",
      "  experiment_tag: 2_gamma=0.99242,learning_rate=0.00016658,max_grad_norm=4.4543\n",
      "  hostname: aicon3\n",
      "  iterations_since_restore: 59\n",
      "  mean_ep_length: 602.0\n",
      "  mean_reward: -1839.0\n",
      "  node_ip: 131.234.29.24\n",
      "  packet_lost: 0\n",
      "  pid: 26224\n",
      "  time_since_restore: 264.71788454055786\n",
      "  time_this_iter_s: 4.2586870193481445\n",
      "  time_total_s: 264.71788454055786\n",
      "  timestamp: 1608070681\n",
      "  timesteps_since_restore: 0\n",
      "  training_iteration: 59\n",
      "  trial_id: c575fb03\n",
      "  \n"
     ]
    },
    {
     "data": {
      "text/html": [
       "== Status ==<br>Memory usage on this node: 7.7/31.4 GiB<br>Using AsyncHyperBand: num_stopped=0\n",
       "Bracket: Iter 90.000: None | Iter 30.000: -1839.0 | Iter 10.000: -10310.866666666665<br>Resources requested: 16/16 CPUs, 0/0 GPUs, 0.0/15.14 GiB heap, 0.0/5.22 GiB objects<br>Result logdir: /home/aicon/ray_results/evaluate_objective<br>Number of trials: 5 (3 PENDING, 2 RUNNING)<br><table>\n",
       "<thead>\n",
       "<tr><th>Trial name                 </th><th>status  </th><th>loc                </th><th style=\"text-align: right;\">   gamma</th><th style=\"text-align: right;\">  learning_rate</th><th style=\"text-align: right;\">  max_grad_norm</th><th style=\"text-align: right;\">  iter</th><th style=\"text-align: right;\">  total time (s)</th><th style=\"text-align: right;\">  mean_reward</th><th style=\"text-align: right;\">  mean_ep_length</th><th style=\"text-align: right;\">  packet_lost</th></tr>\n",
       "</thead>\n",
       "<tbody>\n",
       "<tr><td>evaluate_objective_c575fb02</td><td>RUNNING </td><td>131.234.29.24:26235</td><td style=\"text-align: right;\">0.990228</td><td style=\"text-align: right;\">    0.00064491 </td><td style=\"text-align: right;\">       3.14781 </td><td style=\"text-align: right;\">    58</td><td style=\"text-align: right;\">         260.656</td><td style=\"text-align: right;\">        -1839</td><td style=\"text-align: right;\">             602</td><td style=\"text-align: right;\">            0</td></tr>\n",
       "<tr><td>evaluate_objective_c575fb03</td><td>RUNNING </td><td>131.234.29.24:26224</td><td style=\"text-align: right;\">0.992424</td><td style=\"text-align: right;\">    0.000166578</td><td style=\"text-align: right;\">       4.45429 </td><td style=\"text-align: right;\">    59</td><td style=\"text-align: right;\">         264.718</td><td style=\"text-align: right;\">        -1839</td><td style=\"text-align: right;\">             602</td><td style=\"text-align: right;\">            0</td></tr>\n",
       "<tr><td>evaluate_objective_c575fb04</td><td>PENDING </td><td>                   </td><td style=\"text-align: right;\">0.998132</td><td style=\"text-align: right;\">    0.0026539  </td><td style=\"text-align: right;\">       0.891429</td><td style=\"text-align: right;\">      </td><td style=\"text-align: right;\">                </td><td style=\"text-align: right;\">             </td><td style=\"text-align: right;\">                </td><td style=\"text-align: right;\">             </td></tr>\n",
       "<tr><td>evaluate_objective_c575fb05</td><td>PENDING </td><td>                   </td><td style=\"text-align: right;\">0.995314</td><td style=\"text-align: right;\">    0.000825845</td><td style=\"text-align: right;\">       1.34788 </td><td style=\"text-align: right;\">      </td><td style=\"text-align: right;\">                </td><td style=\"text-align: right;\">             </td><td style=\"text-align: right;\">                </td><td style=\"text-align: right;\">             </td></tr>\n",
       "<tr><td>evaluate_objective_c575fb06</td><td>PENDING </td><td>                   </td><td style=\"text-align: right;\">0.99127 </td><td style=\"text-align: right;\">    0.00239913 </td><td style=\"text-align: right;\">       2.35207 </td><td style=\"text-align: right;\">      </td><td style=\"text-align: right;\">                </td><td style=\"text-align: right;\">             </td><td style=\"text-align: right;\">                </td><td style=\"text-align: right;\">             </td></tr>\n",
       "</tbody>\n",
       "</table><br><br>"
      ],
      "text/plain": [
       "<IPython.core.display.HTML object>"
      ]
     },
     "metadata": {},
     "output_type": "display_data"
    },
    {
     "name": "stderr",
     "output_type": "stream",
     "text": [
      "\u001b[2m\u001b[36m(pid=26224)\u001b[0m ERROR:root:Max counter exceeded\n"
     ]
    },
    {
     "name": "stdout",
     "output_type": "stream",
     "text": [
      "Result for evaluate_objective_c575fb02:\n",
      "  date: 2020-12-15_23-18-02\n",
      "  done: false\n",
      "  experiment_id: 46b0c57ac75646e5b843e0a5d6b6f025\n",
      "  experiment_tag: 1_gamma=0.99023,learning_rate=0.00064491,max_grad_norm=3.1478\n",
      "  hostname: aicon3\n",
      "  iterations_since_restore: 59\n",
      "  mean_ep_length: 602.0\n",
      "  mean_reward: -1839.0\n",
      "  node_ip: 131.234.29.24\n",
      "  packet_lost: 0\n",
      "  pid: 26235\n",
      "  time_since_restore: 265.03724455833435\n",
      "  time_this_iter_s: 4.381702184677124\n",
      "  time_total_s: 265.03724455833435\n",
      "  timestamp: 1608070682\n",
      "  timesteps_since_restore: 0\n",
      "  training_iteration: 59\n",
      "  trial_id: c575fb02\n",
      "  \n"
     ]
    },
    {
     "name": "stderr",
     "output_type": "stream",
     "text": [
      "\u001b[2m\u001b[36m(pid=26235)\u001b[0m ERROR:root:Max counter exceeded\n",
      "\u001b[2m\u001b[36m(pid=26235)\u001b[0m ERROR:root:Max counter exceeded\n",
      "\u001b[2m\u001b[36m(pid=26224)\u001b[0m ERROR:root:Max counter exceeded\n",
      "\u001b[2m\u001b[36m(pid=26235)\u001b[0m ERROR:root:Max counter exceeded\n",
      "\u001b[2m\u001b[36m(pid=26224)\u001b[0m ERROR:root:Max counter exceeded\n",
      "\u001b[2m\u001b[36m(pid=26235)\u001b[0m ERROR:root:Max counter exceeded\n",
      "\u001b[2m\u001b[36m(pid=26224)\u001b[0m ERROR:root:Max counter exceeded\n",
      "\u001b[2m\u001b[36m(pid=26235)\u001b[0m ERROR:root:Max counter exceeded\n",
      "\u001b[2m\u001b[36m(pid=26224)\u001b[0m ERROR:root:Max counter exceeded\n",
      "\u001b[2m\u001b[36m(pid=26235)\u001b[0m ERROR:root:Max counter exceeded\n",
      "\u001b[2m\u001b[36m(pid=26224)\u001b[0m ERROR:root:Max counter exceeded\n",
      "\u001b[2m\u001b[36m(pid=26235)\u001b[0m ERROR:root:Max counter exceeded\n",
      "\u001b[2m\u001b[36m(pid=26224)\u001b[0m ERROR:root:Max counter exceeded\n",
      "\u001b[2m\u001b[36m(pid=26235)\u001b[0m ERROR:root:Max counter exceeded\n",
      "\u001b[2m\u001b[36m(pid=26224)\u001b[0m ERROR:root:Max counter exceeded\n",
      "\u001b[2m\u001b[36m(pid=26235)\u001b[0m ERROR:root:Max counter exceeded\n",
      "\u001b[2m\u001b[36m(pid=26224)\u001b[0m ERROR:root:Max counter exceeded\n",
      "\u001b[2m\u001b[36m(pid=26235)\u001b[0m ERROR:root:Max counter exceeded\n",
      "\u001b[2m\u001b[36m(pid=26224)\u001b[0m ERROR:root:Max counter exceeded\n",
      "\u001b[2m\u001b[36m(pid=26235)\u001b[0m ERROR:root:Max counter exceeded\n"
     ]
    },
    {
     "name": "stdout",
     "output_type": "stream",
     "text": [
      "Result for evaluate_objective_c575fb03:\n",
      "  date: 2020-12-15_23-18-10\n",
      "  done: false\n",
      "  experiment_id: 9c64caf4f0a14459832fe803edf35758\n",
      "  experiment_tag: 2_gamma=0.99242,learning_rate=0.00016658,max_grad_norm=4.4543\n",
      "  hostname: aicon3\n",
      "  iterations_since_restore: 61\n",
      "  mean_ep_length: 602.0\n",
      "  mean_reward: -1839.0\n",
      "  node_ip: 131.234.29.24\n",
      "  packet_lost: 0\n",
      "  pid: 26224\n",
      "  time_since_restore: 273.4232370853424\n",
      "  time_this_iter_s: 4.254491806030273\n",
      "  time_total_s: 273.4232370853424\n",
      "  timestamp: 1608070690\n",
      "  timesteps_since_restore: 0\n",
      "  training_iteration: 61\n",
      "  trial_id: c575fb03\n",
      "  \n"
     ]
    },
    {
     "data": {
      "text/html": [
       "== Status ==<br>Memory usage on this node: 7.7/31.4 GiB<br>Using AsyncHyperBand: num_stopped=0\n",
       "Bracket: Iter 90.000: None | Iter 30.000: -1839.0 | Iter 10.000: -10310.866666666665<br>Resources requested: 16/16 CPUs, 0/0 GPUs, 0.0/15.14 GiB heap, 0.0/5.22 GiB objects<br>Result logdir: /home/aicon/ray_results/evaluate_objective<br>Number of trials: 5 (3 PENDING, 2 RUNNING)<br><table>\n",
       "<thead>\n",
       "<tr><th>Trial name                 </th><th>status  </th><th>loc                </th><th style=\"text-align: right;\">   gamma</th><th style=\"text-align: right;\">  learning_rate</th><th style=\"text-align: right;\">  max_grad_norm</th><th style=\"text-align: right;\">  iter</th><th style=\"text-align: right;\">  total time (s)</th><th style=\"text-align: right;\">  mean_reward</th><th style=\"text-align: right;\">  mean_ep_length</th><th style=\"text-align: right;\">  packet_lost</th></tr>\n",
       "</thead>\n",
       "<tbody>\n",
       "<tr><td>evaluate_objective_c575fb02</td><td>RUNNING </td><td>131.234.29.24:26235</td><td style=\"text-align: right;\">0.990228</td><td style=\"text-align: right;\">    0.00064491 </td><td style=\"text-align: right;\">       3.14781 </td><td style=\"text-align: right;\">    60</td><td style=\"text-align: right;\">         269.259</td><td style=\"text-align: right;\">        -1839</td><td style=\"text-align: right;\">             602</td><td style=\"text-align: right;\">            0</td></tr>\n",
       "<tr><td>evaluate_objective_c575fb03</td><td>RUNNING </td><td>131.234.29.24:26224</td><td style=\"text-align: right;\">0.992424</td><td style=\"text-align: right;\">    0.000166578</td><td style=\"text-align: right;\">       4.45429 </td><td style=\"text-align: right;\">    61</td><td style=\"text-align: right;\">         273.423</td><td style=\"text-align: right;\">        -1839</td><td style=\"text-align: right;\">             602</td><td style=\"text-align: right;\">            0</td></tr>\n",
       "<tr><td>evaluate_objective_c575fb04</td><td>PENDING </td><td>                   </td><td style=\"text-align: right;\">0.998132</td><td style=\"text-align: right;\">    0.0026539  </td><td style=\"text-align: right;\">       0.891429</td><td style=\"text-align: right;\">      </td><td style=\"text-align: right;\">                </td><td style=\"text-align: right;\">             </td><td style=\"text-align: right;\">                </td><td style=\"text-align: right;\">             </td></tr>\n",
       "<tr><td>evaluate_objective_c575fb05</td><td>PENDING </td><td>                   </td><td style=\"text-align: right;\">0.995314</td><td style=\"text-align: right;\">    0.000825845</td><td style=\"text-align: right;\">       1.34788 </td><td style=\"text-align: right;\">      </td><td style=\"text-align: right;\">                </td><td style=\"text-align: right;\">             </td><td style=\"text-align: right;\">                </td><td style=\"text-align: right;\">             </td></tr>\n",
       "<tr><td>evaluate_objective_c575fb06</td><td>PENDING </td><td>                   </td><td style=\"text-align: right;\">0.99127 </td><td style=\"text-align: right;\">    0.00239913 </td><td style=\"text-align: right;\">       2.35207 </td><td style=\"text-align: right;\">      </td><td style=\"text-align: right;\">                </td><td style=\"text-align: right;\">             </td><td style=\"text-align: right;\">                </td><td style=\"text-align: right;\">             </td></tr>\n",
       "</tbody>\n",
       "</table><br><br>"
      ],
      "text/plain": [
       "<IPython.core.display.HTML object>"
      ]
     },
     "metadata": {},
     "output_type": "display_data"
    },
    {
     "name": "stdout",
     "output_type": "stream",
     "text": [
      "Result for evaluate_objective_c575fb02:\n",
      "  date: 2020-12-15_23-18-10\n",
      "  done: false\n",
      "  experiment_id: 46b0c57ac75646e5b843e0a5d6b6f025\n",
      "  experiment_tag: 1_gamma=0.99023,learning_rate=0.00064491,max_grad_norm=3.1478\n",
      "  hostname: aicon3\n",
      "  iterations_since_restore: 61\n",
      "  mean_ep_length: 602.0\n",
      "  mean_reward: -1837.2\n",
      "  node_ip: 131.234.29.24\n",
      "  packet_lost: 0\n",
      "  pid: 26235\n",
      "  time_since_restore: 273.5092167854309\n",
      "  time_this_iter_s: 4.250411033630371\n",
      "  time_total_s: 273.5092167854309\n",
      "  timestamp: 1608070690\n",
      "  timesteps_since_restore: 0\n",
      "  training_iteration: 61\n",
      "  trial_id: c575fb02\n",
      "  \n"
     ]
    },
    {
     "name": "stderr",
     "output_type": "stream",
     "text": [
      "\u001b[2m\u001b[36m(pid=26224)\u001b[0m ERROR:root:Max counter exceeded\n",
      "\u001b[2m\u001b[36m(pid=26235)\u001b[0m ERROR:root:Max counter exceeded\n",
      "\u001b[2m\u001b[36m(pid=26235)\u001b[0m ERROR:root:Max counter exceeded\n",
      "\u001b[2m\u001b[36m(pid=26235)\u001b[0m ERROR:root:Max counter exceeded\n",
      "\u001b[2m\u001b[36m(pid=26224)\u001b[0m ERROR:root:Max counter exceeded\n",
      "\u001b[2m\u001b[36m(pid=26235)\u001b[0m ERROR:root:Max counter exceeded\n",
      "\u001b[2m\u001b[36m(pid=26224)\u001b[0m ERROR:root:Max counter exceeded\n",
      "\u001b[2m\u001b[36m(pid=26235)\u001b[0m ERROR:root:Max counter exceeded\n",
      "\u001b[2m\u001b[36m(pid=26224)\u001b[0m ERROR:root:Max counter exceeded\n",
      "\u001b[2m\u001b[36m(pid=26235)\u001b[0m ERROR:root:Max counter exceeded\n",
      "\u001b[2m\u001b[36m(pid=26224)\u001b[0m ERROR:root:Max counter exceeded\n",
      "\u001b[2m\u001b[36m(pid=26235)\u001b[0m ERROR:root:Max counter exceeded\n",
      "\u001b[2m\u001b[36m(pid=26224)\u001b[0m ERROR:root:Max counter exceeded\n",
      "\u001b[2m\u001b[36m(pid=26235)\u001b[0m ERROR:root:Max counter exceeded\n",
      "\u001b[2m\u001b[36m(pid=26235)\u001b[0m ERROR:root:Max counter exceeded\n",
      "\u001b[2m\u001b[36m(pid=26224)\u001b[0m ERROR:root:Max counter exceeded\n",
      "\u001b[2m\u001b[36m(pid=26235)\u001b[0m ERROR:root:Max counter exceeded\n",
      "\u001b[2m\u001b[36m(pid=26224)\u001b[0m ERROR:root:Max counter exceeded\n",
      "\u001b[2m\u001b[36m(pid=26235)\u001b[0m ERROR:root:Max counter exceeded\n",
      "\u001b[2m\u001b[36m(pid=26224)\u001b[0m ERROR:root:Max counter exceeded\n",
      "\u001b[2m\u001b[36m(pid=26235)\u001b[0m ERROR:root:Max counter exceeded\n"
     ]
    },
    {
     "name": "stdout",
     "output_type": "stream",
     "text": [
      "Result for evaluate_objective_c575fb02:\n",
      "  date: 2020-12-15_23-18-19\n",
      "  done: false\n",
      "  experiment_id: 46b0c57ac75646e5b843e0a5d6b6f025\n",
      "  experiment_tag: 1_gamma=0.99023,learning_rate=0.00064491,max_grad_norm=3.1478\n",
      "  hostname: aicon3\n",
      "  iterations_since_restore: 63\n",
      "  mean_ep_length: 602.0\n",
      "  mean_reward: -1839.0\n",
      "  node_ip: 131.234.29.24\n",
      "  packet_lost: 0\n",
      "  pid: 26235\n",
      "  time_since_restore: 282.1098449230194\n",
      "  time_this_iter_s: 4.329556226730347\n",
      "  time_total_s: 282.1098449230194\n",
      "  timestamp: 1608070699\n",
      "  timesteps_since_restore: 0\n",
      "  training_iteration: 63\n",
      "  trial_id: c575fb02\n",
      "  \n"
     ]
    },
    {
     "name": "stderr",
     "output_type": "stream",
     "text": [
      "\u001b[2m\u001b[36m(pid=26224)\u001b[0m ERROR:root:Max counter exceeded\n"
     ]
    },
    {
     "data": {
      "text/html": [
       "== Status ==<br>Memory usage on this node: 7.7/31.4 GiB<br>Using AsyncHyperBand: num_stopped=0\n",
       "Bracket: Iter 90.000: None | Iter 30.000: -1839.0 | Iter 10.000: -10310.866666666665<br>Resources requested: 16/16 CPUs, 0/0 GPUs, 0.0/15.14 GiB heap, 0.0/5.22 GiB objects<br>Result logdir: /home/aicon/ray_results/evaluate_objective<br>Number of trials: 5 (3 PENDING, 2 RUNNING)<br><table>\n",
       "<thead>\n",
       "<tr><th>Trial name                 </th><th>status  </th><th>loc                </th><th style=\"text-align: right;\">   gamma</th><th style=\"text-align: right;\">  learning_rate</th><th style=\"text-align: right;\">  max_grad_norm</th><th style=\"text-align: right;\">  iter</th><th style=\"text-align: right;\">  total time (s)</th><th style=\"text-align: right;\">  mean_reward</th><th style=\"text-align: right;\">  mean_ep_length</th><th style=\"text-align: right;\">  packet_lost</th></tr>\n",
       "</thead>\n",
       "<tbody>\n",
       "<tr><td>evaluate_objective_c575fb02</td><td>RUNNING </td><td>131.234.29.24:26235</td><td style=\"text-align: right;\">0.990228</td><td style=\"text-align: right;\">    0.00064491 </td><td style=\"text-align: right;\">       3.14781 </td><td style=\"text-align: right;\">    63</td><td style=\"text-align: right;\">          282.11</td><td style=\"text-align: right;\">        -1839</td><td style=\"text-align: right;\">             602</td><td style=\"text-align: right;\">            0</td></tr>\n",
       "<tr><td>evaluate_objective_c575fb03</td><td>RUNNING </td><td>131.234.29.24:26224</td><td style=\"text-align: right;\">0.992424</td><td style=\"text-align: right;\">    0.000166578</td><td style=\"text-align: right;\">       4.45429 </td><td style=\"text-align: right;\">    62</td><td style=\"text-align: right;\">          277.96</td><td style=\"text-align: right;\">        -1839</td><td style=\"text-align: right;\">             602</td><td style=\"text-align: right;\">            0</td></tr>\n",
       "<tr><td>evaluate_objective_c575fb04</td><td>PENDING </td><td>                   </td><td style=\"text-align: right;\">0.998132</td><td style=\"text-align: right;\">    0.0026539  </td><td style=\"text-align: right;\">       0.891429</td><td style=\"text-align: right;\">      </td><td style=\"text-align: right;\">                </td><td style=\"text-align: right;\">             </td><td style=\"text-align: right;\">                </td><td style=\"text-align: right;\">             </td></tr>\n",
       "<tr><td>evaluate_objective_c575fb05</td><td>PENDING </td><td>                   </td><td style=\"text-align: right;\">0.995314</td><td style=\"text-align: right;\">    0.000825845</td><td style=\"text-align: right;\">       1.34788 </td><td style=\"text-align: right;\">      </td><td style=\"text-align: right;\">                </td><td style=\"text-align: right;\">             </td><td style=\"text-align: right;\">                </td><td style=\"text-align: right;\">             </td></tr>\n",
       "<tr><td>evaluate_objective_c575fb06</td><td>PENDING </td><td>                   </td><td style=\"text-align: right;\">0.99127 </td><td style=\"text-align: right;\">    0.00239913 </td><td style=\"text-align: right;\">       2.35207 </td><td style=\"text-align: right;\">      </td><td style=\"text-align: right;\">                </td><td style=\"text-align: right;\">             </td><td style=\"text-align: right;\">                </td><td style=\"text-align: right;\">             </td></tr>\n",
       "</tbody>\n",
       "</table><br><br>"
      ],
      "text/plain": [
       "<IPython.core.display.HTML object>"
      ]
     },
     "metadata": {},
     "output_type": "display_data"
    },
    {
     "name": "stderr",
     "output_type": "stream",
     "text": [
      "\u001b[2m\u001b[36m(pid=26235)\u001b[0m ERROR:root:Max counter exceeded\n"
     ]
    },
    {
     "name": "stdout",
     "output_type": "stream",
     "text": [
      "Result for evaluate_objective_c575fb03:\n",
      "  date: 2020-12-15_23-18-19\n",
      "  done: false\n",
      "  experiment_id: 9c64caf4f0a14459832fe803edf35758\n",
      "  experiment_tag: 2_gamma=0.99242,learning_rate=0.00016658,max_grad_norm=4.4543\n",
      "  hostname: aicon3\n",
      "  iterations_since_restore: 63\n",
      "  mean_ep_length: 602.0\n",
      "  mean_reward: -1839.0\n",
      "  node_ip: 131.234.29.24\n",
      "  packet_lost: 0\n",
      "  pid: 26224\n",
      "  time_since_restore: 282.55274081230164\n",
      "  time_this_iter_s: 4.593014240264893\n",
      "  time_total_s: 282.55274081230164\n",
      "  timestamp: 1608070699\n",
      "  timesteps_since_restore: 0\n",
      "  training_iteration: 63\n",
      "  trial_id: c575fb03\n",
      "  \n"
     ]
    },
    {
     "name": "stderr",
     "output_type": "stream",
     "text": [
      "\u001b[2m\u001b[36m(pid=26224)\u001b[0m ERROR:root:Max counter exceeded\n",
      "\u001b[2m\u001b[36m(pid=26235)\u001b[0m ERROR:root:Max counter exceeded\n",
      "\u001b[2m\u001b[36m(pid=26235)\u001b[0m ERROR:root:Max counter exceeded\n",
      "\u001b[2m\u001b[36m(pid=26235)\u001b[0m ERROR:root:Max counter exceeded\n",
      "\u001b[2m\u001b[36m(pid=26224)\u001b[0m ERROR:root:Max counter exceeded\n",
      "\u001b[2m\u001b[36m(pid=26235)\u001b[0m ERROR:root:Max counter exceeded\n",
      "\u001b[2m\u001b[36m(pid=26224)\u001b[0m ERROR:root:Max counter exceeded\n",
      "\u001b[2m\u001b[36m(pid=26235)\u001b[0m ERROR:root:Max counter exceeded\n",
      "\u001b[2m\u001b[36m(pid=26224)\u001b[0m ERROR:root:Max counter exceeded\n",
      "\u001b[2m\u001b[36m(pid=26235)\u001b[0m ERROR:root:Max counter exceeded\n",
      "\u001b[2m\u001b[36m(pid=26224)\u001b[0m ERROR:root:Max counter exceeded\n"
     ]
    },
    {
     "data": {
      "text/html": [
       "== Status ==<br>Memory usage on this node: 7.7/31.4 GiB<br>Using AsyncHyperBand: num_stopped=0\n",
       "Bracket: Iter 90.000: None | Iter 30.000: -1839.0 | Iter 10.000: -10310.866666666665<br>Resources requested: 16/16 CPUs, 0/0 GPUs, 0.0/15.14 GiB heap, 0.0/5.22 GiB objects<br>Result logdir: /home/aicon/ray_results/evaluate_objective<br>Number of trials: 5 (3 PENDING, 2 RUNNING)<br><table>\n",
       "<thead>\n",
       "<tr><th>Trial name                 </th><th>status  </th><th>loc                </th><th style=\"text-align: right;\">   gamma</th><th style=\"text-align: right;\">  learning_rate</th><th style=\"text-align: right;\">  max_grad_norm</th><th style=\"text-align: right;\">  iter</th><th style=\"text-align: right;\">  total time (s)</th><th style=\"text-align: right;\">  mean_reward</th><th style=\"text-align: right;\">  mean_ep_length</th><th style=\"text-align: right;\">  packet_lost</th></tr>\n",
       "</thead>\n",
       "<tbody>\n",
       "<tr><td>evaluate_objective_c575fb02</td><td>RUNNING </td><td>131.234.29.24:26235</td><td style=\"text-align: right;\">0.990228</td><td style=\"text-align: right;\">    0.00064491 </td><td style=\"text-align: right;\">       3.14781 </td><td style=\"text-align: right;\">    64</td><td style=\"text-align: right;\">         286.519</td><td style=\"text-align: right;\">      -1829.4</td><td style=\"text-align: right;\">             602</td><td style=\"text-align: right;\">            0</td></tr>\n",
       "<tr><td>evaluate_objective_c575fb03</td><td>RUNNING </td><td>131.234.29.24:26224</td><td style=\"text-align: right;\">0.992424</td><td style=\"text-align: right;\">    0.000166578</td><td style=\"text-align: right;\">       4.45429 </td><td style=\"text-align: right;\">    64</td><td style=\"text-align: right;\">         287.197</td><td style=\"text-align: right;\">      -1839  </td><td style=\"text-align: right;\">             602</td><td style=\"text-align: right;\">            0</td></tr>\n",
       "<tr><td>evaluate_objective_c575fb04</td><td>PENDING </td><td>                   </td><td style=\"text-align: right;\">0.998132</td><td style=\"text-align: right;\">    0.0026539  </td><td style=\"text-align: right;\">       0.891429</td><td style=\"text-align: right;\">      </td><td style=\"text-align: right;\">                </td><td style=\"text-align: right;\">             </td><td style=\"text-align: right;\">                </td><td style=\"text-align: right;\">             </td></tr>\n",
       "<tr><td>evaluate_objective_c575fb05</td><td>PENDING </td><td>                   </td><td style=\"text-align: right;\">0.995314</td><td style=\"text-align: right;\">    0.000825845</td><td style=\"text-align: right;\">       1.34788 </td><td style=\"text-align: right;\">      </td><td style=\"text-align: right;\">                </td><td style=\"text-align: right;\">             </td><td style=\"text-align: right;\">                </td><td style=\"text-align: right;\">             </td></tr>\n",
       "<tr><td>evaluate_objective_c575fb06</td><td>PENDING </td><td>                   </td><td style=\"text-align: right;\">0.99127 </td><td style=\"text-align: right;\">    0.00239913 </td><td style=\"text-align: right;\">       2.35207 </td><td style=\"text-align: right;\">      </td><td style=\"text-align: right;\">                </td><td style=\"text-align: right;\">             </td><td style=\"text-align: right;\">                </td><td style=\"text-align: right;\">             </td></tr>\n",
       "</tbody>\n",
       "</table><br><br>"
      ],
      "text/plain": [
       "<IPython.core.display.HTML object>"
      ]
     },
     "metadata": {},
     "output_type": "display_data"
    },
    {
     "name": "stderr",
     "output_type": "stream",
     "text": [
      "\u001b[2m\u001b[36m(pid=26224)\u001b[0m ERROR:root:Max counter exceeded\n",
      "\u001b[2m\u001b[36m(pid=26235)\u001b[0m ERROR:root:Max counter exceeded\n",
      "\u001b[2m\u001b[36m(pid=26235)\u001b[0m ERROR:root:Max counter exceeded\n",
      "\u001b[2m\u001b[36m(pid=26224)\u001b[0m ERROR:root:Max counter exceeded\n",
      "\u001b[2m\u001b[36m(pid=26235)\u001b[0m ERROR:root:Max counter exceeded\n",
      "\u001b[2m\u001b[36m(pid=26224)\u001b[0m ERROR:root:Max counter exceeded\n",
      "\u001b[2m\u001b[36m(pid=26235)\u001b[0m ERROR:root:Max counter exceeded\n",
      "\u001b[2m\u001b[36m(pid=26224)\u001b[0m ERROR:root:Max counter exceeded\n"
     ]
    },
    {
     "name": "stdout",
     "output_type": "stream",
     "text": [
      "Result for evaluate_objective_c575fb02:\n",
      "  date: 2020-12-15_23-18-28\n",
      "  done: false\n",
      "  experiment_id: 46b0c57ac75646e5b843e0a5d6b6f025\n",
      "  experiment_tag: 1_gamma=0.99023,learning_rate=0.00064491,max_grad_norm=3.1478\n",
      "  hostname: aicon3\n",
      "  iterations_since_restore: 65\n",
      "  mean_ep_length: 602.0\n",
      "  mean_reward: -1837.2\n",
      "  node_ip: 131.234.29.24\n",
      "  packet_lost: 0\n",
      "  pid: 26235\n",
      "  time_since_restore: 290.9966447353363\n",
      "  time_this_iter_s: 4.477212190628052\n",
      "  time_total_s: 290.9966447353363\n",
      "  timestamp: 1608070708\n",
      "  timesteps_since_restore: 0\n",
      "  training_iteration: 65\n",
      "  trial_id: c575fb02\n",
      "  \n"
     ]
    },
    {
     "name": "stderr",
     "output_type": "stream",
     "text": [
      "\u001b[2m\u001b[36m(pid=26235)\u001b[0m ERROR:root:Max counter exceeded\n",
      "\u001b[2m\u001b[36m(pid=26224)\u001b[0m ERROR:root:Max counter exceeded\n"
     ]
    },
    {
     "name": "stdout",
     "output_type": "stream",
     "text": [
      "Result for evaluate_objective_c575fb03:\n",
      "  date: 2020-12-15_23-18-28\n",
      "  done: false\n",
      "  experiment_id: 9c64caf4f0a14459832fe803edf35758\n",
      "  experiment_tag: 2_gamma=0.99242,learning_rate=0.00016658,max_grad_norm=4.4543\n",
      "  hostname: aicon3\n",
      "  iterations_since_restore: 65\n",
      "  mean_ep_length: 602.0\n",
      "  mean_reward: -1839.0\n",
      "  node_ip: 131.234.29.24\n",
      "  packet_lost: 0\n",
      "  pid: 26224\n",
      "  time_since_restore: 291.78958773612976\n",
      "  time_this_iter_s: 4.59224009513855\n",
      "  time_total_s: 291.78958773612976\n",
      "  timestamp: 1608070708\n",
      "  timesteps_since_restore: 0\n",
      "  training_iteration: 65\n",
      "  trial_id: c575fb03\n",
      "  \n"
     ]
    },
    {
     "name": "stderr",
     "output_type": "stream",
     "text": [
      "\u001b[2m\u001b[36m(pid=26224)\u001b[0m ERROR:root:Max counter exceeded\n",
      "\u001b[2m\u001b[36m(pid=26235)\u001b[0m ERROR:root:Max counter exceeded\n",
      "\u001b[2m\u001b[36m(pid=26235)\u001b[0m ERROR:root:Max counter exceeded\n",
      "\u001b[2m\u001b[36m(pid=26224)\u001b[0m ERROR:root:Max counter exceeded\n",
      "\u001b[2m\u001b[36m(pid=26235)\u001b[0m ERROR:root:Max counter exceeded\n",
      "\u001b[2m\u001b[36m(pid=26224)\u001b[0m ERROR:root:Max counter exceeded\n",
      "\u001b[2m\u001b[36m(pid=26235)\u001b[0m ERROR:root:Max counter exceeded\n",
      "\u001b[2m\u001b[36m(pid=26224)\u001b[0m ERROR:root:Max counter exceeded\n"
     ]
    },
    {
     "data": {
      "text/html": [
       "== Status ==<br>Memory usage on this node: 7.7/31.4 GiB<br>Using AsyncHyperBand: num_stopped=0\n",
       "Bracket: Iter 90.000: None | Iter 30.000: -1839.0 | Iter 10.000: -10310.866666666665<br>Resources requested: 16/16 CPUs, 0/0 GPUs, 0.0/15.14 GiB heap, 0.0/5.22 GiB objects<br>Result logdir: /home/aicon/ray_results/evaluate_objective<br>Number of trials: 5 (3 PENDING, 2 RUNNING)<br><table>\n",
       "<thead>\n",
       "<tr><th>Trial name                 </th><th>status  </th><th>loc                </th><th style=\"text-align: right;\">   gamma</th><th style=\"text-align: right;\">  learning_rate</th><th style=\"text-align: right;\">  max_grad_norm</th><th style=\"text-align: right;\">  iter</th><th style=\"text-align: right;\">  total time (s)</th><th style=\"text-align: right;\">  mean_reward</th><th style=\"text-align: right;\">  mean_ep_length</th><th style=\"text-align: right;\">  packet_lost</th></tr>\n",
       "</thead>\n",
       "<tbody>\n",
       "<tr><td>evaluate_objective_c575fb02</td><td>RUNNING </td><td>131.234.29.24:26235</td><td style=\"text-align: right;\">0.990228</td><td style=\"text-align: right;\">    0.00064491 </td><td style=\"text-align: right;\">       3.14781 </td><td style=\"text-align: right;\">    66</td><td style=\"text-align: right;\">         295.421</td><td style=\"text-align: right;\">        -1839</td><td style=\"text-align: right;\">             602</td><td style=\"text-align: right;\">            0</td></tr>\n",
       "<tr><td>evaluate_objective_c575fb03</td><td>RUNNING </td><td>131.234.29.24:26224</td><td style=\"text-align: right;\">0.992424</td><td style=\"text-align: right;\">    0.000166578</td><td style=\"text-align: right;\">       4.45429 </td><td style=\"text-align: right;\">    65</td><td style=\"text-align: right;\">         291.79 </td><td style=\"text-align: right;\">        -1839</td><td style=\"text-align: right;\">             602</td><td style=\"text-align: right;\">            0</td></tr>\n",
       "<tr><td>evaluate_objective_c575fb04</td><td>PENDING </td><td>                   </td><td style=\"text-align: right;\">0.998132</td><td style=\"text-align: right;\">    0.0026539  </td><td style=\"text-align: right;\">       0.891429</td><td style=\"text-align: right;\">      </td><td style=\"text-align: right;\">                </td><td style=\"text-align: right;\">             </td><td style=\"text-align: right;\">                </td><td style=\"text-align: right;\">             </td></tr>\n",
       "<tr><td>evaluate_objective_c575fb05</td><td>PENDING </td><td>                   </td><td style=\"text-align: right;\">0.995314</td><td style=\"text-align: right;\">    0.000825845</td><td style=\"text-align: right;\">       1.34788 </td><td style=\"text-align: right;\">      </td><td style=\"text-align: right;\">                </td><td style=\"text-align: right;\">             </td><td style=\"text-align: right;\">                </td><td style=\"text-align: right;\">             </td></tr>\n",
       "<tr><td>evaluate_objective_c575fb06</td><td>PENDING </td><td>                   </td><td style=\"text-align: right;\">0.99127 </td><td style=\"text-align: right;\">    0.00239913 </td><td style=\"text-align: right;\">       2.35207 </td><td style=\"text-align: right;\">      </td><td style=\"text-align: right;\">                </td><td style=\"text-align: right;\">             </td><td style=\"text-align: right;\">                </td><td style=\"text-align: right;\">             </td></tr>\n",
       "</tbody>\n",
       "</table><br><br>"
      ],
      "text/plain": [
       "<IPython.core.display.HTML object>"
      ]
     },
     "metadata": {},
     "output_type": "display_data"
    },
    {
     "name": "stderr",
     "output_type": "stream",
     "text": [
      "\u001b[2m\u001b[36m(pid=26235)\u001b[0m ERROR:root:Max counter exceeded\n",
      "\u001b[2m\u001b[36m(pid=26235)\u001b[0m ERROR:root:Max counter exceeded\n",
      "\u001b[2m\u001b[36m(pid=26224)\u001b[0m ERROR:root:Max counter exceeded\n",
      "\u001b[2m\u001b[36m(pid=26224)\u001b[0m ERROR:root:Max counter exceeded\n",
      "\u001b[2m\u001b[36m(pid=26235)\u001b[0m ERROR:root:Max counter exceeded\n",
      "\u001b[2m\u001b[36m(pid=26235)\u001b[0m ERROR:root:Max counter exceeded\n",
      "\u001b[2m\u001b[36m(pid=26235)\u001b[0m ERROR:root:Max counter exceeded\n",
      "\u001b[2m\u001b[36m(pid=26224)\u001b[0m ERROR:root:Max counter exceeded\n",
      "\u001b[2m\u001b[36m(pid=26235)\u001b[0m ERROR:root:Max counter exceeded\n",
      "\u001b[2m\u001b[36m(pid=26224)\u001b[0m ERROR:root:Max counter exceeded\n",
      "\u001b[2m\u001b[36m(pid=26235)\u001b[0m ERROR:root:Max counter exceeded\n",
      "\u001b[2m\u001b[36m(pid=26224)\u001b[0m ERROR:root:Max counter exceeded\n"
     ]
    },
    {
     "name": "stdout",
     "output_type": "stream",
     "text": [
      "Result for evaluate_objective_c575fb02:\n",
      "  date: 2020-12-15_23-18-36\n",
      "  done: false\n",
      "  experiment_id: 46b0c57ac75646e5b843e0a5d6b6f025\n",
      "  experiment_tag: 1_gamma=0.99023,learning_rate=0.00064491,max_grad_norm=3.1478\n",
      "  hostname: aicon3\n",
      "  iterations_since_restore: 67\n",
      "  mean_ep_length: 602.0\n",
      "  mean_reward: -1829.4\n",
      "  node_ip: 131.234.29.24\n",
      "  packet_lost: 0\n",
      "  pid: 26235\n",
      "  time_since_restore: 299.8300702571869\n",
      "  time_this_iter_s: 4.409566164016724\n",
      "  time_total_s: 299.8300702571869\n",
      "  timestamp: 1608070716\n",
      "  timesteps_since_restore: 0\n",
      "  training_iteration: 67\n",
      "  trial_id: c575fb02\n",
      "  \n"
     ]
    },
    {
     "name": "stderr",
     "output_type": "stream",
     "text": [
      "\u001b[2m\u001b[36m(pid=26235)\u001b[0m ERROR:root:Max counter exceeded\n",
      "\u001b[2m\u001b[36m(pid=26224)\u001b[0m ERROR:root:Max counter exceeded\n"
     ]
    },
    {
     "name": "stdout",
     "output_type": "stream",
     "text": [
      "Result for evaluate_objective_c575fb03:\n",
      "  date: 2020-12-15_23-18-37\n",
      "  done: false\n",
      "  experiment_id: 9c64caf4f0a14459832fe803edf35758\n",
      "  experiment_tag: 2_gamma=0.99242,learning_rate=0.00016658,max_grad_norm=4.4543\n",
      "  hostname: aicon3\n",
      "  iterations_since_restore: 67\n",
      "  mean_ep_length: 602.0\n",
      "  mean_reward: -1839.0\n",
      "  node_ip: 131.234.29.24\n",
      "  packet_lost: 0\n",
      "  pid: 26224\n",
      "  time_since_restore: 300.52569460868835\n",
      "  time_this_iter_s: 4.370903253555298\n",
      "  time_total_s: 300.52569460868835\n",
      "  timestamp: 1608070717\n",
      "  timesteps_since_restore: 0\n",
      "  training_iteration: 67\n",
      "  trial_id: c575fb03\n",
      "  \n"
     ]
    },
    {
     "data": {
      "text/html": [
       "== Status ==<br>Memory usage on this node: 7.7/31.4 GiB<br>Using AsyncHyperBand: num_stopped=0\n",
       "Bracket: Iter 90.000: None | Iter 30.000: -1839.0 | Iter 10.000: -10310.866666666665<br>Resources requested: 16/16 CPUs, 0/0 GPUs, 0.0/15.14 GiB heap, 0.0/5.22 GiB objects<br>Result logdir: /home/aicon/ray_results/evaluate_objective<br>Number of trials: 5 (3 PENDING, 2 RUNNING)<br><table>\n",
       "<thead>\n",
       "<tr><th>Trial name                 </th><th>status  </th><th>loc                </th><th style=\"text-align: right;\">   gamma</th><th style=\"text-align: right;\">  learning_rate</th><th style=\"text-align: right;\">  max_grad_norm</th><th style=\"text-align: right;\">  iter</th><th style=\"text-align: right;\">  total time (s)</th><th style=\"text-align: right;\">  mean_reward</th><th style=\"text-align: right;\">  mean_ep_length</th><th style=\"text-align: right;\">  packet_lost</th></tr>\n",
       "</thead>\n",
       "<tbody>\n",
       "<tr><td>evaluate_objective_c575fb02</td><td>RUNNING </td><td>131.234.29.24:26235</td><td style=\"text-align: right;\">0.990228</td><td style=\"text-align: right;\">    0.00064491 </td><td style=\"text-align: right;\">       3.14781 </td><td style=\"text-align: right;\">    67</td><td style=\"text-align: right;\">         299.83 </td><td style=\"text-align: right;\">      -1829.4</td><td style=\"text-align: right;\">             602</td><td style=\"text-align: right;\">            0</td></tr>\n",
       "<tr><td>evaluate_objective_c575fb03</td><td>RUNNING </td><td>131.234.29.24:26224</td><td style=\"text-align: right;\">0.992424</td><td style=\"text-align: right;\">    0.000166578</td><td style=\"text-align: right;\">       4.45429 </td><td style=\"text-align: right;\">    67</td><td style=\"text-align: right;\">         300.526</td><td style=\"text-align: right;\">      -1839  </td><td style=\"text-align: right;\">             602</td><td style=\"text-align: right;\">            0</td></tr>\n",
       "<tr><td>evaluate_objective_c575fb04</td><td>PENDING </td><td>                   </td><td style=\"text-align: right;\">0.998132</td><td style=\"text-align: right;\">    0.0026539  </td><td style=\"text-align: right;\">       0.891429</td><td style=\"text-align: right;\">      </td><td style=\"text-align: right;\">                </td><td style=\"text-align: right;\">             </td><td style=\"text-align: right;\">                </td><td style=\"text-align: right;\">             </td></tr>\n",
       "<tr><td>evaluate_objective_c575fb05</td><td>PENDING </td><td>                   </td><td style=\"text-align: right;\">0.995314</td><td style=\"text-align: right;\">    0.000825845</td><td style=\"text-align: right;\">       1.34788 </td><td style=\"text-align: right;\">      </td><td style=\"text-align: right;\">                </td><td style=\"text-align: right;\">             </td><td style=\"text-align: right;\">                </td><td style=\"text-align: right;\">             </td></tr>\n",
       "<tr><td>evaluate_objective_c575fb06</td><td>PENDING </td><td>                   </td><td style=\"text-align: right;\">0.99127 </td><td style=\"text-align: right;\">    0.00239913 </td><td style=\"text-align: right;\">       2.35207 </td><td style=\"text-align: right;\">      </td><td style=\"text-align: right;\">                </td><td style=\"text-align: right;\">             </td><td style=\"text-align: right;\">                </td><td style=\"text-align: right;\">             </td></tr>\n",
       "</tbody>\n",
       "</table><br><br>"
      ],
      "text/plain": [
       "<IPython.core.display.HTML object>"
      ]
     },
     "metadata": {},
     "output_type": "display_data"
    },
    {
     "name": "stderr",
     "output_type": "stream",
     "text": [
      "\u001b[2m\u001b[36m(pid=26224)\u001b[0m ERROR:root:Max counter exceeded\n",
      "\u001b[2m\u001b[36m(pid=26235)\u001b[0m ERROR:root:Max counter exceeded\n",
      "\u001b[2m\u001b[36m(pid=26235)\u001b[0m ERROR:root:Max counter exceeded\n",
      "\u001b[2m\u001b[36m(pid=26235)\u001b[0m ERROR:root:Max counter exceeded\n",
      "\u001b[2m\u001b[36m(pid=26224)\u001b[0m ERROR:root:Max counter exceeded\n",
      "\u001b[2m\u001b[36m(pid=26235)\u001b[0m ERROR:root:Max counter exceeded\n",
      "\u001b[2m\u001b[36m(pid=26224)\u001b[0m ERROR:root:Max counter exceeded\n",
      "\u001b[2m\u001b[36m(pid=26235)\u001b[0m ERROR:root:Max counter exceeded\n",
      "\u001b[2m\u001b[36m(pid=26224)\u001b[0m ERROR:root:Max counter exceeded\n",
      "\u001b[2m\u001b[36m(pid=26235)\u001b[0m ERROR:root:Max counter exceeded\n",
      "\u001b[2m\u001b[36m(pid=26224)\u001b[0m ERROR:root:Max counter exceeded\n",
      "\u001b[2m\u001b[36m(pid=26224)\u001b[0m ERROR:root:Max counter exceeded\n",
      "\u001b[2m\u001b[36m(pid=26235)\u001b[0m ERROR:root:Max counter exceeded\n",
      "\u001b[2m\u001b[36m(pid=26235)\u001b[0m ERROR:root:Max counter exceeded\n",
      "\u001b[2m\u001b[36m(pid=26235)\u001b[0m ERROR:root:Max counter exceeded\n",
      "\u001b[2m\u001b[36m(pid=26224)\u001b[0m ERROR:root:Max counter exceeded\n",
      "\u001b[2m\u001b[36m(pid=26235)\u001b[0m ERROR:root:Max counter exceeded\n",
      "\u001b[2m\u001b[36m(pid=26224)\u001b[0m ERROR:root:Max counter exceeded\n",
      "\u001b[2m\u001b[36m(pid=26235)\u001b[0m ERROR:root:Max counter exceeded\n",
      "\u001b[2m\u001b[36m(pid=26224)\u001b[0m ERROR:root:Max counter exceeded\n"
     ]
    },
    {
     "name": "stdout",
     "output_type": "stream",
     "text": [
      "Result for evaluate_objective_c575fb02:\n",
      "  date: 2020-12-15_23-18-45\n",
      "  done: false\n",
      "  experiment_id: 46b0c57ac75646e5b843e0a5d6b6f025\n",
      "  experiment_tag: 1_gamma=0.99023,learning_rate=0.00064491,max_grad_norm=3.1478\n",
      "  hostname: aicon3\n",
      "  iterations_since_restore: 69\n",
      "  mean_ep_length: 602.0\n",
      "  mean_reward: -1830.0\n",
      "  node_ip: 131.234.29.24\n",
      "  packet_lost: 0\n",
      "  pid: 26235\n",
      "  time_since_restore: 308.3144805431366\n",
      "  time_this_iter_s: 4.178035497665405\n",
      "  time_total_s: 308.3144805431366\n",
      "  timestamp: 1608070725\n",
      "  timesteps_since_restore: 0\n",
      "  training_iteration: 69\n",
      "  trial_id: c575fb02\n",
      "  \n"
     ]
    },
    {
     "data": {
      "text/html": [
       "== Status ==<br>Memory usage on this node: 7.7/31.4 GiB<br>Using AsyncHyperBand: num_stopped=0\n",
       "Bracket: Iter 90.000: None | Iter 30.000: -1839.0 | Iter 10.000: -10310.866666666665<br>Resources requested: 16/16 CPUs, 0/0 GPUs, 0.0/15.14 GiB heap, 0.0/5.22 GiB objects<br>Result logdir: /home/aicon/ray_results/evaluate_objective<br>Number of trials: 5 (3 PENDING, 2 RUNNING)<br><table>\n",
       "<thead>\n",
       "<tr><th>Trial name                 </th><th>status  </th><th>loc                </th><th style=\"text-align: right;\">   gamma</th><th style=\"text-align: right;\">  learning_rate</th><th style=\"text-align: right;\">  max_grad_norm</th><th style=\"text-align: right;\">  iter</th><th style=\"text-align: right;\">  total time (s)</th><th style=\"text-align: right;\">  mean_reward</th><th style=\"text-align: right;\">  mean_ep_length</th><th style=\"text-align: right;\">  packet_lost</th></tr>\n",
       "</thead>\n",
       "<tbody>\n",
       "<tr><td>evaluate_objective_c575fb02</td><td>RUNNING </td><td>131.234.29.24:26235</td><td style=\"text-align: right;\">0.990228</td><td style=\"text-align: right;\">    0.00064491 </td><td style=\"text-align: right;\">       3.14781 </td><td style=\"text-align: right;\">    69</td><td style=\"text-align: right;\">         308.314</td><td style=\"text-align: right;\">        -1830</td><td style=\"text-align: right;\">             602</td><td style=\"text-align: right;\">            0</td></tr>\n",
       "<tr><td>evaluate_objective_c575fb03</td><td>RUNNING </td><td>131.234.29.24:26224</td><td style=\"text-align: right;\">0.992424</td><td style=\"text-align: right;\">    0.000166578</td><td style=\"text-align: right;\">       4.45429 </td><td style=\"text-align: right;\">    68</td><td style=\"text-align: right;\">         304.741</td><td style=\"text-align: right;\">        -1839</td><td style=\"text-align: right;\">             602</td><td style=\"text-align: right;\">            0</td></tr>\n",
       "<tr><td>evaluate_objective_c575fb04</td><td>PENDING </td><td>                   </td><td style=\"text-align: right;\">0.998132</td><td style=\"text-align: right;\">    0.0026539  </td><td style=\"text-align: right;\">       0.891429</td><td style=\"text-align: right;\">      </td><td style=\"text-align: right;\">                </td><td style=\"text-align: right;\">             </td><td style=\"text-align: right;\">                </td><td style=\"text-align: right;\">             </td></tr>\n",
       "<tr><td>evaluate_objective_c575fb05</td><td>PENDING </td><td>                   </td><td style=\"text-align: right;\">0.995314</td><td style=\"text-align: right;\">    0.000825845</td><td style=\"text-align: right;\">       1.34788 </td><td style=\"text-align: right;\">      </td><td style=\"text-align: right;\">                </td><td style=\"text-align: right;\">             </td><td style=\"text-align: right;\">                </td><td style=\"text-align: right;\">             </td></tr>\n",
       "<tr><td>evaluate_objective_c575fb06</td><td>PENDING </td><td>                   </td><td style=\"text-align: right;\">0.99127 </td><td style=\"text-align: right;\">    0.00239913 </td><td style=\"text-align: right;\">       2.35207 </td><td style=\"text-align: right;\">      </td><td style=\"text-align: right;\">                </td><td style=\"text-align: right;\">             </td><td style=\"text-align: right;\">                </td><td style=\"text-align: right;\">             </td></tr>\n",
       "</tbody>\n",
       "</table><br><br>"
      ],
      "text/plain": [
       "<IPython.core.display.HTML object>"
      ]
     },
     "metadata": {},
     "output_type": "display_data"
    },
    {
     "name": "stderr",
     "output_type": "stream",
     "text": [
      "\u001b[2m\u001b[36m(pid=26235)\u001b[0m ERROR:root:Max counter exceeded\n",
      "\u001b[2m\u001b[36m(pid=26235)\u001b[0m ERROR:root:Max counter exceeded\n",
      "\u001b[2m\u001b[36m(pid=26224)\u001b[0m ERROR:root:Max counter exceeded\n"
     ]
    },
    {
     "name": "stdout",
     "output_type": "stream",
     "text": [
      "Result for evaluate_objective_c575fb03:\n",
      "  date: 2020-12-15_23-18-46\n",
      "  done: false\n",
      "  experiment_id: 9c64caf4f0a14459832fe803edf35758\n",
      "  experiment_tag: 2_gamma=0.99242,learning_rate=0.00016658,max_grad_norm=4.4543\n",
      "  hostname: aicon3\n",
      "  iterations_since_restore: 69\n",
      "  mean_ep_length: 602.0\n",
      "  mean_reward: -1839.0\n",
      "  node_ip: 131.234.29.24\n",
      "  packet_lost: 0\n",
      "  pid: 26224\n",
      "  time_since_restore: 309.0075480937958\n",
      "  time_this_iter_s: 4.2668516635894775\n",
      "  time_total_s: 309.0075480937958\n",
      "  timestamp: 1608070726\n",
      "  timesteps_since_restore: 0\n",
      "  training_iteration: 69\n",
      "  trial_id: c575fb03\n",
      "  \n"
     ]
    },
    {
     "name": "stderr",
     "output_type": "stream",
     "text": [
      "\u001b[2m\u001b[36m(pid=26224)\u001b[0m ERROR:root:Max counter exceeded\n",
      "\u001b[2m\u001b[36m(pid=26235)\u001b[0m ERROR:root:Max counter exceeded\n",
      "\u001b[2m\u001b[36m(pid=26235)\u001b[0m ERROR:root:Max counter exceeded\n",
      "\u001b[2m\u001b[36m(pid=26235)\u001b[0m ERROR:root:Max counter exceeded\n",
      "\u001b[2m\u001b[36m(pid=26224)\u001b[0m ERROR:root:Max counter exceeded\n",
      "\u001b[2m\u001b[36m(pid=26235)\u001b[0m ERROR:root:Max counter exceeded\n",
      "\u001b[2m\u001b[36m(pid=26224)\u001b[0m ERROR:root:Max counter exceeded\n",
      "\u001b[2m\u001b[36m(pid=26235)\u001b[0m ERROR:root:Max counter exceeded\n",
      "\u001b[2m\u001b[36m(pid=26224)\u001b[0m ERROR:root:Max counter exceeded\n",
      "\u001b[2m\u001b[36m(pid=26235)\u001b[0m ERROR:root:Max counter exceeded\n",
      "\u001b[2m\u001b[36m(pid=26224)\u001b[0m ERROR:root:Max counter exceeded\n",
      "\u001b[2m\u001b[36m(pid=26224)\u001b[0m ERROR:root:Max counter exceeded\n",
      "\u001b[2m\u001b[36m(pid=26235)\u001b[0m ERROR:root:Max counter exceeded\n",
      "\u001b[2m\u001b[36m(pid=26235)\u001b[0m ERROR:root:Max counter exceeded\n",
      "\u001b[2m\u001b[36m(pid=26235)\u001b[0m ERROR:root:Max counter exceeded\n",
      "\u001b[2m\u001b[36m(pid=26224)\u001b[0m ERROR:root:Max counter exceeded\n",
      "\u001b[2m\u001b[36m(pid=26224)\u001b[0m ERROR:root:Max counter exceeded\n",
      "\u001b[2m\u001b[36m(pid=26235)\u001b[0m ERROR:root:Max counter exceeded\n",
      "\u001b[2m\u001b[36m(pid=26224)\u001b[0m ERROR:root:Max counter exceeded\n",
      "\u001b[2m\u001b[36m(pid=26235)\u001b[0m ERROR:root:Max counter exceeded\n"
     ]
    },
    {
     "name": "stdout",
     "output_type": "stream",
     "text": [
      "Result for evaluate_objective_c575fb02:\n",
      "  date: 2020-12-15_23-18-54\n",
      "  done: false\n",
      "  experiment_id: 46b0c57ac75646e5b843e0a5d6b6f025\n",
      "  experiment_tag: 1_gamma=0.99023,learning_rate=0.00064491,max_grad_norm=3.1478\n",
      "  hostname: aicon3\n",
      "  iterations_since_restore: 71\n",
      "  mean_ep_length: 602.0\n",
      "  mean_reward: -1848.0\n",
      "  node_ip: 131.234.29.24\n",
      "  packet_lost: 0\n",
      "  pid: 26235\n",
      "  time_since_restore: 316.9866728782654\n",
      "  time_this_iter_s: 4.354377031326294\n",
      "  time_total_s: 316.9866728782654\n",
      "  timestamp: 1608070734\n",
      "  timesteps_since_restore: 0\n",
      "  training_iteration: 71\n",
      "  trial_id: c575fb02\n",
      "  \n"
     ]
    },
    {
     "name": "stderr",
     "output_type": "stream",
     "text": [
      "\u001b[2m\u001b[36m(pid=26224)\u001b[0m ERROR:root:Max counter exceeded\n"
     ]
    },
    {
     "data": {
      "text/html": [
       "== Status ==<br>Memory usage on this node: 7.7/31.4 GiB<br>Using AsyncHyperBand: num_stopped=0\n",
       "Bracket: Iter 90.000: None | Iter 30.000: -1839.0 | Iter 10.000: -10310.866666666665<br>Resources requested: 16/16 CPUs, 0/0 GPUs, 0.0/15.14 GiB heap, 0.0/5.22 GiB objects<br>Result logdir: /home/aicon/ray_results/evaluate_objective<br>Number of trials: 5 (3 PENDING, 2 RUNNING)<br><table>\n",
       "<thead>\n",
       "<tr><th>Trial name                 </th><th>status  </th><th>loc                </th><th style=\"text-align: right;\">   gamma</th><th style=\"text-align: right;\">  learning_rate</th><th style=\"text-align: right;\">  max_grad_norm</th><th style=\"text-align: right;\">  iter</th><th style=\"text-align: right;\">  total time (s)</th><th style=\"text-align: right;\">  mean_reward</th><th style=\"text-align: right;\">  mean_ep_length</th><th style=\"text-align: right;\">  packet_lost</th></tr>\n",
       "</thead>\n",
       "<tbody>\n",
       "<tr><td>evaluate_objective_c575fb02</td><td>RUNNING </td><td>131.234.29.24:26235</td><td style=\"text-align: right;\">0.990228</td><td style=\"text-align: right;\">    0.00064491 </td><td style=\"text-align: right;\">       3.14781 </td><td style=\"text-align: right;\">    71</td><td style=\"text-align: right;\">         316.987</td><td style=\"text-align: right;\">        -1848</td><td style=\"text-align: right;\">             602</td><td style=\"text-align: right;\">            0</td></tr>\n",
       "<tr><td>evaluate_objective_c575fb03</td><td>RUNNING </td><td>131.234.29.24:26224</td><td style=\"text-align: right;\">0.992424</td><td style=\"text-align: right;\">    0.000166578</td><td style=\"text-align: right;\">       4.45429 </td><td style=\"text-align: right;\">    70</td><td style=\"text-align: right;\">         313.232</td><td style=\"text-align: right;\">        -1839</td><td style=\"text-align: right;\">             602</td><td style=\"text-align: right;\">            0</td></tr>\n",
       "<tr><td>evaluate_objective_c575fb04</td><td>PENDING </td><td>                   </td><td style=\"text-align: right;\">0.998132</td><td style=\"text-align: right;\">    0.0026539  </td><td style=\"text-align: right;\">       0.891429</td><td style=\"text-align: right;\">      </td><td style=\"text-align: right;\">                </td><td style=\"text-align: right;\">             </td><td style=\"text-align: right;\">                </td><td style=\"text-align: right;\">             </td></tr>\n",
       "<tr><td>evaluate_objective_c575fb05</td><td>PENDING </td><td>                   </td><td style=\"text-align: right;\">0.995314</td><td style=\"text-align: right;\">    0.000825845</td><td style=\"text-align: right;\">       1.34788 </td><td style=\"text-align: right;\">      </td><td style=\"text-align: right;\">                </td><td style=\"text-align: right;\">             </td><td style=\"text-align: right;\">                </td><td style=\"text-align: right;\">             </td></tr>\n",
       "<tr><td>evaluate_objective_c575fb06</td><td>PENDING </td><td>                   </td><td style=\"text-align: right;\">0.99127 </td><td style=\"text-align: right;\">    0.00239913 </td><td style=\"text-align: right;\">       2.35207 </td><td style=\"text-align: right;\">      </td><td style=\"text-align: right;\">                </td><td style=\"text-align: right;\">             </td><td style=\"text-align: right;\">                </td><td style=\"text-align: right;\">             </td></tr>\n",
       "</tbody>\n",
       "</table><br><br>"
      ],
      "text/plain": [
       "<IPython.core.display.HTML object>"
      ]
     },
     "metadata": {},
     "output_type": "display_data"
    },
    {
     "name": "stderr",
     "output_type": "stream",
     "text": [
      "\u001b[2m\u001b[36m(pid=26235)\u001b[0m ERROR:root:Max counter exceeded\n"
     ]
    },
    {
     "name": "stdout",
     "output_type": "stream",
     "text": [
      "Result for evaluate_objective_c575fb03:\n",
      "  date: 2020-12-15_23-18-54\n",
      "  done: false\n",
      "  experiment_id: 9c64caf4f0a14459832fe803edf35758\n",
      "  experiment_tag: 2_gamma=0.99242,learning_rate=0.00016658,max_grad_norm=4.4543\n",
      "  hostname: aicon3\n",
      "  iterations_since_restore: 71\n",
      "  mean_ep_length: 602.0\n",
      "  mean_reward: -1839.0\n",
      "  node_ip: 131.234.29.24\n",
      "  packet_lost: 0\n",
      "  pid: 26224\n",
      "  time_since_restore: 317.43401622772217\n",
      "  time_this_iter_s: 4.202315807342529\n",
      "  time_total_s: 317.43401622772217\n",
      "  timestamp: 1608070734\n",
      "  timesteps_since_restore: 0\n",
      "  training_iteration: 71\n",
      "  trial_id: c575fb03\n",
      "  \n"
     ]
    },
    {
     "name": "stderr",
     "output_type": "stream",
     "text": [
      "\u001b[2m\u001b[36m(pid=26224)\u001b[0m ERROR:root:Max counter exceeded\n",
      "\u001b[2m\u001b[36m(pid=26235)\u001b[0m ERROR:root:Max counter exceeded\n",
      "\u001b[2m\u001b[36m(pid=26235)\u001b[0m ERROR:root:Max counter exceeded\n",
      "\u001b[2m\u001b[36m(pid=26224)\u001b[0m ERROR:root:Max counter exceeded\n",
      "\u001b[2m\u001b[36m(pid=26235)\u001b[0m ERROR:root:Max counter exceeded\n",
      "\u001b[2m\u001b[36m(pid=26224)\u001b[0m ERROR:root:Max counter exceeded\n",
      "\u001b[2m\u001b[36m(pid=26235)\u001b[0m ERROR:root:Max counter exceeded\n",
      "\u001b[2m\u001b[36m(pid=26224)\u001b[0m ERROR:root:Max counter exceeded\n",
      "\u001b[2m\u001b[36m(pid=26235)\u001b[0m ERROR:root:Max counter exceeded\n",
      "\u001b[2m\u001b[36m(pid=26224)\u001b[0m ERROR:root:Max counter exceeded\n",
      "\u001b[2m\u001b[36m(pid=26235)\u001b[0m ERROR:root:Max counter exceeded\n",
      "\u001b[2m\u001b[36m(pid=26235)\u001b[0m ERROR:root:Max counter exceeded\n",
      "\u001b[2m\u001b[36m(pid=26224)\u001b[0m ERROR:root:Max counter exceeded\n",
      "\u001b[2m\u001b[36m(pid=26235)\u001b[0m ERROR:root:Max counter exceeded\n",
      "\u001b[2m\u001b[36m(pid=26235)\u001b[0m ERROR:root:Max counter exceeded\n",
      "\u001b[2m\u001b[36m(pid=26224)\u001b[0m ERROR:root:Max counter exceeded\n",
      "\u001b[2m\u001b[36m(pid=26235)\u001b[0m ERROR:root:Max counter exceeded\n",
      "\u001b[2m\u001b[36m(pid=26224)\u001b[0m ERROR:root:Max counter exceeded\n",
      "\u001b[2m\u001b[36m(pid=26235)\u001b[0m ERROR:root:Max counter exceeded\n",
      "\u001b[2m\u001b[36m(pid=26224)\u001b[0m ERROR:root:Max counter exceeded\n",
      "\u001b[2m\u001b[36m(pid=26235)\u001b[0m ERROR:root:Max counter exceeded\n"
     ]
    },
    {
     "name": "stdout",
     "output_type": "stream",
     "text": [
      "Result for evaluate_objective_c575fb02:\n",
      "  date: 2020-12-15_23-19-02\n",
      "  done: false\n",
      "  experiment_id: 46b0c57ac75646e5b843e0a5d6b6f025\n",
      "  experiment_tag: 1_gamma=0.99023,learning_rate=0.00064491,max_grad_norm=3.1478\n",
      "  hostname: aicon3\n",
      "  iterations_since_restore: 73\n",
      "  mean_ep_length: 602.0\n",
      "  mean_reward: -1837.2\n",
      "  node_ip: 131.234.29.24\n",
      "  packet_lost: 0\n",
      "  pid: 26235\n",
      "  time_since_restore: 325.4793031215668\n",
      "  time_this_iter_s: 4.219974994659424\n",
      "  time_total_s: 325.4793031215668\n",
      "  timestamp: 1608070742\n",
      "  timesteps_since_restore: 0\n",
      "  training_iteration: 73\n",
      "  trial_id: c575fb02\n",
      "  \n"
     ]
    },
    {
     "name": "stderr",
     "output_type": "stream",
     "text": [
      "\u001b[2m\u001b[36m(pid=26224)\u001b[0m ERROR:root:Max counter exceeded\n"
     ]
    },
    {
     "data": {
      "text/html": [
       "== Status ==<br>Memory usage on this node: 7.7/31.4 GiB<br>Using AsyncHyperBand: num_stopped=0\n",
       "Bracket: Iter 90.000: None | Iter 30.000: -1839.0 | Iter 10.000: -10310.866666666665<br>Resources requested: 16/16 CPUs, 0/0 GPUs, 0.0/15.14 GiB heap, 0.0/5.22 GiB objects<br>Result logdir: /home/aicon/ray_results/evaluate_objective<br>Number of trials: 5 (3 PENDING, 2 RUNNING)<br><table>\n",
       "<thead>\n",
       "<tr><th>Trial name                 </th><th>status  </th><th>loc                </th><th style=\"text-align: right;\">   gamma</th><th style=\"text-align: right;\">  learning_rate</th><th style=\"text-align: right;\">  max_grad_norm</th><th style=\"text-align: right;\">  iter</th><th style=\"text-align: right;\">  total time (s)</th><th style=\"text-align: right;\">  mean_reward</th><th style=\"text-align: right;\">  mean_ep_length</th><th style=\"text-align: right;\">  packet_lost</th></tr>\n",
       "</thead>\n",
       "<tbody>\n",
       "<tr><td>evaluate_objective_c575fb02</td><td>RUNNING </td><td>131.234.29.24:26235</td><td style=\"text-align: right;\">0.990228</td><td style=\"text-align: right;\">    0.00064491 </td><td style=\"text-align: right;\">       3.14781 </td><td style=\"text-align: right;\">    73</td><td style=\"text-align: right;\">         325.479</td><td style=\"text-align: right;\">      -1837.2</td><td style=\"text-align: right;\">             602</td><td style=\"text-align: right;\">            0</td></tr>\n",
       "<tr><td>evaluate_objective_c575fb03</td><td>RUNNING </td><td>131.234.29.24:26224</td><td style=\"text-align: right;\">0.992424</td><td style=\"text-align: right;\">    0.000166578</td><td style=\"text-align: right;\">       4.45429 </td><td style=\"text-align: right;\">    72</td><td style=\"text-align: right;\">         321.765</td><td style=\"text-align: right;\">      -1839  </td><td style=\"text-align: right;\">             602</td><td style=\"text-align: right;\">            0</td></tr>\n",
       "<tr><td>evaluate_objective_c575fb04</td><td>PENDING </td><td>                   </td><td style=\"text-align: right;\">0.998132</td><td style=\"text-align: right;\">    0.0026539  </td><td style=\"text-align: right;\">       0.891429</td><td style=\"text-align: right;\">      </td><td style=\"text-align: right;\">                </td><td style=\"text-align: right;\">             </td><td style=\"text-align: right;\">                </td><td style=\"text-align: right;\">             </td></tr>\n",
       "<tr><td>evaluate_objective_c575fb05</td><td>PENDING </td><td>                   </td><td style=\"text-align: right;\">0.995314</td><td style=\"text-align: right;\">    0.000825845</td><td style=\"text-align: right;\">       1.34788 </td><td style=\"text-align: right;\">      </td><td style=\"text-align: right;\">                </td><td style=\"text-align: right;\">             </td><td style=\"text-align: right;\">                </td><td style=\"text-align: right;\">             </td></tr>\n",
       "<tr><td>evaluate_objective_c575fb06</td><td>PENDING </td><td>                   </td><td style=\"text-align: right;\">0.99127 </td><td style=\"text-align: right;\">    0.00239913 </td><td style=\"text-align: right;\">       2.35207 </td><td style=\"text-align: right;\">      </td><td style=\"text-align: right;\">                </td><td style=\"text-align: right;\">             </td><td style=\"text-align: right;\">                </td><td style=\"text-align: right;\">             </td></tr>\n",
       "</tbody>\n",
       "</table><br><br>"
      ],
      "text/plain": [
       "<IPython.core.display.HTML object>"
      ]
     },
     "metadata": {},
     "output_type": "display_data"
    },
    {
     "name": "stderr",
     "output_type": "stream",
     "text": [
      "\u001b[2m\u001b[36m(pid=26235)\u001b[0m ERROR:root:Max counter exceeded\n"
     ]
    },
    {
     "name": "stdout",
     "output_type": "stream",
     "text": [
      "Result for evaluate_objective_c575fb03:\n",
      "  date: 2020-12-15_23-19-03\n",
      "  done: false\n",
      "  experiment_id: 9c64caf4f0a14459832fe803edf35758\n",
      "  experiment_tag: 2_gamma=0.99242,learning_rate=0.00016658,max_grad_norm=4.4543\n",
      "  hostname: aicon3\n",
      "  iterations_since_restore: 73\n",
      "  mean_ep_length: 602.0\n",
      "  mean_reward: -1839.0\n",
      "  node_ip: 131.234.29.24\n",
      "  packet_lost: 0\n",
      "  pid: 26224\n",
      "  time_since_restore: 325.9722421169281\n",
      "  time_this_iter_s: 4.207194566726685\n",
      "  time_total_s: 325.9722421169281\n",
      "  timestamp: 1608070743\n",
      "  timesteps_since_restore: 0\n",
      "  training_iteration: 73\n",
      "  trial_id: c575fb03\n",
      "  \n"
     ]
    },
    {
     "name": "stderr",
     "output_type": "stream",
     "text": [
      "\u001b[2m\u001b[36m(pid=26235)\u001b[0m ERROR:root:Max counter exceeded\n",
      "\u001b[2m\u001b[36m(pid=26224)\u001b[0m ERROR:root:Max counter exceeded\n",
      "\u001b[2m\u001b[36m(pid=26235)\u001b[0m ERROR:root:Max counter exceeded\n",
      "\u001b[2m\u001b[36m(pid=26235)\u001b[0m ERROR:root:Max counter exceeded\n",
      "\u001b[2m\u001b[36m(pid=26224)\u001b[0m ERROR:root:Max counter exceeded\n",
      "\u001b[2m\u001b[36m(pid=26235)\u001b[0m ERROR:root:Max counter exceeded\n",
      "\u001b[2m\u001b[36m(pid=26224)\u001b[0m ERROR:root:Max counter exceeded\n",
      "\u001b[2m\u001b[36m(pid=26235)\u001b[0m ERROR:root:Max counter exceeded\n",
      "\u001b[2m\u001b[36m(pid=26224)\u001b[0m ERROR:root:Max counter exceeded\n",
      "\u001b[2m\u001b[36m(pid=26235)\u001b[0m ERROR:root:Max counter exceeded\n",
      "\u001b[2m\u001b[36m(pid=26224)\u001b[0m ERROR:root:Max counter exceeded\n",
      "\u001b[2m\u001b[36m(pid=26224)\u001b[0m ERROR:root:Max counter exceeded\n",
      "\u001b[2m\u001b[36m(pid=26235)\u001b[0m ERROR:root:Max counter exceeded\n",
      "\u001b[2m\u001b[36m(pid=26235)\u001b[0m ERROR:root:Max counter exceeded\n",
      "\u001b[2m\u001b[36m(pid=26224)\u001b[0m ERROR:root:Max counter exceeded\n",
      "\u001b[2m\u001b[36m(pid=26235)\u001b[0m ERROR:root:Max counter exceeded\n",
      "\u001b[2m\u001b[36m(pid=26224)\u001b[0m ERROR:root:Max counter exceeded\n",
      "\u001b[2m\u001b[36m(pid=26235)\u001b[0m ERROR:root:Max counter exceeded\n",
      "\u001b[2m\u001b[36m(pid=26224)\u001b[0m ERROR:root:Max counter exceeded\n"
     ]
    },
    {
     "name": "stdout",
     "output_type": "stream",
     "text": [
      "Result for evaluate_objective_c575fb02:\n",
      "  date: 2020-12-15_23-19-10\n",
      "  done: false\n",
      "  experiment_id: 46b0c57ac75646e5b843e0a5d6b6f025\n",
      "  experiment_tag: 1_gamma=0.99023,learning_rate=0.00064491,max_grad_norm=3.1478\n",
      "  hostname: aicon3\n",
      "  iterations_since_restore: 75\n",
      "  mean_ep_length: 602.0\n",
      "  mean_reward: -1837.2\n",
      "  node_ip: 131.234.29.24\n",
      "  packet_lost: 0\n",
      "  pid: 26235\n",
      "  time_since_restore: 333.8312623500824\n",
      "  time_this_iter_s: 4.19485330581665\n",
      "  time_total_s: 333.8312623500824\n",
      "  timestamp: 1608070750\n",
      "  timesteps_since_restore: 0\n",
      "  training_iteration: 75\n",
      "  trial_id: c575fb02\n",
      "  \n"
     ]
    },
    {
     "data": {
      "text/html": [
       "== Status ==<br>Memory usage on this node: 7.7/31.4 GiB<br>Using AsyncHyperBand: num_stopped=0\n",
       "Bracket: Iter 90.000: None | Iter 30.000: -1839.0 | Iter 10.000: -10310.866666666665<br>Resources requested: 16/16 CPUs, 0/0 GPUs, 0.0/15.14 GiB heap, 0.0/5.22 GiB objects<br>Result logdir: /home/aicon/ray_results/evaluate_objective<br>Number of trials: 5 (3 PENDING, 2 RUNNING)<br><table>\n",
       "<thead>\n",
       "<tr><th>Trial name                 </th><th>status  </th><th>loc                </th><th style=\"text-align: right;\">   gamma</th><th style=\"text-align: right;\">  learning_rate</th><th style=\"text-align: right;\">  max_grad_norm</th><th style=\"text-align: right;\">  iter</th><th style=\"text-align: right;\">  total time (s)</th><th style=\"text-align: right;\">  mean_reward</th><th style=\"text-align: right;\">  mean_ep_length</th><th style=\"text-align: right;\">  packet_lost</th></tr>\n",
       "</thead>\n",
       "<tbody>\n",
       "<tr><td>evaluate_objective_c575fb02</td><td>RUNNING </td><td>131.234.29.24:26235</td><td style=\"text-align: right;\">0.990228</td><td style=\"text-align: right;\">    0.00064491 </td><td style=\"text-align: right;\">       3.14781 </td><td style=\"text-align: right;\">    75</td><td style=\"text-align: right;\">         333.831</td><td style=\"text-align: right;\">      -1837.2</td><td style=\"text-align: right;\">             602</td><td style=\"text-align: right;\">            0</td></tr>\n",
       "<tr><td>evaluate_objective_c575fb03</td><td>RUNNING </td><td>131.234.29.24:26224</td><td style=\"text-align: right;\">0.992424</td><td style=\"text-align: right;\">    0.000166578</td><td style=\"text-align: right;\">       4.45429 </td><td style=\"text-align: right;\">    74</td><td style=\"text-align: right;\">         330.244</td><td style=\"text-align: right;\">      -1839  </td><td style=\"text-align: right;\">             602</td><td style=\"text-align: right;\">            0</td></tr>\n",
       "<tr><td>evaluate_objective_c575fb04</td><td>PENDING </td><td>                   </td><td style=\"text-align: right;\">0.998132</td><td style=\"text-align: right;\">    0.0026539  </td><td style=\"text-align: right;\">       0.891429</td><td style=\"text-align: right;\">      </td><td style=\"text-align: right;\">                </td><td style=\"text-align: right;\">             </td><td style=\"text-align: right;\">                </td><td style=\"text-align: right;\">             </td></tr>\n",
       "<tr><td>evaluate_objective_c575fb05</td><td>PENDING </td><td>                   </td><td style=\"text-align: right;\">0.995314</td><td style=\"text-align: right;\">    0.000825845</td><td style=\"text-align: right;\">       1.34788 </td><td style=\"text-align: right;\">      </td><td style=\"text-align: right;\">                </td><td style=\"text-align: right;\">             </td><td style=\"text-align: right;\">                </td><td style=\"text-align: right;\">             </td></tr>\n",
       "<tr><td>evaluate_objective_c575fb06</td><td>PENDING </td><td>                   </td><td style=\"text-align: right;\">0.99127 </td><td style=\"text-align: right;\">    0.00239913 </td><td style=\"text-align: right;\">       2.35207 </td><td style=\"text-align: right;\">      </td><td style=\"text-align: right;\">                </td><td style=\"text-align: right;\">             </td><td style=\"text-align: right;\">                </td><td style=\"text-align: right;\">             </td></tr>\n",
       "</tbody>\n",
       "</table><br><br>"
      ],
      "text/plain": [
       "<IPython.core.display.HTML object>"
      ]
     },
     "metadata": {},
     "output_type": "display_data"
    },
    {
     "name": "stderr",
     "output_type": "stream",
     "text": [
      "\u001b[2m\u001b[36m(pid=26235)\u001b[0m ERROR:root:Max counter exceeded\n",
      "\u001b[2m\u001b[36m(pid=26224)\u001b[0m ERROR:root:Max counter exceeded\n"
     ]
    },
    {
     "name": "stdout",
     "output_type": "stream",
     "text": [
      "Result for evaluate_objective_c575fb03:\n",
      "  date: 2020-12-15_23-19-11\n",
      "  done: false\n",
      "  experiment_id: 9c64caf4f0a14459832fe803edf35758\n",
      "  experiment_tag: 2_gamma=0.99242,learning_rate=0.00016658,max_grad_norm=4.4543\n",
      "  hostname: aicon3\n",
      "  iterations_since_restore: 75\n",
      "  mean_ep_length: 602.0\n",
      "  mean_reward: -1839.0\n",
      "  node_ip: 131.234.29.24\n",
      "  packet_lost: 0\n",
      "  pid: 26224\n",
      "  time_since_restore: 334.5128710269928\n",
      "  time_this_iter_s: 4.268635034561157\n",
      "  time_total_s: 334.5128710269928\n",
      "  timestamp: 1608070751\n",
      "  timesteps_since_restore: 0\n",
      "  training_iteration: 75\n",
      "  trial_id: c575fb03\n",
      "  \n"
     ]
    },
    {
     "name": "stderr",
     "output_type": "stream",
     "text": [
      "\u001b[2m\u001b[36m(pid=26224)\u001b[0m ERROR:root:Max counter exceeded\n",
      "\u001b[2m\u001b[36m(pid=26235)\u001b[0m ERROR:root:Max counter exceeded\n",
      "\u001b[2m\u001b[36m(pid=26235)\u001b[0m ERROR:root:Max counter exceeded\n",
      "\u001b[2m\u001b[36m(pid=26235)\u001b[0m ERROR:root:Max counter exceeded\n",
      "\u001b[2m\u001b[36m(pid=26224)\u001b[0m ERROR:root:Max counter exceeded\n",
      "\u001b[2m\u001b[36m(pid=26235)\u001b[0m ERROR:root:Max counter exceeded\n",
      "\u001b[2m\u001b[36m(pid=26224)\u001b[0m ERROR:root:Max counter exceeded\n",
      "\u001b[2m\u001b[36m(pid=26235)\u001b[0m ERROR:root:Max counter exceeded\n",
      "\u001b[2m\u001b[36m(pid=26224)\u001b[0m ERROR:root:Max counter exceeded\n",
      "\u001b[2m\u001b[36m(pid=26235)\u001b[0m ERROR:root:Max counter exceeded\n",
      "\u001b[2m\u001b[36m(pid=26224)\u001b[0m ERROR:root:Max counter exceeded\n",
      "\u001b[2m\u001b[36m(pid=26224)\u001b[0m ERROR:root:Max counter exceeded\n",
      "\u001b[2m\u001b[36m(pid=26235)\u001b[0m ERROR:root:Max counter exceeded\n",
      "\u001b[2m\u001b[36m(pid=26235)\u001b[0m ERROR:root:Max counter exceeded\n",
      "\u001b[2m\u001b[36m(pid=26224)\u001b[0m ERROR:root:Max counter exceeded\n",
      "\u001b[2m\u001b[36m(pid=26235)\u001b[0m ERROR:root:Max counter exceeded\n",
      "\u001b[2m\u001b[36m(pid=26224)\u001b[0m ERROR:root:Max counter exceeded\n",
      "\u001b[2m\u001b[36m(pid=26235)\u001b[0m ERROR:root:Max counter exceeded\n",
      "\u001b[2m\u001b[36m(pid=26224)\u001b[0m ERROR:root:Max counter exceeded\n"
     ]
    },
    {
     "name": "stdout",
     "output_type": "stream",
     "text": [
      "Result for evaluate_objective_c575fb02:\n",
      "  date: 2020-12-15_23-19-19\n",
      "  done: false\n",
      "  experiment_id: 46b0c57ac75646e5b843e0a5d6b6f025\n",
      "  experiment_tag: 1_gamma=0.99023,learning_rate=0.00064491,max_grad_norm=3.1478\n",
      "  hostname: aicon3\n",
      "  iterations_since_restore: 77\n",
      "  mean_ep_length: 602.0\n",
      "  mean_reward: -1821.6\n",
      "  node_ip: 131.234.29.24\n",
      "  packet_lost: 0\n",
      "  pid: 26235\n",
      "  time_since_restore: 342.309766292572\n",
      "  time_this_iter_s: 4.305419921875\n",
      "  time_total_s: 342.309766292572\n",
      "  timestamp: 1608070759\n",
      "  timesteps_since_restore: 0\n",
      "  training_iteration: 77\n",
      "  trial_id: c575fb02\n",
      "  \n"
     ]
    },
    {
     "name": "stderr",
     "output_type": "stream",
     "text": [
      "\u001b[2m\u001b[36m(pid=26235)\u001b[0m ERROR:root:Max counter exceeded\n"
     ]
    },
    {
     "data": {
      "text/html": [
       "== Status ==<br>Memory usage on this node: 7.7/31.4 GiB<br>Using AsyncHyperBand: num_stopped=0\n",
       "Bracket: Iter 90.000: None | Iter 30.000: -1839.0 | Iter 10.000: -10310.866666666665<br>Resources requested: 16/16 CPUs, 0/0 GPUs, 0.0/15.14 GiB heap, 0.0/5.22 GiB objects<br>Result logdir: /home/aicon/ray_results/evaluate_objective<br>Number of trials: 5 (3 PENDING, 2 RUNNING)<br><table>\n",
       "<thead>\n",
       "<tr><th>Trial name                 </th><th>status  </th><th>loc                </th><th style=\"text-align: right;\">   gamma</th><th style=\"text-align: right;\">  learning_rate</th><th style=\"text-align: right;\">  max_grad_norm</th><th style=\"text-align: right;\">  iter</th><th style=\"text-align: right;\">  total time (s)</th><th style=\"text-align: right;\">  mean_reward</th><th style=\"text-align: right;\">  mean_ep_length</th><th style=\"text-align: right;\">  packet_lost</th></tr>\n",
       "</thead>\n",
       "<tbody>\n",
       "<tr><td>evaluate_objective_c575fb02</td><td>RUNNING </td><td>131.234.29.24:26235</td><td style=\"text-align: right;\">0.990228</td><td style=\"text-align: right;\">    0.00064491 </td><td style=\"text-align: right;\">       3.14781 </td><td style=\"text-align: right;\">    77</td><td style=\"text-align: right;\">         342.31 </td><td style=\"text-align: right;\">      -1821.6</td><td style=\"text-align: right;\">             602</td><td style=\"text-align: right;\">            0</td></tr>\n",
       "<tr><td>evaluate_objective_c575fb03</td><td>RUNNING </td><td>131.234.29.24:26224</td><td style=\"text-align: right;\">0.992424</td><td style=\"text-align: right;\">    0.000166578</td><td style=\"text-align: right;\">       4.45429 </td><td style=\"text-align: right;\">    76</td><td style=\"text-align: right;\">         338.732</td><td style=\"text-align: right;\">      -1839  </td><td style=\"text-align: right;\">             602</td><td style=\"text-align: right;\">            0</td></tr>\n",
       "<tr><td>evaluate_objective_c575fb04</td><td>PENDING </td><td>                   </td><td style=\"text-align: right;\">0.998132</td><td style=\"text-align: right;\">    0.0026539  </td><td style=\"text-align: right;\">       0.891429</td><td style=\"text-align: right;\">      </td><td style=\"text-align: right;\">                </td><td style=\"text-align: right;\">             </td><td style=\"text-align: right;\">                </td><td style=\"text-align: right;\">             </td></tr>\n",
       "<tr><td>evaluate_objective_c575fb05</td><td>PENDING </td><td>                   </td><td style=\"text-align: right;\">0.995314</td><td style=\"text-align: right;\">    0.000825845</td><td style=\"text-align: right;\">       1.34788 </td><td style=\"text-align: right;\">      </td><td style=\"text-align: right;\">                </td><td style=\"text-align: right;\">             </td><td style=\"text-align: right;\">                </td><td style=\"text-align: right;\">             </td></tr>\n",
       "<tr><td>evaluate_objective_c575fb06</td><td>PENDING </td><td>                   </td><td style=\"text-align: right;\">0.99127 </td><td style=\"text-align: right;\">    0.00239913 </td><td style=\"text-align: right;\">       2.35207 </td><td style=\"text-align: right;\">      </td><td style=\"text-align: right;\">                </td><td style=\"text-align: right;\">             </td><td style=\"text-align: right;\">                </td><td style=\"text-align: right;\">             </td></tr>\n",
       "</tbody>\n",
       "</table><br><br>"
      ],
      "text/plain": [
       "<IPython.core.display.HTML object>"
      ]
     },
     "metadata": {},
     "output_type": "display_data"
    },
    {
     "name": "stderr",
     "output_type": "stream",
     "text": [
      "\u001b[2m\u001b[36m(pid=26224)\u001b[0m ERROR:root:Max counter exceeded\n",
      "\u001b[2m\u001b[36m(pid=26235)\u001b[0m ERROR:root:Max counter exceeded\n",
      "\u001b[2m\u001b[36m(pid=26224)\u001b[0m ERROR:root:Max counter exceeded\n"
     ]
    },
    {
     "name": "stdout",
     "output_type": "stream",
     "text": [
      "Result for evaluate_objective_c575fb03:\n",
      "  date: 2020-12-15_23-19-19\n",
      "  done: false\n",
      "  experiment_id: 9c64caf4f0a14459832fe803edf35758\n",
      "  experiment_tag: 2_gamma=0.99242,learning_rate=0.00016658,max_grad_norm=4.4543\n",
      "  hostname: aicon3\n",
      "  iterations_since_restore: 77\n",
      "  mean_ep_length: 602.0\n",
      "  mean_reward: -1839.0\n",
      "  node_ip: 131.234.29.24\n",
      "  packet_lost: 0\n",
      "  pid: 26224\n",
      "  time_since_restore: 342.93780994415283\n",
      "  time_this_iter_s: 4.205798625946045\n",
      "  time_total_s: 342.93780994415283\n",
      "  timestamp: 1608070759\n",
      "  timesteps_since_restore: 0\n",
      "  training_iteration: 77\n",
      "  trial_id: c575fb03\n",
      "  \n"
     ]
    },
    {
     "name": "stderr",
     "output_type": "stream",
     "text": [
      "\u001b[2m\u001b[36m(pid=26235)\u001b[0m ERROR:root:Max counter exceeded\n",
      "\u001b[2m\u001b[36m(pid=26235)\u001b[0m ERROR:root:Max counter exceeded\n",
      "\u001b[2m\u001b[36m(pid=26224)\u001b[0m ERROR:root:Max counter exceeded\n",
      "\u001b[2m\u001b[36m(pid=26235)\u001b[0m ERROR:root:Max counter exceeded\n",
      "\u001b[2m\u001b[36m(pid=26224)\u001b[0m ERROR:root:Max counter exceeded\n",
      "\u001b[2m\u001b[36m(pid=26235)\u001b[0m ERROR:root:Max counter exceeded\n",
      "\u001b[2m\u001b[36m(pid=26224)\u001b[0m ERROR:root:Max counter exceeded\n",
      "\u001b[2m\u001b[36m(pid=26235)\u001b[0m ERROR:root:Max counter exceeded\n",
      "\u001b[2m\u001b[36m(pid=26224)\u001b[0m ERROR:root:Max counter exceeded\n",
      "\u001b[2m\u001b[36m(pid=26224)\u001b[0m ERROR:root:Max counter exceeded\n",
      "\u001b[2m\u001b[36m(pid=26235)\u001b[0m ERROR:root:Max counter exceeded\n",
      "\u001b[2m\u001b[36m(pid=26235)\u001b[0m ERROR:root:Max counter exceeded\n",
      "\u001b[2m\u001b[36m(pid=26235)\u001b[0m ERROR:root:Max counter exceeded\n",
      "\u001b[2m\u001b[36m(pid=26224)\u001b[0m ERROR:root:Max counter exceeded\n",
      "\u001b[2m\u001b[36m(pid=26235)\u001b[0m ERROR:root:Max counter exceeded\n",
      "\u001b[2m\u001b[36m(pid=26224)\u001b[0m ERROR:root:Max counter exceeded\n",
      "\u001b[2m\u001b[36m(pid=26235)\u001b[0m ERROR:root:Max counter exceeded\n",
      "\u001b[2m\u001b[36m(pid=26224)\u001b[0m ERROR:root:Max counter exceeded\n"
     ]
    },
    {
     "name": "stdout",
     "output_type": "stream",
     "text": [
      "Result for evaluate_objective_c575fb02:\n",
      "  date: 2020-12-15_23-19-27\n",
      "  done: false\n",
      "  experiment_id: 46b0c57ac75646e5b843e0a5d6b6f025\n",
      "  experiment_tag: 1_gamma=0.99023,learning_rate=0.00064491,max_grad_norm=3.1478\n",
      "  hostname: aicon3\n",
      "  iterations_since_restore: 79\n",
      "  mean_ep_length: 602.0\n",
      "  mean_reward: -1823.4\n",
      "  node_ip: 131.234.29.24\n",
      "  packet_lost: 0\n",
      "  pid: 26235\n",
      "  time_since_restore: 350.6961245536804\n",
      "  time_this_iter_s: 4.187399387359619\n",
      "  time_total_s: 350.6961245536804\n",
      "  timestamp: 1608070767\n",
      "  timesteps_since_restore: 0\n",
      "  training_iteration: 79\n",
      "  trial_id: c575fb02\n",
      "  \n"
     ]
    },
    {
     "name": "stderr",
     "output_type": "stream",
     "text": [
      "\u001b[2m\u001b[36m(pid=26235)\u001b[0m ERROR:root:Max counter exceeded\n"
     ]
    },
    {
     "data": {
      "text/html": [
       "== Status ==<br>Memory usage on this node: 7.7/31.4 GiB<br>Using AsyncHyperBand: num_stopped=0\n",
       "Bracket: Iter 90.000: None | Iter 30.000: -1839.0 | Iter 10.000: -10310.866666666665<br>Resources requested: 16/16 CPUs, 0/0 GPUs, 0.0/15.14 GiB heap, 0.0/5.22 GiB objects<br>Result logdir: /home/aicon/ray_results/evaluate_objective<br>Number of trials: 5 (3 PENDING, 2 RUNNING)<br><table>\n",
       "<thead>\n",
       "<tr><th>Trial name                 </th><th>status  </th><th>loc                </th><th style=\"text-align: right;\">   gamma</th><th style=\"text-align: right;\">  learning_rate</th><th style=\"text-align: right;\">  max_grad_norm</th><th style=\"text-align: right;\">  iter</th><th style=\"text-align: right;\">  total time (s)</th><th style=\"text-align: right;\">  mean_reward</th><th style=\"text-align: right;\">  mean_ep_length</th><th style=\"text-align: right;\">  packet_lost</th></tr>\n",
       "</thead>\n",
       "<tbody>\n",
       "<tr><td>evaluate_objective_c575fb02</td><td>RUNNING </td><td>131.234.29.24:26235</td><td style=\"text-align: right;\">0.990228</td><td style=\"text-align: right;\">    0.00064491 </td><td style=\"text-align: right;\">       3.14781 </td><td style=\"text-align: right;\">    79</td><td style=\"text-align: right;\">         350.696</td><td style=\"text-align: right;\">      -1823.4</td><td style=\"text-align: right;\">             602</td><td style=\"text-align: right;\">            0</td></tr>\n",
       "<tr><td>evaluate_objective_c575fb03</td><td>RUNNING </td><td>131.234.29.24:26224</td><td style=\"text-align: right;\">0.992424</td><td style=\"text-align: right;\">    0.000166578</td><td style=\"text-align: right;\">       4.45429 </td><td style=\"text-align: right;\">    78</td><td style=\"text-align: right;\">         347.127</td><td style=\"text-align: right;\">      -1839  </td><td style=\"text-align: right;\">             602</td><td style=\"text-align: right;\">            0</td></tr>\n",
       "<tr><td>evaluate_objective_c575fb04</td><td>PENDING </td><td>                   </td><td style=\"text-align: right;\">0.998132</td><td style=\"text-align: right;\">    0.0026539  </td><td style=\"text-align: right;\">       0.891429</td><td style=\"text-align: right;\">      </td><td style=\"text-align: right;\">                </td><td style=\"text-align: right;\">             </td><td style=\"text-align: right;\">                </td><td style=\"text-align: right;\">             </td></tr>\n",
       "<tr><td>evaluate_objective_c575fb05</td><td>PENDING </td><td>                   </td><td style=\"text-align: right;\">0.995314</td><td style=\"text-align: right;\">    0.000825845</td><td style=\"text-align: right;\">       1.34788 </td><td style=\"text-align: right;\">      </td><td style=\"text-align: right;\">                </td><td style=\"text-align: right;\">             </td><td style=\"text-align: right;\">                </td><td style=\"text-align: right;\">             </td></tr>\n",
       "<tr><td>evaluate_objective_c575fb06</td><td>PENDING </td><td>                   </td><td style=\"text-align: right;\">0.99127 </td><td style=\"text-align: right;\">    0.00239913 </td><td style=\"text-align: right;\">       2.35207 </td><td style=\"text-align: right;\">      </td><td style=\"text-align: right;\">                </td><td style=\"text-align: right;\">             </td><td style=\"text-align: right;\">                </td><td style=\"text-align: right;\">             </td></tr>\n",
       "</tbody>\n",
       "</table><br><br>"
      ],
      "text/plain": [
       "<IPython.core.display.HTML object>"
      ]
     },
     "metadata": {},
     "output_type": "display_data"
    },
    {
     "name": "stderr",
     "output_type": "stream",
     "text": [
      "\u001b[2m\u001b[36m(pid=26224)\u001b[0m ERROR:root:Max counter exceeded\n"
     ]
    },
    {
     "name": "stdout",
     "output_type": "stream",
     "text": [
      "Result for evaluate_objective_c575fb03:\n",
      "  date: 2020-12-15_23-19-28\n",
      "  done: false\n",
      "  experiment_id: 9c64caf4f0a14459832fe803edf35758\n",
      "  experiment_tag: 2_gamma=0.99242,learning_rate=0.00016658,max_grad_norm=4.4543\n",
      "  hostname: aicon3\n",
      "  iterations_since_restore: 79\n",
      "  mean_ep_length: 602.0\n",
      "  mean_reward: -1839.0\n",
      "  node_ip: 131.234.29.24\n",
      "  packet_lost: 0\n",
      "  pid: 26224\n",
      "  time_since_restore: 351.36784863471985\n",
      "  time_this_iter_s: 4.2411439418792725\n",
      "  time_total_s: 351.36784863471985\n",
      "  timestamp: 1608070768\n",
      "  timesteps_since_restore: 0\n",
      "  training_iteration: 79\n",
      "  trial_id: c575fb03\n",
      "  \n"
     ]
    },
    {
     "name": "stderr",
     "output_type": "stream",
     "text": [
      "\u001b[2m\u001b[36m(pid=26224)\u001b[0m ERROR:root:Max counter exceeded\n",
      "\u001b[2m\u001b[36m(pid=26235)\u001b[0m ERROR:root:Max counter exceeded\n",
      "\u001b[2m\u001b[36m(pid=26235)\u001b[0m ERROR:root:Max counter exceeded\n",
      "\u001b[2m\u001b[36m(pid=26235)\u001b[0m ERROR:root:Max counter exceeded\n",
      "\u001b[2m\u001b[36m(pid=26224)\u001b[0m ERROR:root:Max counter exceeded\n",
      "\u001b[2m\u001b[36m(pid=26235)\u001b[0m ERROR:root:Max counter exceeded\n",
      "\u001b[2m\u001b[36m(pid=26224)\u001b[0m ERROR:root:Max counter exceeded\n",
      "\u001b[2m\u001b[36m(pid=26235)\u001b[0m ERROR:root:Max counter exceeded\n",
      "\u001b[2m\u001b[36m(pid=26224)\u001b[0m ERROR:root:Max counter exceeded\n",
      "\u001b[2m\u001b[36m(pid=26235)\u001b[0m ERROR:root:Max counter exceeded\n",
      "\u001b[2m\u001b[36m(pid=26224)\u001b[0m ERROR:root:Max counter exceeded\n",
      "\u001b[2m\u001b[36m(pid=26224)\u001b[0m ERROR:root:Max counter exceeded\n",
      "\u001b[2m\u001b[36m(pid=26235)\u001b[0m ERROR:root:Max counter exceeded\n",
      "\u001b[2m\u001b[36m(pid=26235)\u001b[0m ERROR:root:Max counter exceeded\n",
      "\u001b[2m\u001b[36m(pid=26235)\u001b[0m ERROR:root:Max counter exceeded\n",
      "\u001b[2m\u001b[36m(pid=26224)\u001b[0m ERROR:root:Max counter exceeded\n",
      "\u001b[2m\u001b[36m(pid=26235)\u001b[0m ERROR:root:Max counter exceeded\n",
      "\u001b[2m\u001b[36m(pid=26224)\u001b[0m ERROR:root:Max counter exceeded\n",
      "\u001b[2m\u001b[36m(pid=26235)\u001b[0m ERROR:root:Max counter exceeded\n",
      "\u001b[2m\u001b[36m(pid=26224)\u001b[0m ERROR:root:Max counter exceeded\n"
     ]
    },
    {
     "name": "stdout",
     "output_type": "stream",
     "text": [
      "Result for evaluate_objective_c575fb02:\n",
      "  date: 2020-12-15_23-19-36\n",
      "  done: false\n",
      "  experiment_id: 46b0c57ac75646e5b843e0a5d6b6f025\n",
      "  experiment_tag: 1_gamma=0.99023,learning_rate=0.00064491,max_grad_norm=3.1478\n",
      "  hostname: aicon3\n",
      "  iterations_since_restore: 81\n",
      "  mean_ep_length: 602.0\n",
      "  mean_reward: -1836.0\n",
      "  node_ip: 131.234.29.24\n",
      "  packet_lost: 0\n",
      "  pid: 26235\n",
      "  time_since_restore: 359.2829735279083\n",
      "  time_this_iter_s: 4.327122926712036\n",
      "  time_total_s: 359.2829735279083\n",
      "  timestamp: 1608070776\n",
      "  timesteps_since_restore: 0\n",
      "  training_iteration: 81\n",
      "  trial_id: c575fb02\n",
      "  \n"
     ]
    },
    {
     "data": {
      "text/html": [
       "== Status ==<br>Memory usage on this node: 7.7/31.4 GiB<br>Using AsyncHyperBand: num_stopped=0\n",
       "Bracket: Iter 90.000: None | Iter 30.000: -1839.0 | Iter 10.000: -10310.866666666665<br>Resources requested: 16/16 CPUs, 0/0 GPUs, 0.0/15.14 GiB heap, 0.0/5.22 GiB objects<br>Result logdir: /home/aicon/ray_results/evaluate_objective<br>Number of trials: 5 (3 PENDING, 2 RUNNING)<br><table>\n",
       "<thead>\n",
       "<tr><th>Trial name                 </th><th>status  </th><th>loc                </th><th style=\"text-align: right;\">   gamma</th><th style=\"text-align: right;\">  learning_rate</th><th style=\"text-align: right;\">  max_grad_norm</th><th style=\"text-align: right;\">  iter</th><th style=\"text-align: right;\">  total time (s)</th><th style=\"text-align: right;\">  mean_reward</th><th style=\"text-align: right;\">  mean_ep_length</th><th style=\"text-align: right;\">  packet_lost</th></tr>\n",
       "</thead>\n",
       "<tbody>\n",
       "<tr><td>evaluate_objective_c575fb02</td><td>RUNNING </td><td>131.234.29.24:26235</td><td style=\"text-align: right;\">0.990228</td><td style=\"text-align: right;\">    0.00064491 </td><td style=\"text-align: right;\">       3.14781 </td><td style=\"text-align: right;\">    81</td><td style=\"text-align: right;\">         359.283</td><td style=\"text-align: right;\">        -1836</td><td style=\"text-align: right;\">             602</td><td style=\"text-align: right;\">            0</td></tr>\n",
       "<tr><td>evaluate_objective_c575fb03</td><td>RUNNING </td><td>131.234.29.24:26224</td><td style=\"text-align: right;\">0.992424</td><td style=\"text-align: right;\">    0.000166578</td><td style=\"text-align: right;\">       4.45429 </td><td style=\"text-align: right;\">    80</td><td style=\"text-align: right;\">         355.603</td><td style=\"text-align: right;\">        -1839</td><td style=\"text-align: right;\">             602</td><td style=\"text-align: right;\">            0</td></tr>\n",
       "<tr><td>evaluate_objective_c575fb04</td><td>PENDING </td><td>                   </td><td style=\"text-align: right;\">0.998132</td><td style=\"text-align: right;\">    0.0026539  </td><td style=\"text-align: right;\">       0.891429</td><td style=\"text-align: right;\">      </td><td style=\"text-align: right;\">                </td><td style=\"text-align: right;\">             </td><td style=\"text-align: right;\">                </td><td style=\"text-align: right;\">             </td></tr>\n",
       "<tr><td>evaluate_objective_c575fb05</td><td>PENDING </td><td>                   </td><td style=\"text-align: right;\">0.995314</td><td style=\"text-align: right;\">    0.000825845</td><td style=\"text-align: right;\">       1.34788 </td><td style=\"text-align: right;\">      </td><td style=\"text-align: right;\">                </td><td style=\"text-align: right;\">             </td><td style=\"text-align: right;\">                </td><td style=\"text-align: right;\">             </td></tr>\n",
       "<tr><td>evaluate_objective_c575fb06</td><td>PENDING </td><td>                   </td><td style=\"text-align: right;\">0.99127 </td><td style=\"text-align: right;\">    0.00239913 </td><td style=\"text-align: right;\">       2.35207 </td><td style=\"text-align: right;\">      </td><td style=\"text-align: right;\">                </td><td style=\"text-align: right;\">             </td><td style=\"text-align: right;\">                </td><td style=\"text-align: right;\">             </td></tr>\n",
       "</tbody>\n",
       "</table><br><br>"
      ],
      "text/plain": [
       "<IPython.core.display.HTML object>"
      ]
     },
     "metadata": {},
     "output_type": "display_data"
    },
    {
     "name": "stderr",
     "output_type": "stream",
     "text": [
      "\u001b[2m\u001b[36m(pid=26235)\u001b[0m ERROR:root:Max counter exceeded\n",
      "\u001b[2m\u001b[36m(pid=26224)\u001b[0m ERROR:root:Max counter exceeded\n"
     ]
    },
    {
     "name": "stdout",
     "output_type": "stream",
     "text": [
      "Result for evaluate_objective_c575fb03:\n",
      "  date: 2020-12-15_23-19-36\n",
      "  done: false\n",
      "  experiment_id: 9c64caf4f0a14459832fe803edf35758\n",
      "  experiment_tag: 2_gamma=0.99242,learning_rate=0.00016658,max_grad_norm=4.4543\n",
      "  hostname: aicon3\n",
      "  iterations_since_restore: 81\n",
      "  mean_ep_length: 602.0\n",
      "  mean_reward: -1839.0\n",
      "  node_ip: 131.234.29.24\n",
      "  packet_lost: 0\n",
      "  pid: 26224\n",
      "  time_since_restore: 359.8338050842285\n",
      "  time_this_iter_s: 4.230520248413086\n",
      "  time_total_s: 359.8338050842285\n",
      "  timestamp: 1608070776\n",
      "  timesteps_since_restore: 0\n",
      "  training_iteration: 81\n",
      "  trial_id: c575fb03\n",
      "  \n"
     ]
    },
    {
     "name": "stderr",
     "output_type": "stream",
     "text": [
      "\u001b[2m\u001b[36m(pid=26224)\u001b[0m ERROR:root:Max counter exceeded\n",
      "\u001b[2m\u001b[36m(pid=26235)\u001b[0m ERROR:root:Max counter exceeded\n",
      "\u001b[2m\u001b[36m(pid=26235)\u001b[0m ERROR:root:Max counter exceeded\n",
      "\u001b[2m\u001b[36m(pid=26224)\u001b[0m ERROR:root:Max counter exceeded\n",
      "\u001b[2m\u001b[36m(pid=26235)\u001b[0m ERROR:root:Max counter exceeded\n",
      "\u001b[2m\u001b[36m(pid=26224)\u001b[0m ERROR:root:Max counter exceeded\n",
      "\u001b[2m\u001b[36m(pid=26235)\u001b[0m ERROR:root:Max counter exceeded\n",
      "\u001b[2m\u001b[36m(pid=26224)\u001b[0m ERROR:root:Max counter exceeded\n",
      "\u001b[2m\u001b[36m(pid=26235)\u001b[0m ERROR:root:Max counter exceeded\n",
      "\u001b[2m\u001b[36m(pid=26224)\u001b[0m ERROR:root:Max counter exceeded\n",
      "\u001b[2m\u001b[36m(pid=26235)\u001b[0m ERROR:root:Max counter exceeded\n",
      "\u001b[2m\u001b[36m(pid=26224)\u001b[0m ERROR:root:Max counter exceeded\n",
      "\u001b[2m\u001b[36m(pid=26235)\u001b[0m ERROR:root:Max counter exceeded\n",
      "\u001b[2m\u001b[36m(pid=26235)\u001b[0m ERROR:root:Max counter exceeded\n",
      "\u001b[2m\u001b[36m(pid=26224)\u001b[0m ERROR:root:Max counter exceeded\n",
      "\u001b[2m\u001b[36m(pid=26235)\u001b[0m ERROR:root:Max counter exceeded\n",
      "\u001b[2m\u001b[36m(pid=26224)\u001b[0m ERROR:root:Max counter exceeded\n",
      "\u001b[2m\u001b[36m(pid=26235)\u001b[0m ERROR:root:Max counter exceeded\n",
      "\u001b[2m\u001b[36m(pid=26224)\u001b[0m ERROR:root:Max counter exceeded\n"
     ]
    },
    {
     "name": "stdout",
     "output_type": "stream",
     "text": [
      "Result for evaluate_objective_c575fb02:\n",
      "  date: 2020-12-15_23-19-44\n",
      "  done: false\n",
      "  experiment_id: 46b0c57ac75646e5b843e0a5d6b6f025\n",
      "  experiment_tag: 1_gamma=0.99023,learning_rate=0.00064491,max_grad_norm=3.1478\n",
      "  hostname: aicon3\n",
      "  iterations_since_restore: 83\n",
      "  mean_ep_length: 602.0\n",
      "  mean_reward: -1829.4\n",
      "  node_ip: 131.234.29.24\n",
      "  packet_lost: 0\n",
      "  pid: 26235\n",
      "  time_since_restore: 367.7887828350067\n",
      "  time_this_iter_s: 4.281480073928833\n",
      "  time_total_s: 367.7887828350067\n",
      "  timestamp: 1608070784\n",
      "  timesteps_since_restore: 0\n",
      "  training_iteration: 83\n",
      "  trial_id: c575fb02\n",
      "  \n"
     ]
    },
    {
     "data": {
      "text/html": [
       "== Status ==<br>Memory usage on this node: 7.7/31.4 GiB<br>Using AsyncHyperBand: num_stopped=0\n",
       "Bracket: Iter 90.000: None | Iter 30.000: -1839.0 | Iter 10.000: -10310.866666666665<br>Resources requested: 16/16 CPUs, 0/0 GPUs, 0.0/15.14 GiB heap, 0.0/5.22 GiB objects<br>Result logdir: /home/aicon/ray_results/evaluate_objective<br>Number of trials: 5 (3 PENDING, 2 RUNNING)<br><table>\n",
       "<thead>\n",
       "<tr><th>Trial name                 </th><th>status  </th><th>loc                </th><th style=\"text-align: right;\">   gamma</th><th style=\"text-align: right;\">  learning_rate</th><th style=\"text-align: right;\">  max_grad_norm</th><th style=\"text-align: right;\">  iter</th><th style=\"text-align: right;\">  total time (s)</th><th style=\"text-align: right;\">  mean_reward</th><th style=\"text-align: right;\">  mean_ep_length</th><th style=\"text-align: right;\">  packet_lost</th></tr>\n",
       "</thead>\n",
       "<tbody>\n",
       "<tr><td>evaluate_objective_c575fb02</td><td>RUNNING </td><td>131.234.29.24:26235</td><td style=\"text-align: right;\">0.990228</td><td style=\"text-align: right;\">    0.00064491 </td><td style=\"text-align: right;\">       3.14781 </td><td style=\"text-align: right;\">    83</td><td style=\"text-align: right;\">         367.789</td><td style=\"text-align: right;\">      -1829.4</td><td style=\"text-align: right;\">             602</td><td style=\"text-align: right;\">            0</td></tr>\n",
       "<tr><td>evaluate_objective_c575fb03</td><td>RUNNING </td><td>131.234.29.24:26224</td><td style=\"text-align: right;\">0.992424</td><td style=\"text-align: right;\">    0.000166578</td><td style=\"text-align: right;\">       4.45429 </td><td style=\"text-align: right;\">    82</td><td style=\"text-align: right;\">         364.155</td><td style=\"text-align: right;\">      -1839  </td><td style=\"text-align: right;\">             602</td><td style=\"text-align: right;\">            0</td></tr>\n",
       "<tr><td>evaluate_objective_c575fb04</td><td>PENDING </td><td>                   </td><td style=\"text-align: right;\">0.998132</td><td style=\"text-align: right;\">    0.0026539  </td><td style=\"text-align: right;\">       0.891429</td><td style=\"text-align: right;\">      </td><td style=\"text-align: right;\">                </td><td style=\"text-align: right;\">             </td><td style=\"text-align: right;\">                </td><td style=\"text-align: right;\">             </td></tr>\n",
       "<tr><td>evaluate_objective_c575fb05</td><td>PENDING </td><td>                   </td><td style=\"text-align: right;\">0.995314</td><td style=\"text-align: right;\">    0.000825845</td><td style=\"text-align: right;\">       1.34788 </td><td style=\"text-align: right;\">      </td><td style=\"text-align: right;\">                </td><td style=\"text-align: right;\">             </td><td style=\"text-align: right;\">                </td><td style=\"text-align: right;\">             </td></tr>\n",
       "<tr><td>evaluate_objective_c575fb06</td><td>PENDING </td><td>                   </td><td style=\"text-align: right;\">0.99127 </td><td style=\"text-align: right;\">    0.00239913 </td><td style=\"text-align: right;\">       2.35207 </td><td style=\"text-align: right;\">      </td><td style=\"text-align: right;\">                </td><td style=\"text-align: right;\">             </td><td style=\"text-align: right;\">                </td><td style=\"text-align: right;\">             </td></tr>\n",
       "</tbody>\n",
       "</table><br><br>"
      ],
      "text/plain": [
       "<IPython.core.display.HTML object>"
      ]
     },
     "metadata": {},
     "output_type": "display_data"
    },
    {
     "name": "stderr",
     "output_type": "stream",
     "text": [
      "\u001b[2m\u001b[36m(pid=26235)\u001b[0m ERROR:root:Max counter exceeded\n",
      "\u001b[2m\u001b[36m(pid=26235)\u001b[0m ERROR:root:Max counter exceeded\n",
      "\u001b[2m\u001b[36m(pid=26224)\u001b[0m ERROR:root:Max counter exceeded\n"
     ]
    },
    {
     "name": "stdout",
     "output_type": "stream",
     "text": [
      "Result for evaluate_objective_c575fb03:\n",
      "  date: 2020-12-15_23-19-45\n",
      "  done: false\n",
      "  experiment_id: 9c64caf4f0a14459832fe803edf35758\n",
      "  experiment_tag: 2_gamma=0.99242,learning_rate=0.00016658,max_grad_norm=4.4543\n",
      "  hostname: aicon3\n",
      "  iterations_since_restore: 83\n",
      "  mean_ep_length: 602.0\n",
      "  mean_reward: -1839.0\n",
      "  node_ip: 131.234.29.24\n",
      "  packet_lost: 0\n",
      "  pid: 26224\n",
      "  time_since_restore: 368.35279536247253\n",
      "  time_this_iter_s: 4.197402238845825\n",
      "  time_total_s: 368.35279536247253\n",
      "  timestamp: 1608070785\n",
      "  timesteps_since_restore: 0\n",
      "  training_iteration: 83\n",
      "  trial_id: c575fb03\n",
      "  \n"
     ]
    },
    {
     "name": "stderr",
     "output_type": "stream",
     "text": [
      "\u001b[2m\u001b[36m(pid=26224)\u001b[0m ERROR:root:Max counter exceeded\n",
      "\u001b[2m\u001b[36m(pid=26235)\u001b[0m ERROR:root:Max counter exceeded\n",
      "\u001b[2m\u001b[36m(pid=26224)\u001b[0m ERROR:root:Max counter exceeded\n",
      "\u001b[2m\u001b[36m(pid=26235)\u001b[0m ERROR:root:Max counter exceeded\n",
      "\u001b[2m\u001b[36m(pid=26235)\u001b[0m ERROR:root:Max counter exceeded\n",
      "\u001b[2m\u001b[36m(pid=26224)\u001b[0m ERROR:root:Max counter exceeded\n",
      "\u001b[2m\u001b[36m(pid=26235)\u001b[0m ERROR:root:Max counter exceeded\n",
      "\u001b[2m\u001b[36m(pid=26224)\u001b[0m ERROR:root:Max counter exceeded\n",
      "\u001b[2m\u001b[36m(pid=26235)\u001b[0m ERROR:root:Max counter exceeded\n",
      "\u001b[2m\u001b[36m(pid=26224)\u001b[0m ERROR:root:Max counter exceeded\n",
      "\u001b[2m\u001b[36m(pid=26235)\u001b[0m ERROR:root:Max counter exceeded\n",
      "\u001b[2m\u001b[36m(pid=26224)\u001b[0m ERROR:root:Max counter exceeded\n",
      "\u001b[2m\u001b[36m(pid=26235)\u001b[0m ERROR:root:Max counter exceeded\n",
      "\u001b[2m\u001b[36m(pid=26235)\u001b[0m ERROR:root:Max counter exceeded\n",
      "\u001b[2m\u001b[36m(pid=26224)\u001b[0m ERROR:root:Max counter exceeded\n",
      "\u001b[2m\u001b[36m(pid=26235)\u001b[0m ERROR:root:Max counter exceeded\n",
      "\u001b[2m\u001b[36m(pid=26224)\u001b[0m ERROR:root:Max counter exceeded\n",
      "\u001b[2m\u001b[36m(pid=26235)\u001b[0m ERROR:root:Max counter exceeded\n",
      "\u001b[2m\u001b[36m(pid=26224)\u001b[0m ERROR:root:Max counter exceeded\n"
     ]
    },
    {
     "name": "stdout",
     "output_type": "stream",
     "text": [
      "Result for evaluate_objective_c575fb02:\n",
      "  date: 2020-12-15_23-19-53\n",
      "  done: false\n",
      "  experiment_id: 46b0c57ac75646e5b843e0a5d6b6f025\n",
      "  experiment_tag: 1_gamma=0.99023,learning_rate=0.00064491,max_grad_norm=3.1478\n",
      "  hostname: aicon3\n",
      "  iterations_since_restore: 85\n",
      "  mean_ep_length: 602.0\n",
      "  mean_reward: -1839.0\n",
      "  node_ip: 131.234.29.24\n",
      "  packet_lost: 0\n",
      "  pid: 26235\n",
      "  time_since_restore: 376.29100131988525\n",
      "  time_this_iter_s: 4.172730207443237\n",
      "  time_total_s: 376.29100131988525\n",
      "  timestamp: 1608070793\n",
      "  timesteps_since_restore: 0\n",
      "  training_iteration: 85\n",
      "  trial_id: c575fb02\n",
      "  \n"
     ]
    },
    {
     "data": {
      "text/html": [
       "== Status ==<br>Memory usage on this node: 7.7/31.4 GiB<br>Using AsyncHyperBand: num_stopped=0\n",
       "Bracket: Iter 90.000: None | Iter 30.000: -1839.0 | Iter 10.000: -10310.866666666665<br>Resources requested: 16/16 CPUs, 0/0 GPUs, 0.0/15.14 GiB heap, 0.0/5.22 GiB objects<br>Result logdir: /home/aicon/ray_results/evaluate_objective<br>Number of trials: 5 (3 PENDING, 2 RUNNING)<br><table>\n",
       "<thead>\n",
       "<tr><th>Trial name                 </th><th>status  </th><th>loc                </th><th style=\"text-align: right;\">   gamma</th><th style=\"text-align: right;\">  learning_rate</th><th style=\"text-align: right;\">  max_grad_norm</th><th style=\"text-align: right;\">  iter</th><th style=\"text-align: right;\">  total time (s)</th><th style=\"text-align: right;\">  mean_reward</th><th style=\"text-align: right;\">  mean_ep_length</th><th style=\"text-align: right;\">  packet_lost</th></tr>\n",
       "</thead>\n",
       "<tbody>\n",
       "<tr><td>evaluate_objective_c575fb02</td><td>RUNNING </td><td>131.234.29.24:26235</td><td style=\"text-align: right;\">0.990228</td><td style=\"text-align: right;\">    0.00064491 </td><td style=\"text-align: right;\">       3.14781 </td><td style=\"text-align: right;\">    85</td><td style=\"text-align: right;\">         376.291</td><td style=\"text-align: right;\">        -1839</td><td style=\"text-align: right;\">             602</td><td style=\"text-align: right;\">            0</td></tr>\n",
       "<tr><td>evaluate_objective_c575fb03</td><td>RUNNING </td><td>131.234.29.24:26224</td><td style=\"text-align: right;\">0.992424</td><td style=\"text-align: right;\">    0.000166578</td><td style=\"text-align: right;\">       4.45429 </td><td style=\"text-align: right;\">    84</td><td style=\"text-align: right;\">         372.691</td><td style=\"text-align: right;\">        -1839</td><td style=\"text-align: right;\">             602</td><td style=\"text-align: right;\">            0</td></tr>\n",
       "<tr><td>evaluate_objective_c575fb04</td><td>PENDING </td><td>                   </td><td style=\"text-align: right;\">0.998132</td><td style=\"text-align: right;\">    0.0026539  </td><td style=\"text-align: right;\">       0.891429</td><td style=\"text-align: right;\">      </td><td style=\"text-align: right;\">                </td><td style=\"text-align: right;\">             </td><td style=\"text-align: right;\">                </td><td style=\"text-align: right;\">             </td></tr>\n",
       "<tr><td>evaluate_objective_c575fb05</td><td>PENDING </td><td>                   </td><td style=\"text-align: right;\">0.995314</td><td style=\"text-align: right;\">    0.000825845</td><td style=\"text-align: right;\">       1.34788 </td><td style=\"text-align: right;\">      </td><td style=\"text-align: right;\">                </td><td style=\"text-align: right;\">             </td><td style=\"text-align: right;\">                </td><td style=\"text-align: right;\">             </td></tr>\n",
       "<tr><td>evaluate_objective_c575fb06</td><td>PENDING </td><td>                   </td><td style=\"text-align: right;\">0.99127 </td><td style=\"text-align: right;\">    0.00239913 </td><td style=\"text-align: right;\">       2.35207 </td><td style=\"text-align: right;\">      </td><td style=\"text-align: right;\">                </td><td style=\"text-align: right;\">             </td><td style=\"text-align: right;\">                </td><td style=\"text-align: right;\">             </td></tr>\n",
       "</tbody>\n",
       "</table><br><br>"
      ],
      "text/plain": [
       "<IPython.core.display.HTML object>"
      ]
     },
     "metadata": {},
     "output_type": "display_data"
    },
    {
     "name": "stderr",
     "output_type": "stream",
     "text": [
      "\u001b[2m\u001b[36m(pid=26235)\u001b[0m ERROR:root:Max counter exceeded\n",
      "\u001b[2m\u001b[36m(pid=26235)\u001b[0m ERROR:root:Max counter exceeded\n",
      "\u001b[2m\u001b[36m(pid=26224)\u001b[0m ERROR:root:Max counter exceeded\n"
     ]
    },
    {
     "name": "stdout",
     "output_type": "stream",
     "text": [
      "Result for evaluate_objective_c575fb03:\n",
      "  date: 2020-12-15_23-19-54\n",
      "  done: false\n",
      "  experiment_id: 9c64caf4f0a14459832fe803edf35758\n",
      "  experiment_tag: 2_gamma=0.99242,learning_rate=0.00016658,max_grad_norm=4.4543\n",
      "  hostname: aicon3\n",
      "  iterations_since_restore: 85\n",
      "  mean_ep_length: 602.0\n",
      "  mean_reward: -1839.0\n",
      "  node_ip: 131.234.29.24\n",
      "  packet_lost: 0\n",
      "  pid: 26224\n",
      "  time_since_restore: 376.97627782821655\n",
      "  time_this_iter_s: 4.285773038864136\n",
      "  time_total_s: 376.97627782821655\n",
      "  timestamp: 1608070794\n",
      "  timesteps_since_restore: 0\n",
      "  training_iteration: 85\n",
      "  trial_id: c575fb03\n",
      "  \n"
     ]
    },
    {
     "name": "stderr",
     "output_type": "stream",
     "text": [
      "\u001b[2m\u001b[36m(pid=26224)\u001b[0m ERROR:root:Max counter exceeded\n",
      "\u001b[2m\u001b[36m(pid=26235)\u001b[0m ERROR:root:Max counter exceeded\n",
      "\u001b[2m\u001b[36m(pid=26235)\u001b[0m ERROR:root:Max counter exceeded\n",
      "\u001b[2m\u001b[36m(pid=26235)\u001b[0m ERROR:root:Max counter exceeded\n",
      "\u001b[2m\u001b[36m(pid=26224)\u001b[0m ERROR:root:Max counter exceeded\n",
      "\u001b[2m\u001b[36m(pid=26235)\u001b[0m ERROR:root:Max counter exceeded\n",
      "\u001b[2m\u001b[36m(pid=26224)\u001b[0m ERROR:root:Max counter exceeded\n",
      "\u001b[2m\u001b[36m(pid=26235)\u001b[0m ERROR:root:Max counter exceeded\n",
      "\u001b[2m\u001b[36m(pid=26224)\u001b[0m ERROR:root:Max counter exceeded\n",
      "\u001b[2m\u001b[36m(pid=26235)\u001b[0m ERROR:root:Max counter exceeded\n",
      "\u001b[2m\u001b[36m(pid=26224)\u001b[0m ERROR:root:Max counter exceeded\n",
      "\u001b[2m\u001b[36m(pid=26224)\u001b[0m ERROR:root:Max counter exceeded\n",
      "\u001b[2m\u001b[36m(pid=26235)\u001b[0m ERROR:root:Max counter exceeded\n",
      "\u001b[2m\u001b[36m(pid=26235)\u001b[0m ERROR:root:Max counter exceeded\n",
      "\u001b[2m\u001b[36m(pid=26235)\u001b[0m ERROR:root:Max counter exceeded\n",
      "\u001b[2m\u001b[36m(pid=26224)\u001b[0m ERROR:root:Max counter exceeded\n",
      "\u001b[2m\u001b[36m(pid=26235)\u001b[0m ERROR:root:Max counter exceeded\n",
      "\u001b[2m\u001b[36m(pid=26224)\u001b[0m ERROR:root:Max counter exceeded\n",
      "\u001b[2m\u001b[36m(pid=26235)\u001b[0m ERROR:root:Max counter exceeded\n",
      "\u001b[2m\u001b[36m(pid=26224)\u001b[0m ERROR:root:Max counter exceeded\n"
     ]
    },
    {
     "name": "stdout",
     "output_type": "stream",
     "text": [
      "Result for evaluate_objective_c575fb02:\n",
      "  date: 2020-12-15_23-20-02\n",
      "  done: false\n",
      "  experiment_id: 46b0c57ac75646e5b843e0a5d6b6f025\n",
      "  experiment_tag: 1_gamma=0.99023,learning_rate=0.00064491,max_grad_norm=3.1478\n",
      "  hostname: aicon3\n",
      "  iterations_since_restore: 87\n",
      "  mean_ep_length: 602.0\n",
      "  mean_reward: -1839.0\n",
      "  node_ip: 131.234.29.24\n",
      "  packet_lost: 0\n",
      "  pid: 26235\n",
      "  time_since_restore: 384.97706627845764\n",
      "  time_this_iter_s: 4.31110143661499\n",
      "  time_total_s: 384.97706627845764\n",
      "  timestamp: 1608070802\n",
      "  timesteps_since_restore: 0\n",
      "  training_iteration: 87\n",
      "  trial_id: c575fb02\n",
      "  \n"
     ]
    },
    {
     "data": {
      "text/html": [
       "== Status ==<br>Memory usage on this node: 7.7/31.4 GiB<br>Using AsyncHyperBand: num_stopped=0\n",
       "Bracket: Iter 90.000: None | Iter 30.000: -1839.0 | Iter 10.000: -10310.866666666665<br>Resources requested: 16/16 CPUs, 0/0 GPUs, 0.0/15.14 GiB heap, 0.0/5.22 GiB objects<br>Result logdir: /home/aicon/ray_results/evaluate_objective<br>Number of trials: 5 (3 PENDING, 2 RUNNING)<br><table>\n",
       "<thead>\n",
       "<tr><th>Trial name                 </th><th>status  </th><th>loc                </th><th style=\"text-align: right;\">   gamma</th><th style=\"text-align: right;\">  learning_rate</th><th style=\"text-align: right;\">  max_grad_norm</th><th style=\"text-align: right;\">  iter</th><th style=\"text-align: right;\">  total time (s)</th><th style=\"text-align: right;\">  mean_reward</th><th style=\"text-align: right;\">  mean_ep_length</th><th style=\"text-align: right;\">  packet_lost</th></tr>\n",
       "</thead>\n",
       "<tbody>\n",
       "<tr><td>evaluate_objective_c575fb02</td><td>RUNNING </td><td>131.234.29.24:26235</td><td style=\"text-align: right;\">0.990228</td><td style=\"text-align: right;\">    0.00064491 </td><td style=\"text-align: right;\">       3.14781 </td><td style=\"text-align: right;\">    87</td><td style=\"text-align: right;\">         384.977</td><td style=\"text-align: right;\">        -1839</td><td style=\"text-align: right;\">             602</td><td style=\"text-align: right;\">            0</td></tr>\n",
       "<tr><td>evaluate_objective_c575fb03</td><td>RUNNING </td><td>131.234.29.24:26224</td><td style=\"text-align: right;\">0.992424</td><td style=\"text-align: right;\">    0.000166578</td><td style=\"text-align: right;\">       4.45429 </td><td style=\"text-align: right;\">    86</td><td style=\"text-align: right;\">         381.251</td><td style=\"text-align: right;\">        -1839</td><td style=\"text-align: right;\">             602</td><td style=\"text-align: right;\">            0</td></tr>\n",
       "<tr><td>evaluate_objective_c575fb04</td><td>PENDING </td><td>                   </td><td style=\"text-align: right;\">0.998132</td><td style=\"text-align: right;\">    0.0026539  </td><td style=\"text-align: right;\">       0.891429</td><td style=\"text-align: right;\">      </td><td style=\"text-align: right;\">                </td><td style=\"text-align: right;\">             </td><td style=\"text-align: right;\">                </td><td style=\"text-align: right;\">             </td></tr>\n",
       "<tr><td>evaluate_objective_c575fb05</td><td>PENDING </td><td>                   </td><td style=\"text-align: right;\">0.995314</td><td style=\"text-align: right;\">    0.000825845</td><td style=\"text-align: right;\">       1.34788 </td><td style=\"text-align: right;\">      </td><td style=\"text-align: right;\">                </td><td style=\"text-align: right;\">             </td><td style=\"text-align: right;\">                </td><td style=\"text-align: right;\">             </td></tr>\n",
       "<tr><td>evaluate_objective_c575fb06</td><td>PENDING </td><td>                   </td><td style=\"text-align: right;\">0.99127 </td><td style=\"text-align: right;\">    0.00239913 </td><td style=\"text-align: right;\">       2.35207 </td><td style=\"text-align: right;\">      </td><td style=\"text-align: right;\">                </td><td style=\"text-align: right;\">             </td><td style=\"text-align: right;\">                </td><td style=\"text-align: right;\">             </td></tr>\n",
       "</tbody>\n",
       "</table><br><br>"
      ],
      "text/plain": [
       "<IPython.core.display.HTML object>"
      ]
     },
     "metadata": {},
     "output_type": "display_data"
    },
    {
     "name": "stderr",
     "output_type": "stream",
     "text": [
      "\u001b[2m\u001b[36m(pid=26235)\u001b[0m ERROR:root:Max counter exceeded\n",
      "\u001b[2m\u001b[36m(pid=26224)\u001b[0m ERROR:root:Max counter exceeded\n"
     ]
    },
    {
     "name": "stdout",
     "output_type": "stream",
     "text": [
      "Result for evaluate_objective_c575fb03:\n",
      "  date: 2020-12-15_23-20-02\n",
      "  done: false\n",
      "  experiment_id: 9c64caf4f0a14459832fe803edf35758\n",
      "  experiment_tag: 2_gamma=0.99242,learning_rate=0.00016658,max_grad_norm=4.4543\n",
      "  hostname: aicon3\n",
      "  iterations_since_restore: 87\n",
      "  mean_ep_length: 602.0\n",
      "  mean_reward: -1839.0\n",
      "  node_ip: 131.234.29.24\n",
      "  packet_lost: 0\n",
      "  pid: 26224\n",
      "  time_since_restore: 385.6288254261017\n",
      "  time_this_iter_s: 4.377661466598511\n",
      "  time_total_s: 385.6288254261017\n",
      "  timestamp: 1608070802\n",
      "  timesteps_since_restore: 0\n",
      "  training_iteration: 87\n",
      "  trial_id: c575fb03\n",
      "  \n"
     ]
    },
    {
     "name": "stderr",
     "output_type": "stream",
     "text": [
      "\u001b[2m\u001b[36m(pid=26224)\u001b[0m ERROR:root:Max counter exceeded\n",
      "\u001b[2m\u001b[36m(pid=26235)\u001b[0m ERROR:root:Max counter exceeded\n",
      "\u001b[2m\u001b[36m(pid=26235)\u001b[0m ERROR:root:Max counter exceeded\n",
      "\u001b[2m\u001b[36m(pid=26224)\u001b[0m ERROR:root:Max counter exceeded\n",
      "\u001b[2m\u001b[36m(pid=26235)\u001b[0m ERROR:root:Max counter exceeded\n",
      "\u001b[2m\u001b[36m(pid=26224)\u001b[0m ERROR:root:Max counter exceeded\n",
      "\u001b[2m\u001b[36m(pid=26235)\u001b[0m ERROR:root:Max counter exceeded\n",
      "\u001b[2m\u001b[36m(pid=26224)\u001b[0m ERROR:root:Max counter exceeded\n",
      "\u001b[2m\u001b[36m(pid=26235)\u001b[0m ERROR:root:Max counter exceeded\n",
      "\u001b[2m\u001b[36m(pid=26235)\u001b[0m ERROR:root:Max counter exceeded\n",
      "\u001b[2m\u001b[36m(pid=26224)\u001b[0m ERROR:root:Max counter exceeded\n",
      "\u001b[2m\u001b[36m(pid=26224)\u001b[0m ERROR:root:Max counter exceeded\n",
      "\u001b[2m\u001b[36m(pid=26235)\u001b[0m ERROR:root:Max counter exceeded\n",
      "\u001b[2m\u001b[36m(pid=26235)\u001b[0m ERROR:root:Max counter exceeded\n",
      "\u001b[2m\u001b[36m(pid=26235)\u001b[0m ERROR:root:Max counter exceeded\n",
      "\u001b[2m\u001b[36m(pid=26224)\u001b[0m ERROR:root:Max counter exceeded\n",
      "\u001b[2m\u001b[36m(pid=26235)\u001b[0m ERROR:root:Max counter exceeded\n",
      "\u001b[2m\u001b[36m(pid=26224)\u001b[0m ERROR:root:Max counter exceeded\n",
      "\u001b[2m\u001b[36m(pid=26235)\u001b[0m ERROR:root:Max counter exceeded\n",
      "\u001b[2m\u001b[36m(pid=26224)\u001b[0m ERROR:root:Max counter exceeded\n"
     ]
    },
    {
     "name": "stdout",
     "output_type": "stream",
     "text": [
      "Result for evaluate_objective_c575fb02:\n",
      "  date: 2020-12-15_23-20-10\n",
      "  done: false\n",
      "  experiment_id: 46b0c57ac75646e5b843e0a5d6b6f025\n",
      "  experiment_tag: 1_gamma=0.99023,learning_rate=0.00064491,max_grad_norm=3.1478\n",
      "  hostname: aicon3\n",
      "  iterations_since_restore: 89\n",
      "  mean_ep_length: 602.0\n",
      "  mean_reward: -1837.2\n",
      "  node_ip: 131.234.29.24\n",
      "  packet_lost: 0\n",
      "  pid: 26235\n",
      "  time_since_restore: 393.50039434432983\n",
      "  time_this_iter_s: 4.268094062805176\n",
      "  time_total_s: 393.50039434432983\n",
      "  timestamp: 1608070810\n",
      "  timesteps_since_restore: 0\n",
      "  training_iteration: 89\n",
      "  trial_id: c575fb02\n",
      "  \n"
     ]
    },
    {
     "name": "stderr",
     "output_type": "stream",
     "text": [
      "\u001b[2m\u001b[36m(pid=26235)\u001b[0m ERROR:root:Max counter exceeded\n"
     ]
    },
    {
     "data": {
      "text/html": [
       "== Status ==<br>Memory usage on this node: 7.7/31.4 GiB<br>Using AsyncHyperBand: num_stopped=0\n",
       "Bracket: Iter 90.000: None | Iter 30.000: -1839.0 | Iter 10.000: -10310.866666666665<br>Resources requested: 16/16 CPUs, 0/0 GPUs, 0.0/15.14 GiB heap, 0.0/5.22 GiB objects<br>Result logdir: /home/aicon/ray_results/evaluate_objective<br>Number of trials: 5 (3 PENDING, 2 RUNNING)<br><table>\n",
       "<thead>\n",
       "<tr><th>Trial name                 </th><th>status  </th><th>loc                </th><th style=\"text-align: right;\">   gamma</th><th style=\"text-align: right;\">  learning_rate</th><th style=\"text-align: right;\">  max_grad_norm</th><th style=\"text-align: right;\">  iter</th><th style=\"text-align: right;\">  total time (s)</th><th style=\"text-align: right;\">  mean_reward</th><th style=\"text-align: right;\">  mean_ep_length</th><th style=\"text-align: right;\">  packet_lost</th></tr>\n",
       "</thead>\n",
       "<tbody>\n",
       "<tr><td>evaluate_objective_c575fb02</td><td>RUNNING </td><td>131.234.29.24:26235</td><td style=\"text-align: right;\">0.990228</td><td style=\"text-align: right;\">    0.00064491 </td><td style=\"text-align: right;\">       3.14781 </td><td style=\"text-align: right;\">    89</td><td style=\"text-align: right;\">         393.5  </td><td style=\"text-align: right;\">      -1837.2</td><td style=\"text-align: right;\">             602</td><td style=\"text-align: right;\">            0</td></tr>\n",
       "<tr><td>evaluate_objective_c575fb03</td><td>RUNNING </td><td>131.234.29.24:26224</td><td style=\"text-align: right;\">0.992424</td><td style=\"text-align: right;\">    0.000166578</td><td style=\"text-align: right;\">       4.45429 </td><td style=\"text-align: right;\">    88</td><td style=\"text-align: right;\">         389.953</td><td style=\"text-align: right;\">      -1839  </td><td style=\"text-align: right;\">             602</td><td style=\"text-align: right;\">            0</td></tr>\n",
       "<tr><td>evaluate_objective_c575fb04</td><td>PENDING </td><td>                   </td><td style=\"text-align: right;\">0.998132</td><td style=\"text-align: right;\">    0.0026539  </td><td style=\"text-align: right;\">       0.891429</td><td style=\"text-align: right;\">      </td><td style=\"text-align: right;\">                </td><td style=\"text-align: right;\">             </td><td style=\"text-align: right;\">                </td><td style=\"text-align: right;\">             </td></tr>\n",
       "<tr><td>evaluate_objective_c575fb05</td><td>PENDING </td><td>                   </td><td style=\"text-align: right;\">0.995314</td><td style=\"text-align: right;\">    0.000825845</td><td style=\"text-align: right;\">       1.34788 </td><td style=\"text-align: right;\">      </td><td style=\"text-align: right;\">                </td><td style=\"text-align: right;\">             </td><td style=\"text-align: right;\">                </td><td style=\"text-align: right;\">             </td></tr>\n",
       "<tr><td>evaluate_objective_c575fb06</td><td>PENDING </td><td>                   </td><td style=\"text-align: right;\">0.99127 </td><td style=\"text-align: right;\">    0.00239913 </td><td style=\"text-align: right;\">       2.35207 </td><td style=\"text-align: right;\">      </td><td style=\"text-align: right;\">                </td><td style=\"text-align: right;\">             </td><td style=\"text-align: right;\">                </td><td style=\"text-align: right;\">             </td></tr>\n",
       "</tbody>\n",
       "</table><br><br>"
      ],
      "text/plain": [
       "<IPython.core.display.HTML object>"
      ]
     },
     "metadata": {},
     "output_type": "display_data"
    },
    {
     "name": "stderr",
     "output_type": "stream",
     "text": [
      "\u001b[2m\u001b[36m(pid=26224)\u001b[0m ERROR:root:Max counter exceeded\n"
     ]
    },
    {
     "name": "stdout",
     "output_type": "stream",
     "text": [
      "Result for evaluate_objective_c575fb03:\n",
      "  date: 2020-12-15_23-20-11\n",
      "  done: false\n",
      "  experiment_id: 9c64caf4f0a14459832fe803edf35758\n",
      "  experiment_tag: 2_gamma=0.99242,learning_rate=0.00016658,max_grad_norm=4.4543\n",
      "  hostname: aicon3\n",
      "  iterations_since_restore: 89\n",
      "  mean_ep_length: 602.0\n",
      "  mean_reward: -1839.0\n",
      "  node_ip: 131.234.29.24\n",
      "  packet_lost: 0\n",
      "  pid: 26224\n",
      "  time_since_restore: 394.3125696182251\n",
      "  time_this_iter_s: 4.3596885204315186\n",
      "  time_total_s: 394.3125696182251\n",
      "  timestamp: 1608070811\n",
      "  timesteps_since_restore: 0\n",
      "  training_iteration: 89\n",
      "  trial_id: c575fb03\n",
      "  \n"
     ]
    },
    {
     "name": "stderr",
     "output_type": "stream",
     "text": [
      "\u001b[2m\u001b[36m(pid=26224)\u001b[0m ERROR:root:Max counter exceeded\n",
      "\u001b[2m\u001b[36m(pid=26235)\u001b[0m ERROR:root:Max counter exceeded\n",
      "\u001b[2m\u001b[36m(pid=26235)\u001b[0m ERROR:root:Max counter exceeded\n",
      "\u001b[2m\u001b[36m(pid=26235)\u001b[0m ERROR:root:Max counter exceeded\n",
      "\u001b[2m\u001b[36m(pid=26224)\u001b[0m ERROR:root:Max counter exceeded\n",
      "\u001b[2m\u001b[36m(pid=26235)\u001b[0m ERROR:root:Max counter exceeded\n",
      "\u001b[2m\u001b[36m(pid=26224)\u001b[0m ERROR:root:Max counter exceeded\n",
      "\u001b[2m\u001b[36m(pid=26235)\u001b[0m ERROR:root:Max counter exceeded\n",
      "\u001b[2m\u001b[36m(pid=26224)\u001b[0m ERROR:root:Max counter exceeded\n",
      "\u001b[2m\u001b[36m(pid=26235)\u001b[0m ERROR:root:Max counter exceeded\n",
      "\u001b[2m\u001b[36m(pid=26224)\u001b[0m ERROR:root:Max counter exceeded\n",
      "\u001b[2m\u001b[36m(pid=26235)\u001b[0m ERROR:root:Max counter exceeded\n",
      "[INFO 12-15 23:20:15] ax.service.ax_client: Completed trial 1 with data: {'mean_reward': (-1839.0, 0.0)}.\n"
     ]
    },
    {
     "name": "stdout",
     "output_type": "stream",
     "text": [
      "Result for evaluate_objective_c575fb03:\n",
      "  date: 2020-12-15_23-20-15\n",
      "  done: true\n",
      "  experiment_id: 9c64caf4f0a14459832fe803edf35758\n",
      "  experiment_tag: 2_gamma=0.99242,learning_rate=0.00016658,max_grad_norm=4.4543\n",
      "  hostname: aicon3\n",
      "  iterations_since_restore: 90\n",
      "  mean_ep_length: 602.0\n",
      "  mean_reward: -1839.0\n",
      "  node_ip: 131.234.29.24\n",
      "  packet_lost: 0\n",
      "  pid: 26224\n",
      "  time_since_restore: 398.80390071868896\n",
      "  time_this_iter_s: 4.491331100463867\n",
      "  time_total_s: 398.80390071868896\n",
      "  timestamp: 1608070815\n",
      "  timesteps_since_restore: 0\n",
      "  training_iteration: 90\n",
      "  trial_id: c575fb03\n",
      "  \n"
     ]
    },
    {
     "name": "stderr",
     "output_type": "stream",
     "text": [
      "\u001b[2m\u001b[36m(pid=26224)\u001b[0m ERROR:root:Max counter exceeded\n"
     ]
    },
    {
     "data": {
      "text/html": [
       "== Status ==<br>Memory usage on this node: 7.7/31.4 GiB<br>Using AsyncHyperBand: num_stopped=1\n",
       "Bracket: Iter 90.000: -1827.5333333333333 | Iter 30.000: -1839.0 | Iter 10.000: -10310.866666666665<br>Resources requested: 8/16 CPUs, 0/0 GPUs, 0.0/15.14 GiB heap, 0.0/5.22 GiB objects<br>Result logdir: /home/aicon/ray_results/evaluate_objective<br>Number of trials: 5 (3 PENDING, 1 RUNNING, 1 TERMINATED)<br><table>\n",
       "<thead>\n",
       "<tr><th>Trial name                 </th><th>status    </th><th>loc                </th><th style=\"text-align: right;\">   gamma</th><th style=\"text-align: right;\">  learning_rate</th><th style=\"text-align: right;\">  max_grad_norm</th><th style=\"text-align: right;\">  iter</th><th style=\"text-align: right;\">  total time (s)</th><th style=\"text-align: right;\">  mean_reward</th><th style=\"text-align: right;\">  mean_ep_length</th><th style=\"text-align: right;\">  packet_lost</th></tr>\n",
       "</thead>\n",
       "<tbody>\n",
       "<tr><td>evaluate_objective_c575fb02</td><td>RUNNING   </td><td>131.234.29.24:26235</td><td style=\"text-align: right;\">0.990228</td><td style=\"text-align: right;\">    0.00064491 </td><td style=\"text-align: right;\">       3.14781 </td><td style=\"text-align: right;\">    90</td><td style=\"text-align: right;\">         398.022</td><td style=\"text-align: right;\">      -1821.8</td><td style=\"text-align: right;\">             602</td><td style=\"text-align: right;\">            0</td></tr>\n",
       "<tr><td>evaluate_objective_c575fb03</td><td>TERMINATED</td><td>                   </td><td style=\"text-align: right;\">0.992424</td><td style=\"text-align: right;\">    0.000166578</td><td style=\"text-align: right;\">       4.45429 </td><td style=\"text-align: right;\">    90</td><td style=\"text-align: right;\">         398.804</td><td style=\"text-align: right;\">      -1839  </td><td style=\"text-align: right;\">             602</td><td style=\"text-align: right;\">            0</td></tr>\n",
       "<tr><td>evaluate_objective_c575fb04</td><td>PENDING   </td><td>                   </td><td style=\"text-align: right;\">0.998132</td><td style=\"text-align: right;\">    0.0026539  </td><td style=\"text-align: right;\">       0.891429</td><td style=\"text-align: right;\">      </td><td style=\"text-align: right;\">                </td><td style=\"text-align: right;\">             </td><td style=\"text-align: right;\">                </td><td style=\"text-align: right;\">             </td></tr>\n",
       "<tr><td>evaluate_objective_c575fb05</td><td>PENDING   </td><td>                   </td><td style=\"text-align: right;\">0.995314</td><td style=\"text-align: right;\">    0.000825845</td><td style=\"text-align: right;\">       1.34788 </td><td style=\"text-align: right;\">      </td><td style=\"text-align: right;\">                </td><td style=\"text-align: right;\">             </td><td style=\"text-align: right;\">                </td><td style=\"text-align: right;\">             </td></tr>\n",
       "<tr><td>evaluate_objective_c575fb06</td><td>PENDING   </td><td>                   </td><td style=\"text-align: right;\">0.99127 </td><td style=\"text-align: right;\">    0.00239913 </td><td style=\"text-align: right;\">       2.35207 </td><td style=\"text-align: right;\">      </td><td style=\"text-align: right;\">                </td><td style=\"text-align: right;\">             </td><td style=\"text-align: right;\">                </td><td style=\"text-align: right;\">             </td></tr>\n",
       "</tbody>\n",
       "</table><br><br>"
      ],
      "text/plain": [
       "<IPython.core.display.HTML object>"
      ]
     },
     "metadata": {},
     "output_type": "display_data"
    },
    {
     "name": "stderr",
     "output_type": "stream",
     "text": [
      "\u001b[2m\u001b[36m(pid=26235)\u001b[0m ERROR:root:Max counter exceeded\n",
      "\u001b[2m\u001b[36m(pid=26235)\u001b[0m ERROR:root:Max counter exceeded\n",
      "\u001b[2m\u001b[36m(pid=26227)\u001b[0m WARNING:tensorflow:\n",
      "\u001b[2m\u001b[36m(pid=26227)\u001b[0m The TensorFlow contrib module will not be included in TensorFlow 2.0.\n",
      "\u001b[2m\u001b[36m(pid=26227)\u001b[0m For more information, please see:\n",
      "\u001b[2m\u001b[36m(pid=26227)\u001b[0m   * https://github.com/tensorflow/community/blob/master/rfcs/20180907-contrib-sunset.md\n",
      "\u001b[2m\u001b[36m(pid=26227)\u001b[0m   * https://github.com/tensorflow/addons\n",
      "\u001b[2m\u001b[36m(pid=26227)\u001b[0m   * https://github.com/tensorflow/io (for I/O related ops)\n",
      "\u001b[2m\u001b[36m(pid=26227)\u001b[0m If you depend on functionality not listed there, please file an issue.\n",
      "\u001b[2m\u001b[36m(pid=26227)\u001b[0m \n",
      "\u001b[2m\u001b[36m(pid=26235)\u001b[0m ERROR:root:Max counter exceeded\n",
      "\u001b[2m\u001b[36m(pid=26235)\u001b[0m ERROR:root:Max counter exceeded\n",
      "\u001b[2m\u001b[36m(pid=26227)\u001b[0m WARNING:tensorflow:From /home/aicon/anaconda3/envs/tuning/lib/python3.7/site-packages/stable_baselines/common/tf_util.py:191: The name tf.ConfigProto is deprecated. Please use tf.compat.v1.ConfigProto instead.\n",
      "\u001b[2m\u001b[36m(pid=26227)\u001b[0m \n",
      "\u001b[2m\u001b[36m(pid=26227)\u001b[0m WARNING:tensorflow:From /home/aicon/anaconda3/envs/tuning/lib/python3.7/site-packages/stable_baselines/common/tf_util.py:191: The name tf.ConfigProto is deprecated. Please use tf.compat.v1.ConfigProto instead.\n",
      "\u001b[2m\u001b[36m(pid=26227)\u001b[0m \n",
      "\u001b[2m\u001b[36m(pid=26227)\u001b[0m WARNING:tensorflow:From /home/aicon/anaconda3/envs/tuning/lib/python3.7/site-packages/stable_baselines/common/tf_util.py:200: The name tf.Session is deprecated. Please use tf.compat.v1.Session instead.\n",
      "\u001b[2m\u001b[36m(pid=26227)\u001b[0m \n",
      "\u001b[2m\u001b[36m(pid=26227)\u001b[0m WARNING:tensorflow:From /home/aicon/anaconda3/envs/tuning/lib/python3.7/site-packages/stable_baselines/common/tf_util.py:200: The name tf.Session is deprecated. Please use tf.compat.v1.Session instead.\n",
      "\u001b[2m\u001b[36m(pid=26227)\u001b[0m \n",
      "\u001b[2m\u001b[36m(pid=26227)\u001b[0m WARNING:tensorflow:From /home/aicon/anaconda3/envs/tuning/lib/python3.7/site-packages/stable_baselines/common/policies.py:116: The name tf.variable_scope is deprecated. Please use tf.compat.v1.variable_scope instead.\n",
      "\u001b[2m\u001b[36m(pid=26227)\u001b[0m \n",
      "\u001b[2m\u001b[36m(pid=26227)\u001b[0m WARNING:tensorflow:From /home/aicon/anaconda3/envs/tuning/lib/python3.7/site-packages/stable_baselines/common/policies.py:116: The name tf.variable_scope is deprecated. Please use tf.compat.v1.variable_scope instead.\n",
      "\u001b[2m\u001b[36m(pid=26227)\u001b[0m \n",
      "\u001b[2m\u001b[36m(pid=26227)\u001b[0m WARNING:tensorflow:From /home/aicon/anaconda3/envs/tuning/lib/python3.7/site-packages/stable_baselines/common/input.py:42: The name tf.placeholder is deprecated. Please use tf.compat.v1.placeholder instead.\n",
      "\u001b[2m\u001b[36m(pid=26227)\u001b[0m \n",
      "\u001b[2m\u001b[36m(pid=26227)\u001b[0m WARNING:tensorflow:From /home/aicon/anaconda3/envs/tuning/lib/python3.7/site-packages/stable_baselines/common/input.py:42: The name tf.placeholder is deprecated. Please use tf.compat.v1.placeholder instead.\n",
      "\u001b[2m\u001b[36m(pid=26227)\u001b[0m \n",
      "\u001b[2m\u001b[36m(pid=26227)\u001b[0m WARNING:tensorflow:From /home/aicon/anaconda3/envs/tuning/lib/python3.7/site-packages/stable_baselines/common/policies.py:561: flatten (from tensorflow.python.layers.core) is deprecated and will be removed in a future version.\n",
      "\u001b[2m\u001b[36m(pid=26227)\u001b[0m Instructions for updating:\n",
      "\u001b[2m\u001b[36m(pid=26227)\u001b[0m Use keras.layers.flatten instead.\n",
      "\u001b[2m\u001b[36m(pid=26227)\u001b[0m WARNING:tensorflow:From /home/aicon/anaconda3/envs/tuning/lib/python3.7/site-packages/stable_baselines/common/policies.py:561: flatten (from tensorflow.python.layers.core) is deprecated and will be removed in a future version.\n",
      "\u001b[2m\u001b[36m(pid=26227)\u001b[0m Instructions for updating:\n",
      "\u001b[2m\u001b[36m(pid=26227)\u001b[0m Use keras.layers.flatten instead.\n",
      "\u001b[2m\u001b[36m(pid=26227)\u001b[0m WARNING:tensorflow:From /home/aicon/anaconda3/envs/tuning/lib/python3.7/site-packages/tensorflow_core/python/layers/core.py:332: Layer.apply (from tensorflow.python.keras.engine.base_layer) is deprecated and will be removed in a future version.\n",
      "\u001b[2m\u001b[36m(pid=26227)\u001b[0m Instructions for updating:\n",
      "\u001b[2m\u001b[36m(pid=26227)\u001b[0m Please use `layer.__call__` method instead.\n",
      "\u001b[2m\u001b[36m(pid=26227)\u001b[0m WARNING:tensorflow:From /home/aicon/anaconda3/envs/tuning/lib/python3.7/site-packages/tensorflow_core/python/layers/core.py:332: Layer.apply (from tensorflow.python.keras.engine.base_layer) is deprecated and will be removed in a future version.\n",
      "\u001b[2m\u001b[36m(pid=26227)\u001b[0m Instructions for updating:\n",
      "\u001b[2m\u001b[36m(pid=26227)\u001b[0m Please use `layer.__call__` method instead.\n",
      "\u001b[2m\u001b[36m(pid=26227)\u001b[0m WARNING:tensorflow:From /home/aicon/anaconda3/envs/tuning/lib/python3.7/site-packages/stable_baselines/common/tf_layers.py:123: The name tf.get_variable is deprecated. Please use tf.compat.v1.get_variable instead.\n",
      "\u001b[2m\u001b[36m(pid=26227)\u001b[0m \n",
      "\u001b[2m\u001b[36m(pid=26227)\u001b[0m WARNING:tensorflow:From /home/aicon/anaconda3/envs/tuning/lib/python3.7/site-packages/stable_baselines/common/tf_layers.py:123: The name tf.get_variable is deprecated. Please use tf.compat.v1.get_variable instead.\n",
      "\u001b[2m\u001b[36m(pid=26227)\u001b[0m \n",
      "\u001b[2m\u001b[36m(pid=26227)\u001b[0m WARNING:tensorflow:From /home/aicon/anaconda3/envs/tuning/lib/python3.7/site-packages/stable_baselines/common/distributions.py:326: The name tf.random_uniform is deprecated. Please use tf.random.uniform instead.\n",
      "\u001b[2m\u001b[36m(pid=26227)\u001b[0m \n",
      "\u001b[2m\u001b[36m(pid=26227)\u001b[0m WARNING:tensorflow:From /home/aicon/anaconda3/envs/tuning/lib/python3.7/site-packages/stable_baselines/common/distributions.py:326: The name tf.random_uniform is deprecated. Please use tf.random.uniform instead.\n",
      "\u001b[2m\u001b[36m(pid=26227)\u001b[0m \n",
      "\u001b[2m\u001b[36m(pid=26227)\u001b[0m WARNING:tensorflow:From /home/aicon/anaconda3/envs/tuning/lib/python3.7/site-packages/stable_baselines/common/distributions.py:327: The name tf.log is deprecated. Please use tf.math.log instead.\n",
      "\u001b[2m\u001b[36m(pid=26227)\u001b[0m \n",
      "\u001b[2m\u001b[36m(pid=26227)\u001b[0m WARNING:tensorflow:From /home/aicon/anaconda3/envs/tuning/lib/python3.7/site-packages/stable_baselines/common/distributions.py:327: The name tf.log is deprecated. Please use tf.math.log instead.\n",
      "\u001b[2m\u001b[36m(pid=26227)\u001b[0m \n"
     ]
    },
    {
     "name": "stdout",
     "output_type": "stream",
     "text": [
      "Result for evaluate_objective_c575fb02:\n",
      "  date: 2020-12-15_23-20-19\n",
      "  done: false\n",
      "  experiment_id: 46b0c57ac75646e5b843e0a5d6b6f025\n",
      "  experiment_tag: 1_gamma=0.99023,learning_rate=0.00064491,max_grad_norm=3.1478\n",
      "  hostname: aicon3\n",
      "  iterations_since_restore: 91\n",
      "  mean_ep_length: 602.0\n",
      "  mean_reward: -1833.6\n",
      "  node_ip: 131.234.29.24\n",
      "  packet_lost: 0\n",
      "  pid: 26235\n",
      "  time_since_restore: 402.6117823123932\n",
      "  time_this_iter_s: 4.590224981307983\n",
      "  time_total_s: 402.6117823123932\n",
      "  timestamp: 1608070819\n",
      "  timesteps_since_restore: 0\n",
      "  training_iteration: 91\n",
      "  trial_id: c575fb02\n",
      "  \n"
     ]
    },
    {
     "name": "stderr",
     "output_type": "stream",
     "text": [
      "\u001b[2m\u001b[36m(pid=26235)\u001b[0m ERROR:root:Max counter exceeded\n",
      "\u001b[2m\u001b[36m(pid=26235)\u001b[0m ERROR:root:Max counter exceeded\n",
      "\u001b[2m\u001b[36m(pid=26227)\u001b[0m WARNING:tensorflow:From /home/aicon/anaconda3/envs/tuning/lib/python3.7/site-packages/stable_baselines/a2c/a2c.py:160: The name tf.summary.scalar is deprecated. Please use tf.compat.v1.summary.scalar instead.\n",
      "\u001b[2m\u001b[36m(pid=26227)\u001b[0m \n",
      "\u001b[2m\u001b[36m(pid=26227)\u001b[0m WARNING:tensorflow:From /home/aicon/anaconda3/envs/tuning/lib/python3.7/site-packages/stable_baselines/a2c/a2c.py:160: The name tf.summary.scalar is deprecated. Please use tf.compat.v1.summary.scalar instead.\n",
      "\u001b[2m\u001b[36m(pid=26227)\u001b[0m \n",
      "\u001b[2m\u001b[36m(pid=26227)\u001b[0m WARNING:tensorflow:From /home/aicon/anaconda3/envs/tuning/lib/python3.7/site-packages/stable_baselines/common/tf_util.py:449: The name tf.get_collection is deprecated. Please use tf.compat.v1.get_collection instead.\n",
      "\u001b[2m\u001b[36m(pid=26227)\u001b[0m \n",
      "\u001b[2m\u001b[36m(pid=26227)\u001b[0m WARNING:tensorflow:From /home/aicon/anaconda3/envs/tuning/lib/python3.7/site-packages/stable_baselines/common/tf_util.py:449: The name tf.get_collection is deprecated. Please use tf.compat.v1.get_collection instead.\n",
      "\u001b[2m\u001b[36m(pid=26227)\u001b[0m \n",
      "\u001b[2m\u001b[36m(pid=26227)\u001b[0m WARNING:tensorflow:From /home/aicon/anaconda3/envs/tuning/lib/python3.7/site-packages/stable_baselines/common/tf_util.py:449: The name tf.GraphKeys is deprecated. Please use tf.compat.v1.GraphKeys instead.\n",
      "\u001b[2m\u001b[36m(pid=26227)\u001b[0m \n",
      "\u001b[2m\u001b[36m(pid=26227)\u001b[0m WARNING:tensorflow:From /home/aicon/anaconda3/envs/tuning/lib/python3.7/site-packages/stable_baselines/common/tf_util.py:449: The name tf.GraphKeys is deprecated. Please use tf.compat.v1.GraphKeys instead.\n",
      "\u001b[2m\u001b[36m(pid=26227)\u001b[0m \n",
      "\u001b[2m\u001b[36m(pid=26227)\u001b[0m WARNING:tensorflow:From /home/aicon/anaconda3/envs/tuning/lib/python3.7/site-packages/tensorflow_core/python/ops/clip_ops.py:301: where (from tensorflow.python.ops.array_ops) is deprecated and will be removed in a future version.\n",
      "\u001b[2m\u001b[36m(pid=26227)\u001b[0m Instructions for updating:\n",
      "\u001b[2m\u001b[36m(pid=26227)\u001b[0m Use tf.where in 2.0, which has the same broadcast rule as np.where\n",
      "\u001b[2m\u001b[36m(pid=26227)\u001b[0m WARNING:tensorflow:From /home/aicon/anaconda3/envs/tuning/lib/python3.7/site-packages/tensorflow_core/python/ops/clip_ops.py:301: where (from tensorflow.python.ops.array_ops) is deprecated and will be removed in a future version.\n",
      "\u001b[2m\u001b[36m(pid=26227)\u001b[0m Instructions for updating:\n",
      "\u001b[2m\u001b[36m(pid=26227)\u001b[0m Use tf.where in 2.0, which has the same broadcast rule as np.where\n",
      "\u001b[2m\u001b[36m(pid=26227)\u001b[0m WARNING:tensorflow:From /home/aicon/anaconda3/envs/tuning/lib/python3.7/site-packages/stable_baselines/a2c/a2c.py:184: The name tf.train.RMSPropOptimizer is deprecated. Please use tf.compat.v1.train.RMSPropOptimizer instead.\n",
      "\u001b[2m\u001b[36m(pid=26227)\u001b[0m \n",
      "\u001b[2m\u001b[36m(pid=26227)\u001b[0m WARNING:tensorflow:From /home/aicon/anaconda3/envs/tuning/lib/python3.7/site-packages/stable_baselines/a2c/a2c.py:184: The name tf.train.RMSPropOptimizer is deprecated. Please use tf.compat.v1.train.RMSPropOptimizer instead.\n",
      "\u001b[2m\u001b[36m(pid=26227)\u001b[0m \n",
      "\u001b[2m\u001b[36m(pid=26227)\u001b[0m WARNING:tensorflow:From /home/aicon/anaconda3/envs/tuning/lib/python3.7/site-packages/tensorflow_core/python/training/rmsprop.py:119: calling Ones.__init__ (from tensorflow.python.ops.init_ops) with dtype is deprecated and will be removed in a future version.\n",
      "\u001b[2m\u001b[36m(pid=26227)\u001b[0m Instructions for updating:\n",
      "\u001b[2m\u001b[36m(pid=26227)\u001b[0m Call initializer instance with the dtype argument instead of passing it to the constructor\n",
      "\u001b[2m\u001b[36m(pid=26227)\u001b[0m WARNING:tensorflow:From /home/aicon/anaconda3/envs/tuning/lib/python3.7/site-packages/tensorflow_core/python/training/rmsprop.py:119: calling Ones.__init__ (from tensorflow.python.ops.init_ops) with dtype is deprecated and will be removed in a future version.\n",
      "\u001b[2m\u001b[36m(pid=26227)\u001b[0m Instructions for updating:\n",
      "\u001b[2m\u001b[36m(pid=26227)\u001b[0m Call initializer instance with the dtype argument instead of passing it to the constructor\n",
      "\u001b[2m\u001b[36m(pid=26235)\u001b[0m ERROR:root:Max counter exceeded\n",
      "\u001b[2m\u001b[36m(pid=26227)\u001b[0m WARNING:tensorflow:From /home/aicon/anaconda3/envs/tuning/lib/python3.7/site-packages/stable_baselines/a2c/a2c.py:194: The name tf.global_variables_initializer is deprecated. Please use tf.compat.v1.global_variables_initializer instead.\n",
      "\u001b[2m\u001b[36m(pid=26227)\u001b[0m \n",
      "\u001b[2m\u001b[36m(pid=26227)\u001b[0m WARNING:tensorflow:From /home/aicon/anaconda3/envs/tuning/lib/python3.7/site-packages/stable_baselines/a2c/a2c.py:194: The name tf.global_variables_initializer is deprecated. Please use tf.compat.v1.global_variables_initializer instead.\n",
      "\u001b[2m\u001b[36m(pid=26227)\u001b[0m \n",
      "\u001b[2m\u001b[36m(pid=26227)\u001b[0m WARNING:tensorflow:From /home/aicon/anaconda3/envs/tuning/lib/python3.7/site-packages/stable_baselines/a2c/a2c.py:196: The name tf.summary.merge_all is deprecated. Please use tf.compat.v1.summary.merge_all instead.\n",
      "\u001b[2m\u001b[36m(pid=26227)\u001b[0m \n",
      "\u001b[2m\u001b[36m(pid=26227)\u001b[0m WARNING:tensorflow:From /home/aicon/anaconda3/envs/tuning/lib/python3.7/site-packages/stable_baselines/a2c/a2c.py:196: The name tf.summary.merge_all is deprecated. Please use tf.compat.v1.summary.merge_all instead.\n",
      "\u001b[2m\u001b[36m(pid=26227)\u001b[0m \n",
      "\u001b[2m\u001b[36m(pid=26235)\u001b[0m ERROR:root:Max counter exceeded\n",
      "\u001b[2m\u001b[36m(pid=26235)\u001b[0m ERROR:root:Max counter exceeded\n",
      "\u001b[2m\u001b[36m(pid=26235)\u001b[0m ERROR:root:Max counter exceeded\n",
      "\u001b[2m\u001b[36m(pid=26235)\u001b[0m ERROR:root:Max counter exceeded\n"
     ]
    },
    {
     "data": {
      "text/html": [
       "== Status ==<br>Memory usage on this node: 7.7/31.4 GiB<br>Using AsyncHyperBand: num_stopped=1\n",
       "Bracket: Iter 90.000: -1827.5333333333333 | Iter 30.000: -1839.0 | Iter 10.000: -10310.866666666665<br>Resources requested: 16/16 CPUs, 0/0 GPUs, 0.0/15.14 GiB heap, 0.0/5.22 GiB objects<br>Result logdir: /home/aicon/ray_results/evaluate_objective<br>Number of trials: 5 (2 PENDING, 2 RUNNING, 1 TERMINATED)<br><table>\n",
       "<thead>\n",
       "<tr><th>Trial name                 </th><th>status    </th><th>loc                </th><th style=\"text-align: right;\">   gamma</th><th style=\"text-align: right;\">  learning_rate</th><th style=\"text-align: right;\">  max_grad_norm</th><th style=\"text-align: right;\">  iter</th><th style=\"text-align: right;\">  total time (s)</th><th style=\"text-align: right;\">  mean_reward</th><th style=\"text-align: right;\">  mean_ep_length</th><th style=\"text-align: right;\">  packet_lost</th></tr>\n",
       "</thead>\n",
       "<tbody>\n",
       "<tr><td>evaluate_objective_c575fb02</td><td>RUNNING   </td><td>131.234.29.24:26235</td><td style=\"text-align: right;\">0.990228</td><td style=\"text-align: right;\">    0.00064491 </td><td style=\"text-align: right;\">       3.14781 </td><td style=\"text-align: right;\">    92</td><td style=\"text-align: right;\">         407.096</td><td style=\"text-align: right;\">        -1833</td><td style=\"text-align: right;\">             602</td><td style=\"text-align: right;\">            0</td></tr>\n",
       "<tr><td>evaluate_objective_c575fb03</td><td>TERMINATED</td><td>                   </td><td style=\"text-align: right;\">0.992424</td><td style=\"text-align: right;\">    0.000166578</td><td style=\"text-align: right;\">       4.45429 </td><td style=\"text-align: right;\">    90</td><td style=\"text-align: right;\">         398.804</td><td style=\"text-align: right;\">        -1839</td><td style=\"text-align: right;\">             602</td><td style=\"text-align: right;\">            0</td></tr>\n",
       "<tr><td>evaluate_objective_c575fb04</td><td>RUNNING   </td><td>                   </td><td style=\"text-align: right;\">0.998132</td><td style=\"text-align: right;\">    0.0026539  </td><td style=\"text-align: right;\">       0.891429</td><td style=\"text-align: right;\">      </td><td style=\"text-align: right;\">                </td><td style=\"text-align: right;\">             </td><td style=\"text-align: right;\">                </td><td style=\"text-align: right;\">             </td></tr>\n",
       "<tr><td>evaluate_objective_c575fb05</td><td>PENDING   </td><td>                   </td><td style=\"text-align: right;\">0.995314</td><td style=\"text-align: right;\">    0.000825845</td><td style=\"text-align: right;\">       1.34788 </td><td style=\"text-align: right;\">      </td><td style=\"text-align: right;\">                </td><td style=\"text-align: right;\">             </td><td style=\"text-align: right;\">                </td><td style=\"text-align: right;\">             </td></tr>\n",
       "<tr><td>evaluate_objective_c575fb06</td><td>PENDING   </td><td>                   </td><td style=\"text-align: right;\">0.99127 </td><td style=\"text-align: right;\">    0.00239913 </td><td style=\"text-align: right;\">       2.35207 </td><td style=\"text-align: right;\">      </td><td style=\"text-align: right;\">                </td><td style=\"text-align: right;\">             </td><td style=\"text-align: right;\">                </td><td style=\"text-align: right;\">             </td></tr>\n",
       "</tbody>\n",
       "</table><br><br>"
      ],
      "text/plain": [
       "<IPython.core.display.HTML object>"
      ]
     },
     "metadata": {},
     "output_type": "display_data"
    },
    {
     "name": "stderr",
     "output_type": "stream",
     "text": [
      "\u001b[2m\u001b[36m(pid=26235)\u001b[0m ERROR:root:Max counter exceeded\n",
      "\u001b[2m\u001b[36m(pid=26227)\u001b[0m ERROR:root:Max counter exceeded\n",
      "\u001b[2m\u001b[36m(pid=26227)\u001b[0m ERROR:root:Max counter exceeded\n",
      "\u001b[2m\u001b[36m(pid=26235)\u001b[0m ERROR:root:Max counter exceeded\n",
      "\u001b[2m\u001b[36m(pid=26227)\u001b[0m ERROR:root:Max counter exceeded\n",
      "\u001b[2m\u001b[36m(pid=26227)\u001b[0m ERROR:root:Max counter exceeded\n",
      "\u001b[2m\u001b[36m(pid=26235)\u001b[0m ERROR:root:Max counter exceeded\n",
      "\u001b[2m\u001b[36m(pid=26227)\u001b[0m ERROR:root:Max counter exceeded\n"
     ]
    },
    {
     "name": "stdout",
     "output_type": "stream",
     "text": [
      "Result for evaluate_objective_c575fb04:\n",
      "  date: 2020-12-15_23-20-26\n",
      "  done: false\n",
      "  experiment_id: 1e956794523e4165938daa89d1f7c275\n",
      "  experiment_tag: 3_gamma=0.99813,learning_rate=0.0026539,max_grad_norm=0.89143\n",
      "  hostname: aicon3\n",
      "  iterations_since_restore: 1\n",
      "  mean_ep_length: 602.0\n",
      "  mean_reward: -188845.2\n",
      "  node_ip: 131.234.29.24\n",
      "  packet_lost: 12\n",
      "  pid: 26227\n",
      "  time_since_restore: 7.5675742626190186\n",
      "  time_this_iter_s: 7.5675742626190186\n",
      "  time_total_s: 7.5675742626190186\n",
      "  timestamp: 1608070826\n",
      "  timesteps_since_restore: 0\n",
      "  training_iteration: 1\n",
      "  trial_id: c575fb04\n",
      "  \n"
     ]
    },
    {
     "name": "stderr",
     "output_type": "stream",
     "text": [
      "\u001b[2m\u001b[36m(pid=26235)\u001b[0m ERROR:root:Max counter exceeded\n",
      "\u001b[2m\u001b[36m(pid=26235)\u001b[0m ERROR:root:Max counter exceeded\n",
      "\u001b[2m\u001b[36m(pid=26235)\u001b[0m ERROR:root:Max counter exceeded\n"
     ]
    },
    {
     "name": "stdout",
     "output_type": "stream",
     "text": [
      "Result for evaluate_objective_c575fb02:\n",
      "  date: 2020-12-15_23-20-28\n",
      "  done: false\n",
      "  experiment_id: 46b0c57ac75646e5b843e0a5d6b6f025\n",
      "  experiment_tag: 1_gamma=0.99023,learning_rate=0.00064491,max_grad_norm=3.1478\n",
      "  hostname: aicon3\n",
      "  iterations_since_restore: 93\n",
      "  mean_ep_length: 602.0\n",
      "  mean_reward: -1835.4\n",
      "  node_ip: 131.234.29.24\n",
      "  packet_lost: 0\n",
      "  pid: 26235\n",
      "  time_since_restore: 411.93349528312683\n",
      "  time_this_iter_s: 4.8374669551849365\n",
      "  time_total_s: 411.93349528312683\n",
      "  timestamp: 1608070828\n",
      "  timesteps_since_restore: 0\n",
      "  training_iteration: 93\n",
      "  trial_id: c575fb02\n",
      "  \n"
     ]
    },
    {
     "name": "stderr",
     "output_type": "stream",
     "text": [
      "\u001b[2m\u001b[36m(pid=26235)\u001b[0m ERROR:root:Max counter exceeded\n",
      "\u001b[2m\u001b[36m(pid=26227)\u001b[0m ERROR:root:Max counter exceeded\n",
      "\u001b[2m\u001b[36m(pid=26235)\u001b[0m ERROR:root:Max counter exceeded\n",
      "\u001b[2m\u001b[36m(pid=26227)\u001b[0m ERROR:root:Max counter exceeded\n",
      "\u001b[2m\u001b[36m(pid=26227)\u001b[0m ERROR:root:Max counter exceeded\n",
      "\u001b[2m\u001b[36m(pid=26227)\u001b[0m ERROR:root:Max counter exceeded\n",
      "\u001b[2m\u001b[36m(pid=26235)\u001b[0m ERROR:root:Max counter exceeded\n"
     ]
    },
    {
     "data": {
      "text/html": [
       "== Status ==<br>Memory usage on this node: 7.7/31.4 GiB<br>Using AsyncHyperBand: num_stopped=1\n",
       "Bracket: Iter 90.000: -1827.5333333333333 | Iter 30.000: -1839.0 | Iter 10.000: -10310.866666666665<br>Resources requested: 16/16 CPUs, 0/0 GPUs, 0.0/15.14 GiB heap, 0.0/5.22 GiB objects<br>Result logdir: /home/aicon/ray_results/evaluate_objective<br>Number of trials: 5 (2 PENDING, 2 RUNNING, 1 TERMINATED)<br><table>\n",
       "<thead>\n",
       "<tr><th>Trial name                 </th><th>status    </th><th>loc                </th><th style=\"text-align: right;\">   gamma</th><th style=\"text-align: right;\">  learning_rate</th><th style=\"text-align: right;\">  max_grad_norm</th><th style=\"text-align: right;\">  iter</th><th style=\"text-align: right;\">  total time (s)</th><th style=\"text-align: right;\">  mean_reward</th><th style=\"text-align: right;\">  mean_ep_length</th><th style=\"text-align: right;\">  packet_lost</th></tr>\n",
       "</thead>\n",
       "<tbody>\n",
       "<tr><td>evaluate_objective_c575fb02</td><td>RUNNING   </td><td>131.234.29.24:26235</td><td style=\"text-align: right;\">0.990228</td><td style=\"text-align: right;\">    0.00064491 </td><td style=\"text-align: right;\">       3.14781 </td><td style=\"text-align: right;\">    93</td><td style=\"text-align: right;\">        411.933 </td><td style=\"text-align: right;\">      -1835.4</td><td style=\"text-align: right;\">             602</td><td style=\"text-align: right;\">            0</td></tr>\n",
       "<tr><td>evaluate_objective_c575fb03</td><td>TERMINATED</td><td>                   </td><td style=\"text-align: right;\">0.992424</td><td style=\"text-align: right;\">    0.000166578</td><td style=\"text-align: right;\">       4.45429 </td><td style=\"text-align: right;\">    90</td><td style=\"text-align: right;\">        398.804 </td><td style=\"text-align: right;\">      -1839  </td><td style=\"text-align: right;\">             602</td><td style=\"text-align: right;\">            0</td></tr>\n",
       "<tr><td>evaluate_objective_c575fb04</td><td>RUNNING   </td><td>131.234.29.24:26227</td><td style=\"text-align: right;\">0.998132</td><td style=\"text-align: right;\">    0.0026539  </td><td style=\"text-align: right;\">       0.891429</td><td style=\"text-align: right;\">     2</td><td style=\"text-align: right;\">         12.4149</td><td style=\"text-align: right;\">      -4313.4</td><td style=\"text-align: right;\">             602</td><td style=\"text-align: right;\">            4</td></tr>\n",
       "<tr><td>evaluate_objective_c575fb05</td><td>PENDING   </td><td>                   </td><td style=\"text-align: right;\">0.995314</td><td style=\"text-align: right;\">    0.000825845</td><td style=\"text-align: right;\">       1.34788 </td><td style=\"text-align: right;\">      </td><td style=\"text-align: right;\">                </td><td style=\"text-align: right;\">             </td><td style=\"text-align: right;\">                </td><td style=\"text-align: right;\">             </td></tr>\n",
       "<tr><td>evaluate_objective_c575fb06</td><td>PENDING   </td><td>                   </td><td style=\"text-align: right;\">0.99127 </td><td style=\"text-align: right;\">    0.00239913 </td><td style=\"text-align: right;\">       2.35207 </td><td style=\"text-align: right;\">      </td><td style=\"text-align: right;\">                </td><td style=\"text-align: right;\">             </td><td style=\"text-align: right;\">                </td><td style=\"text-align: right;\">             </td></tr>\n",
       "</tbody>\n",
       "</table><br><br>"
      ],
      "text/plain": [
       "<IPython.core.display.HTML object>"
      ]
     },
     "metadata": {},
     "output_type": "display_data"
    },
    {
     "name": "stderr",
     "output_type": "stream",
     "text": [
      "\u001b[2m\u001b[36m(pid=26227)\u001b[0m ERROR:root:Max counter exceeded\n",
      "\u001b[2m\u001b[36m(pid=26235)\u001b[0m ERROR:root:Max counter exceeded\n",
      "\u001b[2m\u001b[36m(pid=26235)\u001b[0m ERROR:root:Max counter exceeded\n",
      "\u001b[2m\u001b[36m(pid=26235)\u001b[0m ERROR:root:Max counter exceeded\n",
      "\u001b[2m\u001b[36m(pid=26235)\u001b[0m ERROR:root:Max counter exceeded\n",
      "\u001b[2m\u001b[36m(pid=26235)\u001b[0m ERROR:root:Max counter exceeded\n",
      "\u001b[2m\u001b[36m(pid=26227)\u001b[0m ERROR:root:Max counter exceeded\n",
      "\u001b[2m\u001b[36m(pid=26227)\u001b[0m ERROR:root:Max counter exceeded\n",
      "\u001b[2m\u001b[36m(pid=26227)\u001b[0m ERROR:root:Max counter exceeded\n",
      "\u001b[2m\u001b[36m(pid=26235)\u001b[0m ERROR:root:Max counter exceeded\n",
      "\u001b[2m\u001b[36m(pid=26227)\u001b[0m ERROR:root:Max counter exceeded\n",
      "\u001b[2m\u001b[36m(pid=26235)\u001b[0m ERROR:root:Max counter exceeded\n",
      "\u001b[2m\u001b[36m(pid=26227)\u001b[0m ERROR:root:Max counter exceeded\n"
     ]
    },
    {
     "name": "stdout",
     "output_type": "stream",
     "text": [
      "Result for evaluate_objective_c575fb04:\n",
      "  date: 2020-12-15_23-20-36\n",
      "  done: false\n",
      "  experiment_id: 1e956794523e4165938daa89d1f7c275\n",
      "  experiment_tag: 3_gamma=0.99813,learning_rate=0.0026539,max_grad_norm=0.89143\n",
      "  hostname: aicon3\n",
      "  iterations_since_restore: 3\n",
      "  mean_ep_length: 602.0\n",
      "  mean_reward: -15950.4\n",
      "  node_ip: 131.234.29.24\n",
      "  packet_lost: 0\n",
      "  pid: 26227\n",
      "  time_since_restore: 17.099191188812256\n",
      "  time_this_iter_s: 4.684306621551514\n",
      "  time_total_s: 17.099191188812256\n",
      "  timestamp: 1608070836\n",
      "  timesteps_since_restore: 0\n",
      "  training_iteration: 3\n",
      "  trial_id: c575fb04\n",
      "  \n"
     ]
    },
    {
     "name": "stderr",
     "output_type": "stream",
     "text": [
      "\u001b[2m\u001b[36m(pid=26235)\u001b[0m ERROR:root:Max counter exceeded\n",
      "\u001b[2m\u001b[36m(pid=26235)\u001b[0m ERROR:root:Max counter exceeded\n"
     ]
    },
    {
     "name": "stdout",
     "output_type": "stream",
     "text": [
      "Result for evaluate_objective_c575fb02:\n",
      "  date: 2020-12-15_23-20-37\n",
      "  done: false\n",
      "  experiment_id: 46b0c57ac75646e5b843e0a5d6b6f025\n",
      "  experiment_tag: 1_gamma=0.99023,learning_rate=0.00064491,max_grad_norm=3.1478\n",
      "  hostname: aicon3\n",
      "  iterations_since_restore: 95\n",
      "  mean_ep_length: 602.0\n",
      "  mean_reward: -1827.0\n",
      "  node_ip: 131.234.29.24\n",
      "  packet_lost: 0\n",
      "  pid: 26235\n",
      "  time_since_restore: 420.87661027908325\n",
      "  time_this_iter_s: 4.437134265899658\n",
      "  time_total_s: 420.87661027908325\n",
      "  timestamp: 1608070837\n",
      "  timesteps_since_restore: 0\n",
      "  training_iteration: 95\n",
      "  trial_id: c575fb02\n",
      "  \n"
     ]
    },
    {
     "data": {
      "text/html": [
       "== Status ==<br>Memory usage on this node: 7.7/31.4 GiB<br>Using AsyncHyperBand: num_stopped=1\n",
       "Bracket: Iter 90.000: -1827.5333333333333 | Iter 30.000: -1839.0 | Iter 10.000: -10310.866666666665<br>Resources requested: 16/16 CPUs, 0/0 GPUs, 0.0/15.14 GiB heap, 0.0/5.22 GiB objects<br>Result logdir: /home/aicon/ray_results/evaluate_objective<br>Number of trials: 5 (2 PENDING, 2 RUNNING, 1 TERMINATED)<br><table>\n",
       "<thead>\n",
       "<tr><th>Trial name                 </th><th>status    </th><th>loc                </th><th style=\"text-align: right;\">   gamma</th><th style=\"text-align: right;\">  learning_rate</th><th style=\"text-align: right;\">  max_grad_norm</th><th style=\"text-align: right;\">  iter</th><th style=\"text-align: right;\">  total time (s)</th><th style=\"text-align: right;\">  mean_reward</th><th style=\"text-align: right;\">  mean_ep_length</th><th style=\"text-align: right;\">  packet_lost</th></tr>\n",
       "</thead>\n",
       "<tbody>\n",
       "<tr><td>evaluate_objective_c575fb02</td><td>RUNNING   </td><td>131.234.29.24:26235</td><td style=\"text-align: right;\">0.990228</td><td style=\"text-align: right;\">    0.00064491 </td><td style=\"text-align: right;\">       3.14781 </td><td style=\"text-align: right;\">    95</td><td style=\"text-align: right;\">        420.877 </td><td style=\"text-align: right;\">      -1827  </td><td style=\"text-align: right;\">             602</td><td style=\"text-align: right;\">            0</td></tr>\n",
       "<tr><td>evaluate_objective_c575fb03</td><td>TERMINATED</td><td>                   </td><td style=\"text-align: right;\">0.992424</td><td style=\"text-align: right;\">    0.000166578</td><td style=\"text-align: right;\">       4.45429 </td><td style=\"text-align: right;\">    90</td><td style=\"text-align: right;\">        398.804 </td><td style=\"text-align: right;\">      -1839  </td><td style=\"text-align: right;\">             602</td><td style=\"text-align: right;\">            0</td></tr>\n",
       "<tr><td>evaluate_objective_c575fb04</td><td>RUNNING   </td><td>131.234.29.24:26227</td><td style=\"text-align: right;\">0.998132</td><td style=\"text-align: right;\">    0.0026539  </td><td style=\"text-align: right;\">       0.891429</td><td style=\"text-align: right;\">     3</td><td style=\"text-align: right;\">         17.0992</td><td style=\"text-align: right;\">     -15950.4</td><td style=\"text-align: right;\">             602</td><td style=\"text-align: right;\">            0</td></tr>\n",
       "<tr><td>evaluate_objective_c575fb05</td><td>PENDING   </td><td>                   </td><td style=\"text-align: right;\">0.995314</td><td style=\"text-align: right;\">    0.000825845</td><td style=\"text-align: right;\">       1.34788 </td><td style=\"text-align: right;\">      </td><td style=\"text-align: right;\">                </td><td style=\"text-align: right;\">             </td><td style=\"text-align: right;\">                </td><td style=\"text-align: right;\">             </td></tr>\n",
       "<tr><td>evaluate_objective_c575fb06</td><td>PENDING   </td><td>                   </td><td style=\"text-align: right;\">0.99127 </td><td style=\"text-align: right;\">    0.00239913 </td><td style=\"text-align: right;\">       2.35207 </td><td style=\"text-align: right;\">      </td><td style=\"text-align: right;\">                </td><td style=\"text-align: right;\">             </td><td style=\"text-align: right;\">                </td><td style=\"text-align: right;\">             </td></tr>\n",
       "</tbody>\n",
       "</table><br><br>"
      ],
      "text/plain": [
       "<IPython.core.display.HTML object>"
      ]
     },
     "metadata": {},
     "output_type": "display_data"
    },
    {
     "name": "stderr",
     "output_type": "stream",
     "text": [
      "\u001b[2m\u001b[36m(pid=26235)\u001b[0m ERROR:root:Max counter exceeded\n",
      "\u001b[2m\u001b[36m(pid=26235)\u001b[0m ERROR:root:Max counter exceeded\n",
      "\u001b[2m\u001b[36m(pid=26227)\u001b[0m ERROR:root:Max counter exceeded\n",
      "\u001b[2m\u001b[36m(pid=26227)\u001b[0m ERROR:root:Max counter exceeded\n",
      "\u001b[2m\u001b[36m(pid=26235)\u001b[0m ERROR:root:Max counter exceeded\n",
      "\u001b[2m\u001b[36m(pid=26227)\u001b[0m ERROR:root:Max counter exceeded\n",
      "\u001b[2m\u001b[36m(pid=26235)\u001b[0m ERROR:root:Max counter exceeded\n",
      "\u001b[2m\u001b[36m(pid=26227)\u001b[0m ERROR:root:Max counter exceeded\n",
      "\u001b[2m\u001b[36m(pid=26235)\u001b[0m ERROR:root:Max counter exceeded\n",
      "\u001b[2m\u001b[36m(pid=26227)\u001b[0m ERROR:root:Max counter exceeded\n",
      "\u001b[2m\u001b[36m(pid=26235)\u001b[0m ERROR:root:Max counter exceeded\n",
      "\u001b[2m\u001b[36m(pid=26235)\u001b[0m ERROR:root:Max counter exceeded\n",
      "\u001b[2m\u001b[36m(pid=26235)\u001b[0m ERROR:root:Max counter exceeded\n",
      "\u001b[2m\u001b[36m(pid=26227)\u001b[0m ERROR:root:Max counter exceeded\n",
      "\u001b[2m\u001b[36m(pid=26235)\u001b[0m ERROR:root:Max counter exceeded\n",
      "\u001b[2m\u001b[36m(pid=26227)\u001b[0m ERROR:root:Max counter exceeded\n",
      "\u001b[2m\u001b[36m(pid=26227)\u001b[0m ERROR:root:Max counter exceeded\n",
      "\u001b[2m\u001b[36m(pid=26235)\u001b[0m ERROR:root:Max counter exceeded\n",
      "\u001b[2m\u001b[36m(pid=26227)\u001b[0m ERROR:root:Max counter exceeded\n",
      "\u001b[2m\u001b[36m(pid=26235)\u001b[0m ERROR:root:Max counter exceeded\n"
     ]
    },
    {
     "name": "stdout",
     "output_type": "stream",
     "text": [
      "Result for evaluate_objective_c575fb04:\n",
      "  date: 2020-12-15_23-20-45\n",
      "  done: false\n",
      "  experiment_id: 1e956794523e4165938daa89d1f7c275\n",
      "  experiment_tag: 3_gamma=0.99813,learning_rate=0.0026539,max_grad_norm=0.89143\n",
      "  hostname: aicon3\n",
      "  iterations_since_restore: 5\n",
      "  mean_ep_length: 602.0\n",
      "  mean_reward: -25892.8\n",
      "  node_ip: 131.234.29.24\n",
      "  packet_lost: 17\n",
      "  pid: 26227\n",
      "  time_since_restore: 26.21517276763916\n",
      "  time_this_iter_s: 4.411490201950073\n",
      "  time_total_s: 26.21517276763916\n",
      "  timestamp: 1608070845\n",
      "  timesteps_since_restore: 0\n",
      "  training_iteration: 5\n",
      "  trial_id: c575fb04\n",
      "  \n"
     ]
    },
    {
     "data": {
      "text/html": [
       "== Status ==<br>Memory usage on this node: 7.7/31.4 GiB<br>Using AsyncHyperBand: num_stopped=1\n",
       "Bracket: Iter 90.000: -1827.5333333333333 | Iter 30.000: -1839.0 | Iter 10.000: -10310.866666666665<br>Resources requested: 16/16 CPUs, 0/0 GPUs, 0.0/15.14 GiB heap, 0.0/5.22 GiB objects<br>Result logdir: /home/aicon/ray_results/evaluate_objective<br>Number of trials: 5 (2 PENDING, 2 RUNNING, 1 TERMINATED)<br><table>\n",
       "<thead>\n",
       "<tr><th>Trial name                 </th><th>status    </th><th>loc                </th><th style=\"text-align: right;\">   gamma</th><th style=\"text-align: right;\">  learning_rate</th><th style=\"text-align: right;\">  max_grad_norm</th><th style=\"text-align: right;\">  iter</th><th style=\"text-align: right;\">  total time (s)</th><th style=\"text-align: right;\">  mean_reward</th><th style=\"text-align: right;\">  mean_ep_length</th><th style=\"text-align: right;\">  packet_lost</th></tr>\n",
       "</thead>\n",
       "<tbody>\n",
       "<tr><td>evaluate_objective_c575fb02</td><td>RUNNING   </td><td>131.234.29.24:26235</td><td style=\"text-align: right;\">0.990228</td><td style=\"text-align: right;\">    0.00064491 </td><td style=\"text-align: right;\">       3.14781 </td><td style=\"text-align: right;\">    96</td><td style=\"text-align: right;\">        425.197 </td><td style=\"text-align: right;\">      -1815.2</td><td style=\"text-align: right;\">             602</td><td style=\"text-align: right;\">            0</td></tr>\n",
       "<tr><td>evaluate_objective_c575fb03</td><td>TERMINATED</td><td>                   </td><td style=\"text-align: right;\">0.992424</td><td style=\"text-align: right;\">    0.000166578</td><td style=\"text-align: right;\">       4.45429 </td><td style=\"text-align: right;\">    90</td><td style=\"text-align: right;\">        398.804 </td><td style=\"text-align: right;\">      -1839  </td><td style=\"text-align: right;\">             602</td><td style=\"text-align: right;\">            0</td></tr>\n",
       "<tr><td>evaluate_objective_c575fb04</td><td>RUNNING   </td><td>131.234.29.24:26227</td><td style=\"text-align: right;\">0.998132</td><td style=\"text-align: right;\">    0.0026539  </td><td style=\"text-align: right;\">       0.891429</td><td style=\"text-align: right;\">     5</td><td style=\"text-align: right;\">         26.2152</td><td style=\"text-align: right;\">     -25892.8</td><td style=\"text-align: right;\">             602</td><td style=\"text-align: right;\">           17</td></tr>\n",
       "<tr><td>evaluate_objective_c575fb05</td><td>PENDING   </td><td>                   </td><td style=\"text-align: right;\">0.995314</td><td style=\"text-align: right;\">    0.000825845</td><td style=\"text-align: right;\">       1.34788 </td><td style=\"text-align: right;\">      </td><td style=\"text-align: right;\">                </td><td style=\"text-align: right;\">             </td><td style=\"text-align: right;\">                </td><td style=\"text-align: right;\">             </td></tr>\n",
       "<tr><td>evaluate_objective_c575fb06</td><td>PENDING   </td><td>                   </td><td style=\"text-align: right;\">0.99127 </td><td style=\"text-align: right;\">    0.00239913 </td><td style=\"text-align: right;\">       2.35207 </td><td style=\"text-align: right;\">      </td><td style=\"text-align: right;\">                </td><td style=\"text-align: right;\">             </td><td style=\"text-align: right;\">                </td><td style=\"text-align: right;\">             </td></tr>\n",
       "</tbody>\n",
       "</table><br><br>"
      ],
      "text/plain": [
       "<IPython.core.display.HTML object>"
      ]
     },
     "metadata": {},
     "output_type": "display_data"
    },
    {
     "name": "stderr",
     "output_type": "stream",
     "text": [
      "\u001b[2m\u001b[36m(pid=26227)\u001b[0m ERROR:root:Max counter exceeded\n",
      "\u001b[2m\u001b[36m(pid=26235)\u001b[0m ERROR:root:Max counter exceeded\n",
      "\u001b[2m\u001b[36m(pid=26235)\u001b[0m ERROR:root:Max counter exceeded\n"
     ]
    },
    {
     "name": "stdout",
     "output_type": "stream",
     "text": [
      "Result for evaluate_objective_c575fb02:\n",
      "  date: 2020-12-15_23-20-46\n",
      "  done: false\n",
      "  experiment_id: 46b0c57ac75646e5b843e0a5d6b6f025\n",
      "  experiment_tag: 1_gamma=0.99023,learning_rate=0.00064491,max_grad_norm=3.1478\n",
      "  hostname: aicon3\n",
      "  iterations_since_restore: 97\n",
      "  mean_ep_length: 602.0\n",
      "  mean_reward: -1818.2\n",
      "  node_ip: 131.234.29.24\n",
      "  packet_lost: 0\n",
      "  pid: 26235\n",
      "  time_since_restore: 429.48282051086426\n",
      "  time_this_iter_s: 4.285702466964722\n",
      "  time_total_s: 429.48282051086426\n",
      "  timestamp: 1608070846\n",
      "  timesteps_since_restore: 0\n",
      "  training_iteration: 97\n",
      "  trial_id: c575fb02\n",
      "  \n"
     ]
    },
    {
     "name": "stderr",
     "output_type": "stream",
     "text": [
      "\u001b[2m\u001b[36m(pid=26235)\u001b[0m ERROR:root:Max counter exceeded\n",
      "\u001b[2m\u001b[36m(pid=26227)\u001b[0m ERROR:root:Max counter exceeded\n",
      "\u001b[2m\u001b[36m(pid=26235)\u001b[0m ERROR:root:Max counter exceeded\n",
      "\u001b[2m\u001b[36m(pid=26227)\u001b[0m ERROR:root:Max counter exceeded\n",
      "\u001b[2m\u001b[36m(pid=26235)\u001b[0m ERROR:root:Max counter exceeded\n",
      "\u001b[2m\u001b[36m(pid=26227)\u001b[0m ERROR:root:Max counter exceeded\n",
      "\u001b[2m\u001b[36m(pid=26235)\u001b[0m ERROR:root:Max counter exceeded\n",
      "\u001b[2m\u001b[36m(pid=26227)\u001b[0m ERROR:root:Max counter exceeded\n",
      "\u001b[2m\u001b[36m(pid=26235)\u001b[0m ERROR:root:Max counter exceeded\n",
      "\u001b[2m\u001b[36m(pid=26227)\u001b[0m ERROR:root:Max counter exceeded\n",
      "\u001b[2m\u001b[36m(pid=26235)\u001b[0m ERROR:root:Max counter exceeded\n"
     ]
    },
    {
     "data": {
      "text/html": [
       "== Status ==<br>Memory usage on this node: 7.7/31.4 GiB<br>Using AsyncHyperBand: num_stopped=1\n",
       "Bracket: Iter 90.000: -1827.5333333333333 | Iter 30.000: -1839.0 | Iter 10.000: -10310.866666666665<br>Resources requested: 16/16 CPUs, 0/0 GPUs, 0.0/15.14 GiB heap, 0.0/5.22 GiB objects<br>Result logdir: /home/aicon/ray_results/evaluate_objective<br>Number of trials: 5 (2 PENDING, 2 RUNNING, 1 TERMINATED)<br><table>\n",
       "<thead>\n",
       "<tr><th>Trial name                 </th><th>status    </th><th>loc                </th><th style=\"text-align: right;\">   gamma</th><th style=\"text-align: right;\">  learning_rate</th><th style=\"text-align: right;\">  max_grad_norm</th><th style=\"text-align: right;\">  iter</th><th style=\"text-align: right;\">  total time (s)</th><th style=\"text-align: right;\">  mean_reward</th><th style=\"text-align: right;\">  mean_ep_length</th><th style=\"text-align: right;\">  packet_lost</th></tr>\n",
       "</thead>\n",
       "<tbody>\n",
       "<tr><td>evaluate_objective_c575fb02</td><td>RUNNING   </td><td>131.234.29.24:26235</td><td style=\"text-align: right;\">0.990228</td><td style=\"text-align: right;\">    0.00064491 </td><td style=\"text-align: right;\">       3.14781 </td><td style=\"text-align: right;\">    98</td><td style=\"text-align: right;\">        433.759 </td><td style=\"text-align: right;\">      -1836  </td><td style=\"text-align: right;\">             602</td><td style=\"text-align: right;\">            0</td></tr>\n",
       "<tr><td>evaluate_objective_c575fb03</td><td>TERMINATED</td><td>                   </td><td style=\"text-align: right;\">0.992424</td><td style=\"text-align: right;\">    0.000166578</td><td style=\"text-align: right;\">       4.45429 </td><td style=\"text-align: right;\">    90</td><td style=\"text-align: right;\">        398.804 </td><td style=\"text-align: right;\">      -1839  </td><td style=\"text-align: right;\">             602</td><td style=\"text-align: right;\">            0</td></tr>\n",
       "<tr><td>evaluate_objective_c575fb04</td><td>RUNNING   </td><td>131.234.29.24:26227</td><td style=\"text-align: right;\">0.998132</td><td style=\"text-align: right;\">    0.0026539  </td><td style=\"text-align: right;\">       0.891429</td><td style=\"text-align: right;\">     6</td><td style=\"text-align: right;\">         30.6344</td><td style=\"text-align: right;\">     -12307.8</td><td style=\"text-align: right;\">             602</td><td style=\"text-align: right;\">            0</td></tr>\n",
       "<tr><td>evaluate_objective_c575fb05</td><td>PENDING   </td><td>                   </td><td style=\"text-align: right;\">0.995314</td><td style=\"text-align: right;\">    0.000825845</td><td style=\"text-align: right;\">       1.34788 </td><td style=\"text-align: right;\">      </td><td style=\"text-align: right;\">                </td><td style=\"text-align: right;\">             </td><td style=\"text-align: right;\">                </td><td style=\"text-align: right;\">             </td></tr>\n",
       "<tr><td>evaluate_objective_c575fb06</td><td>PENDING   </td><td>                   </td><td style=\"text-align: right;\">0.99127 </td><td style=\"text-align: right;\">    0.00239913 </td><td style=\"text-align: right;\">       2.35207 </td><td style=\"text-align: right;\">      </td><td style=\"text-align: right;\">                </td><td style=\"text-align: right;\">             </td><td style=\"text-align: right;\">                </td><td style=\"text-align: right;\">             </td></tr>\n",
       "</tbody>\n",
       "</table><br><br>"
      ],
      "text/plain": [
       "<IPython.core.display.HTML object>"
      ]
     },
     "metadata": {},
     "output_type": "display_data"
    },
    {
     "name": "stderr",
     "output_type": "stream",
     "text": [
      "\u001b[2m\u001b[36m(pid=26235)\u001b[0m ERROR:root:Max counter exceeded\n",
      "\u001b[2m\u001b[36m(pid=26227)\u001b[0m ERROR:root:Max counter exceeded\n",
      "\u001b[2m\u001b[36m(pid=26227)\u001b[0m ERROR:root:Max counter exceeded\n",
      "\u001b[2m\u001b[36m(pid=26235)\u001b[0m ERROR:root:Max counter exceeded\n",
      "\u001b[2m\u001b[36m(pid=26227)\u001b[0m ERROR:root:Max counter exceeded\n",
      "\u001b[2m\u001b[36m(pid=26235)\u001b[0m ERROR:root:Max counter exceeded\n",
      "\u001b[2m\u001b[36m(pid=26227)\u001b[0m ERROR:root:Max counter exceeded\n",
      "\u001b[2m\u001b[36m(pid=26235)\u001b[0m ERROR:root:Max counter exceeded\n"
     ]
    },
    {
     "name": "stdout",
     "output_type": "stream",
     "text": [
      "Result for evaluate_objective_c575fb04:\n",
      "  date: 2020-12-15_23-20-54\n",
      "  done: false\n",
      "  experiment_id: 1e956794523e4165938daa89d1f7c275\n",
      "  experiment_tag: 3_gamma=0.99813,learning_rate=0.0026539,max_grad_norm=0.89143\n",
      "  hostname: aicon3\n",
      "  iterations_since_restore: 7\n",
      "  mean_ep_length: 602.0\n",
      "  mean_reward: -155209.2\n",
      "  node_ip: 131.234.29.24\n",
      "  packet_lost: 19\n",
      "  pid: 26227\n",
      "  time_since_restore: 35.1961612701416\n",
      "  time_this_iter_s: 4.561809539794922\n",
      "  time_total_s: 35.1961612701416\n",
      "  timestamp: 1608070854\n",
      "  timesteps_since_restore: 0\n",
      "  training_iteration: 7\n",
      "  trial_id: c575fb04\n",
      "  \n"
     ]
    },
    {
     "name": "stderr",
     "output_type": "stream",
     "text": [
      "\u001b[2m\u001b[36m(pid=26227)\u001b[0m ERROR:root:Max counter exceeded\n",
      "\u001b[2m\u001b[36m(pid=26235)\u001b[0m ERROR:root:Max counter exceeded\n"
     ]
    },
    {
     "name": "stdout",
     "output_type": "stream",
     "text": [
      "Result for evaluate_objective_c575fb02:\n",
      "  date: 2020-12-15_23-20-54\n",
      "  done: false\n",
      "  experiment_id: 46b0c57ac75646e5b843e0a5d6b6f025\n",
      "  experiment_tag: 1_gamma=0.99023,learning_rate=0.00064491,max_grad_norm=3.1478\n",
      "  hostname: aicon3\n",
      "  iterations_since_restore: 99\n",
      "  mean_ep_length: 602.0\n",
      "  mean_reward: -1829.4\n",
      "  node_ip: 131.234.29.24\n",
      "  packet_lost: 0\n",
      "  pid: 26235\n",
      "  time_since_restore: 437.92609572410583\n",
      "  time_this_iter_s: 4.167256593704224\n",
      "  time_total_s: 437.92609572410583\n",
      "  timestamp: 1608070854\n",
      "  timesteps_since_restore: 0\n",
      "  training_iteration: 99\n",
      "  trial_id: c575fb02\n",
      "  \n"
     ]
    },
    {
     "name": "stderr",
     "output_type": "stream",
     "text": [
      "\u001b[2m\u001b[36m(pid=26235)\u001b[0m ERROR:root:Max counter exceeded\n",
      "\u001b[2m\u001b[36m(pid=26235)\u001b[0m ERROR:root:Max counter exceeded\n",
      "\u001b[2m\u001b[36m(pid=26227)\u001b[0m ERROR:root:Max counter exceeded\n",
      "\u001b[2m\u001b[36m(pid=26235)\u001b[0m ERROR:root:Max counter exceeded\n",
      "\u001b[2m\u001b[36m(pid=26227)\u001b[0m ERROR:root:Max counter exceeded\n",
      "\u001b[2m\u001b[36m(pid=26235)\u001b[0m ERROR:root:Max counter exceeded\n",
      "\u001b[2m\u001b[36m(pid=26227)\u001b[0m ERROR:root:Max counter exceeded\n",
      "\u001b[2m\u001b[36m(pid=26235)\u001b[0m ERROR:root:Max counter exceeded\n",
      "\u001b[2m\u001b[36m(pid=26227)\u001b[0m ERROR:root:Max counter exceeded\n"
     ]
    },
    {
     "data": {
      "text/html": [
       "== Status ==<br>Memory usage on this node: 7.7/31.4 GiB<br>Using AsyncHyperBand: num_stopped=1\n",
       "Bracket: Iter 90.000: -1827.5333333333333 | Iter 30.000: -1839.0 | Iter 10.000: -10310.866666666665<br>Resources requested: 16/16 CPUs, 0/0 GPUs, 0.0/15.14 GiB heap, 0.0/5.22 GiB objects<br>Result logdir: /home/aicon/ray_results/evaluate_objective<br>Number of trials: 5 (2 PENDING, 2 RUNNING, 1 TERMINATED)<br><table>\n",
       "<thead>\n",
       "<tr><th>Trial name                 </th><th>status    </th><th>loc                </th><th style=\"text-align: right;\">   gamma</th><th style=\"text-align: right;\">  learning_rate</th><th style=\"text-align: right;\">  max_grad_norm</th><th style=\"text-align: right;\">  iter</th><th style=\"text-align: right;\">  total time (s)</th><th style=\"text-align: right;\">  mean_reward</th><th style=\"text-align: right;\">  mean_ep_length</th><th style=\"text-align: right;\">  packet_lost</th></tr>\n",
       "</thead>\n",
       "<tbody>\n",
       "<tr><td>evaluate_objective_c575fb02</td><td>RUNNING   </td><td>131.234.29.24:26235</td><td style=\"text-align: right;\">0.990228</td><td style=\"text-align: right;\">    0.00064491 </td><td style=\"text-align: right;\">       3.14781 </td><td style=\"text-align: right;\">    99</td><td style=\"text-align: right;\">        437.926 </td><td style=\"text-align: right;\">      -1829.4</td><td style=\"text-align: right;\">             602</td><td style=\"text-align: right;\">            0</td></tr>\n",
       "<tr><td>evaluate_objective_c575fb03</td><td>TERMINATED</td><td>                   </td><td style=\"text-align: right;\">0.992424</td><td style=\"text-align: right;\">    0.000166578</td><td style=\"text-align: right;\">       4.45429 </td><td style=\"text-align: right;\">    90</td><td style=\"text-align: right;\">        398.804 </td><td style=\"text-align: right;\">      -1839  </td><td style=\"text-align: right;\">             602</td><td style=\"text-align: right;\">            0</td></tr>\n",
       "<tr><td>evaluate_objective_c575fb04</td><td>RUNNING   </td><td>131.234.29.24:26227</td><td style=\"text-align: right;\">0.998132</td><td style=\"text-align: right;\">    0.0026539  </td><td style=\"text-align: right;\">       0.891429</td><td style=\"text-align: right;\">     8</td><td style=\"text-align: right;\">         39.5322</td><td style=\"text-align: right;\">      -1830.6</td><td style=\"text-align: right;\">             602</td><td style=\"text-align: right;\">            0</td></tr>\n",
       "<tr><td>evaluate_objective_c575fb05</td><td>PENDING   </td><td>                   </td><td style=\"text-align: right;\">0.995314</td><td style=\"text-align: right;\">    0.000825845</td><td style=\"text-align: right;\">       1.34788 </td><td style=\"text-align: right;\">      </td><td style=\"text-align: right;\">                </td><td style=\"text-align: right;\">             </td><td style=\"text-align: right;\">                </td><td style=\"text-align: right;\">             </td></tr>\n",
       "<tr><td>evaluate_objective_c575fb06</td><td>PENDING   </td><td>                   </td><td style=\"text-align: right;\">0.99127 </td><td style=\"text-align: right;\">    0.00239913 </td><td style=\"text-align: right;\">       2.35207 </td><td style=\"text-align: right;\">      </td><td style=\"text-align: right;\">                </td><td style=\"text-align: right;\">             </td><td style=\"text-align: right;\">                </td><td style=\"text-align: right;\">             </td></tr>\n",
       "</tbody>\n",
       "</table><br><br>"
      ],
      "text/plain": [
       "<IPython.core.display.HTML object>"
      ]
     },
     "metadata": {},
     "output_type": "display_data"
    },
    {
     "name": "stderr",
     "output_type": "stream",
     "text": [
      "\u001b[2m\u001b[36m(pid=26235)\u001b[0m ERROR:root:Max counter exceeded\n",
      "\u001b[2m\u001b[36m(pid=26227)\u001b[0m ERROR:root:Max counter exceeded\n",
      "[INFO 12-15 23:20:59] ax.service.ax_client: Completed trial 0 with data: {'mean_reward': (-1833.6, 0.0)}.\n",
      "\u001b[2m\u001b[36m(pid=26235)\u001b[0m ERROR:root:Max counter exceeded\n"
     ]
    },
    {
     "name": "stdout",
     "output_type": "stream",
     "text": [
      "Result for evaluate_objective_c575fb02:\n",
      "  date: 2020-12-15_23-20-59\n",
      "  done: true\n",
      "  experiment_id: 46b0c57ac75646e5b843e0a5d6b6f025\n",
      "  experiment_tag: 1_gamma=0.99023,learning_rate=0.00064491,max_grad_norm=3.1478\n",
      "  hostname: aicon3\n",
      "  iterations_since_restore: 100\n",
      "  mean_ep_length: 602.0\n",
      "  mean_reward: -1833.6\n",
      "  node_ip: 131.234.29.24\n",
      "  packet_lost: 0\n",
      "  pid: 26235\n",
      "  time_since_restore: 442.2023069858551\n",
      "  time_this_iter_s: 4.276211261749268\n",
      "  time_total_s: 442.2023069858551\n",
      "  timestamp: 1608070859\n",
      "  timesteps_since_restore: 0\n",
      "  training_iteration: 100\n",
      "  trial_id: c575fb02\n",
      "  \n"
     ]
    },
    {
     "name": "stderr",
     "output_type": "stream",
     "text": [
      "\u001b[2m\u001b[36m(pid=26227)\u001b[0m ERROR:root:Max counter exceeded\n",
      "\u001b[2m\u001b[36m(pid=26227)\u001b[0m ERROR:root:Max counter exceeded\n",
      "\u001b[2m\u001b[36m(pid=26227)\u001b[0m ERROR:root:Max counter exceeded\n",
      "\u001b[2m\u001b[36m(pid=26230)\u001b[0m WARNING:tensorflow:\n",
      "\u001b[2m\u001b[36m(pid=26230)\u001b[0m The TensorFlow contrib module will not be included in TensorFlow 2.0.\n",
      "\u001b[2m\u001b[36m(pid=26230)\u001b[0m For more information, please see:\n",
      "\u001b[2m\u001b[36m(pid=26230)\u001b[0m   * https://github.com/tensorflow/community/blob/master/rfcs/20180907-contrib-sunset.md\n",
      "\u001b[2m\u001b[36m(pid=26230)\u001b[0m   * https://github.com/tensorflow/addons\n",
      "\u001b[2m\u001b[36m(pid=26230)\u001b[0m   * https://github.com/tensorflow/io (for I/O related ops)\n",
      "\u001b[2m\u001b[36m(pid=26230)\u001b[0m If you depend on functionality not listed there, please file an issue.\n",
      "\u001b[2m\u001b[36m(pid=26230)\u001b[0m \n",
      "\u001b[2m\u001b[36m(pid=26227)\u001b[0m ERROR:root:Max counter exceeded\n",
      "\u001b[2m\u001b[36m(pid=26230)\u001b[0m WARNING:tensorflow:From /home/aicon/anaconda3/envs/tuning/lib/python3.7/site-packages/stable_baselines/common/tf_util.py:191: The name tf.ConfigProto is deprecated. Please use tf.compat.v1.ConfigProto instead.\n",
      "\u001b[2m\u001b[36m(pid=26230)\u001b[0m \n",
      "\u001b[2m\u001b[36m(pid=26230)\u001b[0m WARNING:tensorflow:From /home/aicon/anaconda3/envs/tuning/lib/python3.7/site-packages/stable_baselines/common/tf_util.py:191: The name tf.ConfigProto is deprecated. Please use tf.compat.v1.ConfigProto instead.\n",
      "\u001b[2m\u001b[36m(pid=26230)\u001b[0m \n",
      "\u001b[2m\u001b[36m(pid=26230)\u001b[0m WARNING:tensorflow:From /home/aicon/anaconda3/envs/tuning/lib/python3.7/site-packages/stable_baselines/common/tf_util.py:200: The name tf.Session is deprecated. Please use tf.compat.v1.Session instead.\n",
      "\u001b[2m\u001b[36m(pid=26230)\u001b[0m \n",
      "\u001b[2m\u001b[36m(pid=26230)\u001b[0m WARNING:tensorflow:From /home/aicon/anaconda3/envs/tuning/lib/python3.7/site-packages/stable_baselines/common/tf_util.py:200: The name tf.Session is deprecated. Please use tf.compat.v1.Session instead.\n",
      "\u001b[2m\u001b[36m(pid=26230)\u001b[0m \n",
      "\u001b[2m\u001b[36m(pid=26230)\u001b[0m WARNING:tensorflow:From /home/aicon/anaconda3/envs/tuning/lib/python3.7/site-packages/stable_baselines/common/policies.py:116: The name tf.variable_scope is deprecated. Please use tf.compat.v1.variable_scope instead.\n",
      "\u001b[2m\u001b[36m(pid=26230)\u001b[0m \n",
      "\u001b[2m\u001b[36m(pid=26230)\u001b[0m WARNING:tensorflow:From /home/aicon/anaconda3/envs/tuning/lib/python3.7/site-packages/stable_baselines/common/policies.py:116: The name tf.variable_scope is deprecated. Please use tf.compat.v1.variable_scope instead.\n",
      "\u001b[2m\u001b[36m(pid=26230)\u001b[0m \n",
      "\u001b[2m\u001b[36m(pid=26230)\u001b[0m WARNING:tensorflow:From /home/aicon/anaconda3/envs/tuning/lib/python3.7/site-packages/stable_baselines/common/input.py:42: The name tf.placeholder is deprecated. Please use tf.compat.v1.placeholder instead.\n",
      "\u001b[2m\u001b[36m(pid=26230)\u001b[0m \n",
      "\u001b[2m\u001b[36m(pid=26230)\u001b[0m WARNING:tensorflow:From /home/aicon/anaconda3/envs/tuning/lib/python3.7/site-packages/stable_baselines/common/input.py:42: The name tf.placeholder is deprecated. Please use tf.compat.v1.placeholder instead.\n",
      "\u001b[2m\u001b[36m(pid=26230)\u001b[0m \n",
      "\u001b[2m\u001b[36m(pid=26230)\u001b[0m WARNING:tensorflow:From /home/aicon/anaconda3/envs/tuning/lib/python3.7/site-packages/stable_baselines/common/policies.py:561: flatten (from tensorflow.python.layers.core) is deprecated and will be removed in a future version.\n",
      "\u001b[2m\u001b[36m(pid=26230)\u001b[0m Instructions for updating:\n",
      "\u001b[2m\u001b[36m(pid=26230)\u001b[0m Use keras.layers.flatten instead.\n",
      "\u001b[2m\u001b[36m(pid=26230)\u001b[0m WARNING:tensorflow:From /home/aicon/anaconda3/envs/tuning/lib/python3.7/site-packages/stable_baselines/common/policies.py:561: flatten (from tensorflow.python.layers.core) is deprecated and will be removed in a future version.\n",
      "\u001b[2m\u001b[36m(pid=26230)\u001b[0m Instructions for updating:\n",
      "\u001b[2m\u001b[36m(pid=26230)\u001b[0m Use keras.layers.flatten instead.\n",
      "\u001b[2m\u001b[36m(pid=26230)\u001b[0m WARNING:tensorflow:From /home/aicon/anaconda3/envs/tuning/lib/python3.7/site-packages/tensorflow_core/python/layers/core.py:332: Layer.apply (from tensorflow.python.keras.engine.base_layer) is deprecated and will be removed in a future version.\n",
      "\u001b[2m\u001b[36m(pid=26230)\u001b[0m Instructions for updating:\n",
      "\u001b[2m\u001b[36m(pid=26230)\u001b[0m Please use `layer.__call__` method instead.\n",
      "\u001b[2m\u001b[36m(pid=26230)\u001b[0m WARNING:tensorflow:From /home/aicon/anaconda3/envs/tuning/lib/python3.7/site-packages/tensorflow_core/python/layers/core.py:332: Layer.apply (from tensorflow.python.keras.engine.base_layer) is deprecated and will be removed in a future version.\n",
      "\u001b[2m\u001b[36m(pid=26230)\u001b[0m Instructions for updating:\n",
      "\u001b[2m\u001b[36m(pid=26230)\u001b[0m Please use `layer.__call__` method instead.\n",
      "\u001b[2m\u001b[36m(pid=26230)\u001b[0m WARNING:tensorflow:From /home/aicon/anaconda3/envs/tuning/lib/python3.7/site-packages/stable_baselines/common/tf_layers.py:123: The name tf.get_variable is deprecated. Please use tf.compat.v1.get_variable instead.\n",
      "\u001b[2m\u001b[36m(pid=26230)\u001b[0m \n",
      "\u001b[2m\u001b[36m(pid=26230)\u001b[0m WARNING:tensorflow:From /home/aicon/anaconda3/envs/tuning/lib/python3.7/site-packages/stable_baselines/common/tf_layers.py:123: The name tf.get_variable is deprecated. Please use tf.compat.v1.get_variable instead.\n",
      "\u001b[2m\u001b[36m(pid=26230)\u001b[0m \n",
      "\u001b[2m\u001b[36m(pid=26230)\u001b[0m WARNING:tensorflow:From /home/aicon/anaconda3/envs/tuning/lib/python3.7/site-packages/stable_baselines/common/distributions.py:326: The name tf.random_uniform is deprecated. Please use tf.random.uniform instead.\n",
      "\u001b[2m\u001b[36m(pid=26230)\u001b[0m \n",
      "\u001b[2m\u001b[36m(pid=26230)\u001b[0m WARNING:tensorflow:From /home/aicon/anaconda3/envs/tuning/lib/python3.7/site-packages/stable_baselines/common/distributions.py:326: The name tf.random_uniform is deprecated. Please use tf.random.uniform instead.\n",
      "\u001b[2m\u001b[36m(pid=26230)\u001b[0m \n",
      "\u001b[2m\u001b[36m(pid=26230)\u001b[0m WARNING:tensorflow:From /home/aicon/anaconda3/envs/tuning/lib/python3.7/site-packages/stable_baselines/common/distributions.py:327: The name tf.log is deprecated. Please use tf.math.log instead.\n",
      "\u001b[2m\u001b[36m(pid=26230)\u001b[0m \n",
      "\u001b[2m\u001b[36m(pid=26230)\u001b[0m WARNING:tensorflow:From /home/aicon/anaconda3/envs/tuning/lib/python3.7/site-packages/stable_baselines/common/distributions.py:327: The name tf.log is deprecated. Please use tf.math.log instead.\n",
      "\u001b[2m\u001b[36m(pid=26230)\u001b[0m \n",
      "\u001b[2m\u001b[36m(pid=26227)\u001b[0m ERROR:root:Max counter exceeded\n"
     ]
    },
    {
     "name": "stdout",
     "output_type": "stream",
     "text": [
      "Result for evaluate_objective_c575fb04:\n",
      "  date: 2020-12-15_23-21-03\n",
      "  done: false\n",
      "  experiment_id: 1e956794523e4165938daa89d1f7c275\n",
      "  experiment_tag: 3_gamma=0.99813,learning_rate=0.0026539,max_grad_norm=0.89143\n",
      "  hostname: aicon3\n",
      "  iterations_since_restore: 9\n",
      "  mean_ep_length: 602.0\n",
      "  mean_reward: -1838.4\n",
      "  node_ip: 131.234.29.24\n",
      "  packet_lost: 0\n",
      "  pid: 26227\n",
      "  time_since_restore: 43.88378190994263\n",
      "  time_this_iter_s: 4.351581573486328\n",
      "  time_total_s: 43.88378190994263\n",
      "  timestamp: 1608070863\n",
      "  timesteps_since_restore: 0\n",
      "  training_iteration: 9\n",
      "  trial_id: c575fb04\n",
      "  \n"
     ]
    },
    {
     "name": "stderr",
     "output_type": "stream",
     "text": [
      "\u001b[2m\u001b[36m(pid=26227)\u001b[0m ERROR:root:Max counter exceeded\n",
      "\u001b[2m\u001b[36m(pid=26230)\u001b[0m WARNING:tensorflow:From /home/aicon/anaconda3/envs/tuning/lib/python3.7/site-packages/stable_baselines/a2c/a2c.py:160: The name tf.summary.scalar is deprecated. Please use tf.compat.v1.summary.scalar instead.\n",
      "\u001b[2m\u001b[36m(pid=26230)\u001b[0m \n",
      "\u001b[2m\u001b[36m(pid=26230)\u001b[0m WARNING:tensorflow:From /home/aicon/anaconda3/envs/tuning/lib/python3.7/site-packages/stable_baselines/a2c/a2c.py:160: The name tf.summary.scalar is deprecated. Please use tf.compat.v1.summary.scalar instead.\n",
      "\u001b[2m\u001b[36m(pid=26230)\u001b[0m \n",
      "\u001b[2m\u001b[36m(pid=26230)\u001b[0m WARNING:tensorflow:From /home/aicon/anaconda3/envs/tuning/lib/python3.7/site-packages/stable_baselines/common/tf_util.py:449: The name tf.get_collection is deprecated. Please use tf.compat.v1.get_collection instead.\n",
      "\u001b[2m\u001b[36m(pid=26230)\u001b[0m \n",
      "\u001b[2m\u001b[36m(pid=26230)\u001b[0m WARNING:tensorflow:From /home/aicon/anaconda3/envs/tuning/lib/python3.7/site-packages/stable_baselines/common/tf_util.py:449: The name tf.get_collection is deprecated. Please use tf.compat.v1.get_collection instead.\n",
      "\u001b[2m\u001b[36m(pid=26230)\u001b[0m \n",
      "\u001b[2m\u001b[36m(pid=26230)\u001b[0m WARNING:tensorflow:From /home/aicon/anaconda3/envs/tuning/lib/python3.7/site-packages/stable_baselines/common/tf_util.py:449: The name tf.GraphKeys is deprecated. Please use tf.compat.v1.GraphKeys instead.\n",
      "\u001b[2m\u001b[36m(pid=26230)\u001b[0m \n",
      "\u001b[2m\u001b[36m(pid=26230)\u001b[0m WARNING:tensorflow:From /home/aicon/anaconda3/envs/tuning/lib/python3.7/site-packages/stable_baselines/common/tf_util.py:449: The name tf.GraphKeys is deprecated. Please use tf.compat.v1.GraphKeys instead.\n",
      "\u001b[2m\u001b[36m(pid=26230)\u001b[0m \n",
      "\u001b[2m\u001b[36m(pid=26227)\u001b[0m ERROR:root:Max counter exceeded\n",
      "\u001b[2m\u001b[36m(pid=26230)\u001b[0m WARNING:tensorflow:From /home/aicon/anaconda3/envs/tuning/lib/python3.7/site-packages/tensorflow_core/python/ops/clip_ops.py:301: where (from tensorflow.python.ops.array_ops) is deprecated and will be removed in a future version.\n",
      "\u001b[2m\u001b[36m(pid=26230)\u001b[0m Instructions for updating:\n",
      "\u001b[2m\u001b[36m(pid=26230)\u001b[0m Use tf.where in 2.0, which has the same broadcast rule as np.where\n",
      "\u001b[2m\u001b[36m(pid=26230)\u001b[0m WARNING:tensorflow:From /home/aicon/anaconda3/envs/tuning/lib/python3.7/site-packages/tensorflow_core/python/ops/clip_ops.py:301: where (from tensorflow.python.ops.array_ops) is deprecated and will be removed in a future version.\n",
      "\u001b[2m\u001b[36m(pid=26230)\u001b[0m Instructions for updating:\n",
      "\u001b[2m\u001b[36m(pid=26230)\u001b[0m Use tf.where in 2.0, which has the same broadcast rule as np.where\n",
      "\u001b[2m\u001b[36m(pid=26230)\u001b[0m WARNING:tensorflow:From /home/aicon/anaconda3/envs/tuning/lib/python3.7/site-packages/stable_baselines/a2c/a2c.py:184: The name tf.train.RMSPropOptimizer is deprecated. Please use tf.compat.v1.train.RMSPropOptimizer instead.\n",
      "\u001b[2m\u001b[36m(pid=26230)\u001b[0m \n",
      "\u001b[2m\u001b[36m(pid=26230)\u001b[0m WARNING:tensorflow:From /home/aicon/anaconda3/envs/tuning/lib/python3.7/site-packages/stable_baselines/a2c/a2c.py:184: The name tf.train.RMSPropOptimizer is deprecated. Please use tf.compat.v1.train.RMSPropOptimizer instead.\n",
      "\u001b[2m\u001b[36m(pid=26230)\u001b[0m \n",
      "\u001b[2m\u001b[36m(pid=26230)\u001b[0m WARNING:tensorflow:From /home/aicon/anaconda3/envs/tuning/lib/python3.7/site-packages/tensorflow_core/python/training/rmsprop.py:119: calling Ones.__init__ (from tensorflow.python.ops.init_ops) with dtype is deprecated and will be removed in a future version.\n",
      "\u001b[2m\u001b[36m(pid=26230)\u001b[0m Instructions for updating:\n",
      "\u001b[2m\u001b[36m(pid=26230)\u001b[0m Call initializer instance with the dtype argument instead of passing it to the constructor\n",
      "\u001b[2m\u001b[36m(pid=26230)\u001b[0m WARNING:tensorflow:From /home/aicon/anaconda3/envs/tuning/lib/python3.7/site-packages/tensorflow_core/python/training/rmsprop.py:119: calling Ones.__init__ (from tensorflow.python.ops.init_ops) with dtype is deprecated and will be removed in a future version.\n",
      "\u001b[2m\u001b[36m(pid=26230)\u001b[0m Instructions for updating:\n",
      "\u001b[2m\u001b[36m(pid=26230)\u001b[0m Call initializer instance with the dtype argument instead of passing it to the constructor\n",
      "\u001b[2m\u001b[36m(pid=26230)\u001b[0m WARNING:tensorflow:From /home/aicon/anaconda3/envs/tuning/lib/python3.7/site-packages/stable_baselines/a2c/a2c.py:194: The name tf.global_variables_initializer is deprecated. Please use tf.compat.v1.global_variables_initializer instead.\n",
      "\u001b[2m\u001b[36m(pid=26230)\u001b[0m \n",
      "\u001b[2m\u001b[36m(pid=26230)\u001b[0m WARNING:tensorflow:From /home/aicon/anaconda3/envs/tuning/lib/python3.7/site-packages/stable_baselines/a2c/a2c.py:194: The name tf.global_variables_initializer is deprecated. Please use tf.compat.v1.global_variables_initializer instead.\n",
      "\u001b[2m\u001b[36m(pid=26230)\u001b[0m \n",
      "\u001b[2m\u001b[36m(pid=26230)\u001b[0m WARNING:tensorflow:From /home/aicon/anaconda3/envs/tuning/lib/python3.7/site-packages/stable_baselines/a2c/a2c.py:196: The name tf.summary.merge_all is deprecated. Please use tf.compat.v1.summary.merge_all instead.\n",
      "\u001b[2m\u001b[36m(pid=26230)\u001b[0m \n",
      "\u001b[2m\u001b[36m(pid=26230)\u001b[0m WARNING:tensorflow:From /home/aicon/anaconda3/envs/tuning/lib/python3.7/site-packages/stable_baselines/a2c/a2c.py:196: The name tf.summary.merge_all is deprecated. Please use tf.compat.v1.summary.merge_all instead.\n",
      "\u001b[2m\u001b[36m(pid=26230)\u001b[0m \n",
      "\u001b[2m\u001b[36m(pid=26227)\u001b[0m ERROR:root:Max counter exceeded\n",
      "\u001b[2m\u001b[36m(pid=26227)\u001b[0m ERROR:root:Max counter exceeded\n",
      "\u001b[2m\u001b[36m(pid=26227)\u001b[0m ERROR:root:Max counter exceeded\n",
      "\u001b[2m\u001b[36m(pid=26227)\u001b[0m ERROR:root:Max counter exceeded\n",
      "\u001b[2m\u001b[36m(pid=26230)\u001b[0m ERROR:root:Max counter exceeded\n",
      "[INFO 12-15 23:21:07] ax.service.ax_client: Completed trial 2 with data: {'mean_reward': (-12303.6, 0.0)}.\n"
     ]
    },
    {
     "name": "stdout",
     "output_type": "stream",
     "text": [
      "Result for evaluate_objective_c575fb04:\n",
      "  date: 2020-12-15_23-21-07\n",
      "  done: true\n",
      "  experiment_id: 1e956794523e4165938daa89d1f7c275\n",
      "  experiment_tag: 3_gamma=0.99813,learning_rate=0.0026539,max_grad_norm=0.89143\n",
      "  hostname: aicon3\n",
      "  iterations_since_restore: 10\n",
      "  mean_ep_length: 602.0\n",
      "  mean_reward: -12303.6\n",
      "  node_ip: 131.234.29.24\n",
      "  packet_lost: 0\n",
      "  pid: 26227\n",
      "  time_since_restore: 48.099621057510376\n",
      "  time_this_iter_s: 4.215839147567749\n",
      "  time_total_s: 48.099621057510376\n",
      "  timestamp: 1608070867\n",
      "  timesteps_since_restore: 0\n",
      "  training_iteration: 10\n",
      "  trial_id: c575fb04\n",
      "  \n"
     ]
    },
    {
     "data": {
      "text/html": [
       "== Status ==<br>Memory usage on this node: 7.6/31.4 GiB<br>Using AsyncHyperBand: num_stopped=3\n",
       "Bracket: Iter 90.000: -1827.5333333333333 | Iter 30.000: -1839.0 | Iter 10.000: -8890.599999999999<br>Resources requested: 8/16 CPUs, 0/0 GPUs, 0.0/15.14 GiB heap, 0.0/5.22 GiB objects<br>Result logdir: /home/aicon/ray_results/evaluate_objective<br>Number of trials: 5 (1 PENDING, 1 RUNNING, 3 TERMINATED)<br><table>\n",
       "<thead>\n",
       "<tr><th>Trial name                 </th><th>status    </th><th>loc  </th><th style=\"text-align: right;\">   gamma</th><th style=\"text-align: right;\">  learning_rate</th><th style=\"text-align: right;\">  max_grad_norm</th><th style=\"text-align: right;\">  iter</th><th style=\"text-align: right;\">  total time (s)</th><th style=\"text-align: right;\">  mean_reward</th><th style=\"text-align: right;\">  mean_ep_length</th><th style=\"text-align: right;\">  packet_lost</th></tr>\n",
       "</thead>\n",
       "<tbody>\n",
       "<tr><td>evaluate_objective_c575fb02</td><td>TERMINATED</td><td>     </td><td style=\"text-align: right;\">0.990228</td><td style=\"text-align: right;\">    0.00064491 </td><td style=\"text-align: right;\">       3.14781 </td><td style=\"text-align: right;\">   100</td><td style=\"text-align: right;\">        442.202 </td><td style=\"text-align: right;\">      -1833.6</td><td style=\"text-align: right;\">             602</td><td style=\"text-align: right;\">            0</td></tr>\n",
       "<tr><td>evaluate_objective_c575fb03</td><td>TERMINATED</td><td>     </td><td style=\"text-align: right;\">0.992424</td><td style=\"text-align: right;\">    0.000166578</td><td style=\"text-align: right;\">       4.45429 </td><td style=\"text-align: right;\">    90</td><td style=\"text-align: right;\">        398.804 </td><td style=\"text-align: right;\">      -1839  </td><td style=\"text-align: right;\">             602</td><td style=\"text-align: right;\">            0</td></tr>\n",
       "<tr><td>evaluate_objective_c575fb04</td><td>TERMINATED</td><td>     </td><td style=\"text-align: right;\">0.998132</td><td style=\"text-align: right;\">    0.0026539  </td><td style=\"text-align: right;\">       0.891429</td><td style=\"text-align: right;\">    10</td><td style=\"text-align: right;\">         48.0996</td><td style=\"text-align: right;\">     -12303.6</td><td style=\"text-align: right;\">             602</td><td style=\"text-align: right;\">            0</td></tr>\n",
       "<tr><td>evaluate_objective_c575fb05</td><td>RUNNING   </td><td>     </td><td style=\"text-align: right;\">0.995314</td><td style=\"text-align: right;\">    0.000825845</td><td style=\"text-align: right;\">       1.34788 </td><td style=\"text-align: right;\">      </td><td style=\"text-align: right;\">                </td><td style=\"text-align: right;\">             </td><td style=\"text-align: right;\">                </td><td style=\"text-align: right;\">             </td></tr>\n",
       "<tr><td>evaluate_objective_c575fb06</td><td>PENDING   </td><td>     </td><td style=\"text-align: right;\">0.99127 </td><td style=\"text-align: right;\">    0.00239913 </td><td style=\"text-align: right;\">       2.35207 </td><td style=\"text-align: right;\">      </td><td style=\"text-align: right;\">                </td><td style=\"text-align: right;\">             </td><td style=\"text-align: right;\">                </td><td style=\"text-align: right;\">             </td></tr>\n",
       "</tbody>\n",
       "</table><br><br>"
      ],
      "text/plain": [
       "<IPython.core.display.HTML object>"
      ]
     },
     "metadata": {},
     "output_type": "display_data"
    },
    {
     "name": "stderr",
     "output_type": "stream",
     "text": [
      "\u001b[2m\u001b[36m(pid=26227)\u001b[0m ERROR:root:Max counter exceeded\n",
      "\u001b[2m\u001b[36m(pid=26230)\u001b[0m ERROR:root:Max counter exceeded\n",
      "\u001b[2m\u001b[36m(pid=26230)\u001b[0m ERROR:root:Max counter exceeded\n",
      "\u001b[2m\u001b[36m(pid=26230)\u001b[0m ERROR:root:Max counter exceeded\n"
     ]
    },
    {
     "name": "stdout",
     "output_type": "stream",
     "text": [
      "Result for evaluate_objective_c575fb05:\n",
      "  date: 2020-12-15_23-21-09\n",
      "  done: false\n",
      "  experiment_id: 11621cd807b549089267d6418d6f9c7d\n",
      "  experiment_tag: 4_gamma=0.99531,learning_rate=0.00082584,max_grad_norm=1.3479\n",
      "  hostname: aicon3\n",
      "  iterations_since_restore: 1\n",
      "  mean_ep_length: 602.0\n",
      "  mean_reward: -47280.0\n",
      "  node_ip: 131.234.29.24\n",
      "  packet_lost: 19\n",
      "  pid: 26230\n",
      "  time_since_restore: 7.113670110702515\n",
      "  time_this_iter_s: 7.113670110702515\n",
      "  time_total_s: 7.113670110702515\n",
      "  timestamp: 1608070869\n",
      "  timesteps_since_restore: 0\n",
      "  training_iteration: 1\n",
      "  trial_id: c575fb05\n",
      "  \n"
     ]
    },
    {
     "name": "stderr",
     "output_type": "stream",
     "text": [
      "\u001b[2m\u001b[36m(pid=26230)\u001b[0m ERROR:root:Max counter exceeded\n",
      "\u001b[2m\u001b[36m(pid=26231)\u001b[0m WARNING:tensorflow:\n",
      "\u001b[2m\u001b[36m(pid=26231)\u001b[0m The TensorFlow contrib module will not be included in TensorFlow 2.0.\n",
      "\u001b[2m\u001b[36m(pid=26231)\u001b[0m For more information, please see:\n",
      "\u001b[2m\u001b[36m(pid=26231)\u001b[0m   * https://github.com/tensorflow/community/blob/master/rfcs/20180907-contrib-sunset.md\n",
      "\u001b[2m\u001b[36m(pid=26231)\u001b[0m   * https://github.com/tensorflow/addons\n",
      "\u001b[2m\u001b[36m(pid=26231)\u001b[0m   * https://github.com/tensorflow/io (for I/O related ops)\n",
      "\u001b[2m\u001b[36m(pid=26231)\u001b[0m If you depend on functionality not listed there, please file an issue.\n",
      "\u001b[2m\u001b[36m(pid=26231)\u001b[0m \n",
      "\u001b[2m\u001b[36m(pid=26231)\u001b[0m WARNING:tensorflow:From /home/aicon/anaconda3/envs/tuning/lib/python3.7/site-packages/stable_baselines/common/tf_util.py:191: The name tf.ConfigProto is deprecated. Please use tf.compat.v1.ConfigProto instead.\n",
      "\u001b[2m\u001b[36m(pid=26231)\u001b[0m \n",
      "\u001b[2m\u001b[36m(pid=26231)\u001b[0m WARNING:tensorflow:From /home/aicon/anaconda3/envs/tuning/lib/python3.7/site-packages/stable_baselines/common/tf_util.py:191: The name tf.ConfigProto is deprecated. Please use tf.compat.v1.ConfigProto instead.\n",
      "\u001b[2m\u001b[36m(pid=26231)\u001b[0m \n",
      "\u001b[2m\u001b[36m(pid=26231)\u001b[0m WARNING:tensorflow:From /home/aicon/anaconda3/envs/tuning/lib/python3.7/site-packages/stable_baselines/common/tf_util.py:200: The name tf.Session is deprecated. Please use tf.compat.v1.Session instead.\n",
      "\u001b[2m\u001b[36m(pid=26231)\u001b[0m \n",
      "\u001b[2m\u001b[36m(pid=26231)\u001b[0m WARNING:tensorflow:From /home/aicon/anaconda3/envs/tuning/lib/python3.7/site-packages/stable_baselines/common/tf_util.py:200: The name tf.Session is deprecated. Please use tf.compat.v1.Session instead.\n",
      "\u001b[2m\u001b[36m(pid=26231)\u001b[0m \n",
      "\u001b[2m\u001b[36m(pid=26231)\u001b[0m WARNING:tensorflow:From /home/aicon/anaconda3/envs/tuning/lib/python3.7/site-packages/stable_baselines/common/policies.py:116: The name tf.variable_scope is deprecated. Please use tf.compat.v1.variable_scope instead.\n",
      "\u001b[2m\u001b[36m(pid=26231)\u001b[0m \n",
      "\u001b[2m\u001b[36m(pid=26231)\u001b[0m WARNING:tensorflow:From /home/aicon/anaconda3/envs/tuning/lib/python3.7/site-packages/stable_baselines/common/policies.py:116: The name tf.variable_scope is deprecated. Please use tf.compat.v1.variable_scope instead.\n",
      "\u001b[2m\u001b[36m(pid=26231)\u001b[0m \n",
      "\u001b[2m\u001b[36m(pid=26231)\u001b[0m WARNING:tensorflow:From /home/aicon/anaconda3/envs/tuning/lib/python3.7/site-packages/stable_baselines/common/input.py:42: The name tf.placeholder is deprecated. Please use tf.compat.v1.placeholder instead.\n",
      "\u001b[2m\u001b[36m(pid=26231)\u001b[0m \n",
      "\u001b[2m\u001b[36m(pid=26231)\u001b[0m WARNING:tensorflow:From /home/aicon/anaconda3/envs/tuning/lib/python3.7/site-packages/stable_baselines/common/input.py:42: The name tf.placeholder is deprecated. Please use tf.compat.v1.placeholder instead.\n",
      "\u001b[2m\u001b[36m(pid=26231)\u001b[0m \n",
      "\u001b[2m\u001b[36m(pid=26231)\u001b[0m WARNING:tensorflow:From /home/aicon/anaconda3/envs/tuning/lib/python3.7/site-packages/stable_baselines/common/policies.py:561: flatten (from tensorflow.python.layers.core) is deprecated and will be removed in a future version.\n",
      "\u001b[2m\u001b[36m(pid=26231)\u001b[0m Instructions for updating:\n",
      "\u001b[2m\u001b[36m(pid=26231)\u001b[0m Use keras.layers.flatten instead.\n",
      "\u001b[2m\u001b[36m(pid=26231)\u001b[0m WARNING:tensorflow:From /home/aicon/anaconda3/envs/tuning/lib/python3.7/site-packages/stable_baselines/common/policies.py:561: flatten (from tensorflow.python.layers.core) is deprecated and will be removed in a future version.\n",
      "\u001b[2m\u001b[36m(pid=26231)\u001b[0m Instructions for updating:\n",
      "\u001b[2m\u001b[36m(pid=26231)\u001b[0m Use keras.layers.flatten instead.\n",
      "\u001b[2m\u001b[36m(pid=26231)\u001b[0m WARNING:tensorflow:From /home/aicon/anaconda3/envs/tuning/lib/python3.7/site-packages/tensorflow_core/python/layers/core.py:332: Layer.apply (from tensorflow.python.keras.engine.base_layer) is deprecated and will be removed in a future version.\n",
      "\u001b[2m\u001b[36m(pid=26231)\u001b[0m Instructions for updating:\n",
      "\u001b[2m\u001b[36m(pid=26231)\u001b[0m Please use `layer.__call__` method instead.\n",
      "\u001b[2m\u001b[36m(pid=26231)\u001b[0m WARNING:tensorflow:From /home/aicon/anaconda3/envs/tuning/lib/python3.7/site-packages/tensorflow_core/python/layers/core.py:332: Layer.apply (from tensorflow.python.keras.engine.base_layer) is deprecated and will be removed in a future version.\n",
      "\u001b[2m\u001b[36m(pid=26231)\u001b[0m Instructions for updating:\n",
      "\u001b[2m\u001b[36m(pid=26231)\u001b[0m Please use `layer.__call__` method instead.\n",
      "\u001b[2m\u001b[36m(pid=26231)\u001b[0m WARNING:tensorflow:From /home/aicon/anaconda3/envs/tuning/lib/python3.7/site-packages/stable_baselines/common/tf_layers.py:123: The name tf.get_variable is deprecated. Please use tf.compat.v1.get_variable instead.\n",
      "\u001b[2m\u001b[36m(pid=26231)\u001b[0m \n",
      "\u001b[2m\u001b[36m(pid=26231)\u001b[0m WARNING:tensorflow:From /home/aicon/anaconda3/envs/tuning/lib/python3.7/site-packages/stable_baselines/common/tf_layers.py:123: The name tf.get_variable is deprecated. Please use tf.compat.v1.get_variable instead.\n",
      "\u001b[2m\u001b[36m(pid=26231)\u001b[0m \n",
      "\u001b[2m\u001b[36m(pid=26231)\u001b[0m WARNING:tensorflow:From /home/aicon/anaconda3/envs/tuning/lib/python3.7/site-packages/stable_baselines/common/distributions.py:326: The name tf.random_uniform is deprecated. Please use tf.random.uniform instead.\n",
      "\u001b[2m\u001b[36m(pid=26231)\u001b[0m \n",
      "\u001b[2m\u001b[36m(pid=26231)\u001b[0m WARNING:tensorflow:From /home/aicon/anaconda3/envs/tuning/lib/python3.7/site-packages/stable_baselines/common/distributions.py:326: The name tf.random_uniform is deprecated. Please use tf.random.uniform instead.\n",
      "\u001b[2m\u001b[36m(pid=26231)\u001b[0m \n",
      "\u001b[2m\u001b[36m(pid=26231)\u001b[0m WARNING:tensorflow:From /home/aicon/anaconda3/envs/tuning/lib/python3.7/site-packages/stable_baselines/common/distributions.py:327: The name tf.log is deprecated. Please use tf.math.log instead.\n",
      "\u001b[2m\u001b[36m(pid=26231)\u001b[0m \n",
      "\u001b[2m\u001b[36m(pid=26231)\u001b[0m WARNING:tensorflow:From /home/aicon/anaconda3/envs/tuning/lib/python3.7/site-packages/stable_baselines/common/distributions.py:327: The name tf.log is deprecated. Please use tf.math.log instead.\n",
      "\u001b[2m\u001b[36m(pid=26231)\u001b[0m \n",
      "\u001b[2m\u001b[36m(pid=26231)\u001b[0m WARNING:tensorflow:From /home/aicon/anaconda3/envs/tuning/lib/python3.7/site-packages/stable_baselines/a2c/a2c.py:160: The name tf.summary.scalar is deprecated. Please use tf.compat.v1.summary.scalar instead.\n",
      "\u001b[2m\u001b[36m(pid=26231)\u001b[0m \n",
      "\u001b[2m\u001b[36m(pid=26231)\u001b[0m WARNING:tensorflow:From /home/aicon/anaconda3/envs/tuning/lib/python3.7/site-packages/stable_baselines/a2c/a2c.py:160: The name tf.summary.scalar is deprecated. Please use tf.compat.v1.summary.scalar instead.\n",
      "\u001b[2m\u001b[36m(pid=26231)\u001b[0m \n",
      "\u001b[2m\u001b[36m(pid=26231)\u001b[0m WARNING:tensorflow:From /home/aicon/anaconda3/envs/tuning/lib/python3.7/site-packages/stable_baselines/common/tf_util.py:449: The name tf.get_collection is deprecated. Please use tf.compat.v1.get_collection instead.\n",
      "\u001b[2m\u001b[36m(pid=26231)\u001b[0m \n",
      "\u001b[2m\u001b[36m(pid=26231)\u001b[0m WARNING:tensorflow:From /home/aicon/anaconda3/envs/tuning/lib/python3.7/site-packages/stable_baselines/common/tf_util.py:449: The name tf.get_collection is deprecated. Please use tf.compat.v1.get_collection instead.\n",
      "\u001b[2m\u001b[36m(pid=26231)\u001b[0m \n",
      "\u001b[2m\u001b[36m(pid=26231)\u001b[0m WARNING:tensorflow:From /home/aicon/anaconda3/envs/tuning/lib/python3.7/site-packages/stable_baselines/common/tf_util.py:449: The name tf.GraphKeys is deprecated. Please use tf.compat.v1.GraphKeys instead.\n",
      "\u001b[2m\u001b[36m(pid=26231)\u001b[0m \n",
      "\u001b[2m\u001b[36m(pid=26231)\u001b[0m WARNING:tensorflow:From /home/aicon/anaconda3/envs/tuning/lib/python3.7/site-packages/stable_baselines/common/tf_util.py:449: The name tf.GraphKeys is deprecated. Please use tf.compat.v1.GraphKeys instead.\n",
      "\u001b[2m\u001b[36m(pid=26231)\u001b[0m \n",
      "\u001b[2m\u001b[36m(pid=26230)\u001b[0m ERROR:root:Max counter exceeded\n",
      "\u001b[2m\u001b[36m(pid=26231)\u001b[0m WARNING:tensorflow:From /home/aicon/anaconda3/envs/tuning/lib/python3.7/site-packages/tensorflow_core/python/ops/clip_ops.py:301: where (from tensorflow.python.ops.array_ops) is deprecated and will be removed in a future version.\n",
      "\u001b[2m\u001b[36m(pid=26231)\u001b[0m Instructions for updating:\n",
      "\u001b[2m\u001b[36m(pid=26231)\u001b[0m Use tf.where in 2.0, which has the same broadcast rule as np.where\n",
      "\u001b[2m\u001b[36m(pid=26231)\u001b[0m WARNING:tensorflow:From /home/aicon/anaconda3/envs/tuning/lib/python3.7/site-packages/tensorflow_core/python/ops/clip_ops.py:301: where (from tensorflow.python.ops.array_ops) is deprecated and will be removed in a future version.\n",
      "\u001b[2m\u001b[36m(pid=26231)\u001b[0m Instructions for updating:\n",
      "\u001b[2m\u001b[36m(pid=26231)\u001b[0m Use tf.where in 2.0, which has the same broadcast rule as np.where\n",
      "\u001b[2m\u001b[36m(pid=26231)\u001b[0m WARNING:tensorflow:From /home/aicon/anaconda3/envs/tuning/lib/python3.7/site-packages/stable_baselines/a2c/a2c.py:184: The name tf.train.RMSPropOptimizer is deprecated. Please use tf.compat.v1.train.RMSPropOptimizer instead.\n",
      "\u001b[2m\u001b[36m(pid=26231)\u001b[0m \n",
      "\u001b[2m\u001b[36m(pid=26231)\u001b[0m WARNING:tensorflow:From /home/aicon/anaconda3/envs/tuning/lib/python3.7/site-packages/stable_baselines/a2c/a2c.py:184: The name tf.train.RMSPropOptimizer is deprecated. Please use tf.compat.v1.train.RMSPropOptimizer instead.\n",
      "\u001b[2m\u001b[36m(pid=26231)\u001b[0m \n",
      "\u001b[2m\u001b[36m(pid=26231)\u001b[0m WARNING:tensorflow:From /home/aicon/anaconda3/envs/tuning/lib/python3.7/site-packages/tensorflow_core/python/training/rmsprop.py:119: calling Ones.__init__ (from tensorflow.python.ops.init_ops) with dtype is deprecated and will be removed in a future version.\n",
      "\u001b[2m\u001b[36m(pid=26231)\u001b[0m Instructions for updating:\n",
      "\u001b[2m\u001b[36m(pid=26231)\u001b[0m Call initializer instance with the dtype argument instead of passing it to the constructor\n",
      "\u001b[2m\u001b[36m(pid=26231)\u001b[0m WARNING:tensorflow:From /home/aicon/anaconda3/envs/tuning/lib/python3.7/site-packages/tensorflow_core/python/training/rmsprop.py:119: calling Ones.__init__ (from tensorflow.python.ops.init_ops) with dtype is deprecated and will be removed in a future version.\n",
      "\u001b[2m\u001b[36m(pid=26231)\u001b[0m Instructions for updating:\n",
      "\u001b[2m\u001b[36m(pid=26231)\u001b[0m Call initializer instance with the dtype argument instead of passing it to the constructor\n"
     ]
    },
    {
     "name": "stderr",
     "output_type": "stream",
     "text": [
      "\u001b[2m\u001b[36m(pid=26231)\u001b[0m WARNING:tensorflow:From /home/aicon/anaconda3/envs/tuning/lib/python3.7/site-packages/stable_baselines/a2c/a2c.py:194: The name tf.global_variables_initializer is deprecated. Please use tf.compat.v1.global_variables_initializer instead.\n",
      "\u001b[2m\u001b[36m(pid=26231)\u001b[0m \n",
      "\u001b[2m\u001b[36m(pid=26231)\u001b[0m WARNING:tensorflow:From /home/aicon/anaconda3/envs/tuning/lib/python3.7/site-packages/stable_baselines/a2c/a2c.py:194: The name tf.global_variables_initializer is deprecated. Please use tf.compat.v1.global_variables_initializer instead.\n",
      "\u001b[2m\u001b[36m(pid=26231)\u001b[0m \n",
      "\u001b[2m\u001b[36m(pid=26231)\u001b[0m WARNING:tensorflow:From /home/aicon/anaconda3/envs/tuning/lib/python3.7/site-packages/stable_baselines/a2c/a2c.py:196: The name tf.summary.merge_all is deprecated. Please use tf.compat.v1.summary.merge_all instead.\n",
      "\u001b[2m\u001b[36m(pid=26231)\u001b[0m \n",
      "\u001b[2m\u001b[36m(pid=26231)\u001b[0m WARNING:tensorflow:From /home/aicon/anaconda3/envs/tuning/lib/python3.7/site-packages/stable_baselines/a2c/a2c.py:196: The name tf.summary.merge_all is deprecated. Please use tf.compat.v1.summary.merge_all instead.\n",
      "\u001b[2m\u001b[36m(pid=26231)\u001b[0m \n",
      "\u001b[2m\u001b[36m(pid=26230)\u001b[0m ERROR:root:Max counter exceeded\n"
     ]
    },
    {
     "data": {
      "text/html": [
       "== Status ==<br>Memory usage on this node: 7.6/31.4 GiB<br>Using AsyncHyperBand: num_stopped=3\n",
       "Bracket: Iter 90.000: -1827.5333333333333 | Iter 30.000: -1839.0 | Iter 10.000: -8890.599999999999<br>Resources requested: 16/16 CPUs, 0/0 GPUs, 0.0/15.14 GiB heap, 0.0/5.22 GiB objects<br>Result logdir: /home/aicon/ray_results/evaluate_objective<br>Number of trials: 5 (2 RUNNING, 3 TERMINATED)<br><table>\n",
       "<thead>\n",
       "<tr><th>Trial name                 </th><th>status    </th><th>loc                </th><th style=\"text-align: right;\">   gamma</th><th style=\"text-align: right;\">  learning_rate</th><th style=\"text-align: right;\">  max_grad_norm</th><th style=\"text-align: right;\">  iter</th><th style=\"text-align: right;\">  total time (s)</th><th style=\"text-align: right;\">  mean_reward</th><th style=\"text-align: right;\">  mean_ep_length</th><th style=\"text-align: right;\">  packet_lost</th></tr>\n",
       "</thead>\n",
       "<tbody>\n",
       "<tr><td>evaluate_objective_c575fb02</td><td>TERMINATED</td><td>                   </td><td style=\"text-align: right;\">0.990228</td><td style=\"text-align: right;\">    0.00064491 </td><td style=\"text-align: right;\">       3.14781 </td><td style=\"text-align: right;\">   100</td><td style=\"text-align: right;\">        442.202 </td><td style=\"text-align: right;\">      -1833.6</td><td style=\"text-align: right;\">           602  </td><td style=\"text-align: right;\">            0</td></tr>\n",
       "<tr><td>evaluate_objective_c575fb03</td><td>TERMINATED</td><td>                   </td><td style=\"text-align: right;\">0.992424</td><td style=\"text-align: right;\">    0.000166578</td><td style=\"text-align: right;\">       4.45429 </td><td style=\"text-align: right;\">    90</td><td style=\"text-align: right;\">        398.804 </td><td style=\"text-align: right;\">      -1839  </td><td style=\"text-align: right;\">           602  </td><td style=\"text-align: right;\">            0</td></tr>\n",
       "<tr><td>evaluate_objective_c575fb04</td><td>TERMINATED</td><td>                   </td><td style=\"text-align: right;\">0.998132</td><td style=\"text-align: right;\">    0.0026539  </td><td style=\"text-align: right;\">       0.891429</td><td style=\"text-align: right;\">    10</td><td style=\"text-align: right;\">         48.0996</td><td style=\"text-align: right;\">     -12303.6</td><td style=\"text-align: right;\">           602  </td><td style=\"text-align: right;\">            0</td></tr>\n",
       "<tr><td>evaluate_objective_c575fb05</td><td>RUNNING   </td><td>131.234.29.24:26230</td><td style=\"text-align: right;\">0.995314</td><td style=\"text-align: right;\">    0.000825845</td><td style=\"text-align: right;\">       1.34788 </td><td style=\"text-align: right;\">     2</td><td style=\"text-align: right;\">         10.5285</td><td style=\"text-align: right;\">    -163234  </td><td style=\"text-align: right;\">           363.4</td><td style=\"text-align: right;\">           24</td></tr>\n",
       "<tr><td>evaluate_objective_c575fb06</td><td>RUNNING   </td><td>                   </td><td style=\"text-align: right;\">0.99127 </td><td style=\"text-align: right;\">    0.00239913 </td><td style=\"text-align: right;\">       2.35207 </td><td style=\"text-align: right;\">      </td><td style=\"text-align: right;\">                </td><td style=\"text-align: right;\">             </td><td style=\"text-align: right;\">                </td><td style=\"text-align: right;\">             </td></tr>\n",
       "</tbody>\n",
       "</table><br><br>"
      ],
      "text/plain": [
       "<IPython.core.display.HTML object>"
      ]
     },
     "metadata": {},
     "output_type": "display_data"
    },
    {
     "name": "stderr",
     "output_type": "stream",
     "text": [
      "\u001b[2m\u001b[36m(pid=26230)\u001b[0m ERROR:root:Max counter exceeded\n",
      "\u001b[2m\u001b[36m(pid=26230)\u001b[0m ERROR:root:Max counter exceeded\n",
      "\u001b[2m\u001b[36m(pid=26231)\u001b[0m ERROR:root:Max counter exceeded\n",
      "\u001b[2m\u001b[36m(pid=26230)\u001b[0m ERROR:root:Max counter exceeded\n",
      "\u001b[2m\u001b[36m(pid=26231)\u001b[0m ERROR:root:Max counter exceeded\n",
      "\u001b[2m\u001b[36m(pid=26230)\u001b[0m ERROR:root:Max counter exceeded\n",
      "\u001b[2m\u001b[36m(pid=26231)\u001b[0m ERROR:root:Max counter exceeded\n",
      "\u001b[2m\u001b[36m(pid=26230)\u001b[0m ERROR:root:Max counter exceeded\n",
      "\u001b[2m\u001b[36m(pid=26231)\u001b[0m ERROR:root:Max counter exceeded\n"
     ]
    },
    {
     "name": "stdout",
     "output_type": "stream",
     "text": [
      "Result for evaluate_objective_c575fb05:\n",
      "  date: 2020-12-15_23-21-17\n",
      "  done: false\n",
      "  experiment_id: 11621cd807b549089267d6418d6f9c7d\n",
      "  experiment_tag: 4_gamma=0.99531,learning_rate=0.00082584,max_grad_norm=1.3479\n",
      "  hostname: aicon3\n",
      "  iterations_since_restore: 3\n",
      "  mean_ep_length: 602.0\n",
      "  mean_reward: -37275.6\n",
      "  node_ip: 131.234.29.24\n",
      "  packet_lost: 18\n",
      "  pid: 26230\n",
      "  time_since_restore: 14.990649700164795\n",
      "  time_this_iter_s: 4.462148904800415\n",
      "  time_total_s: 14.990649700164795\n",
      "  timestamp: 1608070877\n",
      "  timesteps_since_restore: 0\n",
      "  training_iteration: 3\n",
      "  trial_id: c575fb05\n",
      "  \n",
      "Result for evaluate_objective_c575fb06:\n",
      "  date: 2020-12-15_23-21-17\n",
      "  done: false\n",
      "  experiment_id: 0556ff3ab0394d168f0044631a03c145\n",
      "  experiment_tag: 5_gamma=0.99127,learning_rate=0.0023991,max_grad_norm=2.3521\n",
      "  hostname: aicon3\n",
      "  iterations_since_restore: 1\n",
      "  mean_ep_length: 602.0\n",
      "  mean_reward: -305147.0\n",
      "  node_ip: 131.234.29.24\n",
      "  packet_lost: 15\n",
      "  pid: 26231\n",
      "  time_since_restore: 7.02914023399353\n",
      "  time_this_iter_s: 7.02914023399353\n",
      "  time_total_s: 7.02914023399353\n",
      "  timestamp: 1608070877\n",
      "  timesteps_since_restore: 0\n",
      "  training_iteration: 1\n",
      "  trial_id: c575fb06\n",
      "  \n"
     ]
    },
    {
     "name": "stderr",
     "output_type": "stream",
     "text": [
      "\u001b[2m\u001b[36m(pid=26230)\u001b[0m ERROR:root:Max counter exceeded\n",
      "\u001b[2m\u001b[36m(pid=26231)\u001b[0m ERROR:root:Max counter exceeded\n",
      "\u001b[2m\u001b[36m(pid=26230)\u001b[0m ERROR:root:Max counter exceeded\n",
      "\u001b[2m\u001b[36m(pid=26231)\u001b[0m ERROR:root:Max counter exceeded\n",
      "\u001b[2m\u001b[36m(pid=26230)\u001b[0m ERROR:root:Max counter exceeded\n",
      "\u001b[2m\u001b[36m(pid=26231)\u001b[0m ERROR:root:Max counter exceeded\n"
     ]
    },
    {
     "data": {
      "text/html": [
       "== Status ==<br>Memory usage on this node: 7.6/31.4 GiB<br>Using AsyncHyperBand: num_stopped=3\n",
       "Bracket: Iter 90.000: -1827.5333333333333 | Iter 30.000: -1839.0 | Iter 10.000: -8890.599999999999<br>Resources requested: 16/16 CPUs, 0/0 GPUs, 0.0/15.14 GiB heap, 0.0/5.22 GiB objects<br>Result logdir: /home/aicon/ray_results/evaluate_objective<br>Number of trials: 5 (2 RUNNING, 3 TERMINATED)<br><table>\n",
       "<thead>\n",
       "<tr><th>Trial name                 </th><th>status    </th><th>loc                </th><th style=\"text-align: right;\">   gamma</th><th style=\"text-align: right;\">  learning_rate</th><th style=\"text-align: right;\">  max_grad_norm</th><th style=\"text-align: right;\">  iter</th><th style=\"text-align: right;\">  total time (s)</th><th style=\"text-align: right;\">  mean_reward</th><th style=\"text-align: right;\">  mean_ep_length</th><th style=\"text-align: right;\">  packet_lost</th></tr>\n",
       "</thead>\n",
       "<tbody>\n",
       "<tr><td>evaluate_objective_c575fb02</td><td>TERMINATED</td><td>                   </td><td style=\"text-align: right;\">0.990228</td><td style=\"text-align: right;\">    0.00064491 </td><td style=\"text-align: right;\">       3.14781 </td><td style=\"text-align: right;\">   100</td><td style=\"text-align: right;\">       442.202  </td><td style=\"text-align: right;\">      -1833.6</td><td style=\"text-align: right;\">           602  </td><td style=\"text-align: right;\">            0</td></tr>\n",
       "<tr><td>evaluate_objective_c575fb03</td><td>TERMINATED</td><td>                   </td><td style=\"text-align: right;\">0.992424</td><td style=\"text-align: right;\">    0.000166578</td><td style=\"text-align: right;\">       4.45429 </td><td style=\"text-align: right;\">    90</td><td style=\"text-align: right;\">       398.804  </td><td style=\"text-align: right;\">      -1839  </td><td style=\"text-align: right;\">           602  </td><td style=\"text-align: right;\">            0</td></tr>\n",
       "<tr><td>evaluate_objective_c575fb04</td><td>TERMINATED</td><td>                   </td><td style=\"text-align: right;\">0.998132</td><td style=\"text-align: right;\">    0.0026539  </td><td style=\"text-align: right;\">       0.891429</td><td style=\"text-align: right;\">    10</td><td style=\"text-align: right;\">        48.0996 </td><td style=\"text-align: right;\">     -12303.6</td><td style=\"text-align: right;\">           602  </td><td style=\"text-align: right;\">            0</td></tr>\n",
       "<tr><td>evaluate_objective_c575fb05</td><td>RUNNING   </td><td>131.234.29.24:26230</td><td style=\"text-align: right;\">0.995314</td><td style=\"text-align: right;\">    0.000825845</td><td style=\"text-align: right;\">       1.34788 </td><td style=\"text-align: right;\">     4</td><td style=\"text-align: right;\">        18.4871 </td><td style=\"text-align: right;\">      -4865  </td><td style=\"text-align: right;\">           365.6</td><td style=\"text-align: right;\">           17</td></tr>\n",
       "<tr><td>evaluate_objective_c575fb06</td><td>RUNNING   </td><td>131.234.29.24:26231</td><td style=\"text-align: right;\">0.99127 </td><td style=\"text-align: right;\">    0.00239913 </td><td style=\"text-align: right;\">       2.35207 </td><td style=\"text-align: right;\">     1</td><td style=\"text-align: right;\">         7.02914</td><td style=\"text-align: right;\">    -305147  </td><td style=\"text-align: right;\">           602  </td><td style=\"text-align: right;\">           15</td></tr>\n",
       "</tbody>\n",
       "</table><br><br>"
      ],
      "text/plain": [
       "<IPython.core.display.HTML object>"
      ]
     },
     "metadata": {},
     "output_type": "display_data"
    },
    {
     "name": "stderr",
     "output_type": "stream",
     "text": [
      "\u001b[2m\u001b[36m(pid=26230)\u001b[0m ERROR:root:Max counter exceeded\n",
      "\u001b[2m\u001b[36m(pid=26231)\u001b[0m ERROR:root:Max counter exceeded\n",
      "\u001b[2m\u001b[36m(pid=26231)\u001b[0m ERROR:root:Max counter exceeded\n",
      "\u001b[2m\u001b[36m(pid=26231)\u001b[0m ERROR:root:Max counter exceeded\n",
      "\u001b[2m\u001b[36m(pid=26230)\u001b[0m ERROR:root:Max counter exceeded\n",
      "\u001b[2m\u001b[36m(pid=26230)\u001b[0m ERROR:root:Max counter exceeded\n"
     ]
    },
    {
     "name": "stdout",
     "output_type": "stream",
     "text": [
      "Result for evaluate_objective_c575fb05:\n",
      "  date: 2020-12-15_23-21-24\n",
      "  done: false\n",
      "  experiment_id: 11621cd807b549089267d6418d6f9c7d\n",
      "  experiment_tag: 4_gamma=0.99531,learning_rate=0.00082584,max_grad_norm=1.3479\n",
      "  hostname: aicon3\n",
      "  iterations_since_restore: 5\n",
      "  mean_ep_length: 366.8\n",
      "  mean_reward: -14509.8\n",
      "  node_ip: 131.234.29.24\n",
      "  packet_lost: 21\n",
      "  pid: 26230\n",
      "  time_since_restore: 21.900737762451172\n",
      "  time_this_iter_s: 3.4136712551116943\n",
      "  time_total_s: 21.900737762451172\n",
      "  timestamp: 1608070884\n",
      "  timesteps_since_restore: 0\n",
      "  training_iteration: 5\n",
      "  trial_id: c575fb05\n",
      "  \n"
     ]
    },
    {
     "name": "stderr",
     "output_type": "stream",
     "text": [
      "\u001b[2m\u001b[36m(pid=26230)\u001b[0m ERROR:root:Max counter exceeded\n",
      "\u001b[2m\u001b[36m(pid=26231)\u001b[0m ERROR:root:Max counter exceeded\n",
      "\u001b[2m\u001b[36m(pid=26231)\u001b[0m ERROR:root:Max counter exceeded\n",
      "\u001b[2m\u001b[36m(pid=26231)\u001b[0m ERROR:root:Max counter exceeded\n",
      "\u001b[2m\u001b[36m(pid=26231)\u001b[0m ERROR:root:Max counter exceeded\n"
     ]
    },
    {
     "name": "stdout",
     "output_type": "stream",
     "text": [
      "Result for evaluate_objective_c575fb06:\n",
      "  date: 2020-12-15_23-21-26\n",
      "  done: false\n",
      "  experiment_id: 0556ff3ab0394d168f0044631a03c145\n",
      "  experiment_tag: 5_gamma=0.99127,learning_rate=0.0023991,max_grad_norm=2.3521\n",
      "  hostname: aicon3\n",
      "  iterations_since_restore: 3\n",
      "  mean_ep_length: 602.0\n",
      "  mean_reward: -292937.8\n",
      "  node_ip: 131.234.29.24\n",
      "  packet_lost: 19\n",
      "  pid: 26231\n",
      "  time_since_restore: 16.08970856666565\n",
      "  time_this_iter_s: 4.4973602294921875\n",
      "  time_total_s: 16.08970856666565\n",
      "  timestamp: 1608070886\n",
      "  timesteps_since_restore: 0\n",
      "  training_iteration: 3\n",
      "  trial_id: c575fb06\n",
      "  \n"
     ]
    },
    {
     "data": {
      "text/html": [
       "== Status ==<br>Memory usage on this node: 7.6/31.4 GiB<br>Using AsyncHyperBand: num_stopped=3\n",
       "Bracket: Iter 90.000: -1827.5333333333333 | Iter 30.000: -1839.0 | Iter 10.000: -8890.599999999999<br>Resources requested: 16/16 CPUs, 0/0 GPUs, 0.0/15.14 GiB heap, 0.0/5.22 GiB objects<br>Result logdir: /home/aicon/ray_results/evaluate_objective<br>Number of trials: 5 (2 RUNNING, 3 TERMINATED)<br><table>\n",
       "<thead>\n",
       "<tr><th>Trial name                 </th><th>status    </th><th>loc                </th><th style=\"text-align: right;\">   gamma</th><th style=\"text-align: right;\">  learning_rate</th><th style=\"text-align: right;\">  max_grad_norm</th><th style=\"text-align: right;\">  iter</th><th style=\"text-align: right;\">  total time (s)</th><th style=\"text-align: right;\">  mean_reward</th><th style=\"text-align: right;\">  mean_ep_length</th><th style=\"text-align: right;\">  packet_lost</th></tr>\n",
       "</thead>\n",
       "<tbody>\n",
       "<tr><td>evaluate_objective_c575fb02</td><td>TERMINATED</td><td>                   </td><td style=\"text-align: right;\">0.990228</td><td style=\"text-align: right;\">    0.00064491 </td><td style=\"text-align: right;\">       3.14781 </td><td style=\"text-align: right;\">   100</td><td style=\"text-align: right;\">        442.202 </td><td style=\"text-align: right;\">      -1833.6</td><td style=\"text-align: right;\">           602  </td><td style=\"text-align: right;\">            0</td></tr>\n",
       "<tr><td>evaluate_objective_c575fb03</td><td>TERMINATED</td><td>                   </td><td style=\"text-align: right;\">0.992424</td><td style=\"text-align: right;\">    0.000166578</td><td style=\"text-align: right;\">       4.45429 </td><td style=\"text-align: right;\">    90</td><td style=\"text-align: right;\">        398.804 </td><td style=\"text-align: right;\">      -1839  </td><td style=\"text-align: right;\">           602  </td><td style=\"text-align: right;\">            0</td></tr>\n",
       "<tr><td>evaluate_objective_c575fb04</td><td>TERMINATED</td><td>                   </td><td style=\"text-align: right;\">0.998132</td><td style=\"text-align: right;\">    0.0026539  </td><td style=\"text-align: right;\">       0.891429</td><td style=\"text-align: right;\">    10</td><td style=\"text-align: right;\">         48.0996</td><td style=\"text-align: right;\">     -12303.6</td><td style=\"text-align: right;\">           602  </td><td style=\"text-align: right;\">            0</td></tr>\n",
       "<tr><td>evaluate_objective_c575fb05</td><td>RUNNING   </td><td>131.234.29.24:26230</td><td style=\"text-align: right;\">0.995314</td><td style=\"text-align: right;\">    0.000825845</td><td style=\"text-align: right;\">       1.34788 </td><td style=\"text-align: right;\">     5</td><td style=\"text-align: right;\">         21.9007</td><td style=\"text-align: right;\">     -14509.8</td><td style=\"text-align: right;\">           366.8</td><td style=\"text-align: right;\">           21</td></tr>\n",
       "<tr><td>evaluate_objective_c575fb06</td><td>RUNNING   </td><td>131.234.29.24:26231</td><td style=\"text-align: right;\">0.99127 </td><td style=\"text-align: right;\">    0.00239913 </td><td style=\"text-align: right;\">       2.35207 </td><td style=\"text-align: right;\">     3</td><td style=\"text-align: right;\">         16.0897</td><td style=\"text-align: right;\">    -292938  </td><td style=\"text-align: right;\">           602  </td><td style=\"text-align: right;\">           19</td></tr>\n",
       "</tbody>\n",
       "</table><br><br>"
      ],
      "text/plain": [
       "<IPython.core.display.HTML object>"
      ]
     },
     "metadata": {},
     "output_type": "display_data"
    },
    {
     "name": "stderr",
     "output_type": "stream",
     "text": [
      "\u001b[2m\u001b[36m(pid=26230)\u001b[0m ERROR:root:Max counter exceeded\n",
      "\u001b[2m\u001b[36m(pid=26231)\u001b[0m ERROR:root:Max counter exceeded\n",
      "\u001b[2m\u001b[36m(pid=26230)\u001b[0m ERROR:root:Max counter exceeded\n",
      "\u001b[2m\u001b[36m(pid=26230)\u001b[0m ERROR:root:Max counter exceeded\n",
      "\u001b[2m\u001b[36m(pid=26230)\u001b[0m ERROR:root:Max counter exceeded\n",
      "\u001b[2m\u001b[36m(pid=26230)\u001b[0m ERROR:root:Max counter exceeded\n",
      "\u001b[2m\u001b[36m(pid=26231)\u001b[0m ERROR:root:Max counter exceeded\n",
      "\u001b[2m\u001b[36m(pid=26231)\u001b[0m ERROR:root:Max counter exceeded\n",
      "\u001b[2m\u001b[36m(pid=26231)\u001b[0m ERROR:root:Max counter exceeded\n",
      "\u001b[2m\u001b[36m(pid=26231)\u001b[0m ERROR:root:Max counter exceeded\n",
      "\u001b[2m\u001b[36m(pid=26231)\u001b[0m ERROR:root:Max counter exceeded\n",
      "\u001b[2m\u001b[36m(pid=26230)\u001b[0m ERROR:root:Max counter exceeded\n",
      "\u001b[2m\u001b[36m(pid=26230)\u001b[0m ERROR:root:Max counter exceeded\n",
      "\u001b[2m\u001b[36m(pid=26230)\u001b[0m ERROR:root:Max counter exceeded\n",
      "\u001b[2m\u001b[36m(pid=26230)\u001b[0m ERROR:root:Max counter exceeded\n"
     ]
    },
    {
     "name": "stdout",
     "output_type": "stream",
     "text": [
      "Result for evaluate_objective_c575fb05:\n",
      "  date: 2020-12-15_23-21-33\n",
      "  done: false\n",
      "  experiment_id: 11621cd807b549089267d6418d6f9c7d\n",
      "  experiment_tag: 4_gamma=0.99531,learning_rate=0.00082584,max_grad_norm=1.3479\n",
      "  hostname: aicon3\n",
      "  iterations_since_restore: 7\n",
      "  mean_ep_length: 602.0\n",
      "  mean_reward: -14190.8\n",
      "  node_ip: 131.234.29.24\n",
      "  packet_lost: 10\n",
      "  pid: 26230\n",
      "  time_since_restore: 31.247783660888672\n",
      "  time_this_iter_s: 4.798854112625122\n",
      "  time_total_s: 31.247783660888672\n",
      "  timestamp: 1608070893\n",
      "  timesteps_since_restore: 0\n",
      "  training_iteration: 7\n",
      "  trial_id: c575fb05\n",
      "  \n"
     ]
    },
    {
     "data": {
      "text/html": [
       "== Status ==<br>Memory usage on this node: 7.6/31.4 GiB<br>Using AsyncHyperBand: num_stopped=3\n",
       "Bracket: Iter 90.000: -1827.5333333333333 | Iter 30.000: -1839.0 | Iter 10.000: -8890.599999999999<br>Resources requested: 16/16 CPUs, 0/0 GPUs, 0.0/15.14 GiB heap, 0.0/5.22 GiB objects<br>Result logdir: /home/aicon/ray_results/evaluate_objective<br>Number of trials: 5 (2 RUNNING, 3 TERMINATED)<br><table>\n",
       "<thead>\n",
       "<tr><th>Trial name                 </th><th>status    </th><th>loc                </th><th style=\"text-align: right;\">   gamma</th><th style=\"text-align: right;\">  learning_rate</th><th style=\"text-align: right;\">  max_grad_norm</th><th style=\"text-align: right;\">  iter</th><th style=\"text-align: right;\">  total time (s)</th><th style=\"text-align: right;\">  mean_reward</th><th style=\"text-align: right;\">  mean_ep_length</th><th style=\"text-align: right;\">  packet_lost</th></tr>\n",
       "</thead>\n",
       "<tbody>\n",
       "<tr><td>evaluate_objective_c575fb02</td><td>TERMINATED</td><td>                   </td><td style=\"text-align: right;\">0.990228</td><td style=\"text-align: right;\">    0.00064491 </td><td style=\"text-align: right;\">       3.14781 </td><td style=\"text-align: right;\">   100</td><td style=\"text-align: right;\">        442.202 </td><td style=\"text-align: right;\">      -1833.6</td><td style=\"text-align: right;\">             602</td><td style=\"text-align: right;\">            0</td></tr>\n",
       "<tr><td>evaluate_objective_c575fb03</td><td>TERMINATED</td><td>                   </td><td style=\"text-align: right;\">0.992424</td><td style=\"text-align: right;\">    0.000166578</td><td style=\"text-align: right;\">       4.45429 </td><td style=\"text-align: right;\">    90</td><td style=\"text-align: right;\">        398.804 </td><td style=\"text-align: right;\">      -1839  </td><td style=\"text-align: right;\">             602</td><td style=\"text-align: right;\">            0</td></tr>\n",
       "<tr><td>evaluate_objective_c575fb04</td><td>TERMINATED</td><td>                   </td><td style=\"text-align: right;\">0.998132</td><td style=\"text-align: right;\">    0.0026539  </td><td style=\"text-align: right;\">       0.891429</td><td style=\"text-align: right;\">    10</td><td style=\"text-align: right;\">         48.0996</td><td style=\"text-align: right;\">     -12303.6</td><td style=\"text-align: right;\">             602</td><td style=\"text-align: right;\">            0</td></tr>\n",
       "<tr><td>evaluate_objective_c575fb05</td><td>RUNNING   </td><td>131.234.29.24:26230</td><td style=\"text-align: right;\">0.995314</td><td style=\"text-align: right;\">    0.000825845</td><td style=\"text-align: right;\">       1.34788 </td><td style=\"text-align: right;\">     7</td><td style=\"text-align: right;\">         31.2478</td><td style=\"text-align: right;\">     -14190.8</td><td style=\"text-align: right;\">             602</td><td style=\"text-align: right;\">           10</td></tr>\n",
       "<tr><td>evaluate_objective_c575fb06</td><td>RUNNING   </td><td>131.234.29.24:26231</td><td style=\"text-align: right;\">0.99127 </td><td style=\"text-align: right;\">    0.00239913 </td><td style=\"text-align: right;\">       2.35207 </td><td style=\"text-align: right;\">     4</td><td style=\"text-align: right;\">         20.7482</td><td style=\"text-align: right;\">    -425639  </td><td style=\"text-align: right;\">             602</td><td style=\"text-align: right;\">           16</td></tr>\n",
       "</tbody>\n",
       "</table><br><br>"
      ],
      "text/plain": [
       "<IPython.core.display.HTML object>"
      ]
     },
     "metadata": {},
     "output_type": "display_data"
    },
    {
     "name": "stderr",
     "output_type": "stream",
     "text": [
      "\u001b[2m\u001b[36m(pid=26230)\u001b[0m ERROR:root:Max counter exceeded\n",
      "\u001b[2m\u001b[36m(pid=26231)\u001b[0m ERROR:root:Max counter exceeded\n",
      "\u001b[2m\u001b[36m(pid=26231)\u001b[0m ERROR:root:Max counter exceeded\n",
      "\u001b[2m\u001b[36m(pid=26231)\u001b[0m ERROR:root:Max counter exceeded\n",
      "\u001b[2m\u001b[36m(pid=26231)\u001b[0m ERROR:root:Max counter exceeded\n"
     ]
    },
    {
     "name": "stdout",
     "output_type": "stream",
     "text": [
      "Result for evaluate_objective_c575fb06:\n",
      "  date: 2020-12-15_23-21-35\n",
      "  done: false\n",
      "  experiment_id: 0556ff3ab0394d168f0044631a03c145\n",
      "  experiment_tag: 5_gamma=0.99127,learning_rate=0.0023991,max_grad_norm=2.3521\n",
      "  hostname: aicon3\n",
      "  iterations_since_restore: 5\n",
      "  mean_ep_length: 602.0\n",
      "  mean_reward: -6176.6\n",
      "  node_ip: 131.234.29.24\n",
      "  packet_lost: 20\n",
      "  pid: 26231\n",
      "  time_since_restore: 25.374545335769653\n",
      "  time_this_iter_s: 4.626350164413452\n",
      "  time_total_s: 25.374545335769653\n",
      "  timestamp: 1608070895\n",
      "  timesteps_since_restore: 0\n",
      "  training_iteration: 5\n",
      "  trial_id: c575fb06\n",
      "  \n"
     ]
    },
    {
     "name": "stderr",
     "output_type": "stream",
     "text": [
      "\u001b[2m\u001b[36m(pid=26231)\u001b[0m ERROR:root:Max counter exceeded\n",
      "\u001b[2m\u001b[36m(pid=26230)\u001b[0m ERROR:root:Max counter exceeded\n",
      "\u001b[2m\u001b[36m(pid=26230)\u001b[0m ERROR:root:Max counter exceeded\n",
      "\u001b[2m\u001b[36m(pid=26230)\u001b[0m ERROR:root:Max counter exceeded\n",
      "\u001b[2m\u001b[36m(pid=26230)\u001b[0m ERROR:root:Max counter exceeded\n",
      "\u001b[2m\u001b[36m(pid=26231)\u001b[0m ERROR:root:Max counter exceeded\n",
      "\u001b[2m\u001b[36m(pid=26230)\u001b[0m ERROR:root:Max counter exceeded\n",
      "\u001b[2m\u001b[36m(pid=26231)\u001b[0m ERROR:root:Max counter exceeded\n",
      "\u001b[2m\u001b[36m(pid=26231)\u001b[0m ERROR:root:Max counter exceeded\n",
      "\u001b[2m\u001b[36m(pid=26231)\u001b[0m ERROR:root:Max counter exceeded\n"
     ]
    },
    {
     "data": {
      "text/html": [
       "== Status ==<br>Memory usage on this node: 7.6/31.4 GiB<br>Using AsyncHyperBand: num_stopped=3\n",
       "Bracket: Iter 90.000: -1827.5333333333333 | Iter 30.000: -1839.0 | Iter 10.000: -8890.599999999999<br>Resources requested: 16/16 CPUs, 0/0 GPUs, 0.0/15.14 GiB heap, 0.0/5.22 GiB objects<br>Result logdir: /home/aicon/ray_results/evaluate_objective<br>Number of trials: 5 (2 RUNNING, 3 TERMINATED)<br><table>\n",
       "<thead>\n",
       "<tr><th>Trial name                 </th><th>status    </th><th>loc                </th><th style=\"text-align: right;\">   gamma</th><th style=\"text-align: right;\">  learning_rate</th><th style=\"text-align: right;\">  max_grad_norm</th><th style=\"text-align: right;\">  iter</th><th style=\"text-align: right;\">  total time (s)</th><th style=\"text-align: right;\">  mean_reward</th><th style=\"text-align: right;\">  mean_ep_length</th><th style=\"text-align: right;\">  packet_lost</th></tr>\n",
       "</thead>\n",
       "<tbody>\n",
       "<tr><td>evaluate_objective_c575fb02</td><td>TERMINATED</td><td>                   </td><td style=\"text-align: right;\">0.990228</td><td style=\"text-align: right;\">    0.00064491 </td><td style=\"text-align: right;\">       3.14781 </td><td style=\"text-align: right;\">   100</td><td style=\"text-align: right;\">        442.202 </td><td style=\"text-align: right;\">      -1833.6</td><td style=\"text-align: right;\">             602</td><td style=\"text-align: right;\">            0</td></tr>\n",
       "<tr><td>evaluate_objective_c575fb03</td><td>TERMINATED</td><td>                   </td><td style=\"text-align: right;\">0.992424</td><td style=\"text-align: right;\">    0.000166578</td><td style=\"text-align: right;\">       4.45429 </td><td style=\"text-align: right;\">    90</td><td style=\"text-align: right;\">        398.804 </td><td style=\"text-align: right;\">      -1839  </td><td style=\"text-align: right;\">             602</td><td style=\"text-align: right;\">            0</td></tr>\n",
       "<tr><td>evaluate_objective_c575fb04</td><td>TERMINATED</td><td>                   </td><td style=\"text-align: right;\">0.998132</td><td style=\"text-align: right;\">    0.0026539  </td><td style=\"text-align: right;\">       0.891429</td><td style=\"text-align: right;\">    10</td><td style=\"text-align: right;\">         48.0996</td><td style=\"text-align: right;\">     -12303.6</td><td style=\"text-align: right;\">             602</td><td style=\"text-align: right;\">            0</td></tr>\n",
       "<tr><td>evaluate_objective_c575fb05</td><td>RUNNING   </td><td>131.234.29.24:26230</td><td style=\"text-align: right;\">0.995314</td><td style=\"text-align: right;\">    0.000825845</td><td style=\"text-align: right;\">       1.34788 </td><td style=\"text-align: right;\">     8</td><td style=\"text-align: right;\">         35.9191</td><td style=\"text-align: right;\">     -54137.4</td><td style=\"text-align: right;\">             602</td><td style=\"text-align: right;\">           15</td></tr>\n",
       "<tr><td>evaluate_objective_c575fb06</td><td>RUNNING   </td><td>131.234.29.24:26231</td><td style=\"text-align: right;\">0.99127 </td><td style=\"text-align: right;\">    0.00239913 </td><td style=\"text-align: right;\">       2.35207 </td><td style=\"text-align: right;\">     6</td><td style=\"text-align: right;\">         29.8741</td><td style=\"text-align: right;\">     -15036  </td><td style=\"text-align: right;\">             602</td><td style=\"text-align: right;\">           14</td></tr>\n",
       "</tbody>\n",
       "</table><br><br>"
      ],
      "text/plain": [
       "<IPython.core.display.HTML object>"
      ]
     },
     "metadata": {},
     "output_type": "display_data"
    },
    {
     "name": "stderr",
     "output_type": "stream",
     "text": [
      "\u001b[2m\u001b[36m(pid=26231)\u001b[0m ERROR:root:Max counter exceeded\n",
      "\u001b[2m\u001b[36m(pid=26230)\u001b[0m ERROR:root:Max counter exceeded\n",
      "\u001b[2m\u001b[36m(pid=26230)\u001b[0m ERROR:root:Max counter exceeded\n",
      "\u001b[2m\u001b[36m(pid=26230)\u001b[0m ERROR:root:Max counter exceeded\n",
      "\u001b[2m\u001b[36m(pid=26230)\u001b[0m ERROR:root:Max counter exceeded\n",
      "\u001b[2m\u001b[36m(pid=26231)\u001b[0m ERROR:root:Max counter exceeded\n"
     ]
    },
    {
     "name": "stdout",
     "output_type": "stream",
     "text": [
      "Result for evaluate_objective_c575fb05:\n",
      "  date: 2020-12-15_23-21-42\n",
      "  done: false\n",
      "  experiment_id: 11621cd807b549089267d6418d6f9c7d\n",
      "  experiment_tag: 4_gamma=0.99531,learning_rate=0.00082584,max_grad_norm=1.3479\n",
      "  hostname: aicon3\n",
      "  iterations_since_restore: 9\n",
      "  mean_ep_length: 602.0\n",
      "  mean_reward: -26178.0\n",
      "  node_ip: 131.234.29.24\n",
      "  packet_lost: 13\n",
      "  pid: 26230\n",
      "  time_since_restore: 40.55617022514343\n",
      "  time_this_iter_s: 4.637052774429321\n",
      "  time_total_s: 40.55617022514343\n",
      "  timestamp: 1608070902\n",
      "  timesteps_since_restore: 0\n",
      "  training_iteration: 9\n",
      "  trial_id: c575fb05\n",
      "  \n"
     ]
    },
    {
     "name": "stderr",
     "output_type": "stream",
     "text": [
      "\u001b[2m\u001b[36m(pid=26230)\u001b[0m ERROR:root:Max counter exceeded\n",
      "\u001b[2m\u001b[36m(pid=26231)\u001b[0m ERROR:root:Max counter exceeded\n"
     ]
    },
    {
     "name": "stdout",
     "output_type": "stream",
     "text": [
      "Result for evaluate_objective_c575fb06:\n",
      "  date: 2020-12-15_23-21-43\n",
      "  done: false\n",
      "  experiment_id: 0556ff3ab0394d168f0044631a03c145\n",
      "  experiment_tag: 5_gamma=0.99127,learning_rate=0.0023991,max_grad_norm=2.3521\n",
      "  hostname: aicon3\n",
      "  iterations_since_restore: 7\n",
      "  mean_ep_length: 249.4\n",
      "  mean_reward: -285359.6\n",
      "  node_ip: 131.234.29.24\n",
      "  packet_lost: 23\n",
      "  pid: 26231\n",
      "  time_since_restore: 32.79704141616821\n",
      "  time_this_iter_s: 2.922981023788452\n",
      "  time_total_s: 32.79704141616821\n",
      "  timestamp: 1608070903\n",
      "  timesteps_since_restore: 0\n",
      "  training_iteration: 7\n",
      "  trial_id: c575fb06\n",
      "  \n"
     ]
    },
    {
     "name": "stderr",
     "output_type": "stream",
     "text": [
      "\u001b[2m\u001b[36m(pid=26230)\u001b[0m ERROR:root:Max counter exceeded\n",
      "\u001b[2m\u001b[36m(pid=26231)\u001b[0m ERROR:root:Max counter exceeded\n",
      "\u001b[2m\u001b[36m(pid=26230)\u001b[0m ERROR:root:Max counter exceeded\n",
      "\u001b[2m\u001b[36m(pid=26231)\u001b[0m ERROR:root:Max counter exceeded\n",
      "\u001b[2m\u001b[36m(pid=26230)\u001b[0m ERROR:root:Max counter exceeded\n",
      "\u001b[2m\u001b[36m(pid=26231)\u001b[0m ERROR:root:Max counter exceeded\n",
      "\u001b[2m\u001b[36m(pid=26230)\u001b[0m ERROR:root:Max counter exceeded\n",
      "\u001b[2m\u001b[36m(pid=26231)\u001b[0m ERROR:root:Max counter exceeded\n",
      "[INFO 12-15 23:21:47] ax.service.ax_client: Completed trial 3 with data: {'mean_reward': (-16153.4, 0.0)}.\n"
     ]
    },
    {
     "name": "stdout",
     "output_type": "stream",
     "text": [
      "Result for evaluate_objective_c575fb05:\n",
      "  date: 2020-12-15_23-21-47\n",
      "  done: true\n",
      "  experiment_id: 11621cd807b549089267d6418d6f9c7d\n",
      "  experiment_tag: 4_gamma=0.99531,learning_rate=0.00082584,max_grad_norm=1.3479\n",
      "  hostname: aicon3\n",
      "  iterations_since_restore: 10\n",
      "  mean_ep_length: 602.0\n",
      "  mean_reward: -16153.4\n",
      "  node_ip: 131.234.29.24\n",
      "  packet_lost: 18\n",
      "  pid: 26230\n",
      "  time_since_restore: 45.093305826187134\n",
      "  time_this_iter_s: 4.537135601043701\n",
      "  time_total_s: 45.093305826187134\n",
      "  timestamp: 1608070907\n",
      "  timesteps_since_restore: 0\n",
      "  training_iteration: 10\n",
      "  trial_id: c575fb05\n",
      "  \n"
     ]
    },
    {
     "name": "stderr",
     "output_type": "stream",
     "text": [
      "\u001b[2m\u001b[36m(pid=26230)\u001b[0m ERROR:root:Max counter exceeded\n"
     ]
    },
    {
     "data": {
      "text/html": [
       "== Status ==<br>Memory usage on this node: 7.6/31.4 GiB<br>Using AsyncHyperBand: num_stopped=4\n",
       "Bracket: Iter 90.000: -1827.5333333333333 | Iter 30.000: -1839.0 | Iter 10.000: -12303.6<br>Resources requested: 8/16 CPUs, 0/0 GPUs, 0.0/15.14 GiB heap, 0.0/5.22 GiB objects<br>Result logdir: /home/aicon/ray_results/evaluate_objective<br>Number of trials: 5 (1 RUNNING, 4 TERMINATED)<br><table>\n",
       "<thead>\n",
       "<tr><th>Trial name                 </th><th>status    </th><th>loc                </th><th style=\"text-align: right;\">   gamma</th><th style=\"text-align: right;\">  learning_rate</th><th style=\"text-align: right;\">  max_grad_norm</th><th style=\"text-align: right;\">  iter</th><th style=\"text-align: right;\">  total time (s)</th><th style=\"text-align: right;\">  mean_reward</th><th style=\"text-align: right;\">  mean_ep_length</th><th style=\"text-align: right;\">  packet_lost</th></tr>\n",
       "</thead>\n",
       "<tbody>\n",
       "<tr><td>evaluate_objective_c575fb02</td><td>TERMINATED</td><td>                   </td><td style=\"text-align: right;\">0.990228</td><td style=\"text-align: right;\">    0.00064491 </td><td style=\"text-align: right;\">       3.14781 </td><td style=\"text-align: right;\">   100</td><td style=\"text-align: right;\">        442.202 </td><td style=\"text-align: right;\">      -1833.6</td><td style=\"text-align: right;\">           602  </td><td style=\"text-align: right;\">            0</td></tr>\n",
       "<tr><td>evaluate_objective_c575fb03</td><td>TERMINATED</td><td>                   </td><td style=\"text-align: right;\">0.992424</td><td style=\"text-align: right;\">    0.000166578</td><td style=\"text-align: right;\">       4.45429 </td><td style=\"text-align: right;\">    90</td><td style=\"text-align: right;\">        398.804 </td><td style=\"text-align: right;\">      -1839  </td><td style=\"text-align: right;\">           602  </td><td style=\"text-align: right;\">            0</td></tr>\n",
       "<tr><td>evaluate_objective_c575fb04</td><td>TERMINATED</td><td>                   </td><td style=\"text-align: right;\">0.998132</td><td style=\"text-align: right;\">    0.0026539  </td><td style=\"text-align: right;\">       0.891429</td><td style=\"text-align: right;\">    10</td><td style=\"text-align: right;\">         48.0996</td><td style=\"text-align: right;\">     -12303.6</td><td style=\"text-align: right;\">           602  </td><td style=\"text-align: right;\">            0</td></tr>\n",
       "<tr><td>evaluate_objective_c575fb05</td><td>TERMINATED</td><td>                   </td><td style=\"text-align: right;\">0.995314</td><td style=\"text-align: right;\">    0.000825845</td><td style=\"text-align: right;\">       1.34788 </td><td style=\"text-align: right;\">    10</td><td style=\"text-align: right;\">         45.0933</td><td style=\"text-align: right;\">     -16153.4</td><td style=\"text-align: right;\">           602  </td><td style=\"text-align: right;\">           18</td></tr>\n",
       "<tr><td>evaluate_objective_c575fb06</td><td>RUNNING   </td><td>131.234.29.24:26231</td><td style=\"text-align: right;\">0.99127 </td><td style=\"text-align: right;\">    0.00239913 </td><td style=\"text-align: right;\">       2.35207 </td><td style=\"text-align: right;\">     7</td><td style=\"text-align: right;\">         32.797 </td><td style=\"text-align: right;\">    -285360  </td><td style=\"text-align: right;\">           249.4</td><td style=\"text-align: right;\">           23</td></tr>\n",
       "</tbody>\n",
       "</table><br><br>"
      ],
      "text/plain": [
       "<IPython.core.display.HTML object>"
      ]
     },
     "metadata": {},
     "output_type": "display_data"
    },
    {
     "name": "stderr",
     "output_type": "stream",
     "text": [
      "\u001b[2m\u001b[36m(pid=26231)\u001b[0m ERROR:root:Max counter exceeded\n",
      "\u001b[2m\u001b[36m(pid=26231)\u001b[0m ERROR:root:Max counter exceeded\n",
      "\u001b[2m\u001b[36m(pid=26231)\u001b[0m ERROR:root:Max counter exceeded\n",
      "\u001b[2m\u001b[36m(pid=26231)\u001b[0m ERROR:root:Max counter exceeded\n",
      "\u001b[2m\u001b[36m(pid=26231)\u001b[0m ERROR:root:Max counter exceeded\n"
     ]
    },
    {
     "name": "stdout",
     "output_type": "stream",
     "text": [
      "Result for evaluate_objective_c575fb06:\n",
      "  date: 2020-12-15_23-21-51\n",
      "  done: false\n",
      "  experiment_id: 0556ff3ab0394d168f0044631a03c145\n",
      "  experiment_tag: 5_gamma=0.99127,learning_rate=0.0023991,max_grad_norm=2.3521\n",
      "  hostname: aicon3\n",
      "  iterations_since_restore: 9\n",
      "  mean_ep_length: 602.0\n",
      "  mean_reward: -78714.2\n",
      "  node_ip: 131.234.29.24\n",
      "  packet_lost: 9\n",
      "  pid: 26231\n",
      "  time_since_restore: 41.41690945625305\n",
      "  time_this_iter_s: 4.041687488555908\n",
      "  time_total_s: 41.41690945625305\n",
      "  timestamp: 1608070911\n",
      "  timesteps_since_restore: 0\n",
      "  training_iteration: 9\n",
      "  trial_id: c575fb06\n",
      "  \n"
     ]
    },
    {
     "name": "stderr",
     "output_type": "stream",
     "text": [
      "\u001b[2m\u001b[36m(pid=26231)\u001b[0m ERROR:root:Max counter exceeded\n",
      "\u001b[2m\u001b[36m(pid=26231)\u001b[0m ERROR:root:Max counter exceeded\n",
      "\u001b[2m\u001b[36m(pid=26231)\u001b[0m ERROR:root:Max counter exceeded\n",
      "\u001b[2m\u001b[36m(pid=26231)\u001b[0m ERROR:root:Max counter exceeded\n",
      "[INFO 12-15 23:21:55] ax.service.ax_client: Completed trial 4 with data: {'mean_reward': (-147440.8, 0.0)}.\n"
     ]
    },
    {
     "name": "stdout",
     "output_type": "stream",
     "text": [
      "Result for evaluate_objective_c575fb06:\n",
      "  date: 2020-12-15_23-21-55\n",
      "  done: true\n",
      "  experiment_id: 0556ff3ab0394d168f0044631a03c145\n",
      "  experiment_tag: 5_gamma=0.99127,learning_rate=0.0023991,max_grad_norm=2.3521\n",
      "  hostname: aicon3\n",
      "  iterations_since_restore: 10\n",
      "  mean_ep_length: 483.6\n",
      "  mean_reward: -147440.8\n",
      "  node_ip: 131.234.29.24\n",
      "  packet_lost: 0\n",
      "  pid: 26231\n",
      "  time_since_restore: 45.01384496688843\n",
      "  time_this_iter_s: 3.596935510635376\n",
      "  time_total_s: 45.01384496688843\n",
      "  timestamp: 1608070915\n",
      "  timesteps_since_restore: 0\n",
      "  training_iteration: 10\n",
      "  trial_id: c575fb06\n",
      "  \n"
     ]
    },
    {
     "name": "stderr",
     "output_type": "stream",
     "text": [
      "\u001b[2m\u001b[36m(pid=26231)\u001b[0m ERROR:root:Max counter exceeded\n"
     ]
    },
    {
     "data": {
      "text/html": [
       "== Status ==<br>Memory usage on this node: 7.3/31.4 GiB<br>Using AsyncHyperBand: num_stopped=5\n",
       "Bracket: Iter 90.000: -1827.5333333333333 | Iter 30.000: -1839.0 | Iter 10.000: -13586.866666666665<br>Resources requested: 0/16 CPUs, 0/0 GPUs, 0.0/15.14 GiB heap, 0.0/5.22 GiB objects<br>Result logdir: /home/aicon/ray_results/evaluate_objective<br>Number of trials: 5 (5 TERMINATED)<br><table>\n",
       "<thead>\n",
       "<tr><th>Trial name                 </th><th>status    </th><th>loc  </th><th style=\"text-align: right;\">   gamma</th><th style=\"text-align: right;\">  learning_rate</th><th style=\"text-align: right;\">  max_grad_norm</th><th style=\"text-align: right;\">  iter</th><th style=\"text-align: right;\">  total time (s)</th><th style=\"text-align: right;\">  mean_reward</th><th style=\"text-align: right;\">  mean_ep_length</th><th style=\"text-align: right;\">  packet_lost</th></tr>\n",
       "</thead>\n",
       "<tbody>\n",
       "<tr><td>evaluate_objective_c575fb02</td><td>TERMINATED</td><td>     </td><td style=\"text-align: right;\">0.990228</td><td style=\"text-align: right;\">    0.00064491 </td><td style=\"text-align: right;\">       3.14781 </td><td style=\"text-align: right;\">   100</td><td style=\"text-align: right;\">        442.202 </td><td style=\"text-align: right;\">      -1833.6</td><td style=\"text-align: right;\">           602  </td><td style=\"text-align: right;\">            0</td></tr>\n",
       "<tr><td>evaluate_objective_c575fb03</td><td>TERMINATED</td><td>     </td><td style=\"text-align: right;\">0.992424</td><td style=\"text-align: right;\">    0.000166578</td><td style=\"text-align: right;\">       4.45429 </td><td style=\"text-align: right;\">    90</td><td style=\"text-align: right;\">        398.804 </td><td style=\"text-align: right;\">      -1839  </td><td style=\"text-align: right;\">           602  </td><td style=\"text-align: right;\">            0</td></tr>\n",
       "<tr><td>evaluate_objective_c575fb04</td><td>TERMINATED</td><td>     </td><td style=\"text-align: right;\">0.998132</td><td style=\"text-align: right;\">    0.0026539  </td><td style=\"text-align: right;\">       0.891429</td><td style=\"text-align: right;\">    10</td><td style=\"text-align: right;\">         48.0996</td><td style=\"text-align: right;\">     -12303.6</td><td style=\"text-align: right;\">           602  </td><td style=\"text-align: right;\">            0</td></tr>\n",
       "<tr><td>evaluate_objective_c575fb05</td><td>TERMINATED</td><td>     </td><td style=\"text-align: right;\">0.995314</td><td style=\"text-align: right;\">    0.000825845</td><td style=\"text-align: right;\">       1.34788 </td><td style=\"text-align: right;\">    10</td><td style=\"text-align: right;\">         45.0933</td><td style=\"text-align: right;\">     -16153.4</td><td style=\"text-align: right;\">           602  </td><td style=\"text-align: right;\">           18</td></tr>\n",
       "<tr><td>evaluate_objective_c575fb06</td><td>TERMINATED</td><td>     </td><td style=\"text-align: right;\">0.99127 </td><td style=\"text-align: right;\">    0.00239913 </td><td style=\"text-align: right;\">       2.35207 </td><td style=\"text-align: right;\">    10</td><td style=\"text-align: right;\">         45.0138</td><td style=\"text-align: right;\">    -147441  </td><td style=\"text-align: right;\">           483.6</td><td style=\"text-align: right;\">            0</td></tr>\n",
       "</tbody>\n",
       "</table><br><br>"
      ],
      "text/plain": [
       "<IPython.core.display.HTML object>"
      ]
     },
     "metadata": {},
     "output_type": "display_data"
    },
    {
     "data": {
      "text/html": [
       "== Status ==<br>Memory usage on this node: 7.3/31.4 GiB<br>Using AsyncHyperBand: num_stopped=5\n",
       "Bracket: Iter 90.000: -1827.5333333333333 | Iter 30.000: -1839.0 | Iter 10.000: -13586.866666666665<br>Resources requested: 0/16 CPUs, 0/0 GPUs, 0.0/15.14 GiB heap, 0.0/5.22 GiB objects<br>Result logdir: /home/aicon/ray_results/evaluate_objective<br>Number of trials: 5 (5 TERMINATED)<br><table>\n",
       "<thead>\n",
       "<tr><th>Trial name                 </th><th>status    </th><th>loc  </th><th style=\"text-align: right;\">   gamma</th><th style=\"text-align: right;\">  learning_rate</th><th style=\"text-align: right;\">  max_grad_norm</th><th style=\"text-align: right;\">  iter</th><th style=\"text-align: right;\">  total time (s)</th><th style=\"text-align: right;\">  mean_reward</th><th style=\"text-align: right;\">  mean_ep_length</th><th style=\"text-align: right;\">  packet_lost</th></tr>\n",
       "</thead>\n",
       "<tbody>\n",
       "<tr><td>evaluate_objective_c575fb02</td><td>TERMINATED</td><td>     </td><td style=\"text-align: right;\">0.990228</td><td style=\"text-align: right;\">    0.00064491 </td><td style=\"text-align: right;\">       3.14781 </td><td style=\"text-align: right;\">   100</td><td style=\"text-align: right;\">        442.202 </td><td style=\"text-align: right;\">      -1833.6</td><td style=\"text-align: right;\">           602  </td><td style=\"text-align: right;\">            0</td></tr>\n",
       "<tr><td>evaluate_objective_c575fb03</td><td>TERMINATED</td><td>     </td><td style=\"text-align: right;\">0.992424</td><td style=\"text-align: right;\">    0.000166578</td><td style=\"text-align: right;\">       4.45429 </td><td style=\"text-align: right;\">    90</td><td style=\"text-align: right;\">        398.804 </td><td style=\"text-align: right;\">      -1839  </td><td style=\"text-align: right;\">           602  </td><td style=\"text-align: right;\">            0</td></tr>\n",
       "<tr><td>evaluate_objective_c575fb04</td><td>TERMINATED</td><td>     </td><td style=\"text-align: right;\">0.998132</td><td style=\"text-align: right;\">    0.0026539  </td><td style=\"text-align: right;\">       0.891429</td><td style=\"text-align: right;\">    10</td><td style=\"text-align: right;\">         48.0996</td><td style=\"text-align: right;\">     -12303.6</td><td style=\"text-align: right;\">           602  </td><td style=\"text-align: right;\">            0</td></tr>\n",
       "<tr><td>evaluate_objective_c575fb05</td><td>TERMINATED</td><td>     </td><td style=\"text-align: right;\">0.995314</td><td style=\"text-align: right;\">    0.000825845</td><td style=\"text-align: right;\">       1.34788 </td><td style=\"text-align: right;\">    10</td><td style=\"text-align: right;\">         45.0933</td><td style=\"text-align: right;\">     -16153.4</td><td style=\"text-align: right;\">           602  </td><td style=\"text-align: right;\">           18</td></tr>\n",
       "<tr><td>evaluate_objective_c575fb06</td><td>TERMINATED</td><td>     </td><td style=\"text-align: right;\">0.99127 </td><td style=\"text-align: right;\">    0.00239913 </td><td style=\"text-align: right;\">       2.35207 </td><td style=\"text-align: right;\">    10</td><td style=\"text-align: right;\">         45.0138</td><td style=\"text-align: right;\">    -147441  </td><td style=\"text-align: right;\">           483.6</td><td style=\"text-align: right;\">            0</td></tr>\n",
       "</tbody>\n",
       "</table><br><br>"
      ],
      "text/plain": [
       "<IPython.core.display.HTML object>"
      ]
     },
     "metadata": {},
     "output_type": "display_data"
    }
   ],
   "source": [
    "from ray import tune\n",
    "from ray.tune.suggest.ax import AxSearch\n",
    "from ray.tune.schedulers import ASHAScheduler\n",
    "parameters=[\n",
    "    {\"name\": \"learning_rate\", \"type\": \"range\", \"bounds\": [3e-5, 3e-3]},\n",
    "    {\"name\": \"gamma\", \"type\": \"range\", \"bounds\": [0.99, 1.0]},\n",
    "    {\"name\": \"max_grad_norm\", \"type\": \"range\", \"bounds\": [0.3, 7.0]}\n",
    "]   \n",
    "\n",
    "        \n",
    "def evaluate_objective(config):\n",
    "    tune_env = deepcopy(env)\n",
    "    tune_monitor = OptimizationCallback(tune_env, 5, True)\n",
    "    monitor_callback = EveryNTimesteps(n_steps=1000, callback=tune_monitor)\n",
    "\n",
    "    \n",
    "    \n",
    "    tune_agent = A2C(\"MlpPolicy\", tune_env, \n",
    "                     gamma = config[\"gamma\"],\n",
    "                     max_grad_norm = config[\"max_grad_norm\"],\n",
    "                     learning_rate= config[\"learning_rate\"]\n",
    "                    )#**config)\n",
    "    tune_agent.learn(total_timesteps=400000, callback=monitor_callback)\n",
    "    \n",
    "ax_search = AxSearch(space=parameters, metric=\"mean_reward\", mode = \"max\")\n",
    "\n",
    "asha_scheduler = ASHAScheduler(\n",
    "    time_attr='training_iteration',\n",
    "    metric='mean_reward',\n",
    "    mode='max',\n",
    "    max_t=100,\n",
    "    grace_period=10,\n",
    "    reduction_factor=3,\n",
    "    brackets=1)\n",
    "\n",
    "analysis = tune.run(evaluate_objective,\n",
    "         num_samples=5,\n",
    "         search_alg=ax_search,\n",
    "         scheduler=asha_scheduler,\n",
    "         resources_per_trial={\"cpu\": 8}\n",
    "        )"
   ]
  },
  {
   "cell_type": "code",
   "execution_count": 11,
   "metadata": {},
   "outputs": [
    {
     "name": "stdout",
     "output_type": "stream",
     "text": [
      "{'learning_rate': 0.0006449103234149516, 'gamma': 0.9902283585257828, 'max_grad_norm': 3.1478082166984676}\n"
     ]
    }
   ],
   "source": [
    "print(analysis.get_best_config(metric=\"mean_reward\", mode = \"max\"))\n"
   ]
  },
  {
   "cell_type": "code",
   "execution_count": null,
   "metadata": {},
   "outputs": [],
   "source": []
  },
  {
   "cell_type": "code",
   "execution_count": null,
   "metadata": {},
   "outputs": [],
   "source": []
  },
  {
   "cell_type": "code",
   "execution_count": null,
   "metadata": {},
   "outputs": [],
   "source": []
  }
 ],
 "metadata": {
  "kernelspec": {
   "display_name": "Python 3",
   "language": "python",
   "name": "python3"
  },
  "language_info": {
   "codemirror_mode": {
    "name": "ipython",
    "version": 3
   },
   "file_extension": ".py",
   "mimetype": "text/x-python",
   "name": "python",
   "nbconvert_exporter": "python",
   "pygments_lexer": "ipython3",
   "version": "3.7.9"
  }
 },
 "nbformat": 4,
 "nbformat_minor": 4
}
