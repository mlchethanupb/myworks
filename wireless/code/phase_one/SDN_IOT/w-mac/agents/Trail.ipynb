{
 "cells": [
  {
   "cell_type": "code",
   "execution_count": 1,
   "metadata": {},
   "outputs": [],
   "source": [
    "import gym\n",
    "import w_mac\n",
    "import numpy as np\n",
    "from gym.spaces import Tuple, Discrete, Box, MultiDiscrete, MultiBinary\n",
    "from collections import defaultdict\n",
    "import networkx as nx\n",
    "import random\n",
    "from w_mac.envs.packet import Packet"
   ]
  },
  {
   "cell_type": "code",
   "execution_count": 2,
   "metadata": {},
   "outputs": [
    {
     "name": "stdout",
     "output_type": "stream",
     "text": [
      "defaultdict(<class 'list'>, {0: [2, 1, 3], 1: [2, 3], 2: [3, 4], 3: [4], 5: [2, 3, 4]})\n"
     ]
    },
    {
     "data": {
      "image/png": "[encoded data removed]",
      "text/plain": [
       "<Figure size 432x288 with 1 Axes>"
      ]
     },
     "metadata": {},
     "output_type": "display_data"
    }
   ],
   "source": [
    "# data = [(0,2),(0,1),(1,2),(2,3),(2,4),(3,4)]\n",
    "#data = [(0,1),(0,8),(0,7),(0,12),(0,2),(1,2),(1,12),(1,5),(1,6),(1,14),(1,7),(1,8),(5,6),(5,14),(6,14),(8,7),(12,2),(2,3),(2,4),(4,13),(4,9),(4,11),(4,10),(10,11),(9,13),(3,4),(9,10),(9,11),(5,15)]\n",
    "d = defaultdict(list)\n",
    "data = [(0,2),(0,1),(0,3),(1,2),(1,3),(2,3),(2,4),(3,4),(5,2),(5,3),(5,4)]\n",
    "# defaultdict(<type 'list'>, {})\n",
    "for node, dest in data:\n",
    "    d[node].append(dest)\n",
    "print(d)\n",
    "\n",
    "G = nx.Graph()\n",
    "for k,v in d.items():\n",
    "    for vv in v:\n",
    "        G.add_edge(k,vv)\n",
    "nx.draw(G)"
   ]
  },
  {
   "cell_type": "code",
   "execution_count": 3,
   "metadata": {},
   "outputs": [
    {
     "data": {
      "text/plain": [
       "False"
      ]
     },
     "execution_count": 3,
     "metadata": {},
     "output_type": "execute_result"
    }
   ],
   "source": [
    "G.has_edge(0,5)"
   ]
  },
  {
   "cell_type": "code",
   "execution_count": 5,
   "metadata": {},
   "outputs": [
    {
     "name": "stdout",
     "output_type": "stream",
     "text": [
      "Intermediate nodes 2\n",
      "Intermediate nodes 3\n",
      "self.collision_domain {1: [0, 1, 2, 3], 5: [2, 3, 4, 5]}\n",
      "self.node_in_domains :  {0: [1], 1: [1], 2: [1, 5], 3: [1, 5], 4: [5], 5: [5]}\n",
      "lower_bound [0, 0, 0, 0, 2, 2, 0, 0, 0, 0, 0, 0] higher_bound [3, 3, 5, 5, 5, 5, 1, 1, 1, 1, 1, 1]\n",
      "Box(12,)\n",
      "[0 1 1 0 5 5 1 1 1 1 1 1]\n",
      "MultiDiscrete([7 7 7 7 7 7 2 2 2 2 2 2])\n",
      "[1 1 2 5 3 3 0 1 0 1 1 0]\n",
      "src:  0 dest:  4\n",
      "src:  0 dest:  4\n",
      "src:  2 dest:  1\n",
      "src:  2 dest:  5\n",
      "src:  1 dest:  3\n",
      "src:  1 dest:  3\n",
      "src:  3 dest:  2\n",
      "src:  3 dest:  2\n",
      "src:  4 dest:  5\n",
      "src:  4 dest:  3\n",
      "src:  5 dest:  5\n",
      "src:  5 dest:  0\n",
      "src:  0 dest:  0\n",
      "src:  0 dest:  2\n",
      "src:  2 dest:  3\n",
      "src:  2 dest:  4\n",
      "src:  1 dest:  0\n",
      "src:  1 dest:  4\n",
      "src:  3 dest:  4\n",
      "src:  3 dest:  5\n",
      "src:  4 dest:  5\n",
      "src:  4 dest:  0\n",
      "src:  5 dest:  4\n",
      "src:  5 dest:  4\n",
      "[0, 3, 0, 4, 5, 4, 0, 0, 1, 0, 0, 0]\n"
     ]
    },
    {
     "data": {
      "text/plain": [
       "array([0, 3, 0, 4, 5, 4, 0, 0, 1, 0, 0, 0])"
      ]
     },
     "execution_count": 5,
     "metadata": {},
     "output_type": "execute_result"
    }
   ],
   "source": [
    "env = gym.make('wmac-graph-v0',graph=G)\n",
    "env.reset()"
   ]
  },
  {
   "cell_type": "code",
   "execution_count": 6,
   "metadata": {},
   "outputs": [
    {
     "data": {
      "text/plain": [
       "array([3, 2, 5, 5, 4, 2, 0, 0, 0, 0, 1, 0], dtype=int32)"
      ]
     },
     "execution_count": 6,
     "metadata": {},
     "output_type": "execute_result"
    }
   ],
   "source": [
    "actions= env.action_space.sample()\n",
    "actions"
   ]
  },
  {
   "cell_type": "code",
   "execution_count": 7,
   "metadata": {},
   "outputs": [
    {
     "name": "stdout",
     "output_type": "stream",
     "text": [
      "received action [3 2 5 5 4 2 0 0 0 0 1 0]\n",
      "nxt_hop_list:  [3, 2, 5, 5, 4, 2]\n",
      "tw_status_list [0, 0, 0, 0, 1, 0]\n",
      "node  4  transmission SUCCESS\n",
      "Adding packet to the queue of  4\n",
      "final reward -3900\n",
      "packets delivered  1\n",
      "packet_lost  0\n",
      "nxt_state_arr, reward, isdone [0 3 0 4 0 4 0 0 1 0 0 0] -3900 False\n",
      "[0 3 0 4 0 4 0 0 1 0 0 0] -3900 False {}\n"
     ]
    }
   ],
   "source": [
    "nxt_state, reward, done, _ = env.step(actions)\n",
    "print(nxt_state, reward, done, _ )"
   ]
  },
  {
   "cell_type": "code",
   "execution_count": 8,
   "metadata": {},
   "outputs": [
    {
     "ename": "AttributeError",
     "evalue": "'Box' object has no attribute 'nvec'",
     "output_type": "error",
     "traceback": [
      "\u001b[0;31m---------------------------------------------------------------------------\u001b[0m",
      "\u001b[0;31mAttributeError\u001b[0m                            Traceback (most recent call last)",
      "\u001b[0;32m<ipython-input-8-d55e9b03bece>\u001b[0m in \u001b[0;36m<module>\u001b[0;34m\u001b[0m\n\u001b[0;32m----> 1\u001b[0;31m \u001b[0menv\u001b[0m\u001b[0;34m.\u001b[0m\u001b[0maction_space\u001b[0m\u001b[0;34m.\u001b[0m\u001b[0mnvec\u001b[0m\u001b[0;34m[\u001b[0m\u001b[0;36m0\u001b[0m\u001b[0;34m]\u001b[0m\u001b[0;34m\u001b[0m\u001b[0;34m\u001b[0m\u001b[0m\n\u001b[0m",
      "\u001b[0;31mAttributeError\u001b[0m: 'Box' object has no attribute 'nvec'"
     ]
    }
   ],
   "source": [
    "env.action_space.nvec[0]"
   ]
  },
  {
   "cell_type": "code",
   "execution_count": null,
   "metadata": {},
   "outputs": [],
   "source": [
    "actions = [1,0,1,0,1]\n",
    "collision_domain  = {0:[0,1,2],1:[2,3,4]}\n",
    "\n",
    "p1_src = 0\n",
    "p4_src = 4 \n",
    "\n",
    "p1_nh = 2\n",
    "p4_nh = 2 \n",
    "\n",
    "for id, action in enumerate(actions):\n",
    "      for key,values in collision_domain.items():\n",
    "        if(id in values):\n",
    "            action_sublist = [actions[i] for i in values]\n",
    "            #print(\"a_sublist\", action_sublist)\n",
    "            if(action_sublist.count(1) > 1):\n",
    "                print(\"collision\")\n",
    "                break\n",
    "            else:\n",
    "                print(\"sucess\")\n",
    "                break\n",
    "    "
   ]
  },
  {
   "cell_type": "code",
   "execution_count": null,
   "metadata": {},
   "outputs": [],
   "source": [
    "wait_counter = [4,2,3,1,0]\n",
    "actions = [0,1,0,1,0]\n",
    "reward = 0\n",
    "for id,count_val in enumerate(wait_counter):\n",
    "    print(id, count_val)\n",
    "    if count_val < 4 and actions[id] != 1 :\n",
    "        print(\"id\",id)\n",
    "        reward -= 500\n",
    "print(reward)        "
   ]
  },
  {
   "cell_type": "code",
   "execution_count": null,
   "metadata": {},
   "outputs": [],
   "source": [
    "from gym.spaces import Box\n",
    "\n",
    "\n",
    "B = Box(low=0.0, high=1.0, shape=(2, 3), dtype=np.float32)\n",
    "B.sample()"
   ]
  },
  {
   "cell_type": "code",
   "execution_count": null,
   "metadata": {},
   "outputs": [],
   "source": [
    "c =  MultiDiscrete([ (5,5,5,5,5), (2,2,2,2,2) ])\n",
    "c.sample()"
   ]
  },
  {
   "cell_type": "code",
   "execution_count": null,
   "metadata": {},
   "outputs": [],
   "source": [
    "t = Tuple((Discrete(6),Discrete(6),Box(0, 1, shape=(1, 5))))\n",
    "t.sample()"
   ]
  },
  {
   "cell_type": "code",
   "execution_count": null,
   "metadata": {},
   "outputs": [],
   "source": [
    "#e = Tuple((MultiDiscrete([ (5,5,5,5,5), (2,2,2,2,2) ]),Box(0, 1, shape=(1, 5))))\n",
    "#e.sample()"
   ]
  },
  {
   "cell_type": "code",
   "execution_count": null,
   "metadata": {},
   "outputs": [],
   "source": [
    "num_nodes = 5\n",
    "tup1 = tuple((num_nodes,)*num_nodes)\n",
    "tup2 = tuple((2,)*num_nodes)\n",
    "l1 = []\n",
    "l1.append(tup1)\n",
    "l1.append(tup2)\n",
    "l1"
   ]
  },
  {
   "cell_type": "code",
   "execution_count": null,
   "metadata": {},
   "outputs": [],
   "source": [
    "m1 = MultiDiscrete(l1)\n",
    "m1.sample()"
   ]
  },
  {
   "cell_type": "code",
   "execution_count": null,
   "metadata": {},
   "outputs": [],
   "source": [
    "queues = {i: [] for i in env.graph.nodes(data=False)}\n",
    "print(queues)\n",
    "\n",
    "for i in env.graph.nodes(data=False):\n",
    "    #Assumption : same destination for all the queued packets in the node\n",
    "    src = i\n",
    "    dest = random.randrange(1,5)\n",
    "    while (False == (env.graph.has_edge(src,dest))):\n",
    "        dest = random.randrange(1,5)\n",
    "    print(src,dest)\n",
    "\n",
    "    for count in range(2):\n",
    "        # create packet and register process\n",
    "        packet = Packet(src,dest,dest) #for now consider single hop. Hence dest = nxt_hop\n",
    "        queues[src].insert(0, packet)\n",
    "\n",
    "# Print the number of elements in queue.\n",
    "#print(len(queues[1]))\n",
    "\n",
    "n3_queue = queues[3]\n",
    "n3_first_packet = n3_queue[len(n3_queue)-1]\n",
    "print('n3_nxt_hop', n3_first_packet.nxt_hop)\n",
    "\n",
    "#Frame the state - Next hop of all first packets in queue.\n",
    "\n",
    "state = [] #empty list for state\n",
    "\n",
    "for node in queues.values():\n",
    "    if len(node):\n",
    "        print(node[len(node)-1].id)\n",
    "        state.append(node[len(node)-1].nxt_hop)\n",
    "    #for packet in node:\n",
    "    while (len(node)):\n",
    "        packet = node.pop()\n",
    "        print('id :',packet.id)\n",
    "        print('src :',packet.src)\n",
    "        print('dest :',packet.dest)\n",
    "        print('nxt_hop :',packet.nxt_hop)\n",
    "        print('------------------------')\n",
    "    \n",
    "    print(state)\n"
   ]
  }
 ],
 "metadata": {
  "kernelspec": {
   "display_name": "Python 3",
   "language": "python",
   "name": "python3"
  },
  "language_info": {
   "codemirror_mode": {
    "name": "ipython",
    "version": 3
   },
   "file_extension": ".py",
   "mimetype": "text/x-python",
   "name": "python",
   "nbconvert_exporter": "python",
   "pygments_lexer": "ipython3",
   "version": "3.7.6"
  }
 },
 "nbformat": 4,
 "nbformat_minor": 4
}
