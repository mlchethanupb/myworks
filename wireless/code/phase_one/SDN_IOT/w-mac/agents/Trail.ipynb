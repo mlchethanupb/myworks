{
 "cells": [
  {
   "cell_type": "code",
   "execution_count": null,
   "metadata": {},
   "outputs": [],
   "source": [
    "import gym\n",
    "import w_mac\n",
    "import numpy as np\n",
    "from gym.spaces import Tuple, Discrete, Box, MultiDiscrete, MultiBinary\n",
    "from collections import defaultdict\n",
    "import networkx as nx\n",
    "import random\n",
    "from w_mac.envs.packet import Packet"
   ]
  },
  {
   "cell_type": "code",
   "execution_count": null,
   "metadata": {},
   "outputs": [],
   "source": [
    "# data = [(0,2),(0,1),(1,2),(2,3),(2,4),(3,4)]\n",
    "#data = [(0,1),(0,8),(0,7),(0,12),(0,2),(1,2),(1,12),(1,5),(1,6),(1,14),(1,7),(1,8),(5,6),(5,14),(6,14),(8,7),(12,2),(2,3),(2,4),(4,13),(4,9),(4,11),(4,10),(10,11),(9,13),(3,4),(9,10),(9,11),(5,15)]\n",
    "d = defaultdict(list)\n",
    "data = [(0,2),(0,1),(0,3),(1,2),(1,3),(2,3),(2,4),(3,4),(5,2),(5,3),(5,4)]\n",
    "# defaultdict(<type 'list'>, {})\n",
    "for node, dest in data:\n",
    "    d[node].append(dest)\n",
    "print(d)\n",
    "\n",
    "G = nx.Graph()\n",
    "for k,v in d.items():\n",
    "    for vv in v:\n",
    "        G.add_edge(k,vv)\n",
    "nx.draw(G)"
   ]
  },
  {
   "cell_type": "code",
   "execution_count": null,
   "metadata": {},
   "outputs": [],
   "source": [
    "G.has_edge(0,5)"
   ]
  },
  {
   "cell_type": "code",
   "execution_count": null,
   "metadata": {},
   "outputs": [],
   "source": [
    "env = gym.make('wmac-graph-v0',graph=G)\n",
    "env.reset()"
   ]
  },
  {
   "cell_type": "code",
   "execution_count": null,
   "metadata": {},
   "outputs": [],
   "source": [
    "actions= env.action_space.sample()\n",
    "actions"
   ]
  },
  {
   "cell_type": "code",
   "execution_count": null,
   "metadata": {},
   "outputs": [],
   "source": [
    "nxt_state, reward, done, _ = env.step(actions)\n",
    "print(nxt_state, reward, done, _ )"
   ]
  },
  {
   "cell_type": "code",
   "execution_count": null,
   "metadata": {},
   "outputs": [],
   "source": [
    "env.action_space.nvec[0]"
   ]
  },
  {
   "cell_type": "code",
   "execution_count": null,
   "metadata": {},
   "outputs": [],
   "source": [
    "actions = [1,0,1,0,1]\n",
    "collision_domain  = {0:[0,1,2],1:[2,3,4]}\n",
    "\n",
    "p1_src = 0\n",
    "p4_src = 4 \n",
    "\n",
    "p1_nh = 2\n",
    "p4_nh = 2 \n",
    "\n",
    "for id, action in enumerate(actions):\n",
    "      for key,values in collision_domain.items():\n",
    "        if(id in values):\n",
    "            action_sublist = [actions[i] for i in values]\n",
    "            #print(\"a_sublist\", action_sublist)\n",
    "            if(action_sublist.count(1) > 1):\n",
    "                print(\"collision\")\n",
    "                break\n",
    "            else:\n",
    "                print(\"sucess\")\n",
    "                break\n",
    "    "
   ]
  },
  {
   "cell_type": "code",
   "execution_count": null,
   "metadata": {},
   "outputs": [],
   "source": [
    "wait_counter = [4,2,3,1,0]\n",
    "actions = [0,1,0,1,0]\n",
    "reward = 0\n",
    "for id,count_val in enumerate(wait_counter):\n",
    "    print(id, count_val)\n",
    "    if count_val < 4 and actions[id] != 1 :\n",
    "        print(\"id\",id)\n",
    "        reward -= 500\n",
    "print(reward)        "
   ]
  },
  {
   "cell_type": "code",
   "execution_count": null,
   "metadata": {},
   "outputs": [],
   "source": [
    "from gym.spaces import Box\n",
    "\n",
    "\n",
    "B = Box(low=0.0, high=1.0, shape=(2, 3), dtype=np.float32)\n",
    "B.sample()"
   ]
  },
  {
   "cell_type": "code",
   "execution_count": null,
   "metadata": {},
   "outputs": [],
   "source": [
    "c =  MultiDiscrete([ (5,5,5,5,5), (2,2,2,2,2) ])\n",
    "c.sample()"
   ]
  },
  {
   "cell_type": "code",
   "execution_count": null,
   "metadata": {},
   "outputs": [],
   "source": [
    "t = Tuple((Discrete(6),Discrete(6),Box(0, 1, shape=(1, 5))))\n",
    "t.sample()"
   ]
  },
  {
   "cell_type": "code",
   "execution_count": null,
   "metadata": {},
   "outputs": [],
   "source": [
    "#e = Tuple((MultiDiscrete([ (5,5,5,5,5), (2,2,2,2,2) ]),Box(0, 1, shape=(1, 5))))\n",
    "#e.sample()"
   ]
  },
  {
   "cell_type": "code",
   "execution_count": null,
   "metadata": {},
   "outputs": [],
   "source": [
    "num_nodes = 5\n",
    "tup1 = tuple((num_nodes,)*num_nodes)\n",
    "tup2 = tuple((2,)*num_nodes)\n",
    "l1 = []\n",
    "l1.append(tup1)\n",
    "l1.append(tup2)\n",
    "l1"
   ]
  },
  {
   "cell_type": "code",
   "execution_count": null,
   "metadata": {},
   "outputs": [],
   "source": [
    "m1 = MultiDiscrete(l1)\n",
    "m1.sample()"
   ]
  },
  {
   "cell_type": "code",
   "execution_count": 1,
   "metadata": {},
   "outputs": [
    {
     "ename": "NameError",
     "evalue": "name 'env' is not defined",
     "output_type": "error",
     "traceback": [
      "\u001b[0;31m---------------------------------------------------------------------------\u001b[0m",
      "\u001b[0;31mNameError\u001b[0m                                 Traceback (most recent call last)",
      "\u001b[0;32m<ipython-input-1-e9b860232ac7>\u001b[0m in \u001b[0;36m<module>\u001b[0;34m\u001b[0m\n\u001b[0;32m----> 1\u001b[0;31m \u001b[0mqueues\u001b[0m \u001b[0;34m=\u001b[0m \u001b[0;34m{\u001b[0m\u001b[0mi\u001b[0m\u001b[0;34m:\u001b[0m \u001b[0;34m[\u001b[0m\u001b[0;34m]\u001b[0m \u001b[0;32mfor\u001b[0m \u001b[0mi\u001b[0m \u001b[0;32min\u001b[0m \u001b[0menv\u001b[0m\u001b[0;34m.\u001b[0m\u001b[0mgraph\u001b[0m\u001b[0;34m.\u001b[0m\u001b[0mnodes\u001b[0m\u001b[0;34m(\u001b[0m\u001b[0mdata\u001b[0m\u001b[0;34m=\u001b[0m\u001b[0;32mFalse\u001b[0m\u001b[0;34m)\u001b[0m\u001b[0;34m}\u001b[0m\u001b[0;34m\u001b[0m\u001b[0;34m\u001b[0m\u001b[0m\n\u001b[0m\u001b[1;32m      2\u001b[0m \u001b[0mprint\u001b[0m\u001b[0;34m(\u001b[0m\u001b[0mqueues\u001b[0m\u001b[0;34m)\u001b[0m\u001b[0;34m\u001b[0m\u001b[0;34m\u001b[0m\u001b[0m\n\u001b[1;32m      3\u001b[0m \u001b[0;34m\u001b[0m\u001b[0m\n\u001b[1;32m      4\u001b[0m \u001b[0;32mfor\u001b[0m \u001b[0mi\u001b[0m \u001b[0;32min\u001b[0m \u001b[0menv\u001b[0m\u001b[0;34m.\u001b[0m\u001b[0mgraph\u001b[0m\u001b[0;34m.\u001b[0m\u001b[0mnodes\u001b[0m\u001b[0;34m(\u001b[0m\u001b[0mdata\u001b[0m\u001b[0;34m=\u001b[0m\u001b[0;32mFalse\u001b[0m\u001b[0;34m)\u001b[0m\u001b[0;34m:\u001b[0m\u001b[0;34m\u001b[0m\u001b[0;34m\u001b[0m\u001b[0m\n\u001b[1;32m      5\u001b[0m     \u001b[0;31m#Assumption : same destination for all the queued packets in the node\u001b[0m\u001b[0;34m\u001b[0m\u001b[0;34m\u001b[0m\u001b[0;34m\u001b[0m\u001b[0m\n",
      "\u001b[0;31mNameError\u001b[0m: name 'env' is not defined"
     ]
    }
   ],
   "source": [
    "queues = {i: [] for i in env.graph.nodes(data=False)}\n",
    "print(queues)\n",
    "\n",
    "for i in env.graph.nodes(data=False):\n",
    "    #Assumption : same destination for all the queued packets in the node\n",
    "    src = i\n",
    "    dest = random.randrange(1,5)\n",
    "    while (False == (env.graph.has_edge(src,dest))):\n",
    "        dest = random.randrange(1,5)\n",
    "    print(src,dest)\n",
    "\n",
    "    for count in range(2):\n",
    "        # create packet and register process\n",
    "        packet = Packet(src,dest,dest) #for now consider single hop. Hence dest = nxt_hop\n",
    "        queues[src].insert(0, packet)\n",
    "\n",
    "# Print the number of elements in queue.\n",
    "#print(len(queues[1]))\n",
    "\n",
    "n3_queue = queues[3]\n",
    "n3_first_packet = n3_queue[len(n3_queue)-1]\n",
    "print('n3_nxt_hop', n3_first_packet.nxt_hop)\n",
    "\n",
    "#Frame the state - Next hop of all first packets in queue.\n",
    "\n",
    "state = [] #empty list for state\n",
    "\n",
    "for node in queues.values():\n",
    "    if len(node):\n",
    "        print(node[len(node)-1].id)\n",
    "        state.append(node[len(node)-1].nxt_hop)\n",
    "    #for packet in node:\n",
    "    while (len(node)):\n",
    "        packet = node.pop()\n",
    "        print('id :',packet.id)\n",
    "        print('src :',packet.src)\n",
    "        print('dest :',packet.dest)\n",
    "        print('nxt_hop :',packet.nxt_hop)\n",
    "        print('------------------------')\n",
    "    \n",
    "    print(state)\n"
   ]
  },
  {
   "cell_type": "code",
   "execution_count": 53,
   "metadata": {},
   "outputs": [
    {
     "name": "stdout",
     "output_type": "stream",
     "text": [
      "defaultdict(<class 'list'>, {0: [2, 1, 3], 1: [2, 3], 2: [3, 4], 3: [4], 5: [2, 3, 4]})\n"
     ]
    },
    {
     "data": {
      "image/png": "[encoded data removed]",
      "text/plain": [
       "<Figure size 432x288 with 1 Axes>"
      ]
     },
     "metadata": {},
     "output_type": "display_data"
    }
   ],
   "source": [
    "import gym\n",
    "import w_mac\n",
    "from collections import defaultdict\n",
    "import matplotlib as plt\n",
    "import networkx as nx\n",
    "\n",
    "# data = [(0,2),(0,1),(1,2),(2,3),(2,4),(3,4)]\n",
    "#data = [(0,1),(0,2),(0,3),(1,2),(1,3),(2,3),(2,4),(2,5),(3,4),(3,5),(4,5),(4,10),(5,6),(6,7),(6,8),(7,8),(8,9),(9,10)]\n",
    "d = defaultdict(list)\n",
    "data = [(0,2),(0,1),(0,3),(1,2),(1,3),(2,3),(2,4),(3,4),(5,2),(5,3),(5,4)]\n",
    "# defaultdict(<type 'list'>, {})\n",
    "for node, dest in data:\n",
    "    d[node].append(dest)\n",
    "print(d)\n",
    "\n",
    "G = nx.Graph()\n",
    "for k,v in d.items():\n",
    "    for vv in v:\n",
    "        G.add_edge(k,vv)\n",
    "nx.draw(G)"
   ]
  },
  {
   "cell_type": "code",
   "execution_count": 54,
   "metadata": {},
   "outputs": [
    {
     "name": "stdout",
     "output_type": "stream",
     "text": [
      "collision_domain {1: [0, 2, 1, 3]}\n",
      "collision_domain {1: [0, 2, 1, 3], 2: [2, 0, 1, 3], 3: [2, 5]}\n",
      "collision_domain {1: [0, 2, 1, 3], 2: [2, 0, 1, 3], 3: [2, 5], 4: [1, 0, 2, 3]}\n",
      "collision_domain {1: [0, 2, 1, 3], 2: [2, 0, 1, 3], 3: [2, 5, 4], 4: [1, 0, 2, 3], 5: [3, 0, 2, 1], 6: [3, 5]}\n",
      "collision_domain {1: [0, 2, 1, 3], 2: [2, 0, 1, 3], 3: [2, 5, 4], 4: [1, 0, 2, 3], 5: [3, 0, 2, 1], 6: [3, 5], 7: [4, 2, 3, 5]}\n",
      "collision_domain {1: [0, 2, 1, 3], 2: [2, 0, 1, 3], 3: [2, 5, 4], 4: [1, 0, 2, 3], 5: [3, 0, 2, 1], 6: [3, 5], 7: [4, 2, 3, 5], 8: [5, 2, 3, 4]}\n"
     ]
    }
   ],
   "source": [
    "collision_domain = {}\n",
    "\n",
    "dict_index = 0\n",
    "for i in G.nodes:\n",
    "    domain_list1 = []\n",
    "    domain_list2 = []\n",
    "    for j in G.nodes:\n",
    "        if(G.has_edge(i,j) == True):\n",
    "            if i not in domain_list1:\n",
    "                domain_list1.append(i)\n",
    "                \n",
    "            connected = True\n",
    "            for node in domain_list1:\n",
    "                if(G.has_edge(node,j) == False):\n",
    "                    connected = False\n",
    "            if connected == True:\n",
    "                if j not in domain_list1:\n",
    "                    domain_list1.append(j)\n",
    "            else:\n",
    "                for index,values in collision_domain.items():\n",
    "                    connected = True\n",
    "                    for node in values:\n",
    "                        if(G.has_edge(node,j) == False):\n",
    "                            connected = False\n",
    "                    if connected == True:\n",
    "                        if j not in values:\n",
    "                            collision_domain[index].append(j)\n",
    "                    else:\n",
    "                        domain_list2 = [i,j]\n",
    "                \n",
    "                    \n",
    "    #print(\"domain_list1\",domain_list1)\n",
    "    #print(\"domain_list2\",domain_list2)\n",
    "    if len(domain_list1):\n",
    "        dict_index += 1\n",
    "        collision_domain[dict_index] = domain_list1\n",
    "    \n",
    "    if len(domain_list2):\n",
    "        dict_index += 1\n",
    "        collision_domain[dict_index] = domain_list2\n",
    "        \n",
    "    print(\"collision_domain\",collision_domain)            \n",
    " "
   ]
  },
  {
   "cell_type": "code",
   "execution_count": 55,
   "metadata": {},
   "outputs": [
    {
     "name": "stdout",
     "output_type": "stream",
     "text": [
      "fullrange_wo_dupli {1: [0, 1, 2, 3], 2: [0, 1, 2, 3], 3: [2, 4, 5], 4: [0, 1, 2, 3], 5: [0, 1, 2, 3], 6: [3, 5], 7: [2, 3, 4, 5], 8: [2, 3, 4, 5]}\n"
     ]
    }
   ],
   "source": [
    "fullrange_wo_dupli = {}\n",
    "sorted_list = []\n",
    "for key,value in collision_domain.items():\n",
    "    sorted_list = sorted(value) ## to arrange values in ascending order in dict and removes duplicate values of the single key\n",
    "    # print('With dupli',sorted_list)\n",
    "    fullrange_wo_dupli[key] = sorted_list\n",
    "print('fullrange_wo_dupli' ,fullrange_wo_dupli)"
   ]
  },
  {
   "cell_type": "code",
   "execution_count": 56,
   "metadata": {},
   "outputs": [
    {
     "name": "stdout",
     "output_type": "stream",
     "text": [
      "fullrange_wo_dupli {5: [0, 1, 2, 3], 3: [2, 4, 5], 6: [3, 5], 8: [2, 3, 4, 5]}\n"
     ]
    }
   ],
   "source": [
    "d2 = {tuple(v): k for k, v in fullrange_wo_dupli.items()}  # exchange keys, values\n",
    "fullrange_wo_dupli = {v: list(k) for k, v in d2.items()}\n",
    "print('fullrange_wo_dupli' ,fullrange_wo_dupli)"
   ]
  },
  {
   "cell_type": "code",
   "execution_count": 57,
   "metadata": {},
   "outputs": [
    {
     "name": "stdout",
     "output_type": "stream",
     "text": [
      "subset_values [2, 4, 5]\n",
      "subset_values [3, 5]\n",
      "to_remove_index [3, 6]\n"
     ]
    }
   ],
   "source": [
    "to_remove_index = []\n",
    "for index, values in fullrange_wo_dupli.items():\n",
    "    #print(index, values)\n",
    "    is_subset = False\n",
    "    for test_values in fullrange_wo_dupli.values():\n",
    "        #print(\"test_values\",test_values)\n",
    "        if values != test_values:\n",
    "            if(set(values).issubset(set(test_values))):\n",
    "                is_subset = True\n",
    "                print(\"subset_values\",values)\n",
    "                break\n",
    "    if is_subset:\n",
    "        to_remove_index.append(index)\n",
    "\n",
    "print(\"to_remove_index\", to_remove_index)"
   ]
  },
  {
   "cell_type": "code",
   "execution_count": 58,
   "metadata": {},
   "outputs": [
    {
     "name": "stdout",
     "output_type": "stream",
     "text": [
      "fullrange_wo_dupli {5: [0, 1, 2, 3], 8: [2, 3, 4, 5]}\n"
     ]
    }
   ],
   "source": [
    "for key in to_remove_index:\n",
    "    fullrange_wo_dupli.pop(key,None)\n",
    "\n",
    "print('fullrange_wo_dupli' ,fullrange_wo_dupli)"
   ]
  },
  {
   "cell_type": "code",
   "execution_count": null,
   "metadata": {},
   "outputs": [],
   "source": []
  }
 ],
 "metadata": {
  "kernelspec": {
   "display_name": "Python 3",
   "language": "python",
   "name": "python3"
  },
  "language_info": {
   "codemirror_mode": {
    "name": "ipython",
    "version": 3
   },
   "file_extension": ".py",
   "mimetype": "text/x-python",
   "name": "python",
   "nbconvert_exporter": "python",
   "pygments_lexer": "ipython3",
   "version": "3.6.10"
  }
 },
 "nbformat": 4,
 "nbformat_minor": 4
}
