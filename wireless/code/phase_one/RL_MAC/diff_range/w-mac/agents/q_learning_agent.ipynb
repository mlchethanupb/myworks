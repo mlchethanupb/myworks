{
 "cells": [
  {
   "cell_type": "code",
   "execution_count": 1,
   "metadata": {},
   "outputs": [],
   "source": [
    "import gym\n",
    "import random\n",
    "import numpy as np\n",
    "import time\n",
    "from IPython.display import clear_output\n",
    "\n",
    "import w_mac\n"
   ]
  },
  {
   "cell_type": "code",
   "execution_count": 2,
   "metadata": {},
   "outputs": [
    {
     "name": "stdout",
     "output_type": "stream",
     "text": [
      "init\n",
      "[1 0 0 0 0]\n",
      "[0 0 4 0 4]\n",
      "[Box(5,), Box(5,)]\n",
      "{1: [], 2: [], 3: [], 4: [], 5: []}\n",
      "1 2\n",
      "2 1\n",
      "3 2\n",
      "4 3\n",
      "5 4\n"
     ]
    },
    {
     "data": {
      "image/png": "[encoded data removed]",
      "text/plain": [
       "<Figure size 432x288 with 1 Axes>"
      ]
     },
     "metadata": {},
     "output_type": "display_data"
    }
   ],
   "source": [
    "env = gym.make('wmac-v0')"
   ]
  },
  {
   "cell_type": "code",
   "execution_count": 3,
   "metadata": {},
   "outputs": [
    {
     "name": "stdout",
     "output_type": "stream",
     "text": [
      "32 3125\n"
     ]
    }
   ],
   "source": [
    "action_space_size = np.prod(env.action_space.nvec)\n",
    "state_space_size = np.prod(env.state_space.nvec)\n",
    "print(action_space_size, state_space_size)"
   ]
  },
  {
   "cell_type": "code",
   "execution_count": 6,
   "metadata": {},
   "outputs": [],
   "source": [
    "#way to get count of combinations in Tuple space. Saving it for one with (Next_hop, queue)\n",
    "#spaces = env.state_space.spaces\n",
    "#np.prod(spaces[1].nvec)"
   ]
  },
  {
   "cell_type": "code",
   "execution_count": 5,
   "metadata": {},
   "outputs": [
    {
     "name": "stdout",
     "output_type": "stream",
     "text": [
      "100000\n"
     ]
    }
   ],
   "source": [
    "#Create q-table\n",
    "\n",
    "q_table = np.zeros((state_space_size,action_space_size))\n",
    "#print(q_table.size)"
   ]
  },
  {
   "cell_type": "code",
   "execution_count": 6,
   "metadata": {},
   "outputs": [],
   "source": [
    "num_episodes = 10000\n",
    "max_steps_per_episode = 100\n",
    "\n",
    "learning_rate = 0.1\n",
    "discount_rate = 0.99\n",
    "\n",
    "exploration_rate = 1\n",
    "max_exploration_rate = 1\n",
    "min_exploration_rate = 0.01\n",
    "exploration_decay_rate = 0.001"
   ]
  },
  {
   "cell_type": "code",
   "execution_count": null,
   "metadata": {},
   "outputs": [],
   "source": [
    "rewards_all_episodes = []\n",
    "\n",
    "#Q-Learning algorithm\n",
    "for episode in range(num_episodes):\n",
    "    state = env.reset()\n",
    "    \n",
    "    done = False\n",
    "    rewards_current_episodes = 0\n",
    "    \n",
    "    for step in range(max_steps_per_episode):\n",
    "        \n",
    "        #exploration exploiatation trade-off\n",
    "        exploration_rate_threshold = random.uniform(0,1)\n",
    "        if exploration_rate_threshold > exploration_rate:\n",
    "            #print(\"state for action : \", state)\n",
    "            action = np.argmax(q_table[state,:])\n",
    "            #print(\"max action = \", action)\n",
    "        else:\n",
    "            action = random.randrange(0,8)#choose any node from 0 to 7\n",
    "           # print(\"random action\", action )\n",
    "        new_state, reward, done, info = env.step(action)\n",
    "        \n",
    "        # Update Q-Table for Q(s,a)\n",
    "        \n",
    "        q_table[state,action] = q_table[state,action] * (1 - learning_rate) + \\\n",
    "learning_rate * (reward + discount_rate*np.max(q_table[new_state,:]))\n",
    "        \n",
    "        state = new_state\n",
    "        rewards_current_episodes += reward\n",
    "\n",
    "        if done == True:\n",
    "            break\n",
    "            \n",
    "        #exploration rate decay\n",
    "        exploration_rate = min_exploration_rate + \\\n",
    "            (max_exploration_rate - min_exploration_rate) * \\\n",
    "            np.exp(-exploration_decay_rate*episode)\n",
    "        \n",
    "        rewards_all_episodes.append(rewards_current_episodes)\n",
    "    \n",
    "#print(np.array(rewards_all_episodes))\n",
    "#calculate and print the avg reqard per thousand episodes\n",
    "#rewards_per_thousand_episodes = np.split(np.array(rewards_all_episodes),num_episodes/1000)\n",
    "count = 1000\n",
    "\n",
    "#print(\"********Average reward per thousand episodes********\\n\")\n",
    "#for r in rewards_per_thousand_episodes:\n",
    " #   print(count, \": \", str(sum(r/1000)))\n",
    " #   count += 1000\n",
    "    \n",
    "#Print updated Q table \n",
    "#print(\"\\n\\n-------Q-table-------\\n\")\n",
    "#print(q_table)\n"
   ]
  }
 ],
 "metadata": {
  "kernelspec": {
   "display_name": "Python 3",
   "language": "python",
   "name": "python3"
  },
  "language_info": {
   "codemirror_mode": {
    "name": "ipython",
    "version": 3
   },
   "file_extension": ".py",
   "mimetype": "text/x-python",
   "name": "python",
   "nbconvert_exporter": "python",
   "pygments_lexer": "ipython3",
   "version": "3.7.6"
  }
 },
 "nbformat": 4,
 "nbformat_minor": 4
}
