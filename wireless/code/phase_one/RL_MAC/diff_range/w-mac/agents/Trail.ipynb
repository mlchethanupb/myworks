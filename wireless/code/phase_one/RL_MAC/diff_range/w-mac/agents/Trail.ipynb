{
 "cells": [
  {
   "cell_type": "code",
   "execution_count": 1,
   "metadata": {},
   "outputs": [],
   "source": [
    "import gym\n",
    "import w_mac\n",
    "import numpy as np\n",
    "from gym.spaces import Tuple, Discrete, Box, MultiDiscrete, MultiBinary\n",
    "import networkx as nx\n",
    "import random\n",
    "from w_mac.envs.packet import Packet"
   ]
  },
  {
   "cell_type": "code",
   "execution_count": 2,
   "metadata": {},
   "outputs": [
    {
     "name": "stdout",
     "output_type": "stream",
     "text": [
      "{1: [], 2: [], 3: [], 4: [], 5: []}\n",
      "1 3\n",
      "2 1\n",
      "3 2\n",
      "4 3\n",
      "5 4\n"
     ]
    },
    {
     "data": {
      "image/png": "[encoded data removed]",
      "text/plain": [
       "<Figure size 432x288 with 1 Axes>"
      ]
     },
     "metadata": {},
     "output_type": "display_data"
    }
   ],
   "source": [
    "env = gym.make('wmac-v0')"
   ]
  },
  {
   "cell_type": "code",
   "execution_count": 3,
   "metadata": {},
   "outputs": [
    {
     "name": "stdout",
     "output_type": "stream",
     "text": [
      "{1: [], 2: [], 3: [], 4: [], 5: []}\n",
      "1 2\n",
      "2 1\n",
      "3 2\n",
      "4 3\n",
      "5 4\n",
      "n3_nxt_hop 2\n",
      "608472\n",
      "id : 608472\n",
      "src : 1\n",
      "dest : 2\n",
      "nxt_hop : 2\n",
      "------------------------\n",
      "id : 169119\n",
      "src : 1\n",
      "dest : 2\n",
      "nxt_hop : 2\n",
      "------------------------\n",
      "[2]\n",
      "219514\n",
      "id : 219514\n",
      "src : 2\n",
      "dest : 1\n",
      "nxt_hop : 1\n",
      "------------------------\n",
      "id : 292976\n",
      "src : 2\n",
      "dest : 1\n",
      "nxt_hop : 1\n",
      "------------------------\n",
      "[2, 1]\n",
      "354117\n",
      "id : 354117\n",
      "src : 3\n",
      "dest : 2\n",
      "nxt_hop : 2\n",
      "------------------------\n",
      "id : 453202\n",
      "src : 3\n",
      "dest : 2\n",
      "nxt_hop : 2\n",
      "------------------------\n",
      "[2, 1, 2]\n",
      "428973\n",
      "id : 428973\n",
      "src : 4\n",
      "dest : 3\n",
      "nxt_hop : 3\n",
      "------------------------\n",
      "id : 187148\n",
      "src : 4\n",
      "dest : 3\n",
      "nxt_hop : 3\n",
      "------------------------\n",
      "[2, 1, 2, 3]\n",
      "108836\n",
      "id : 108836\n",
      "src : 5\n",
      "dest : 4\n",
      "nxt_hop : 4\n",
      "------------------------\n",
      "id : 697993\n",
      "src : 5\n",
      "dest : 4\n",
      "nxt_hop : 4\n",
      "------------------------\n",
      "[2, 1, 2, 3, 4]\n"
     ]
    }
   ],
   "source": [
    "queues = {i: [] for i in env.graph.nodes(data=False)}\n",
    "print(queues)\n",
    "\n",
    "for i in env.graph.nodes(data=False):\n",
    "    #Assumption : same destination for all the queued packets in the node\n",
    "    src = i\n",
    "    dest = random.randrange(1,5)\n",
    "    while (False == (env.graph.has_edge(src,dest))):\n",
    "        dest = random.randrange(1,5)\n",
    "    print(src,dest)\n",
    "\n",
    "    for count in range(2):\n",
    "        # create packet and register process\n",
    "        packet = Packet(src,dest,dest) #for now consider single hop. Hence dest = nxt_hop\n",
    "        queues[src].insert(0, packet)\n",
    "\n",
    "# Print the number of elements in queue.\n",
    "#print(len(queues[1]))\n",
    "\n",
    "n3_queue = queues[3]\n",
    "n3_first_packet = n3_queue[len(n3_queue)-1]\n",
    "print('n3_nxt_hop', n3_first_packet.nxt_hop)\n",
    "\n",
    "#Frame the state - Next hop of all first packets in queue.\n",
    "\n",
    "state = [] #empty list for state\n",
    "\n",
    "for node in queues.values():\n",
    "    if len(node):\n",
    "        print(node[len(node)-1].id)\n",
    "        state.append(node[len(node)-1].nxt_hop)\n",
    "    #for packet in node:\n",
    "    while (len(node)):\n",
    "        packet = node.pop()\n",
    "        print('id :',packet.id)\n",
    "        print('src :',packet.src)\n",
    "        print('dest :',packet.dest)\n",
    "        print('nxt_hop :',packet.nxt_hop)\n",
    "        print('------------------------')\n",
    "    \n",
    "    print(state)\n"
   ]
  },
  {
   "cell_type": "code",
   "execution_count": 4,
   "metadata": {},
   "outputs": [
    {
     "name": "stdout",
     "output_type": "stream",
     "text": [
      "received action [1 0 0 1 0]\n",
      "next hop [3, 1, 2, 3, 4]\n",
      "[3, 1, 2, 3, 4] -200 False 0\n"
     ]
    }
   ],
   "source": [
    "actions= env.action_space.sample()\n",
    "nxt_state, reward, done, _ = env.step(actions)\n",
    "print(nxt_state, reward, done, _ )"
   ]
  },
  {
   "cell_type": "code",
   "execution_count": 8,
   "metadata": {},
   "outputs": [
    {
     "data": {
      "text/plain": [
       "2"
      ]
     },
     "execution_count": 8,
     "metadata": {},
     "output_type": "execute_result"
    }
   ],
   "source": [
    "env.action_space.nvec[2]"
   ]
  },
  {
   "cell_type": "code",
   "execution_count": null,
   "metadata": {},
   "outputs": [],
   "source": []
  },
  {
   "cell_type": "code",
   "execution_count": null,
   "metadata": {},
   "outputs": [],
   "source": []
  }
 ],
 "metadata": {
  "kernelspec": {
   "display_name": "Python 3",
   "language": "python",
   "name": "python3"
  },
  "language_info": {
   "codemirror_mode": {
    "name": "ipython",
    "version": 3
   },
   "file_extension": ".py",
   "mimetype": "text/x-python",
   "name": "python",
   "nbconvert_exporter": "python",
   "pygments_lexer": "ipython3",
   "version": "3.7.6"
  }
 },
 "nbformat": 4,
 "nbformat_minor": 4
}
