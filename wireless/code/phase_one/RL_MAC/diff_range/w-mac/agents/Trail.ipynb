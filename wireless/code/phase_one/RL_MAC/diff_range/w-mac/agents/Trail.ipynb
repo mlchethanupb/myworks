{
 "cells": [
  {
   "cell_type": "code",
   "execution_count": null,
   "metadata": {},
   "outputs": [],
   "source": [
    "import gym\n",
    "import w_mac\n",
    "import numpy as np\n",
    "from gym.spaces import Tuple, Discrete, Box, MultiDiscrete, MultiBinary\n",
    "import networkx as nx\n",
    "import random\n",
    "from w_mac.envs.packet import Packet"
   ]
  },
  {
   "cell_type": "code",
   "execution_count": null,
   "metadata": {},
   "outputs": [],
   "source": [
    "env = gym.make('wmac-v0')"
   ]
  },
  {
   "cell_type": "code",
   "execution_count": null,
   "metadata": {},
   "outputs": [],
   "source": [
    "queues = {i: [] for i in env.graph.nodes(data=False)}\n",
    "print(queues)\n",
    "\n",
    "for i in env.graph.nodes(data=False):\n",
    "    #Assumption : same destination for all the queued packets in the node\n",
    "    src = i\n",
    "    dest = random.randrange(1,5)\n",
    "    while (False == (env.graph.has_edge(src,dest))):\n",
    "        dest = random.randrange(1,5)\n",
    "    print(src,dest)\n",
    "\n",
    "    for count in range(2):\n",
    "        # create packet and register process\n",
    "        packet = Packet(src,dest,dest) #for now consider single hop. Hence dest = nxt_hop\n",
    "        queues[src].insert(0, packet)\n",
    "\n",
    "# Print the number of elements in queue.\n",
    "#print(len(queues[1]))\n",
    "\n",
    "n3_queue = queues[3]\n",
    "n3_first_packet = n3_queue[len(n3_queue)-1]\n",
    "print('n3_nxt_hop', n3_first_packet.nxt_hop)\n",
    "\n",
    "#Frame the state - Next hop of all first packets in queue.\n",
    "\n",
    "state = [] #empty list for state\n",
    "\n",
    "for node in queues.values():\n",
    "    if len(node):\n",
    "        print(node[len(node)-1].id)\n",
    "        state.append(node[len(node)-1].nxt_hop)\n",
    "    #for packet in node:\n",
    "    while (len(node)):\n",
    "        packet = node.pop()\n",
    "        print('id :',packet.id)\n",
    "        print('src :',packet.src)\n",
    "        print('dest :',packet.dest)\n",
    "        print('nxt_hop :',packet.nxt_hop)\n",
    "        print('------------------------')\n",
    "    \n",
    "    print(state)\n"
   ]
  },
  {
   "cell_type": "code",
   "execution_count": null,
   "metadata": {},
   "outputs": [],
   "source": [
    "actions= env.action_space.sample()\n",
    "nxt_state, reward, done, _ = env.step(actions)\n",
    "print(nxt_state, reward, done, _ )"
   ]
  },
  {
   "cell_type": "code",
   "execution_count": null,
   "metadata": {},
   "outputs": [],
   "source": [
    "env.action_space.nvec[2]"
   ]
  },
  {
   "cell_type": "code",
   "execution_count": null,
   "metadata": {},
   "outputs": [],
   "source": [
    "actions = [1,0,1,0,1]\n",
    "collision_domain  = {0:[0,1,2],1:[2,3,4]}\n",
    "\n",
    "p1_src = 0\n",
    "p4_src = 4 \n",
    "\n",
    "p1_nh = 2\n",
    "p4_nh = 2 \n",
    "\n",
    "for id, action in enumerate(actions):\n",
    "      for key,values in collision_domain.items():\n",
    "        if(id in values):\n",
    "            action_sublist = [actions[i] for i in values]\n",
    "            #print(\"a_sublist\", action_sublist)\n",
    "            if(action_sublist.count(1) > 1):\n",
    "                print(\"collision\")\n",
    "                break\n",
    "            else:\n",
    "                print(\"sucess\")\n",
    "                break\n",
    "    "
   ]
  },
  {
   "cell_type": "code",
   "execution_count": null,
   "metadata": {},
   "outputs": [],
   "source": []
  }
 ],
 "metadata": {
  "kernelspec": {
   "display_name": "Python 3",
   "language": "python",
   "name": "python3"
  },
  "language_info": {
   "codemirror_mode": {
    "name": "ipython",
    "version": 3
   },
   "file_extension": ".py",
   "mimetype": "text/x-python",
   "name": "python",
   "nbconvert_exporter": "python",
   "pygments_lexer": "ipython3",
   "version": "3.7.6"
  }
 },
 "nbformat": 4,
 "nbformat_minor": 4
}
